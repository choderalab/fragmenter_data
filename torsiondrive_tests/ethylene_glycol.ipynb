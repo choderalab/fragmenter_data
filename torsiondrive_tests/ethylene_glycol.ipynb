{
 "cells": [
  {
   "cell_type": "code",
   "execution_count": 1,
   "metadata": {},
   "outputs": [],
   "source": [
    "from openeye import oechem\n",
    "import cmiles\n",
    "import fragmenter\n",
    "import oenotebook as oenb\n",
    "import qcfractal.interface as portal\n",
    "import json"
   ]
  },
  {
   "cell_type": "code",
   "execution_count": 2,
   "metadata": {},
   "outputs": [],
   "source": [
    "smiles = 'OCCO'"
   ]
  },
  {
   "cell_type": "code",
   "execution_count": 3,
   "metadata": {},
   "outputs": [
    {
     "data": {
      "image/png": "[encoded data removed]",
      "text/plain": [
       "<IPython.core.display.Image object>"
      ]
     },
     "execution_count": 3,
     "metadata": {},
     "output_type": "execute_result"
    }
   ],
   "source": [
    "oenb.draw_smiles('C(CO)O')"
   ]
  },
  {
   "cell_type": "code",
   "execution_count": 4,
   "metadata": {},
   "outputs": [],
   "source": [
    "mol_id = cmiles.to_molecule_id(smiles, strict=False)"
   ]
  },
  {
   "cell_type": "code",
   "execution_count": 5,
   "metadata": {},
   "outputs": [],
   "source": [
    "mapped_smiles = mol_id['canonical_isomeric_explicit_hydrogen_mapped_smiles']"
   ]
  },
  {
   "cell_type": "code",
   "execution_count": 6,
   "metadata": {},
   "outputs": [
    {
     "name": "stdout",
     "output_type": "stream",
     "text": [
      "CSS took 0.0009431838989257812 seconds\n",
      "Match SMILES: [H:7][C:2]([H:8])([C:1]([H:5])([H:6])[O:3][H:9])[O:4][H:10]\n"
     ]
    }
   ],
   "source": [
    "mapped_mol = fragmenter.chemi.smiles_to_oemol(mapped_smiles)\n",
    "mol_conf = fragmenter.chemi.generate_conformers(mapped_mol, max_confs=1, strict_stereo=True)\n",
    "qm_mol = cmiles.utils.mol_to_map_ordered_qcschema(mol_conf, mol_id)"
   ]
  },
  {
   "cell_type": "code",
   "execution_count": 7,
   "metadata": {},
   "outputs": [
    {
     "name": "stdout",
     "output_type": "stream",
     "text": [
      "CSS took 4.00543212890625e-05 seconds\n",
      "Match SMILES: [H:7][C:2]([H:8])([C:1]([H:5])([H:6])[O:3][H:9])[O:4][H:10]\n"
     ]
    }
   ],
   "source": [
    "# view conformation\n",
    "atom_map = cmiles.utils.get_atom_map(mol_conf, mapped_smiles)\n",
    "xyz = fragmenter.chemi.to_mapped_xyz(mol_conf, atom_map, xyz_format=True, filename='ethylene_glycol.xyz')"
   ]
  },
  {
   "cell_type": "code",
   "execution_count": 8,
   "metadata": {},
   "outputs": [
    {
     "name": "stdout",
     "output_type": "stream",
     "text": [
      "15:25:43 INFO fragmenter: List of torsion to drive:\n",
      "15:25:43 INFO fragmenter: Idx: 3 1 2 4\n",
      "15:25:43 INFO fragmenter: Atom numbers: 8 6 6 8\n"
     ]
    }
   ],
   "source": [
    "# Generate torsiondrive input\n",
    "torsions = fragmenter.torsions.find_torsions(mol_conf, restricted=False, terminal=False)"
   ]
  },
  {
   "cell_type": "code",
   "execution_count": 9,
   "metadata": {},
   "outputs": [],
   "source": [
    "torsion_job = fragmenter.torsions.define_torsiondrive_jobs(torsions, internal_torsion_resolution=15)"
   ]
  },
  {
   "cell_type": "code",
   "execution_count": 10,
   "metadata": {},
   "outputs": [],
   "source": [
    "to_qcfractal = {mapped_smiles:{'2_0_1_3': {'type': 'torsiondrive_input',\n",
    "                                'initial_molecule': qm_mol,\n",
    "                                'dihedrals': torsion_job['crank_job_0']['dihedrals'],\n",
    "                                'grid_spacing': torsion_job['crank_job_0']['grid_spacing']}}}"
   ]
  },
  {
   "cell_type": "code",
   "execution_count": 11,
   "metadata": {},
   "outputs": [],
   "source": [
    "with open('workflow.json', 'r') as f:\n",
    "    json_workflow = json.load(f)\n",
    "rdkit = json_workflow['torsiondrive_rdkit']\n",
    "psi4 = json_workflow['torsiondrive_psi4']"
   ]
  },
  {
   "cell_type": "code",
   "execution_count": 14,
   "metadata": {},
   "outputs": [],
   "source": [
    "client = portal.FractalClient('https://localhost:7777/', verify=False)\n",
    "off_workflow = portal.collections.OpenFFWorkflow('torsiondrive_rdkit', client, **rdkit)"
   ]
  },
  {
   "cell_type": "code",
   "execution_count": 17,
   "metadata": {},
   "outputs": [],
   "source": [
    "off_workflow.add_fragment(mapped_smiles, to_qcfractal[mapped_smiles])"
   ]
  },
  {
   "cell_type": "code",
   "execution_count": 34,
   "metadata": {},
   "outputs": [
    {
     "data": {
      "text/plain": [
       "{'openffworkflow': ['torsiondrive_rdkit', 'torsiondrive_rdkit_2']}"
      ]
     },
     "execution_count": 34,
     "metadata": {},
     "output_type": "execute_result"
    }
   ],
   "source": [
    "client.list_collections()"
   ]
  },
  {
   "cell_type": "code",
   "execution_count": 20,
   "metadata": {},
   "outputs": [],
   "source": [
    "# add psi4 collection\n",
    "psi4_workflow = portal.collections.OpenFFWorkflow('torsiondrive_psi4', client, **psi4)"
   ]
  },
  {
   "cell_type": "code",
   "execution_count": 21,
   "metadata": {},
   "outputs": [
    {
     "data": {
      "text/plain": [
       "{'optimization_meta': {'program': 'geometric', 'coordsys': 'tric'},\n",
       " 'qc_meta': {'driver': 'gradient',\n",
       "  'method': 'B3LYP-D3',\n",
       "  'basis': 'def2-svp',\n",
       "  'options': None,\n",
       "  'program': 'psi4'}}"
      ]
     },
     "execution_count": 21,
     "metadata": {},
     "output_type": "execute_result"
    }
   ],
   "source": [
    "psi4_workflow.get_options('optimization_static_options')"
   ]
  },
  {
   "cell_type": "code",
   "execution_count": 22,
   "metadata": {},
   "outputs": [],
   "source": [
    "psi4_workflow.add_fragment(mapped_smiles, to_qcfractal[mapped_smiles])"
   ]
  },
  {
   "cell_type": "code",
   "execution_count": 35,
   "metadata": {},
   "outputs": [],
   "source": [
    "def _serialize_key(key):\n",
    "    if isinstance(key, (int, float)):\n",
    "        key = (int(key), )\n",
    "    return json.dumps(key)\n",
    "\n",
    "def serialize(final_json):\n",
    "    serialized_dict = {}\n",
    "    for frag in final_json:\n",
    "        serialized_dict[frag] = {}\n",
    "        for job in final_json[frag]:\n",
    "            serialized_dict[frag][job] = {}\n",
    "            for key in final_json[frag][job]:\n",
    "                value = final_json[frag][job][key]\n",
    "                new_key = _serialize_key(key)\n",
    "                serialized_dict[frag][job][new_key] = value\n",
    "    return serialized_dict"
   ]
  },
  {
   "cell_type": "code",
   "execution_count": 36,
   "metadata": {},
   "outputs": [],
   "source": [
    "# save molecules and energies\n",
    "# serialize\n",
    "serialized_energies = serialize(psi4_workflow.list_final_energies())\n",
    "serialized_molecules = serialize(psi4_workflow.list_final_molecules())\n",
    "    \n",
    "with open('psi4_final_energies.json', 'w') as f:\n",
    "    json.dump(serialized_energies, f, indent=2, sort_keys=True)\n",
    "with open('psi4_final_molecules.json', 'w') as f:\n",
    "    json.dump(serialized_molecules, f, indent=2, sort_keys=True)"
   ]
  },
  {
   "cell_type": "code",
   "execution_count": null,
   "metadata": {},
   "outputs": [],
   "source": []
  }
 ],
 "metadata": {
  "kernelspec": {
   "display_name": "Python 3",
   "language": "python",
   "name": "python3"
  },
  "language_info": {
   "codemirror_mode": {
    "name": "ipython",
    "version": 3
   },
   "file_extension": ".py",
   "mimetype": "text/x-python",
   "name": "python",
   "nbconvert_exporter": "python",
   "pygments_lexer": "ipython3",
   "version": "3.6.8"
  }
 },
 "nbformat": 4,
 "nbformat_minor": 2
}
