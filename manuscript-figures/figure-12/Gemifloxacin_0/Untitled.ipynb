{
 "cells": [
  {
   "cell_type": "code",
   "execution_count": 1,
   "metadata": {},
   "outputs": [],
   "source": [
    "%matplotlib inline\n",
    "import fragmenter\n",
    "import json \n",
    "from openeye import oechem, oequacpac, oedepict, oegraphsim\n",
    "import matplotlib.pyplot as plt\n",
    "import glob\n",
    "import seaborn as sbn\n",
    "import oenotebook as onb\n",
    "import cmiles\n",
    "import itertools\n",
    "import numpy as np\n",
    "import oenotebook as oenb"
   ]
  },
  {
   "cell_type": "code",
   "execution_count": 2,
   "metadata": {},
   "outputs": [],
   "source": [
    "def get_bond(mol, bond_tuple):\n",
    "    a1 = mol.GetAtom(oechem.OEHasMapIdx(bond_tuple[0]))\n",
    "    a2 = mol.GetAtom(oechem.OEHasMapIdx(bond_tuple[1]))\n",
    "    if not a1 or not a2:\n",
    "        print('no atoms')\n",
    "        return False\n",
    "    bond = mol.GetBond(a1, a2)\n",
    "    if not bond:\n",
    "        print('no bond')\n",
    "        return False\n",
    "    return bond\n"
   ]
  },
  {
   "cell_type": "code",
   "execution_count": 3,
   "metadata": {},
   "outputs": [],
   "source": [
    "with open('Gemifloxacin_0_wbo_dists.json', 'r') as f:\n",
    "    results = json.load(f)\n",
    "results = results['[8, 22]']\n",
    "with open('Gemifloxacin_0_pfizer_wbo_dists.json', 'r') as f:\n",
    "    pfizer_results = json.load(f)\n"
   ]
  },
  {
   "cell_type": "code",
   "execution_count": 16,
   "metadata": {},
   "outputs": [
    {
     "name": "stdout",
     "output_type": "stream",
     "text": [
      "parent\n",
      "[H:29][c:1]1[c:3]2[c:5](=[O:25])[c:4]([c:2]([n:21]([c:7]2[n:19][c:8]([c:6]1[F:28])[N@:22]3[C:11](/[C:9](=[N:20]\\[O:27][C:17]([H:41])([H:42])[H:43])/[C@@:15]([C:14]3([H:37])[H:38])([H:39])[C:18]([H:44])([H:45])[N+:23]([H:46])([H:47])[H:48])([H:31])[H:32])[C:16]4([C:12]([C:13]4([H:35])[H:36])([H:33])[H:34])[H:40])[H:30])[C:10](=[O:26])[O-:24]\n",
      "0.9972624182701111\n",
      "0.9875487089157104\n",
      "0.9647473692893982\n",
      "0.9495575428009033\n",
      "0.9621031880378723\n",
      "0.9866178035736084\n",
      "0.9989600777626038\n",
      "0.9888126254081726\n",
      "0.9690046906471252\n",
      "0.955868661403656\n",
      "0.9681481719017029\n",
      "0.9861347675323486\n",
      "0.03_path_length_False_None\n",
      "[CH3:18][C@H:15]\\1[CH2:14][N:22]([CH2:11]/[C:9]1=[N:20]\\[OH:27])[c:8]2[c:6]([cH:1][c:3]3[c:7]([n:19]2)[N:21]([CH:2]=[CH:4][CH2:5]3)[CH:16]4[CH2:12][CH2:13]4)[F:28]\n",
      "1.0861504077911377\n",
      "1.0739591121673584\n",
      "1.0208628177642822\n",
      "0.9814121723175049\n",
      "1.0179826021194458\n",
      "1.0868066549301147\n",
      "1.090082049369812\n",
      "1.0609052181243896\n",
      "1.0154961347579956\n",
      "0.9829202890396118\n",
      "1.0150957107543945\n",
      "1.0570162534713745\n",
      "pfizer\n",
      "[H:31][C:11]1([CH2:9][CH2:15][C:14]([N:22]1[c:8]2[c:6]([cH:1][c:3]3[c:7]([n:19]2)[N:21]([CH:2]=[CH:4][CH2:5]3)[CH3:16])[F:28])([H:37])[H:38])[H:32]\n",
      "1.1197019815444946\n",
      "1.0783264636993408\n",
      "1.0238041877746582\n",
      "0.9862198829650879\n",
      "1.017542839050293\n",
      "1.0755733251571655\n",
      "1.1162813901901245\n",
      "1.0815274715423584\n",
      "1.0253303050994873\n",
      "0.9855668544769287\n",
      "1.0203901529312134\n",
      "1.0750583410263062\n",
      "optimal\n",
      "[H:29][c:1]1[c:3]2[c:7]([n:19][c:8]([c:6]1[F:28])[N@:22]3[C:11]([CH2:9][C@@:15]([C:14]3([H:37])[H:38])([H:39])[C:18]([H:44])([H:45])[N+:23]([H:46])([H:47])[H:48])([H:31])[H:32])[NH:21][C:2](=[CH:4][CH2:5]2)[H:30]\n",
      "1.0288318395614624\n",
      "1.0066924095153809\n",
      "0.9766508936882019\n",
      "0.9734334945678711\n",
      "0.9976645708084106\n",
      "1.0233834981918335\n",
      "1.0306347608566284\n",
      "1.0041627883911133\n",
      "0.9707832932472229\n",
      "0.9638020396232605\n",
      "0.9985823035240173\n",
      "1.0290348529815674\n",
      "not_optimal\n",
      "[H:29][c:1]1[c:6]([c:8]([n:19][c:7]2[c:3]1[c:5](=[O:25])[c:4]([c:2]([nH:21]2)[H:30])[CH:10]=[O:26])[N@@:22]3[C:14]([C@@:15]([CH2:9][C:11]3([H:31])[H:32])([H])[H:39])([H:37])[H:38])[F:28]\n",
      "1.1615042686462402\n",
      "1.1093370914459229\n",
      "1.0436631441116333\n",
      "0.9915062785148621\n",
      "1.043383240699768\n",
      "1.1185240745544434\n",
      "1.1614043712615967\n",
      "1.1105979681015015\n",
      "1.044577956199646\n",
      "0.9911788105964661\n",
      "1.0480024814605713\n",
      "1.1174758672714233\n",
      "optimal_front\n",
      "[H:29][c:1]1[c:3]2[c:7]([n:19][c:8]([c:6]1[F:28])[N@:22]3[C:11]([CH2:9][C@@:15]([C:14]3([H:37])[H:38])([H:39])[C:18]([H:44])([H:45])[N+:23]([H:46])([H:47])[H:48])([H:31])[H:32])[NH:21][C:2](=[C:4]([CH2:5]2)[CH2:10][O-:24])[H:30]\n",
      "0.9918757677078247\n",
      "0.9766373634338379\n",
      "0.9556826949119568\n",
      "0.9463402628898621\n",
      "0.967893123626709\n",
      "0.9886121153831482\n",
      "0.990729808807373\n",
      "0.9795519113540649\n",
      "0.9630219340324402\n",
      "0.9568343758583069\n",
      "0.9710376858711243\n",
      "0.9858155250549316\n"
     ]
    }
   ],
   "source": [
    "torsion_wbos = {'parent': [], '0.03_path_length_False_None': [], 'pfizer': [], 'optimal': [], 'not_optimal': [],\n",
    "               'optimal_front': []}\n",
    "for frag in torsion_wbos:\n",
    "    print(frag)\n",
    "    mol = oechem.OEMol()\n",
    "    if frag == 'pfizer':\n",
    "        smiles = pfizer_results['[8, 22]']['frag']\n",
    "    elif frag == 'optimal':\n",
    "        smiles = \"[H:29][c:1]1[c:3]2[c:7]([n:19][c:8]([c:6]1[F:28])[N@:22]3[C:11]([CH2:9][C@@:15]([C:14]3([H:37])[H:38])([H:39])[C:18]([H:44])([H:45])[N+:23]([H:46])([H:47])[H:48])([H:31])[H:32])[NH:21][C:2](=[CH:4][CH2:5]2)[H:30]\"\n",
    "    elif frag == 'not_optimal':\n",
    "        smiles = \"[H:29][c:1]1[c:6]([c:8]([n:19][c:7]2[c:3]1[c:5](=[O:25])[c:4]([c:2]([nH:21]2)[H:30])[CH:10]=[O:26])[N@@:22]3[C:14]([C@@:15]([CH2:9][C:11]3([H:31])[H:32])([H])[H:39])([H:37])[H:38])[F:28]\"\n",
    "    elif frag == 'optimal_front':\n",
    "        smiles = \"[H:29][c:1]1[c:3]2[c:7]([n:19][c:8]([c:6]1[F:28])[N@:22]3[C:11]([CH2:9][C@@:15]([C:14]3([H:37])[H:38])([H:39])[C:18]([H:44])([H:45])[N+:23]([H:46])([H:47])[H:48])([H:31])[H:32])[NH:21][C:2](=[C:4]([CH2:5]2)[CH2:10][O-:24])[H:30]\"\n",
    "\n",
    "    else:\n",
    "        smiles = results[frag]['frag']\n",
    "    print(smiles)\n",
    "    oechem.OESmilesToMol(mol, smiles)\n",
    "    \n",
    "    dih = fragmenter.torsions.find_torsion_around_bond(molecule=mol, bond=(8, 22))\n",
    "    conformers = fragmenter.chemi.generate_grid_conformers(mol, dihedrals=[dih], intervals=[30])\n",
    "    for conf in conformers.GetConfs():\n",
    "        mol_copy = oechem.OEMol(conf)\n",
    "        oechem.OEAddExplicitHydrogens(mol_copy)\n",
    "        if oequacpac.OEAssignPartialCharges(mol_copy, oequacpac.OECharges_AM1BCCSym):\n",
    "            bond = get_bond(mol=mol_copy, bond_tuple=(8, 22))\n",
    "            wbo = bond.GetData('WibergBondOrder')\n",
    "            print(wbo)\n",
    "            torsion_wbos[frag].append(wbo)\n",
    "\n"
   ]
  },
  {
   "cell_type": "code",
   "execution_count": 18,
   "metadata": {},
   "outputs": [
    {
     "data": {
      "text/plain": [
       "(0.54, 1.45)"
      ]
     },
     "execution_count": 18,
     "metadata": {},
     "output_type": "execute_result"
    },
    {
     "data": {
      "image/png": "[encoded data removed]",
      "text/plain": [
       "<Figure size 432x288 with 1 Axes>"
      ]
     },
     "metadata": {
      "needs_background": "light"
     },
     "output_type": "display_data"
    }
   ],
   "source": [
    "for i, f in enumerate(torsion_wbos):\n",
    "    \n",
    "    sbn.kdeplot(torsion_wbos[f], shade=True, label=f)\n",
    "    sbn.distplot(torsion_wbos[f], rug=True, hist=False, color=sbn.color_palette()[i])\n",
    "    sbn.distplot(torsion_wbos[f], hist=False, color=sbn.color_palette()[i])\n",
    "plt.legend()\n",
    "plt.xlim(0.54, 1.45)"
   ]
  },
  {
   "cell_type": "code",
   "execution_count": 21,
   "metadata": {},
   "outputs": [],
   "source": [
    "dih = fragmenter.torsions.find_torsion_around_bond(molecule=mol, bond=(8, 22))"
   ]
  },
  {
   "cell_type": "code",
   "execution_count": 28,
   "metadata": {},
   "outputs": [],
   "source": [
    "conformers = fragmenter.chemi.generate_grid_conformers(mol, dihedrals=[dih], intervals=[30])"
   ]
  },
  {
   "cell_type": "code",
   "execution_count": 29,
   "metadata": {},
   "outputs": [],
   "source": [
    "wbos = []\n",
    "for conf in conformers.GetConfs():\n",
    "    mol_copy = oechem.OEMol(conf)\n",
    "    oechem.OEAddExplicitHydrogens(mol_copy)\n",
    "    if oequacpac.OEAssignPartialCharges(mol_copy, oequacpac.OECharges_AM1BCCSym):\n",
    "        bond = get_bond(mol=mol_copy, bond_tuple=(8, 22))\n",
    "        wbos.append(bond.GetData('WibergBondOrder'))"
   ]
  },
  {
   "cell_type": "code",
   "execution_count": 15,
   "metadata": {},
   "outputs": [
    {
     "data": {
      "image/png": "[encoded data removed]",
      "text/plain": [
       "<IPython.core.display.Image object>"
      ]
     },
     "execution_count": 15,
     "metadata": {},
     "output_type": "execute_result"
    }
   ],
   "source": [
    "oenb.draw_smiles('c1c2c(nc(c1F)[N@@]3C[C@@H](/C(=N/O)/C3)C[NH3+])NC=C(C2)C(=O)[O-]')"
   ]
  },
  {
   "cell_type": "code",
   "execution_count": 27,
   "metadata": {},
   "outputs": [
    {
     "data": {
      "text/plain": [
       "[<matplotlib.lines.Line2D at 0x1a28bdac88>]"
      ]
     },
     "execution_count": 27,
     "metadata": {},
     "output_type": "execute_result"
    },
    {
     "data": {
      "image/png": "[encoded data removed]",
      "text/plain": [
       "<Figure size 432x288 with 1 Axes>"
      ]
     },
     "metadata": {
      "needs_background": "light"
     },
     "output_type": "display_data"
    }
   ],
   "source": []
  },
  {
   "cell_type": "code",
   "execution_count": null,
   "metadata": {},
   "outputs": [],
   "source": []
  }
 ],
 "metadata": {
  "kernelspec": {
   "display_name": "Python 3",
   "language": "python",
   "name": "python3"
  },
  "language_info": {
   "codemirror_mode": {
    "name": "ipython",
    "version": 3
   },
   "file_extension": ".py",
   "mimetype": "text/x-python",
   "name": "python",
   "nbconvert_exporter": "python",
   "pygments_lexer": "ipython3",
   "version": "3.7.2"
  }
 },
 "nbformat": 4,
 "nbformat_minor": 2
}
