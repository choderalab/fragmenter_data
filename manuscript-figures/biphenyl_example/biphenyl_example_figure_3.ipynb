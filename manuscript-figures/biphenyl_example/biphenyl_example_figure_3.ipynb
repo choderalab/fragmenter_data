{
 "cells": [
  {
   "cell_type": "code",
   "execution_count": 1,
   "metadata": {},
   "outputs": [
    {
     "name": "stdout",
     "output_type": "stream",
     "text": [
      "v0.7.2\n",
      "v0.13.0+2.ga1691bfa\n",
      "fragmenter version: 0.0.4+25.gbb12030.dirty\n",
      "cmiles version: v0.1.5+1.gdbd63e8\n"
     ]
    }
   ],
   "source": [
    "%matplotlib inline\n",
    "import matplotlib.pyplot as plt\n",
    "import matplotlib.ticker as mticker\n",
    "import seaborn as sbn\n",
    "import json\n",
    "import numpy as np\n",
    "from scipy import stats\n",
    "import arch.bootstrap\n",
    "\n",
    "import oenotebook as oenb\n",
    "from openeye import oequacpac, oechem, oedepict\n",
    "import qcfractal.interface as ptl\n",
    "\n",
    "import fragmenter\n",
    "import cmiles\n",
    "import qcfractal\n",
    "import qcportal\n",
    "print(qcportal.__version__)\n",
    "print(qcfractal.__version__)\n",
    "print('fragmenter version: {}'.format(fragmenter.__version__))\n",
    "print('cmiles version: {}'.format(cmiles.__version__))"
   ]
  },
  {
   "cell_type": "code",
   "execution_count": 3,
   "metadata": {},
   "outputs": [],
   "source": [
    "oemols = fragmenter.chemi.file_to_oemols('biphenyls.smi')"
   ]
  },
  {
   "cell_type": "code",
   "execution_count": 4,
   "metadata": {},
   "outputs": [
    {
     "name": "stdout",
     "output_type": "stream",
     "text": [
      "Warning: OEAssignPartialCharges has been deprecated please use OEAssignCharges instead!\n"
     ]
    }
   ],
   "source": [
    "bond_maps = []\n",
    "wbos_dep = []\n",
    "wbos_ind = []\n",
    "for mol in oemols:\n",
    "    cmiles.utils.add_atom_map(mol)\n",
    "    # Calculate WBO for only one conformation and ELF10 to see if WBOs differ. They should be the same for \n",
    "    # biphenlys because there is only one conformer per molecule\n",
    "    conf_independent = fragmenter.chemi.get_charges(mol, keep_confs=-1)\n",
    "    for bond in conf_independent.GetBonds():\n",
    "        if bond.IsRotor():\n",
    "            map_idx = (bond.GetBgn().GetMapIdx(), bond.GetEnd().GetMapIdx())\n",
    "            bond_maps.append(map_idx)\n",
    "            wbos_dep.append(bond.GetData('WibergBondOrder'))\n",
    "    for i, conf in enumerate(conf_independent.GetConfs()):\n",
    "        if i > 0:\n",
    "            print(mol.GetName(), i)\n",
    "            break\n",
    "        mol_copy = oechem.OEMol(conf)\n",
    "        oequacpac.OEAssignPartialCharges(mol_copy, oequacpac.OECharges_AM1BCCSym)\n",
    "        for bond in mol_copy.GetBonds():\n",
    "            if bond.IsRotor():\n",
    "                wbos_ind.append(bond.GetData('WibergBondOrder'))\n"
   ]
  },
  {
   "cell_type": "code",
   "execution_count": 5,
   "metadata": {},
   "outputs": [
    {
     "name": "stdout",
     "output_type": "stream",
     "text": [
      "Same WBOs for ELF10 and single conformer\n"
     ]
    }
   ],
   "source": [
    "if wbos_dep == wbos_ind:\n",
    "    print('Same WBOs for ELF10 and single conformer')"
   ]
  },
  {
   "cell_type": "code",
   "execution_count": 6,
   "metadata": {},
   "outputs": [],
   "source": [
    "colors = fragmenter.chemi._KELLYS_COLORS"
   ]
  },
  {
   "cell_type": "code",
   "execution_count": 7,
   "metadata": {},
   "outputs": [],
   "source": [
    "def visualize_biphenyls(mols, fname, rows, cols, bond_idx, wbos):\n",
    "    image = oedepict.OEImage(400, 200)\n",
    "    grid = oedepict.OEImageGrid(image, rows, cols)\n",
    "    opts = oedepict.OE2DMolDisplayOptions(grid.GetCellWidth(), grid.GetCellHeight(),\n",
    "                                      oedepict.OEScale_AutoScale)\n",
    "    minscale = float(\"inf\")\n",
    "    for m in mols:\n",
    "        #mol = oechem.OEMol()\n",
    "        #oechem.OESmilesToMol(mol, s)\n",
    "        #mols.append(mol)\n",
    "        oedepict.OEPrepareDepiction(m, False, True)\n",
    "        minscale = min(minscale, oedepict.OEGetMoleculeScale(m, opts))\n",
    "    \n",
    "    opts.SetScale(minscale)\n",
    "    for i, m in enumerate(zip(mols, grid.GetCells())):\n",
    "        mol = m[0]\n",
    "        cell = m[1]\n",
    "        mol.SetTitle(' ')\n",
    "        oedepict.OEPrepareDepiction(mol)\n",
    "        \n",
    "        bond = get_bond(mol, bond_idx[i])\n",
    "        atom_bond_set = oechem.OEAtomBondSet()\n",
    "        atom_bond_set.AddAtoms([bond.GetBgn(), bond.GetEnd()])\n",
    "        atom_bond_set.AddBond(bond)\n",
    "            \n",
    "        hstyle = oedepict.OEHighlightStyle_BallAndStick\n",
    "        hcolor = oechem.OEColor(colors[i])\n",
    "        \n",
    "        disp = oedepict.OE2DMolDisplay(mol, opts)\n",
    "        oedepict.OEAddHighlighting(disp, hcolor, hstyle, atom_bond_set) \n",
    "\n",
    "        bond_label = oedepict.OEHighlightLabel(\"{:.2f}\".format((wbos[i])), hcolor)\n",
    "        bond_label.SetFontScale(4.0)\n",
    "        oedepict.OEAddLabel(disp, bond_label, atom_bond_set)\n",
    "        oedepict.OERenderMolecule(cell, disp)\n",
    "    \n",
    "    oedepict.OEWriteImage(fname, image)\n",
    "    \n",
    "def get_bond(mol, bond_idx):\n",
    "    atom_bond_set = oechem.OEAtomBondSet()\n",
    "    atoms = [mol.GetAtom(oechem.OEHasMapIdx(i)) for i in bond_idx]\n",
    "    bond = mol.GetBond(atoms[0], atoms[1])\n",
    "    return bond\n",
    "    "
   ]
  },
  {
   "cell_type": "code",
   "execution_count": 8,
   "metadata": {},
   "outputs": [],
   "source": [
    "visualize_biphenyls(oemols[1:5], 'biphenyls_wbos.pdf', rows=1, cols=4, bond_idx=bond_maps[1:5], wbos=wbos_ind[1:5])\n",
    "visualize_biphenyls(oemols[6:10], 'biphenyls_fluoro_wbos.pdf', rows=1, cols=4, bond_idx=bond_maps[6:10], wbos=wbos_ind[6:10])"
   ]
  },
  {
   "cell_type": "code",
   "execution_count": 9,
   "metadata": {},
   "outputs": [
    {
     "data": {
      "text/html": [
       "<script type=\"text/javascript\">window.PlotlyConfig = {MathJaxConfig: 'local'};</script><script type=\"text/javascript\">if (window.MathJax) {MathJax.Hub.Config({SVG: {font: \"STIX-Web\"}});}</script><script>requirejs.config({paths: { 'plotly': ['https://cdn.plot.ly/plotly-latest.min']},});if(!window._Plotly) {require(['plotly'],function(plotly) {window._Plotly=plotly;});}</script>"
      ],
      "text/vnd.plotly.v1+html": [
       "<script type=\"text/javascript\">window.PlotlyConfig = {MathJaxConfig: 'local'};</script><script type=\"text/javascript\">if (window.MathJax) {MathJax.Hub.Config({SVG: {font: \"STIX-Web\"}});}</script><script>requirejs.config({paths: { 'plotly': ['https://cdn.plot.ly/plotly-latest.min']},});if(!window._Plotly) {require(['plotly'],function(plotly) {window._Plotly=plotly;});}</script>"
      ]
     },
     "metadata": {},
     "output_type": "display_data"
    },
    {
     "data": {
      "text/html": [
       "<script type=\"text/javascript\">window.PlotlyConfig = {MathJaxConfig: 'local'};</script><script type=\"text/javascript\">if (window.MathJax) {MathJax.Hub.Config({SVG: {font: \"STIX-Web\"}});}</script><script>requirejs.config({paths: { 'plotly': ['https://cdn.plot.ly/plotly-latest.min']},});if(!window._Plotly) {require(['plotly'],function(plotly) {window._Plotly=plotly;});}</script>"
      ],
      "text/vnd.plotly.v1+html": [
       "<script type=\"text/javascript\">window.PlotlyConfig = {MathJaxConfig: 'local'};</script><script type=\"text/javascript\">if (window.MathJax) {MathJax.Hub.Config({SVG: {font: \"STIX-Web\"}});}</script><script>requirejs.config({paths: { 'plotly': ['https://cdn.plot.ly/plotly-latest.min']},});if(!window._Plotly) {require(['plotly'],function(plotly) {window._Plotly=plotly;});}</script>"
      ]
     },
     "metadata": {},
     "output_type": "display_data"
    },
    {
     "data": {
      "text/html": [
       "<script type=\"text/javascript\">window.PlotlyConfig = {MathJaxConfig: 'local'};</script><script type=\"text/javascript\">if (window.MathJax) {MathJax.Hub.Config({SVG: {font: \"STIX-Web\"}});}</script><script>requirejs.config({paths: { 'plotly': ['https://cdn.plot.ly/plotly-latest.min']},});if(!window._Plotly) {require(['plotly'],function(plotly) {window._Plotly=plotly;});}</script>"
      ],
      "text/vnd.plotly.v1+html": [
       "<script type=\"text/javascript\">window.PlotlyConfig = {MathJaxConfig: 'local'};</script><script type=\"text/javascript\">if (window.MathJax) {MathJax.Hub.Config({SVG: {font: \"STIX-Web\"}});}</script><script>requirejs.config({paths: { 'plotly': ['https://cdn.plot.ly/plotly-latest.min']},});if(!window._Plotly) {require(['plotly'],function(plotly) {window._Plotly=plotly;});}</script>"
      ]
     },
     "metadata": {},
     "output_type": "display_data"
    },
    {
     "data": {
      "text/html": [
       "<script type=\"text/javascript\">window.PlotlyConfig = {MathJaxConfig: 'local'};</script><script type=\"text/javascript\">if (window.MathJax) {MathJax.Hub.Config({SVG: {font: \"STIX-Web\"}});}</script><script>requirejs.config({paths: { 'plotly': ['https://cdn.plot.ly/plotly-latest.min']},});if(!window._Plotly) {require(['plotly'],function(plotly) {window._Plotly=plotly;});}</script>"
      ],
      "text/vnd.plotly.v1+html": [
       "<script type=\"text/javascript\">window.PlotlyConfig = {MathJaxConfig: 'local'};</script><script type=\"text/javascript\">if (window.MathJax) {MathJax.Hub.Config({SVG: {font: \"STIX-Web\"}});}</script><script>requirejs.config({paths: { 'plotly': ['https://cdn.plot.ly/plotly-latest.min']},});if(!window._Plotly) {require(['plotly'],function(plotly) {window._Plotly=plotly;});}</script>"
      ]
     },
     "metadata": {},
     "output_type": "display_data"
    },
    {
     "data": {
      "text/html": [
       "<script type=\"text/javascript\">window.PlotlyConfig = {MathJaxConfig: 'local'};</script><script type=\"text/javascript\">if (window.MathJax) {MathJax.Hub.Config({SVG: {font: \"STIX-Web\"}});}</script><script>requirejs.config({paths: { 'plotly': ['https://cdn.plot.ly/plotly-latest.min']},});if(!window._Plotly) {require(['plotly'],function(plotly) {window._Plotly=plotly;});}</script>"
      ],
      "text/vnd.plotly.v1+html": [
       "<script type=\"text/javascript\">window.PlotlyConfig = {MathJaxConfig: 'local'};</script><script type=\"text/javascript\">if (window.MathJax) {MathJax.Hub.Config({SVG: {font: \"STIX-Web\"}});}</script><script>requirejs.config({paths: { 'plotly': ['https://cdn.plot.ly/plotly-latest.min']},});if(!window._Plotly) {require(['plotly'],function(plotly) {window._Plotly=plotly;});}</script>"
      ]
     },
     "metadata": {},
     "output_type": "display_data"
    },
    {
     "data": {
      "text/html": [
       "<script type=\"text/javascript\">window.PlotlyConfig = {MathJaxConfig: 'local'};</script><script type=\"text/javascript\">if (window.MathJax) {MathJax.Hub.Config({SVG: {font: \"STIX-Web\"}});}</script><script>requirejs.config({paths: { 'plotly': ['https://cdn.plot.ly/plotly-latest.min']},});if(!window._Plotly) {require(['plotly'],function(plotly) {window._Plotly=plotly;});}</script>"
      ],
      "text/vnd.plotly.v1+html": [
       "<script type=\"text/javascript\">window.PlotlyConfig = {MathJaxConfig: 'local'};</script><script type=\"text/javascript\">if (window.MathJax) {MathJax.Hub.Config({SVG: {font: \"STIX-Web\"}});}</script><script>requirejs.config({paths: { 'plotly': ['https://cdn.plot.ly/plotly-latest.min']},});if(!window._Plotly) {require(['plotly'],function(plotly) {window._Plotly=plotly;});}</script>"
      ]
     },
     "metadata": {},
     "output_type": "display_data"
    },
    {
     "data": {
      "application/vnd.plotly.v1+json": {
       "config": {
        "linkText": "Export to plot.ly",
        "plotlyServerURL": "https://plot.ly",
        "showLink": false
       },
       "data": [
        {
         "mode": "lines+markers",
         "name": "c1[cH:1][c:2](c(cc1O)F)[c:4]2[cH:3]c[nH+]cc2",
         "type": "scatter",
         "uid": "3ed04a6b-486f-426b-bc59-5d554c631151",
         "x": [
          -165,
          -150,
          -135,
          -120,
          -105,
          -90,
          -75,
          -60,
          -45,
          -30,
          -15,
          0,
          15,
          30,
          45,
          60,
          75,
          90,
          105,
          120,
          135,
          150,
          165,
          180
         ],
         "y": [
          0.968,
          0.001,
          4.108,
          13.232,
          24.446,
          30.62,
          24.635,
          13.868,
          4.57,
          0.086,
          0.848,
          2.991,
          0.847,
          0.086,
          4.57,
          13.869,
          24.634,
          30.621,
          24.448,
          13.234,
          4.106,
          0,
          0.969,
          2.993
         ]
        },
        {
         "mode": "lines+markers",
         "name": "c1[cH:1][c:2](c(cc1O)F)[c:4]2[cH:3]cncc2",
         "type": "scatter",
         "uid": "f3a87e5b-5e11-4128-923b-e41ad474b492",
         "x": [
          -165,
          -150,
          -135,
          -120,
          -105,
          -90,
          -75,
          -60,
          -45,
          -30,
          -15,
          0,
          15,
          30,
          45,
          60,
          75,
          90,
          105,
          120,
          135,
          150,
          165,
          180
         ],
         "y": [
          4.738,
          0.533,
          0.002,
          2.959,
          6.889,
          8.626,
          7.111,
          3.345,
          0.174,
          0.32,
          4.399,
          8.115,
          4.4,
          0.319,
          0.173,
          3.345,
          7.111,
          8.628,
          6.888,
          2.959,
          0,
          0.535,
          4.736,
          8.117
         ]
        },
        {
         "mode": "lines+markers",
         "name": "c1[cH:1][c:2](c(cc1[O-])F)[c:4]2[cH:3]c[nH+]cc2",
         "type": "scatter",
         "uid": "d61c3441-e500-4f7d-8738-3c9304c65da2",
         "x": [
          -165,
          -150,
          -135,
          -120,
          -105,
          -90,
          -75,
          -60,
          -45,
          -30,
          -15,
          0,
          15,
          30,
          45,
          60,
          75,
          90,
          105,
          120,
          135,
          150,
          165,
          180
         ],
         "y": [
          0.582,
          5.349,
          17.233,
          36.732,
          63.106,
          94.311,
          64.968,
          38.712,
          18.398,
          5.82,
          0.667,
          0.001,
          0.667,
          5.822,
          18.396,
          38.711,
          64.968,
          94.308,
          63.11,
          36.732,
          17.23,
          5.351,
          0.582,
          0
         ]
        },
        {
         "mode": "lines+markers",
         "name": "c1[cH:1][c:2](c(cc1[O-])F)[c:4]2[cH:3]cncc2",
         "type": "scatter",
         "uid": "e34361eb-30db-40ff-814f-2c156e8735e4",
         "x": [
          -165,
          -150,
          -135,
          -120,
          -105,
          -90,
          -75,
          -60,
          -45,
          -30,
          -15,
          0,
          15,
          30,
          45,
          60,
          75,
          90,
          105,
          120,
          135,
          150,
          165,
          180
         ],
         "y": [
          0.079,
          0.4,
          5.404,
          14.996,
          26.979,
          35.665,
          28.343,
          16.48,
          6.302,
          0.646,
          0,
          1.236,
          0,
          0.653,
          6.301,
          16.48,
          28.34,
          35.665,
          26.979,
          14.995,
          5.405,
          0.401,
          0.079,
          1.236
         ]
        },
        {
         "mode": "lines+markers",
         "name": "c1ccc([c:2]([cH:1]1)[c:3]2[cH:4]cncc2)F",
         "type": "scatter",
         "uid": "49de1d12-82c7-4c0f-8d5b-8ea79800ad0d",
         "x": [
          -165,
          -150,
          -135,
          -120,
          -105,
          -90,
          -75,
          -60,
          -45,
          -30,
          -15,
          0,
          15,
          30,
          45,
          60,
          75,
          90,
          105,
          120,
          135,
          150,
          165,
          180
         ],
         "y": [
          5.842,
          1.064,
          0,
          2.548,
          6.159,
          7.782,
          6.376,
          2.903,
          0.13,
          0.793,
          5.463,
          9.535,
          5.463,
          0.795,
          0.13,
          2.902,
          6.378,
          7.781,
          6.159,
          2.548,
          0.001,
          1.064,
          5.842,
          9.535
         ]
        }
       ],
       "layout": {
        "title": {
         "text": "TorsionDriveDataset 1-D Plot [spec=default]"
        },
        "xaxis": {
         "range": [
          -175,
          190
         ],
         "title": {
          "text": "Dihedral Angle [degrees]"
         },
         "zeroline": false
        },
        "yaxis": {
         "title": {
          "text": "Relative Energy [kJ/mol]"
         },
         "zeroline": true
        }
       }
      },
      "text/html": [
       "<div id=\"58c46c4d-c104-436a-95e6-8dece316d78a\" style=\"height: 525px; width: 100%;\" class=\"plotly-graph-div\"></div><script type=\"text/javascript\">require([\"plotly\"], function(Plotly) { window.PLOTLYENV=window.PLOTLYENV || {};window.PLOTLYENV.BASE_URL=\"https://plot.ly\";\n",
       "if (document.getElementById(\"58c46c4d-c104-436a-95e6-8dece316d78a\")) {\n",
       "    Plotly.newPlot(\"58c46c4d-c104-436a-95e6-8dece316d78a\", [{\"mode\": \"lines+markers\", \"name\": \"c1[cH:1][c:2](c(cc1O)F)[c:4]2[cH:3]c[nH+]cc2\", \"uid\": \"3ed04a6b-486f-426b-bc59-5d554c631151\", \"x\": [-165, -150, -135, -120, -105, -90, -75, -60, -45, -30, -15, 0, 15, 30, 45, 60, 75, 90, 105, 120, 135, 150, 165, 180], \"y\": [0.968, 0.001, 4.108, 13.232, 24.446, 30.62, 24.635, 13.868, 4.57, 0.086, 0.848, 2.991, 0.847, 0.086, 4.57, 13.869, 24.634, 30.621, 24.448, 13.234, 4.106, 0.0, 0.969, 2.993], \"type\": \"scatter\"}, {\"mode\": \"lines+markers\", \"name\": \"c1[cH:1][c:2](c(cc1O)F)[c:4]2[cH:3]cncc2\", \"uid\": \"f3a87e5b-5e11-4128-923b-e41ad474b492\", \"x\": [-165, -150, -135, -120, -105, -90, -75, -60, -45, -30, -15, 0, 15, 30, 45, 60, 75, 90, 105, 120, 135, 150, 165, 180], \"y\": [4.738, 0.533, 0.002, 2.959, 6.889, 8.626, 7.111, 3.345, 0.174, 0.32, 4.399, 8.115, 4.4, 0.319, 0.173, 3.345, 7.111, 8.628, 6.888, 2.959, 0.0, 0.535, 4.736, 8.117], \"type\": \"scatter\"}, {\"mode\": \"lines+markers\", \"name\": \"c1[cH:1][c:2](c(cc1[O-])F)[c:4]2[cH:3]c[nH+]cc2\", \"uid\": \"d61c3441-e500-4f7d-8738-3c9304c65da2\", \"x\": [-165, -150, -135, -120, -105, -90, -75, -60, -45, -30, -15, 0, 15, 30, 45, 60, 75, 90, 105, 120, 135, 150, 165, 180], \"y\": [0.582, 5.349, 17.233, 36.732, 63.106, 94.311, 64.968, 38.712, 18.398, 5.82, 0.667, 0.001, 0.667, 5.822, 18.396, 38.711, 64.968, 94.308, 63.11, 36.732, 17.23, 5.351, 0.582, 0.0], \"type\": \"scatter\"}, {\"mode\": \"lines+markers\", \"name\": \"c1[cH:1][c:2](c(cc1[O-])F)[c:4]2[cH:3]cncc2\", \"uid\": \"e34361eb-30db-40ff-814f-2c156e8735e4\", \"x\": [-165, -150, -135, -120, -105, -90, -75, -60, -45, -30, -15, 0, 15, 30, 45, 60, 75, 90, 105, 120, 135, 150, 165, 180], \"y\": [0.079, 0.4, 5.404, 14.996, 26.979, 35.665, 28.343, 16.48, 6.302, 0.646, 0.0, 1.236, 0.0, 0.653, 6.301, 16.48, 28.34, 35.665, 26.979, 14.995, 5.405, 0.401, 0.079, 1.236], \"type\": \"scatter\"}, {\"mode\": \"lines+markers\", \"name\": \"c1ccc([c:2]([cH:1]1)[c:3]2[cH:4]cncc2)F\", \"uid\": \"49de1d12-82c7-4c0f-8d5b-8ea79800ad0d\", \"x\": [-165, -150, -135, -120, -105, -90, -75, -60, -45, -30, -15, 0, 15, 30, 45, 60, 75, 90, 105, 120, 135, 150, 165, 180], \"y\": [5.842, 1.064, 0.0, 2.548, 6.159, 7.782, 6.376, 2.903, 0.13, 0.793, 5.463, 9.535, 5.463, 0.795, 0.13, 2.902, 6.378, 7.781, 6.159, 2.548, 0.001, 1.064, 5.842, 9.535], \"type\": \"scatter\"}], {\"title\": {\"text\": \"TorsionDriveDataset 1-D Plot [spec=default]\"}, \"xaxis\": {\"range\": [-175, 190], \"title\": {\"text\": \"Dihedral Angle [degrees]\"}, \"zeroline\": false}, \"yaxis\": {\"title\": {\"text\": \"Relative Energy [kJ/mol]\"}, \"zeroline\": true}}, {\"showLink\": false, \"linkText\": \"Export to plot.ly\", \"plotlyServerURL\": \"https://plot.ly\"}); \n",
       "}\n",
       "});</script><script type=\"text/javascript\">window.addEventListener(\"resize\", function(){if (document.getElementById(\"58c46c4d-c104-436a-95e6-8dece316d78a\")) {window._Plotly.Plots.resize(document.getElementById(\"58c46c4d-c104-436a-95e6-8dece316d78a\"));};})</script>"
      ],
      "text/vnd.plotly.v1+html": [
       "<div id=\"58c46c4d-c104-436a-95e6-8dece316d78a\" style=\"height: 525px; width: 100%;\" class=\"plotly-graph-div\"></div><script type=\"text/javascript\">require([\"plotly\"], function(Plotly) { window.PLOTLYENV=window.PLOTLYENV || {};window.PLOTLYENV.BASE_URL=\"https://plot.ly\";\n",
       "if (document.getElementById(\"58c46c4d-c104-436a-95e6-8dece316d78a\")) {\n",
       "    Plotly.newPlot(\"58c46c4d-c104-436a-95e6-8dece316d78a\", [{\"mode\": \"lines+markers\", \"name\": \"c1[cH:1][c:2](c(cc1O)F)[c:4]2[cH:3]c[nH+]cc2\", \"uid\": \"3ed04a6b-486f-426b-bc59-5d554c631151\", \"x\": [-165, -150, -135, -120, -105, -90, -75, -60, -45, -30, -15, 0, 15, 30, 45, 60, 75, 90, 105, 120, 135, 150, 165, 180], \"y\": [0.968, 0.001, 4.108, 13.232, 24.446, 30.62, 24.635, 13.868, 4.57, 0.086, 0.848, 2.991, 0.847, 0.086, 4.57, 13.869, 24.634, 30.621, 24.448, 13.234, 4.106, 0.0, 0.969, 2.993], \"type\": \"scatter\"}, {\"mode\": \"lines+markers\", \"name\": \"c1[cH:1][c:2](c(cc1O)F)[c:4]2[cH:3]cncc2\", \"uid\": \"f3a87e5b-5e11-4128-923b-e41ad474b492\", \"x\": [-165, -150, -135, -120, -105, -90, -75, -60, -45, -30, -15, 0, 15, 30, 45, 60, 75, 90, 105, 120, 135, 150, 165, 180], \"y\": [4.738, 0.533, 0.002, 2.959, 6.889, 8.626, 7.111, 3.345, 0.174, 0.32, 4.399, 8.115, 4.4, 0.319, 0.173, 3.345, 7.111, 8.628, 6.888, 2.959, 0.0, 0.535, 4.736, 8.117], \"type\": \"scatter\"}, {\"mode\": \"lines+markers\", \"name\": \"c1[cH:1][c:2](c(cc1[O-])F)[c:4]2[cH:3]c[nH+]cc2\", \"uid\": \"d61c3441-e500-4f7d-8738-3c9304c65da2\", \"x\": [-165, -150, -135, -120, -105, -90, -75, -60, -45, -30, -15, 0, 15, 30, 45, 60, 75, 90, 105, 120, 135, 150, 165, 180], \"y\": [0.582, 5.349, 17.233, 36.732, 63.106, 94.311, 64.968, 38.712, 18.398, 5.82, 0.667, 0.001, 0.667, 5.822, 18.396, 38.711, 64.968, 94.308, 63.11, 36.732, 17.23, 5.351, 0.582, 0.0], \"type\": \"scatter\"}, {\"mode\": \"lines+markers\", \"name\": \"c1[cH:1][c:2](c(cc1[O-])F)[c:4]2[cH:3]cncc2\", \"uid\": \"e34361eb-30db-40ff-814f-2c156e8735e4\", \"x\": [-165, -150, -135, -120, -105, -90, -75, -60, -45, -30, -15, 0, 15, 30, 45, 60, 75, 90, 105, 120, 135, 150, 165, 180], \"y\": [0.079, 0.4, 5.404, 14.996, 26.979, 35.665, 28.343, 16.48, 6.302, 0.646, 0.0, 1.236, 0.0, 0.653, 6.301, 16.48, 28.34, 35.665, 26.979, 14.995, 5.405, 0.401, 0.079, 1.236], \"type\": \"scatter\"}, {\"mode\": \"lines+markers\", \"name\": \"c1ccc([c:2]([cH:1]1)[c:3]2[cH:4]cncc2)F\", \"uid\": \"49de1d12-82c7-4c0f-8d5b-8ea79800ad0d\", \"x\": [-165, -150, -135, -120, -105, -90, -75, -60, -45, -30, -15, 0, 15, 30, 45, 60, 75, 90, 105, 120, 135, 150, 165, 180], \"y\": [5.842, 1.064, 0.0, 2.548, 6.159, 7.782, 6.376, 2.903, 0.13, 0.793, 5.463, 9.535, 5.463, 0.795, 0.13, 2.902, 6.378, 7.781, 6.159, 2.548, 0.001, 1.064, 5.842, 9.535], \"type\": \"scatter\"}], {\"title\": {\"text\": \"TorsionDriveDataset 1-D Plot [spec=default]\"}, \"xaxis\": {\"range\": [-175, 190], \"title\": {\"text\": \"Dihedral Angle [degrees]\"}, \"zeroline\": false}, \"yaxis\": {\"title\": {\"text\": \"Relative Energy [kJ/mol]\"}, \"zeroline\": true}}, {\"showLink\": false, \"linkText\": \"Export to plot.ly\", \"plotlyServerURL\": \"https://plot.ly\"}); \n",
       "}\n",
       "});</script><script type=\"text/javascript\">window.addEventListener(\"resize\", function(){if (document.getElementById(\"58c46c4d-c104-436a-95e6-8dece316d78a\")) {window._Plotly.Plots.resize(document.getElementById(\"58c46c4d-c104-436a-95e6-8dece316d78a\"));};})</script>"
      ]
     },
     "metadata": {},
     "output_type": "display_data"
    },
    {
     "data": {
      "text/html": [
       "<script type=\"text/javascript\">window.PlotlyConfig = {MathJaxConfig: 'local'};</script><script type=\"text/javascript\">if (window.MathJax) {MathJax.Hub.Config({SVG: {font: \"STIX-Web\"}});}</script><script>requirejs.config({paths: { 'plotly': ['https://cdn.plot.ly/plotly-latest.min']},});if(!window._Plotly) {require(['plotly'],function(plotly) {window._Plotly=plotly;});}</script>"
      ],
      "text/vnd.plotly.v1+html": [
       "<script type=\"text/javascript\">window.PlotlyConfig = {MathJaxConfig: 'local'};</script><script type=\"text/javascript\">if (window.MathJax) {MathJax.Hub.Config({SVG: {font: \"STIX-Web\"}});}</script><script>requirejs.config({paths: { 'plotly': ['https://cdn.plot.ly/plotly-latest.min']},});if(!window._Plotly) {require(['plotly'],function(plotly) {window._Plotly=plotly;});}</script>"
      ]
     },
     "metadata": {},
     "output_type": "display_data"
    },
    {
     "data": {
      "text/html": [
       "<script type=\"text/javascript\">window.PlotlyConfig = {MathJaxConfig: 'local'};</script><script type=\"text/javascript\">if (window.MathJax) {MathJax.Hub.Config({SVG: {font: \"STIX-Web\"}});}</script><script>requirejs.config({paths: { 'plotly': ['https://cdn.plot.ly/plotly-latest.min']},});if(!window._Plotly) {require(['plotly'],function(plotly) {window._Plotly=plotly;});}</script>"
      ],
      "text/vnd.plotly.v1+html": [
       "<script type=\"text/javascript\">window.PlotlyConfig = {MathJaxConfig: 'local'};</script><script type=\"text/javascript\">if (window.MathJax) {MathJax.Hub.Config({SVG: {font: \"STIX-Web\"}});}</script><script>requirejs.config({paths: { 'plotly': ['https://cdn.plot.ly/plotly-latest.min']},});if(!window._Plotly) {require(['plotly'],function(plotly) {window._Plotly=plotly;});}</script>"
      ]
     },
     "metadata": {},
     "output_type": "display_data"
    },
    {
     "data": {
      "text/html": [
       "<script type=\"text/javascript\">window.PlotlyConfig = {MathJaxConfig: 'local'};</script><script type=\"text/javascript\">if (window.MathJax) {MathJax.Hub.Config({SVG: {font: \"STIX-Web\"}});}</script><script>requirejs.config({paths: { 'plotly': ['https://cdn.plot.ly/plotly-latest.min']},});if(!window._Plotly) {require(['plotly'],function(plotly) {window._Plotly=plotly;});}</script>"
      ],
      "text/vnd.plotly.v1+html": [
       "<script type=\"text/javascript\">window.PlotlyConfig = {MathJaxConfig: 'local'};</script><script type=\"text/javascript\">if (window.MathJax) {MathJax.Hub.Config({SVG: {font: \"STIX-Web\"}});}</script><script>requirejs.config({paths: { 'plotly': ['https://cdn.plot.ly/plotly-latest.min']},});if(!window._Plotly) {require(['plotly'],function(plotly) {window._Plotly=plotly;});}</script>"
      ]
     },
     "metadata": {},
     "output_type": "display_data"
    },
    {
     "data": {
      "text/html": [
       "<script type=\"text/javascript\">window.PlotlyConfig = {MathJaxConfig: 'local'};</script><script type=\"text/javascript\">if (window.MathJax) {MathJax.Hub.Config({SVG: {font: \"STIX-Web\"}});}</script><script>requirejs.config({paths: { 'plotly': ['https://cdn.plot.ly/plotly-latest.min']},});if(!window._Plotly) {require(['plotly'],function(plotly) {window._Plotly=plotly;});}</script>"
      ],
      "text/vnd.plotly.v1+html": [
       "<script type=\"text/javascript\">window.PlotlyConfig = {MathJaxConfig: 'local'};</script><script type=\"text/javascript\">if (window.MathJax) {MathJax.Hub.Config({SVG: {font: \"STIX-Web\"}});}</script><script>requirejs.config({paths: { 'plotly': ['https://cdn.plot.ly/plotly-latest.min']},});if(!window._Plotly) {require(['plotly'],function(plotly) {window._Plotly=plotly;});}</script>"
      ]
     },
     "metadata": {},
     "output_type": "display_data"
    },
    {
     "data": {
      "text/html": [
       "<script type=\"text/javascript\">window.PlotlyConfig = {MathJaxConfig: 'local'};</script><script type=\"text/javascript\">if (window.MathJax) {MathJax.Hub.Config({SVG: {font: \"STIX-Web\"}});}</script><script>requirejs.config({paths: { 'plotly': ['https://cdn.plot.ly/plotly-latest.min']},});if(!window._Plotly) {require(['plotly'],function(plotly) {window._Plotly=plotly;});}</script>"
      ],
      "text/vnd.plotly.v1+html": [
       "<script type=\"text/javascript\">window.PlotlyConfig = {MathJaxConfig: 'local'};</script><script type=\"text/javascript\">if (window.MathJax) {MathJax.Hub.Config({SVG: {font: \"STIX-Web\"}});}</script><script>requirejs.config({paths: { 'plotly': ['https://cdn.plot.ly/plotly-latest.min']},});if(!window._Plotly) {require(['plotly'],function(plotly) {window._Plotly=plotly;});}</script>"
      ]
     },
     "metadata": {},
     "output_type": "display_data"
    },
    {
     "data": {
      "text/html": [
       "<script type=\"text/javascript\">window.PlotlyConfig = {MathJaxConfig: 'local'};</script><script type=\"text/javascript\">if (window.MathJax) {MathJax.Hub.Config({SVG: {font: \"STIX-Web\"}});}</script><script>requirejs.config({paths: { 'plotly': ['https://cdn.plot.ly/plotly-latest.min']},});if(!window._Plotly) {require(['plotly'],function(plotly) {window._Plotly=plotly;});}</script>"
      ],
      "text/vnd.plotly.v1+html": [
       "<script type=\"text/javascript\">window.PlotlyConfig = {MathJaxConfig: 'local'};</script><script type=\"text/javascript\">if (window.MathJax) {MathJax.Hub.Config({SVG: {font: \"STIX-Web\"}});}</script><script>requirejs.config({paths: { 'plotly': ['https://cdn.plot.ly/plotly-latest.min']},});if(!window._Plotly) {require(['plotly'],function(plotly) {window._Plotly=plotly;});}</script>"
      ]
     },
     "metadata": {},
     "output_type": "display_data"
    },
    {
     "data": {
      "application/vnd.plotly.v1+json": {
       "config": {
        "linkText": "Export to plot.ly",
        "plotlyServerURL": "https://plot.ly",
        "showLink": false
       },
       "data": [
        {
         "mode": "lines+markers",
         "name": "[cH:1]1cc(cc[c:2]1[c:3]2[cH:4]c[nH+]cc2)O",
         "type": "scatter",
         "uid": "772b6f1e-5d40-4f2c-95c9-d34b37769fe3",
         "x": [
          -165,
          -150,
          -135,
          -120,
          -105,
          -90,
          -75,
          -60,
          -45,
          -30,
          -15,
          0,
          15,
          30,
          45,
          60,
          75,
          90,
          105,
          120,
          135,
          150,
          165,
          180
         ],
         "y": [
          0.007,
          0.295,
          5.351,
          15.089,
          26.898,
          33.733,
          27.176,
          15.416,
          5.469,
          0.304,
          0,
          1.172,
          0,
          0.306,
          5.47,
          15.417,
          27.176,
          33.735,
          26.9,
          15.092,
          5.352,
          0.295,
          0.007,
          1.173
         ]
        },
        {
         "mode": "lines+markers",
         "name": "[cH:1]1cc(cc[c:2]1[c:3]2[cH:4]c[nH+]cc2)[O-]",
         "type": "scatter",
         "uid": "831fe325-1a1d-4fcc-9bc9-b1bf2be63cf9",
         "x": [
          -165,
          -150,
          -135,
          -120,
          -105,
          -90,
          -75,
          -60,
          -45,
          -30,
          -15,
          0,
          15,
          30,
          45,
          60,
          75,
          90,
          105,
          120,
          135,
          150,
          165,
          180
         ],
         "y": [
          1.735,
          8.646,
          22.621,
          43.987,
          72.144,
          102.957,
          71.513,
          43.709,
          22.199,
          8.363,
          1.67,
          0,
          1.67,
          8.366,
          22.2,
          43.709,
          71.513,
          102.957,
          72.143,
          43.99,
          22.619,
          8.645,
          1.735,
          0.001
         ]
        },
        {
         "mode": "lines+markers",
         "name": "[cH:1]1cc(cc[c:2]1[c:3]2[cH:4]cncc2)O",
         "type": "scatter",
         "uid": "b749db2c-6864-41e0-a5df-c51017f9b121",
         "x": [
          -165,
          -150,
          -135,
          -120,
          -105,
          -90,
          -75,
          -60,
          -45,
          -30,
          -15,
          0,
          15,
          30,
          45,
          60,
          75,
          90,
          105,
          120,
          135,
          150,
          165,
          180
         ],
         "y": [
          2.893,
          0,
          0.551,
          4.365,
          9.083,
          11.215,
          9.112,
          4.428,
          0.565,
          0.004,
          2.885,
          5.391,
          2.883,
          0.002,
          0.564,
          4.431,
          9.112,
          11.216,
          9.084,
          4.366,
          0.555,
          0,
          2.893,
          5.39
         ]
        },
        {
         "mode": "lines+markers",
         "name": "[cH:1]1cc(cc[c:2]1[c:3]2[cH:4]cncc2)[O-]",
         "type": "scatter",
         "uid": "d5ca53e6-c18a-4716-9e0a-5e03aad2ecab",
         "x": [
          -165,
          -150,
          -135,
          -120,
          -105,
          -90,
          -75,
          -60,
          -45,
          -30,
          -15,
          0,
          15,
          30,
          45,
          60,
          75,
          90,
          105,
          120,
          135,
          150,
          165,
          180
         ],
         "y": [
          0.037,
          2.127,
          8.894,
          20.186,
          33.856,
          43.373,
          33.939,
          20.312,
          8.883,
          2.067,
          0.037,
          0.19,
          0,
          2.097,
          8.881,
          20.317,
          33.942,
          43.373,
          33.86,
          20.186,
          8.894,
          2.129,
          0.04,
          0.191
         ]
        },
        {
         "mode": "lines+markers",
         "name": "c1c[cH:1][c:2](cc1)[c:3]2[cH:4]cncc2",
         "type": "scatter",
         "uid": "8fff789e-aca3-4d95-a62f-2bff4db97574",
         "x": [
          -165,
          -150,
          -135,
          -120,
          -105,
          -90,
          -75,
          -60,
          -45,
          -30,
          -15,
          0,
          15,
          30,
          45,
          60,
          75,
          90,
          105,
          120,
          135,
          150,
          165,
          180
         ],
         "y": [
          3.413,
          0.003,
          0.032,
          3.383,
          7.708,
          9.652,
          7.729,
          3.431,
          0.041,
          0.006,
          3.407,
          6.209,
          3.408,
          0.004,
          0.043,
          3.432,
          7.729,
          9.652,
          7.71,
          3.382,
          0.033,
          0,
          3.415,
          6.21
         ]
        }
       ],
       "layout": {
        "title": {
         "text": "TorsionDriveDataset 1-D Plot [spec=default]"
        },
        "xaxis": {
         "range": [
          -175,
          190
         ],
         "title": {
          "text": "Dihedral Angle [degrees]"
         },
         "zeroline": false
        },
        "yaxis": {
         "title": {
          "text": "Relative Energy [kJ/mol]"
         },
         "zeroline": true
        }
       }
      },
      "text/html": [
       "<div id=\"6cb632c8-6a78-4d88-85a9-402d5b951d79\" style=\"height: 525px; width: 100%;\" class=\"plotly-graph-div\"></div><script type=\"text/javascript\">require([\"plotly\"], function(Plotly) { window.PLOTLYENV=window.PLOTLYENV || {};window.PLOTLYENV.BASE_URL=\"https://plot.ly\";\n",
       "if (document.getElementById(\"6cb632c8-6a78-4d88-85a9-402d5b951d79\")) {\n",
       "    Plotly.newPlot(\"6cb632c8-6a78-4d88-85a9-402d5b951d79\", [{\"mode\": \"lines+markers\", \"name\": \"[cH:1]1cc(cc[c:2]1[c:3]2[cH:4]c[nH+]cc2)O\", \"uid\": \"772b6f1e-5d40-4f2c-95c9-d34b37769fe3\", \"x\": [-165, -150, -135, -120, -105, -90, -75, -60, -45, -30, -15, 0, 15, 30, 45, 60, 75, 90, 105, 120, 135, 150, 165, 180], \"y\": [0.007, 0.295, 5.351, 15.089, 26.898, 33.733, 27.176, 15.416, 5.469, 0.304, 0.0, 1.172, 0.0, 0.306, 5.47, 15.417, 27.176, 33.735, 26.9, 15.092, 5.352, 0.295, 0.007, 1.173], \"type\": \"scatter\"}, {\"mode\": \"lines+markers\", \"name\": \"[cH:1]1cc(cc[c:2]1[c:3]2[cH:4]c[nH+]cc2)[O-]\", \"uid\": \"831fe325-1a1d-4fcc-9bc9-b1bf2be63cf9\", \"x\": [-165, -150, -135, -120, -105, -90, -75, -60, -45, -30, -15, 0, 15, 30, 45, 60, 75, 90, 105, 120, 135, 150, 165, 180], \"y\": [1.735, 8.646, 22.621, 43.987, 72.144, 102.957, 71.513, 43.709, 22.199, 8.363, 1.67, 0.0, 1.67, 8.366, 22.2, 43.709, 71.513, 102.957, 72.143, 43.99, 22.619, 8.645, 1.735, 0.001], \"type\": \"scatter\"}, {\"mode\": \"lines+markers\", \"name\": \"[cH:1]1cc(cc[c:2]1[c:3]2[cH:4]cncc2)O\", \"uid\": \"b749db2c-6864-41e0-a5df-c51017f9b121\", \"x\": [-165, -150, -135, -120, -105, -90, -75, -60, -45, -30, -15, 0, 15, 30, 45, 60, 75, 90, 105, 120, 135, 150, 165, 180], \"y\": [2.893, 0.0, 0.551, 4.365, 9.083, 11.215, 9.112, 4.428, 0.565, 0.004, 2.885, 5.391, 2.883, 0.002, 0.564, 4.431, 9.112, 11.216, 9.084, 4.366, 0.555, 0.0, 2.893, 5.39], \"type\": \"scatter\"}, {\"mode\": \"lines+markers\", \"name\": \"[cH:1]1cc(cc[c:2]1[c:3]2[cH:4]cncc2)[O-]\", \"uid\": \"d5ca53e6-c18a-4716-9e0a-5e03aad2ecab\", \"x\": [-165, -150, -135, -120, -105, -90, -75, -60, -45, -30, -15, 0, 15, 30, 45, 60, 75, 90, 105, 120, 135, 150, 165, 180], \"y\": [0.037, 2.127, 8.894, 20.186, 33.856, 43.373, 33.939, 20.312, 8.883, 2.067, 0.037, 0.19, 0.0, 2.097, 8.881, 20.317, 33.942, 43.373, 33.86, 20.186, 8.894, 2.129, 0.04, 0.191], \"type\": \"scatter\"}, {\"mode\": \"lines+markers\", \"name\": \"c1c[cH:1][c:2](cc1)[c:3]2[cH:4]cncc2\", \"uid\": \"8fff789e-aca3-4d95-a62f-2bff4db97574\", \"x\": [-165, -150, -135, -120, -105, -90, -75, -60, -45, -30, -15, 0, 15, 30, 45, 60, 75, 90, 105, 120, 135, 150, 165, 180], \"y\": [3.413, 0.003, 0.032, 3.383, 7.708, 9.652, 7.729, 3.431, 0.041, 0.006, 3.407, 6.209, 3.408, 0.004, 0.043, 3.432, 7.729, 9.652, 7.71, 3.382, 0.033, 0.0, 3.415, 6.21], \"type\": \"scatter\"}], {\"title\": {\"text\": \"TorsionDriveDataset 1-D Plot [spec=default]\"}, \"xaxis\": {\"range\": [-175, 190], \"title\": {\"text\": \"Dihedral Angle [degrees]\"}, \"zeroline\": false}, \"yaxis\": {\"title\": {\"text\": \"Relative Energy [kJ/mol]\"}, \"zeroline\": true}}, {\"showLink\": false, \"linkText\": \"Export to plot.ly\", \"plotlyServerURL\": \"https://plot.ly\"}); \n",
       "}\n",
       "});</script><script type=\"text/javascript\">window.addEventListener(\"resize\", function(){if (document.getElementById(\"6cb632c8-6a78-4d88-85a9-402d5b951d79\")) {window._Plotly.Plots.resize(document.getElementById(\"6cb632c8-6a78-4d88-85a9-402d5b951d79\"));};})</script>"
      ],
      "text/vnd.plotly.v1+html": [
       "<div id=\"6cb632c8-6a78-4d88-85a9-402d5b951d79\" style=\"height: 525px; width: 100%;\" class=\"plotly-graph-div\"></div><script type=\"text/javascript\">require([\"plotly\"], function(Plotly) { window.PLOTLYENV=window.PLOTLYENV || {};window.PLOTLYENV.BASE_URL=\"https://plot.ly\";\n",
       "if (document.getElementById(\"6cb632c8-6a78-4d88-85a9-402d5b951d79\")) {\n",
       "    Plotly.newPlot(\"6cb632c8-6a78-4d88-85a9-402d5b951d79\", [{\"mode\": \"lines+markers\", \"name\": \"[cH:1]1cc(cc[c:2]1[c:3]2[cH:4]c[nH+]cc2)O\", \"uid\": \"772b6f1e-5d40-4f2c-95c9-d34b37769fe3\", \"x\": [-165, -150, -135, -120, -105, -90, -75, -60, -45, -30, -15, 0, 15, 30, 45, 60, 75, 90, 105, 120, 135, 150, 165, 180], \"y\": [0.007, 0.295, 5.351, 15.089, 26.898, 33.733, 27.176, 15.416, 5.469, 0.304, 0.0, 1.172, 0.0, 0.306, 5.47, 15.417, 27.176, 33.735, 26.9, 15.092, 5.352, 0.295, 0.007, 1.173], \"type\": \"scatter\"}, {\"mode\": \"lines+markers\", \"name\": \"[cH:1]1cc(cc[c:2]1[c:3]2[cH:4]c[nH+]cc2)[O-]\", \"uid\": \"831fe325-1a1d-4fcc-9bc9-b1bf2be63cf9\", \"x\": [-165, -150, -135, -120, -105, -90, -75, -60, -45, -30, -15, 0, 15, 30, 45, 60, 75, 90, 105, 120, 135, 150, 165, 180], \"y\": [1.735, 8.646, 22.621, 43.987, 72.144, 102.957, 71.513, 43.709, 22.199, 8.363, 1.67, 0.0, 1.67, 8.366, 22.2, 43.709, 71.513, 102.957, 72.143, 43.99, 22.619, 8.645, 1.735, 0.001], \"type\": \"scatter\"}, {\"mode\": \"lines+markers\", \"name\": \"[cH:1]1cc(cc[c:2]1[c:3]2[cH:4]cncc2)O\", \"uid\": \"b749db2c-6864-41e0-a5df-c51017f9b121\", \"x\": [-165, -150, -135, -120, -105, -90, -75, -60, -45, -30, -15, 0, 15, 30, 45, 60, 75, 90, 105, 120, 135, 150, 165, 180], \"y\": [2.893, 0.0, 0.551, 4.365, 9.083, 11.215, 9.112, 4.428, 0.565, 0.004, 2.885, 5.391, 2.883, 0.002, 0.564, 4.431, 9.112, 11.216, 9.084, 4.366, 0.555, 0.0, 2.893, 5.39], \"type\": \"scatter\"}, {\"mode\": \"lines+markers\", \"name\": \"[cH:1]1cc(cc[c:2]1[c:3]2[cH:4]cncc2)[O-]\", \"uid\": \"d5ca53e6-c18a-4716-9e0a-5e03aad2ecab\", \"x\": [-165, -150, -135, -120, -105, -90, -75, -60, -45, -30, -15, 0, 15, 30, 45, 60, 75, 90, 105, 120, 135, 150, 165, 180], \"y\": [0.037, 2.127, 8.894, 20.186, 33.856, 43.373, 33.939, 20.312, 8.883, 2.067, 0.037, 0.19, 0.0, 2.097, 8.881, 20.317, 33.942, 43.373, 33.86, 20.186, 8.894, 2.129, 0.04, 0.191], \"type\": \"scatter\"}, {\"mode\": \"lines+markers\", \"name\": \"c1c[cH:1][c:2](cc1)[c:3]2[cH:4]cncc2\", \"uid\": \"8fff789e-aca3-4d95-a62f-2bff4db97574\", \"x\": [-165, -150, -135, -120, -105, -90, -75, -60, -45, -30, -15, 0, 15, 30, 45, 60, 75, 90, 105, 120, 135, 150, 165, 180], \"y\": [3.413, 0.003, 0.032, 3.383, 7.708, 9.652, 7.729, 3.431, 0.041, 0.006, 3.407, 6.209, 3.408, 0.004, 0.043, 3.432, 7.729, 9.652, 7.71, 3.382, 0.033, 0.0, 3.415, 6.21], \"type\": \"scatter\"}], {\"title\": {\"text\": \"TorsionDriveDataset 1-D Plot [spec=default]\"}, \"xaxis\": {\"range\": [-175, 190], \"title\": {\"text\": \"Dihedral Angle [degrees]\"}, \"zeroline\": false}, \"yaxis\": {\"title\": {\"text\": \"Relative Energy [kJ/mol]\"}, \"zeroline\": true}}, {\"showLink\": false, \"linkText\": \"Export to plot.ly\", \"plotlyServerURL\": \"https://plot.ly\"}); \n",
       "}\n",
       "});</script><script type=\"text/javascript\">window.addEventListener(\"resize\", function(){if (document.getElementById(\"6cb632c8-6a78-4d88-85a9-402d5b951d79\")) {window._Plotly.Plots.resize(document.getElementById(\"6cb632c8-6a78-4d88-85a9-402d5b951d79\"));};})</script>"
      ]
     },
     "metadata": {},
     "output_type": "display_data"
    }
   ],
   "source": [
    "# Visualize torsion scans\n",
    "client = ptl.FractalClient()\n",
    "phenyl_dataset = client.get_collection('TorsionDriveDataset', 'OpenFF Substituted Phenyl Set 1')\n",
    "with open('qca-submission/biphenyls_set_input.json', 'r') as f:\n",
    "    job_indices = list(json.load(f).keys())\n",
    "fluoro_phenyls = [i for i in job_indices if 'F' in i]\n",
    "phenyls = [i for i in job_indices if 'F' not in i]\n",
    "\n",
    "phenyl_dataset.visualize(fluoro_phenyls, specs='default', units='kJ/mol')\n",
    "phenyl_dataset.visualize(phenyls, specs='default', units='kJ/mol')"
   ]
  },
  {
   "cell_type": "code",
   "execution_count": 10,
   "metadata": {},
   "outputs": [
    {
     "name": "stdout",
     "output_type": "stream",
     "text": [
      "[cH:1]1cc(cc[c:2]1[c:3]2[cH:4]cncc2)O\n",
      "[cH:1]1cc(cc[c:2]1[c:3]2[cH:4]c[nH+]cc2)O\n",
      "[cH:1]1cc(cc[c:2]1[c:3]2[cH:4]cncc2)[O-]\n",
      "[cH:1]1cc(cc[c:2]1[c:3]2[cH:4]c[nH+]cc2)[O-]\n",
      "c1[cH:1][c:2](c(cc1O)F)[c:4]2[cH:3]cncc2\n",
      "c1[cH:1][c:2](c(cc1O)F)[c:4]2[cH:3]c[nH+]cc2\n",
      "c1[cH:1][c:2](c(cc1[O-])F)[c:4]2[cH:3]cncc2\n",
      "c1[cH:1][c:2](c(cc1[O-])F)[c:4]2[cH:3]c[nH+]cc2\n"
     ]
    }
   ],
   "source": [
    "# Get energies\n",
    "def get_energies(dataset, indices):\n",
    "    angles = np.arange(-165, 195, 15)\n",
    "    energies = []\n",
    "    wbos = []\n",
    "    for index in indices:\n",
    "        print(index)\n",
    "        entry = dataset.get_entry(index)\n",
    "        mapped_smiles = entry.attributes['canonical_isomeric_explicit_hydrogen_mapped_smiles']\n",
    "        mol = oechem.OEMol()\n",
    "        oechem.OESmilesToMol(mol, mapped_smiles)\n",
    "        n_atoms = mol.GetMaxAtomIdx()\n",
    "        td = dataset.get_record(index, specification='default')\n",
    "        dih = td.keywords.dihedrals[0]\n",
    "        final_energies =[td.get_final_energies(int(i))*fragmenter.utils.HARTREE_2_KJMOL for i in angles]\n",
    "        final_energies.insert(0, final_energies[-1])\n",
    "        final_energies = np.asarray(final_energies) - min(final_energies)\n",
    "        wbo = []\n",
    "        for angle in angles:\n",
    "            opt = td.get_history(int(angle))[-1].get_trajectory()[-1]\n",
    "            wiberg = np.array(opt.extras['qcvars']['WIBERG_LOWDIN_INDICES']).reshape(-1, n_atoms)\n",
    "            wbo.append(wiberg[dih[1]][dih[2]])\n",
    "        wbos.append(wbo)\n",
    "        energies.append(final_energies)\n",
    "    return energies, wbos\n",
    "\n",
    "biphenyls_sorted = [phenyls[2], phenyls[0], phenyls[3], phenyls[1]]\n",
    "biphenyls_flouro_sorted = [fluoro_phenyls[1], fluoro_phenyls[0], fluoro_phenyls[3], fluoro_phenyls[2]]\n",
    "angles = np.arange(-165, 195, 15)\n",
    "\n",
    "biphenyls_sorted_energies, bipheny_sorted_wbos = get_energies(phenyl_dataset, biphenyls_sorted)\n",
    "biphenyls_flouro_sorted_energies, biphenyls_flouro_sorted_wbos = get_energies(phenyl_dataset, biphenyls_flouro_sorted)\n"
   ]
  },
  {
   "cell_type": "code",
   "execution_count": 11,
   "metadata": {},
   "outputs": [],
   "source": [
    "def visualize_td(energies, fname):\n",
    "    angles = np.arange(-180, 195, 15)\n",
    "    plt.figure()\n",
    "    for i, energy in enumerate(energies):\n",
    "        plt.plot(angles, energy, color=colors[i])\n",
    "        plt.plot(angles, energy, '.', color=colors[i])\n",
    "    plt.xlabel('Torsion angles (degree)', fontsize=14)\n",
    "    plt.ylabel('Relative energy (kJ/mol)', fontsize=14)\n",
    "    plt.xticks(fontsize=14)\n",
    "    plt.yticks(fontsize=14)\n",
    "    plt.savefig(fname, bbox_inches='tight')"
   ]
  },
  {
   "cell_type": "code",
   "execution_count": 12,
   "metadata": {},
   "outputs": [
    {
     "data": {
      "image/png": "[encoded data removed]",
      "text/plain": [
       "<Figure size 432x288 with 1 Axes>"
      ]
     },
     "metadata": {
      "needs_background": "light"
     },
     "output_type": "display_data"
    },
    {
     "data": {
      "image/png": "[encoded data removed]",
      "text/plain": [
       "<Figure size 432x288 with 1 Axes>"
      ]
     },
     "metadata": {
      "needs_background": "light"
     },
     "output_type": "display_data"
    }
   ],
   "source": [
    "visualize_td(biphenyls_sorted_energies, 'biphenyls_torstion_scan.pdf')\n",
    "visualize_td(biphenyls_flouro_sorted_energies, 'biphenyls_fluoro_torsion_scan.pdf')"
   ]
  },
  {
   "cell_type": "code",
   "execution_count": 13,
   "metadata": {},
   "outputs": [
    {
     "data": {
      "image/png": "[encoded data removed]",
      "text/plain": [
       "<Figure size 432x288 with 1 Axes>"
      ]
     },
     "metadata": {
      "needs_background": "light"
     },
     "output_type": "display_data"
    }
   ],
   "source": [
    "for i in bipheny_sorted_wbos:\n",
    "    plt.plot(angles, i)"
   ]
  },
  {
   "cell_type": "code",
   "execution_count": 14,
   "metadata": {},
   "outputs": [],
   "source": [
    "# Fit line to wbo and max energies and visualize \n",
    "def compute_r_ci(wbos, max_energies):\n",
    "    return (stats.linregress(wbos, max_energies)[2])**2\n",
    "\n",
    "def visualize_wbo_correlation(energies, wbos, fname):\n",
    "    colors = fragmenter.chemi._KELLYS_COLORS\n",
    "    fig, ax = plt.subplots()\n",
    "    max_energies = [max(e) for e in energies]\n",
    "    slope, intercept, r_value, p_value, std_err = stats.linregress(wbos, max_energies)\n",
    "    ci_r_value = arch.bootstrap.IIDBootstrap(np.asarray(wbos), np.asarray(max_energies)).conf_int(compute_r_ci, 1000)\n",
    "    CI_95 = 1.96*std_err\n",
    "    plt.plot(np.unique(wbos), np.poly1d([slope, intercept])(np.unique(wbos)), 'black')\n",
    "    for i, (wbo, en) in enumerate(zip(wbos, max_energies)):\n",
    "        plt.scatter(wbo, en, c=colors[i], linewidths=5)\n",
    "    textstr = '\\n'.join((\n",
    "        r'slope=%.2f$_{%.2f}^{%.2f}$' % (slope, slope-CI_95, slope+CI_95),\n",
    "        r'$r^2=%.2f_{%.2f}^{%.2f}$' % (r_value**2, ci_r_value[0], ci_r_value[1])))\n",
    "        #r'P value=%.3f' % (p_value, ),\n",
    "        #r'standard error=%.2f' % (std_err, )))\n",
    "    props = dict(boxstyle='square', facecolor='white', alpha=0.5)\n",
    "    ax.text(0.05, 0.95, textstr, transform=ax.transAxes, fontsize=14,\n",
    "            verticalalignment='top', bbox=props);\n",
    "    plt.xlabel('Wiberg Bond Order', fontsize=14);\n",
    "    plt.ylabel('Energy Barrier height (kJ/mol)', fontsize=14);\n",
    "    plt.xticks(fontsize=14)\n",
    "    plt.yticks(fontsize=14)\n",
    "    plt.savefig(fname, bbox_inches='tight');"
   ]
  },
  {
   "cell_type": "code",
   "execution_count": 15,
   "metadata": {},
   "outputs": [
    {
     "name": "stderr",
     "output_type": "stream",
     "text": [
      "/Users/sternc1/anaconda3/envs/qcf/lib/python3.7/site-packages/scipy/stats/_stats_mstats_common.py:130: RuntimeWarning:\n",
      "\n",
      "invalid value encountered in double_scalars\n",
      "\n",
      "/Users/sternc1/anaconda3/envs/qcf/lib/python3.7/site-packages/scipy/stats/_stats_mstats_common.py:142: RuntimeWarning:\n",
      "\n",
      "invalid value encountered in double_scalars\n",
      "\n"
     ]
    },
    {
     "data": {
      "image/png": "[encoded data removed]",
      "text/plain": [
       "<Figure size 432x288 with 1 Axes>"
      ]
     },
     "metadata": {
      "needs_background": "light"
     },
     "output_type": "display_data"
    },
    {
     "data": {
      "image/png": "[encoded data removed]",
      "text/plain": [
       "<Figure size 432x288 with 1 Axes>"
      ]
     },
     "metadata": {
      "needs_background": "light"
     },
     "output_type": "display_data"
    }
   ],
   "source": [
    "visualize_wbo_correlation(biphenyls_sorted_energies, wbos_dep[1:5], 'biphenyl_energy_vs_wbo.pdf')\n",
    "visualize_wbo_correlation(biphenyls_flouro_sorted_energies, wbos_dep[6:10], 'biphenyl_flouro_energy_vs_wbo.pdf')"
   ]
  },
  {
   "cell_type": "code",
   "execution_count": null,
   "metadata": {},
   "outputs": [],
   "source": []
  }
 ],
 "metadata": {
  "kernelspec": {
   "display_name": "Python 3",
   "language": "python",
   "name": "python3"
  },
  "language_info": {
   "codemirror_mode": {
    "name": "ipython",
    "version": 3
   },
   "file_extension": ".py",
   "mimetype": "text/x-python",
   "name": "python",
   "nbconvert_exporter": "python",
   "pygments_lexer": "ipython3",
   "version": "3.7.2"
  }
 },
 "nbformat": 4,
 "nbformat_minor": 2
}
