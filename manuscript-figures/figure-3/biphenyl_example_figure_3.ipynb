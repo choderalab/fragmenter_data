{
 "cells": [
  {
   "cell_type": "code",
   "execution_count": 1,
   "metadata": {},
   "outputs": [
    {
     "name": "stdout",
     "output_type": "stream",
     "text": [
      "fragmenter version: 0.0.4+24.g18bdc15.dirty\n",
      "cmiles version: v0.1.5+1.gdbd63e8\n"
     ]
    }
   ],
   "source": [
    "%matplotlib inline\n",
    "import matplotlib.pyplot as plt\n",
    "import seaborn as sbn\n",
    "import json\n",
    "import numpy as np\n",
    "from scipy import stats\n",
    "\n",
    "import oenotebook as oenb\n",
    "from openeye import oequacpac, oechem, oedepict\n",
    "import qcfractal.interface as ptl\n",
    "\n",
    "import fragmenter\n",
    "import cmiles\n",
    "print('fragmenter version: {}'.format(fragmenter.__version__))\n",
    "print('cmiles version: {}'.format(cmiles.__version__))"
   ]
  },
  {
   "cell_type": "code",
   "execution_count": 2,
   "metadata": {},
   "outputs": [],
   "source": [
    "oemols = fragmenter.chemi.file_to_oemols('biphenyls.smi')"
   ]
  },
  {
   "cell_type": "code",
   "execution_count": 3,
   "metadata": {},
   "outputs": [
    {
     "name": "stdout",
     "output_type": "stream",
     "text": [
      "Warning: OEAssignPartialCharges has been deprecated please use OEAssignCharges instead!\n"
     ]
    }
   ],
   "source": [
    "bond_maps = []\n",
    "wbos_dep = []\n",
    "wbos_ind = []\n",
    "for mol in oemols:\n",
    "    cmiles.utils.add_atom_map(mol)\n",
    "    # Calculate WBO for only one conformation and ELF10 to see if WBOs differ. They should be the same for \n",
    "    # biphenlys because there is only one conformer per molecule\n",
    "    conf_independent = fragmenter.chemi.get_charges(mol, keep_confs=-1)\n",
    "    for bond in conf_independent.GetBonds():\n",
    "        if bond.IsRotor():\n",
    "            map_idx = (bond.GetBgn().GetMapIdx(), bond.GetEnd().GetMapIdx())\n",
    "            bond_maps.append(map_idx)\n",
    "            wbos_dep.append(bond.GetData('WibergBondOrder'))\n",
    "    for i, conf in enumerate(conf_independent.GetConfs()):\n",
    "        if i > 0:\n",
    "            print(mol.GetName(), i)\n",
    "            break\n",
    "        mol_copy = oechem.OEMol(conf)\n",
    "        oequacpac.OEAssignPartialCharges(mol_copy, oequacpac.OECharges_AM1BCCSym)\n",
    "        for bond in mol_copy.GetBonds():\n",
    "            if bond.IsRotor():\n",
    "                wbos_ind.append(bond.GetData('WibergBondOrder'))\n"
   ]
  },
  {
   "cell_type": "code",
   "execution_count": 4,
   "metadata": {},
   "outputs": [
    {
     "name": "stdout",
     "output_type": "stream",
     "text": [
      "Same WBOs for ELF10 and single conformer\n"
     ]
    }
   ],
   "source": [
    "if wbos_dep == wbos_ind:\n",
    "    print('Same WBOs for ELF10 and single conformer')"
   ]
  },
  {
   "cell_type": "code",
   "execution_count": 5,
   "metadata": {},
   "outputs": [],
   "source": [
    "colors = fragmenter.chemi._KELLYS_COLORS"
   ]
  },
  {
   "cell_type": "code",
   "execution_count": 6,
   "metadata": {},
   "outputs": [],
   "source": [
    "def visualize_biphenyls(mols, fname, rows, cols, bond_idx, wbos):\n",
    "    image = oedepict.OEImage(400, 200)\n",
    "    grid = oedepict.OEImageGrid(image, rows, cols)\n",
    "    opts = oedepict.OE2DMolDisplayOptions(grid.GetCellWidth(), grid.GetCellHeight(),\n",
    "                                      oedepict.OEScale_AutoScale)\n",
    "    minscale = float(\"inf\")\n",
    "    for m in mols:\n",
    "        #mol = oechem.OEMol()\n",
    "        #oechem.OESmilesToMol(mol, s)\n",
    "        #mols.append(mol)\n",
    "        oedepict.OEPrepareDepiction(m, False, True)\n",
    "        minscale = min(minscale, oedepict.OEGetMoleculeScale(m, opts))\n",
    "    \n",
    "    opts.SetScale(minscale)\n",
    "    for i, m in enumerate(zip(mols, grid.GetCells())):\n",
    "        mol = m[0]\n",
    "        cell = m[1]\n",
    "        mol.SetTitle(' ')\n",
    "        oedepict.OEPrepareDepiction(mol)\n",
    "        \n",
    "        bond = get_bond(mol, bond_idx[i])\n",
    "        atom_bond_set = oechem.OEAtomBondSet()\n",
    "        atom_bond_set.AddAtoms([bond.GetBgn(), bond.GetEnd()])\n",
    "        atom_bond_set.AddBond(bond)\n",
    "            \n",
    "        hstyle = oedepict.OEHighlightStyle_BallAndStick\n",
    "        hcolor = oechem.OEColor(colors[i])\n",
    "        \n",
    "        disp = oedepict.OE2DMolDisplay(mol, opts)\n",
    "        oedepict.OEAddHighlighting(disp, hcolor, hstyle, atom_bond_set) \n",
    "\n",
    "        bond_label = oedepict.OEHighlightLabel(\"{:.2f}\".format((wbos[i])), hcolor)\n",
    "        bond_label.SetFontScale(4.0)\n",
    "        oedepict.OEAddLabel(disp, bond_label, atom_bond_set)\n",
    "        oedepict.OERenderMolecule(cell, disp)\n",
    "    \n",
    "    oedepict.OEWriteImage(fname, image)\n",
    "    \n",
    "def get_bond(mol, bond_idx):\n",
    "    atom_bond_set = oechem.OEAtomBondSet()\n",
    "    atoms = [mol.GetAtom(oechem.OEHasMapIdx(i)) for i in bond_idx]\n",
    "    bond = mol.GetBond(atoms[0], atoms[1])\n",
    "    return bond\n",
    "    "
   ]
  },
  {
   "cell_type": "code",
   "execution_count": 7,
   "metadata": {},
   "outputs": [],
   "source": [
    "visualize_biphenyls(oemols[1:5], 'biphenyls_wbos.pdf', rows=1, cols=4, bond_idx=bond_maps[1:5], wbos=wbos_ind[1:5])\n",
    "visualize_biphenyls(oemols[6:10], 'biphenyls_fluoro_wbos.pdf', rows=1, cols=4, bond_idx=bond_maps[6:10], wbos=wbos_ind[6:10])"
   ]
  },
  {
   "cell_type": "code",
   "execution_count": 8,
   "metadata": {},
   "outputs": [
    {
     "data": {
      "text/html": [
       "<script type=\"text/javascript\">window.PlotlyConfig = {MathJaxConfig: 'local'};</script><script type=\"text/javascript\">if (window.MathJax) {MathJax.Hub.Config({SVG: {font: \"STIX-Web\"}});}</script><script>requirejs.config({paths: { 'plotly': ['https://cdn.plot.ly/plotly-latest.min']},});if(!window._Plotly) {require(['plotly'],function(plotly) {window._Plotly=plotly;});}</script>"
      ],
      "text/vnd.plotly.v1+html": [
       "<script type=\"text/javascript\">window.PlotlyConfig = {MathJaxConfig: 'local'};</script><script type=\"text/javascript\">if (window.MathJax) {MathJax.Hub.Config({SVG: {font: \"STIX-Web\"}});}</script><script>requirejs.config({paths: { 'plotly': ['https://cdn.plot.ly/plotly-latest.min']},});if(!window._Plotly) {require(['plotly'],function(plotly) {window._Plotly=plotly;});}</script>"
      ]
     },
     "metadata": {},
     "output_type": "display_data"
    },
    {
     "data": {
      "text/html": [
       "<script type=\"text/javascript\">window.PlotlyConfig = {MathJaxConfig: 'local'};</script><script type=\"text/javascript\">if (window.MathJax) {MathJax.Hub.Config({SVG: {font: \"STIX-Web\"}});}</script><script>requirejs.config({paths: { 'plotly': ['https://cdn.plot.ly/plotly-latest.min']},});if(!window._Plotly) {require(['plotly'],function(plotly) {window._Plotly=plotly;});}</script>"
      ],
      "text/vnd.plotly.v1+html": [
       "<script type=\"text/javascript\">window.PlotlyConfig = {MathJaxConfig: 'local'};</script><script type=\"text/javascript\">if (window.MathJax) {MathJax.Hub.Config({SVG: {font: \"STIX-Web\"}});}</script><script>requirejs.config({paths: { 'plotly': ['https://cdn.plot.ly/plotly-latest.min']},});if(!window._Plotly) {require(['plotly'],function(plotly) {window._Plotly=plotly;});}</script>"
      ]
     },
     "metadata": {},
     "output_type": "display_data"
    },
    {
     "data": {
      "text/html": [
       "<script type=\"text/javascript\">window.PlotlyConfig = {MathJaxConfig: 'local'};</script><script type=\"text/javascript\">if (window.MathJax) {MathJax.Hub.Config({SVG: {font: \"STIX-Web\"}});}</script><script>requirejs.config({paths: { 'plotly': ['https://cdn.plot.ly/plotly-latest.min']},});if(!window._Plotly) {require(['plotly'],function(plotly) {window._Plotly=plotly;});}</script>"
      ],
      "text/vnd.plotly.v1+html": [
       "<script type=\"text/javascript\">window.PlotlyConfig = {MathJaxConfig: 'local'};</script><script type=\"text/javascript\">if (window.MathJax) {MathJax.Hub.Config({SVG: {font: \"STIX-Web\"}});}</script><script>requirejs.config({paths: { 'plotly': ['https://cdn.plot.ly/plotly-latest.min']},});if(!window._Plotly) {require(['plotly'],function(plotly) {window._Plotly=plotly;});}</script>"
      ]
     },
     "metadata": {},
     "output_type": "display_data"
    },
    {
     "data": {
      "text/html": [
       "<script type=\"text/javascript\">window.PlotlyConfig = {MathJaxConfig: 'local'};</script><script type=\"text/javascript\">if (window.MathJax) {MathJax.Hub.Config({SVG: {font: \"STIX-Web\"}});}</script><script>requirejs.config({paths: { 'plotly': ['https://cdn.plot.ly/plotly-latest.min']},});if(!window._Plotly) {require(['plotly'],function(plotly) {window._Plotly=plotly;});}</script>"
      ],
      "text/vnd.plotly.v1+html": [
       "<script type=\"text/javascript\">window.PlotlyConfig = {MathJaxConfig: 'local'};</script><script type=\"text/javascript\">if (window.MathJax) {MathJax.Hub.Config({SVG: {font: \"STIX-Web\"}});}</script><script>requirejs.config({paths: { 'plotly': ['https://cdn.plot.ly/plotly-latest.min']},});if(!window._Plotly) {require(['plotly'],function(plotly) {window._Plotly=plotly;});}</script>"
      ]
     },
     "metadata": {},
     "output_type": "display_data"
    },
    {
     "data": {
      "text/html": [
       "<script type=\"text/javascript\">window.PlotlyConfig = {MathJaxConfig: 'local'};</script><script type=\"text/javascript\">if (window.MathJax) {MathJax.Hub.Config({SVG: {font: \"STIX-Web\"}});}</script><script>requirejs.config({paths: { 'plotly': ['https://cdn.plot.ly/plotly-latest.min']},});if(!window._Plotly) {require(['plotly'],function(plotly) {window._Plotly=plotly;});}</script>"
      ],
      "text/vnd.plotly.v1+html": [
       "<script type=\"text/javascript\">window.PlotlyConfig = {MathJaxConfig: 'local'};</script><script type=\"text/javascript\">if (window.MathJax) {MathJax.Hub.Config({SVG: {font: \"STIX-Web\"}});}</script><script>requirejs.config({paths: { 'plotly': ['https://cdn.plot.ly/plotly-latest.min']},});if(!window._Plotly) {require(['plotly'],function(plotly) {window._Plotly=plotly;});}</script>"
      ]
     },
     "metadata": {},
     "output_type": "display_data"
    },
    {
     "data": {
      "text/html": [
       "<script type=\"text/javascript\">window.PlotlyConfig = {MathJaxConfig: 'local'};</script><script type=\"text/javascript\">if (window.MathJax) {MathJax.Hub.Config({SVG: {font: \"STIX-Web\"}});}</script><script>requirejs.config({paths: { 'plotly': ['https://cdn.plot.ly/plotly-latest.min']},});if(!window._Plotly) {require(['plotly'],function(plotly) {window._Plotly=plotly;});}</script>"
      ],
      "text/vnd.plotly.v1+html": [
       "<script type=\"text/javascript\">window.PlotlyConfig = {MathJaxConfig: 'local'};</script><script type=\"text/javascript\">if (window.MathJax) {MathJax.Hub.Config({SVG: {font: \"STIX-Web\"}});}</script><script>requirejs.config({paths: { 'plotly': ['https://cdn.plot.ly/plotly-latest.min']},});if(!window._Plotly) {require(['plotly'],function(plotly) {window._Plotly=plotly;});}</script>"
      ]
     },
     "metadata": {},
     "output_type": "display_data"
    },
    {
     "data": {
      "application/vnd.plotly.v1+json": {
       "config": {
        "linkText": "Export to plot.ly",
        "plotlyServerURL": "https://plot.ly",
        "showLink": false
       },
       "data": [
        {
         "mode": "lines+markers",
         "name": "c1[cH:1][c:2](c(cc1O)F)[c:4]2[cH:3]c[nH+]cc2",
         "type": "scatter",
         "uid": "468bb8fe-e654-416c-9642-c8580e483041",
         "x": [
          -165,
          -150,
          -135,
          -120,
          -105,
          -90,
          -75,
          -60,
          -45,
          -30,
          -15,
          0,
          15,
          30,
          45,
          60,
          75,
          90,
          105,
          120,
          135,
          150,
          165,
          180
         ],
         "y": [
          0.968,
          0.001,
          4.108,
          13.232,
          24.446,
          30.62,
          24.635,
          13.868,
          4.57,
          0.086,
          0.848,
          2.991,
          0.847,
          0.086,
          4.57,
          13.869,
          24.634,
          30.621,
          24.448,
          13.234,
          4.106,
          0,
          0.969,
          2.993
         ]
        },
        {
         "mode": "lines+markers",
         "name": "c1[cH:1][c:2](c(cc1O)F)[c:4]2[cH:3]cncc2",
         "type": "scatter",
         "uid": "5be5bf38-280d-4a36-8d54-3601a40ecdcd",
         "x": [
          -165,
          -150,
          -135,
          -120,
          -105,
          -90,
          -75,
          -60,
          -45,
          -30,
          -15,
          0,
          15,
          30,
          45,
          60,
          75,
          90,
          105,
          120,
          135,
          150,
          165,
          180
         ],
         "y": [
          4.738,
          0.533,
          0.002,
          2.959,
          6.889,
          8.626,
          7.111,
          3.345,
          0.174,
          0.32,
          4.399,
          8.115,
          4.4,
          0.319,
          0.173,
          3.345,
          7.111,
          8.628,
          6.888,
          2.959,
          0,
          0.535,
          4.736,
          8.117
         ]
        },
        {
         "mode": "lines+markers",
         "name": "c1[cH:1][c:2](c(cc1[O-])F)[c:4]2[cH:3]c[nH+]cc2",
         "type": "scatter",
         "uid": "7ddc9557-7039-46ec-b000-9f07adae83bc",
         "x": [
          -165,
          -150,
          -135,
          -120,
          -105,
          -90,
          -75,
          -60,
          -45,
          -30,
          -15,
          0,
          15,
          30,
          45,
          60,
          75,
          90,
          105,
          120,
          135,
          150,
          165,
          180
         ],
         "y": [
          0.582,
          5.349,
          17.233,
          36.732,
          63.106,
          94.311,
          64.968,
          38.712,
          18.398,
          5.82,
          0.667,
          0.001,
          0.667,
          5.822,
          18.396,
          38.711,
          64.968,
          94.308,
          63.11,
          36.732,
          17.23,
          5.351,
          0.582,
          0
         ]
        },
        {
         "mode": "lines+markers",
         "name": "c1[cH:1][c:2](c(cc1[O-])F)[c:4]2[cH:3]cncc2",
         "type": "scatter",
         "uid": "2ac77599-5918-46ba-ba62-cd2e44589073",
         "x": [
          -165,
          -150,
          -135,
          -120,
          -105,
          -90,
          -75,
          -60,
          -45,
          -30,
          -15,
          0,
          15,
          30,
          45,
          60,
          75,
          90,
          105,
          120,
          135,
          150,
          165,
          180
         ],
         "y": [
          0.079,
          0.4,
          5.404,
          14.996,
          26.979,
          35.665,
          28.343,
          16.48,
          6.302,
          0.646,
          0,
          1.236,
          0,
          0.653,
          6.301,
          16.48,
          28.34,
          35.665,
          26.979,
          14.995,
          5.405,
          0.401,
          0.079,
          1.236
         ]
        },
        {
         "mode": "lines+markers",
         "name": "c1ccc([c:2]([cH:1]1)[c:3]2[cH:4]cncc2)F",
         "type": "scatter",
         "uid": "a76464b6-ae7a-4ef4-be10-ae3b2cf59e6b",
         "x": [
          -165,
          -150,
          -135,
          -120,
          -105,
          -90,
          -75,
          -60,
          -45,
          -30,
          -15,
          0,
          15,
          30,
          45,
          60,
          75,
          90,
          105,
          120,
          135,
          150,
          165,
          180
         ],
         "y": [
          5.842,
          1.064,
          0,
          2.548,
          6.159,
          7.782,
          6.376,
          2.903,
          0.13,
          0.793,
          5.463,
          9.535,
          5.463,
          0.795,
          0.13,
          2.902,
          6.378,
          7.781,
          6.159,
          2.548,
          0.001,
          1.064,
          5.842,
          9.535
         ]
        }
       ],
       "layout": {
        "title": {
         "text": "TorsionDriveDataset 1-D Plot [spec=default]"
        },
        "xaxis": {
         "range": [
          -175,
          190
         ],
         "title": {
          "text": "Dihedral Angle [degrees]"
         },
         "zeroline": false
        },
        "yaxis": {
         "title": {
          "text": "Relative Energy [kJ/mol]"
         },
         "zeroline": true
        }
       }
      },
      "text/html": [
       "<div id=\"177c3073-b70f-4b47-9175-85fb2fc249a4\" style=\"height: 525px; width: 100%;\" class=\"plotly-graph-div\"></div><script type=\"text/javascript\">require([\"plotly\"], function(Plotly) { window.PLOTLYENV=window.PLOTLYENV || {};window.PLOTLYENV.BASE_URL=\"https://plot.ly\";\n",
       "if (document.getElementById(\"177c3073-b70f-4b47-9175-85fb2fc249a4\")) {\n",
       "    Plotly.newPlot(\"177c3073-b70f-4b47-9175-85fb2fc249a4\", [{\"mode\": \"lines+markers\", \"name\": \"c1[cH:1][c:2](c(cc1O)F)[c:4]2[cH:3]c[nH+]cc2\", \"uid\": \"468bb8fe-e654-416c-9642-c8580e483041\", \"x\": [-165, -150, -135, -120, -105, -90, -75, -60, -45, -30, -15, 0, 15, 30, 45, 60, 75, 90, 105, 120, 135, 150, 165, 180], \"y\": [0.968, 0.001, 4.108, 13.232, 24.446, 30.62, 24.635, 13.868, 4.57, 0.086, 0.848, 2.991, 0.847, 0.086, 4.57, 13.869, 24.634, 30.621, 24.448, 13.234, 4.106, 0.0, 0.969, 2.993], \"type\": \"scatter\"}, {\"mode\": \"lines+markers\", \"name\": \"c1[cH:1][c:2](c(cc1O)F)[c:4]2[cH:3]cncc2\", \"uid\": \"5be5bf38-280d-4a36-8d54-3601a40ecdcd\", \"x\": [-165, -150, -135, -120, -105, -90, -75, -60, -45, -30, -15, 0, 15, 30, 45, 60, 75, 90, 105, 120, 135, 150, 165, 180], \"y\": [4.738, 0.533, 0.002, 2.959, 6.889, 8.626, 7.111, 3.345, 0.174, 0.32, 4.399, 8.115, 4.4, 0.319, 0.173, 3.345, 7.111, 8.628, 6.888, 2.959, 0.0, 0.535, 4.736, 8.117], \"type\": \"scatter\"}, {\"mode\": \"lines+markers\", \"name\": \"c1[cH:1][c:2](c(cc1[O-])F)[c:4]2[cH:3]c[nH+]cc2\", \"uid\": \"7ddc9557-7039-46ec-b000-9f07adae83bc\", \"x\": [-165, -150, -135, -120, -105, -90, -75, -60, -45, -30, -15, 0, 15, 30, 45, 60, 75, 90, 105, 120, 135, 150, 165, 180], \"y\": [0.582, 5.349, 17.233, 36.732, 63.106, 94.311, 64.968, 38.712, 18.398, 5.82, 0.667, 0.001, 0.667, 5.822, 18.396, 38.711, 64.968, 94.308, 63.11, 36.732, 17.23, 5.351, 0.582, 0.0], \"type\": \"scatter\"}, {\"mode\": \"lines+markers\", \"name\": \"c1[cH:1][c:2](c(cc1[O-])F)[c:4]2[cH:3]cncc2\", \"uid\": \"2ac77599-5918-46ba-ba62-cd2e44589073\", \"x\": [-165, -150, -135, -120, -105, -90, -75, -60, -45, -30, -15, 0, 15, 30, 45, 60, 75, 90, 105, 120, 135, 150, 165, 180], \"y\": [0.079, 0.4, 5.404, 14.996, 26.979, 35.665, 28.343, 16.48, 6.302, 0.646, 0.0, 1.236, 0.0, 0.653, 6.301, 16.48, 28.34, 35.665, 26.979, 14.995, 5.405, 0.401, 0.079, 1.236], \"type\": \"scatter\"}, {\"mode\": \"lines+markers\", \"name\": \"c1ccc([c:2]([cH:1]1)[c:3]2[cH:4]cncc2)F\", \"uid\": \"a76464b6-ae7a-4ef4-be10-ae3b2cf59e6b\", \"x\": [-165, -150, -135, -120, -105, -90, -75, -60, -45, -30, -15, 0, 15, 30, 45, 60, 75, 90, 105, 120, 135, 150, 165, 180], \"y\": [5.842, 1.064, 0.0, 2.548, 6.159, 7.782, 6.376, 2.903, 0.13, 0.793, 5.463, 9.535, 5.463, 0.795, 0.13, 2.902, 6.378, 7.781, 6.159, 2.548, 0.001, 1.064, 5.842, 9.535], \"type\": \"scatter\"}], {\"title\": {\"text\": \"TorsionDriveDataset 1-D Plot [spec=default]\"}, \"xaxis\": {\"range\": [-175, 190], \"title\": {\"text\": \"Dihedral Angle [degrees]\"}, \"zeroline\": false}, \"yaxis\": {\"title\": {\"text\": \"Relative Energy [kJ/mol]\"}, \"zeroline\": true}}, {\"showLink\": false, \"linkText\": \"Export to plot.ly\", \"plotlyServerURL\": \"https://plot.ly\"}); \n",
       "}\n",
       "});</script><script type=\"text/javascript\">window.addEventListener(\"resize\", function(){if (document.getElementById(\"177c3073-b70f-4b47-9175-85fb2fc249a4\")) {window._Plotly.Plots.resize(document.getElementById(\"177c3073-b70f-4b47-9175-85fb2fc249a4\"));};})</script>"
      ],
      "text/vnd.plotly.v1+html": [
       "<div id=\"177c3073-b70f-4b47-9175-85fb2fc249a4\" style=\"height: 525px; width: 100%;\" class=\"plotly-graph-div\"></div><script type=\"text/javascript\">require([\"plotly\"], function(Plotly) { window.PLOTLYENV=window.PLOTLYENV || {};window.PLOTLYENV.BASE_URL=\"https://plot.ly\";\n",
       "if (document.getElementById(\"177c3073-b70f-4b47-9175-85fb2fc249a4\")) {\n",
       "    Plotly.newPlot(\"177c3073-b70f-4b47-9175-85fb2fc249a4\", [{\"mode\": \"lines+markers\", \"name\": \"c1[cH:1][c:2](c(cc1O)F)[c:4]2[cH:3]c[nH+]cc2\", \"uid\": \"468bb8fe-e654-416c-9642-c8580e483041\", \"x\": [-165, -150, -135, -120, -105, -90, -75, -60, -45, -30, -15, 0, 15, 30, 45, 60, 75, 90, 105, 120, 135, 150, 165, 180], \"y\": [0.968, 0.001, 4.108, 13.232, 24.446, 30.62, 24.635, 13.868, 4.57, 0.086, 0.848, 2.991, 0.847, 0.086, 4.57, 13.869, 24.634, 30.621, 24.448, 13.234, 4.106, 0.0, 0.969, 2.993], \"type\": \"scatter\"}, {\"mode\": \"lines+markers\", \"name\": \"c1[cH:1][c:2](c(cc1O)F)[c:4]2[cH:3]cncc2\", \"uid\": \"5be5bf38-280d-4a36-8d54-3601a40ecdcd\", \"x\": [-165, -150, -135, -120, -105, -90, -75, -60, -45, -30, -15, 0, 15, 30, 45, 60, 75, 90, 105, 120, 135, 150, 165, 180], \"y\": [4.738, 0.533, 0.002, 2.959, 6.889, 8.626, 7.111, 3.345, 0.174, 0.32, 4.399, 8.115, 4.4, 0.319, 0.173, 3.345, 7.111, 8.628, 6.888, 2.959, 0.0, 0.535, 4.736, 8.117], \"type\": \"scatter\"}, {\"mode\": \"lines+markers\", \"name\": \"c1[cH:1][c:2](c(cc1[O-])F)[c:4]2[cH:3]c[nH+]cc2\", \"uid\": \"7ddc9557-7039-46ec-b000-9f07adae83bc\", \"x\": [-165, -150, -135, -120, -105, -90, -75, -60, -45, -30, -15, 0, 15, 30, 45, 60, 75, 90, 105, 120, 135, 150, 165, 180], \"y\": [0.582, 5.349, 17.233, 36.732, 63.106, 94.311, 64.968, 38.712, 18.398, 5.82, 0.667, 0.001, 0.667, 5.822, 18.396, 38.711, 64.968, 94.308, 63.11, 36.732, 17.23, 5.351, 0.582, 0.0], \"type\": \"scatter\"}, {\"mode\": \"lines+markers\", \"name\": \"c1[cH:1][c:2](c(cc1[O-])F)[c:4]2[cH:3]cncc2\", \"uid\": \"2ac77599-5918-46ba-ba62-cd2e44589073\", \"x\": [-165, -150, -135, -120, -105, -90, -75, -60, -45, -30, -15, 0, 15, 30, 45, 60, 75, 90, 105, 120, 135, 150, 165, 180], \"y\": [0.079, 0.4, 5.404, 14.996, 26.979, 35.665, 28.343, 16.48, 6.302, 0.646, 0.0, 1.236, 0.0, 0.653, 6.301, 16.48, 28.34, 35.665, 26.979, 14.995, 5.405, 0.401, 0.079, 1.236], \"type\": \"scatter\"}, {\"mode\": \"lines+markers\", \"name\": \"c1ccc([c:2]([cH:1]1)[c:3]2[cH:4]cncc2)F\", \"uid\": \"a76464b6-ae7a-4ef4-be10-ae3b2cf59e6b\", \"x\": [-165, -150, -135, -120, -105, -90, -75, -60, -45, -30, -15, 0, 15, 30, 45, 60, 75, 90, 105, 120, 135, 150, 165, 180], \"y\": [5.842, 1.064, 0.0, 2.548, 6.159, 7.782, 6.376, 2.903, 0.13, 0.793, 5.463, 9.535, 5.463, 0.795, 0.13, 2.902, 6.378, 7.781, 6.159, 2.548, 0.001, 1.064, 5.842, 9.535], \"type\": \"scatter\"}], {\"title\": {\"text\": \"TorsionDriveDataset 1-D Plot [spec=default]\"}, \"xaxis\": {\"range\": [-175, 190], \"title\": {\"text\": \"Dihedral Angle [degrees]\"}, \"zeroline\": false}, \"yaxis\": {\"title\": {\"text\": \"Relative Energy [kJ/mol]\"}, \"zeroline\": true}}, {\"showLink\": false, \"linkText\": \"Export to plot.ly\", \"plotlyServerURL\": \"https://plot.ly\"}); \n",
       "}\n",
       "});</script><script type=\"text/javascript\">window.addEventListener(\"resize\", function(){if (document.getElementById(\"177c3073-b70f-4b47-9175-85fb2fc249a4\")) {window._Plotly.Plots.resize(document.getElementById(\"177c3073-b70f-4b47-9175-85fb2fc249a4\"));};})</script>"
      ]
     },
     "metadata": {},
     "output_type": "display_data"
    },
    {
     "data": {
      "text/html": [
       "<script type=\"text/javascript\">window.PlotlyConfig = {MathJaxConfig: 'local'};</script><script type=\"text/javascript\">if (window.MathJax) {MathJax.Hub.Config({SVG: {font: \"STIX-Web\"}});}</script><script>requirejs.config({paths: { 'plotly': ['https://cdn.plot.ly/plotly-latest.min']},});if(!window._Plotly) {require(['plotly'],function(plotly) {window._Plotly=plotly;});}</script>"
      ],
      "text/vnd.plotly.v1+html": [
       "<script type=\"text/javascript\">window.PlotlyConfig = {MathJaxConfig: 'local'};</script><script type=\"text/javascript\">if (window.MathJax) {MathJax.Hub.Config({SVG: {font: \"STIX-Web\"}});}</script><script>requirejs.config({paths: { 'plotly': ['https://cdn.plot.ly/plotly-latest.min']},});if(!window._Plotly) {require(['plotly'],function(plotly) {window._Plotly=plotly;});}</script>"
      ]
     },
     "metadata": {},
     "output_type": "display_data"
    },
    {
     "data": {
      "text/html": [
       "<script type=\"text/javascript\">window.PlotlyConfig = {MathJaxConfig: 'local'};</script><script type=\"text/javascript\">if (window.MathJax) {MathJax.Hub.Config({SVG: {font: \"STIX-Web\"}});}</script><script>requirejs.config({paths: { 'plotly': ['https://cdn.plot.ly/plotly-latest.min']},});if(!window._Plotly) {require(['plotly'],function(plotly) {window._Plotly=plotly;});}</script>"
      ],
      "text/vnd.plotly.v1+html": [
       "<script type=\"text/javascript\">window.PlotlyConfig = {MathJaxConfig: 'local'};</script><script type=\"text/javascript\">if (window.MathJax) {MathJax.Hub.Config({SVG: {font: \"STIX-Web\"}});}</script><script>requirejs.config({paths: { 'plotly': ['https://cdn.plot.ly/plotly-latest.min']},});if(!window._Plotly) {require(['plotly'],function(plotly) {window._Plotly=plotly;});}</script>"
      ]
     },
     "metadata": {},
     "output_type": "display_data"
    },
    {
     "data": {
      "text/html": [
       "<script type=\"text/javascript\">window.PlotlyConfig = {MathJaxConfig: 'local'};</script><script type=\"text/javascript\">if (window.MathJax) {MathJax.Hub.Config({SVG: {font: \"STIX-Web\"}});}</script><script>requirejs.config({paths: { 'plotly': ['https://cdn.plot.ly/plotly-latest.min']},});if(!window._Plotly) {require(['plotly'],function(plotly) {window._Plotly=plotly;});}</script>"
      ],
      "text/vnd.plotly.v1+html": [
       "<script type=\"text/javascript\">window.PlotlyConfig = {MathJaxConfig: 'local'};</script><script type=\"text/javascript\">if (window.MathJax) {MathJax.Hub.Config({SVG: {font: \"STIX-Web\"}});}</script><script>requirejs.config({paths: { 'plotly': ['https://cdn.plot.ly/plotly-latest.min']},});if(!window._Plotly) {require(['plotly'],function(plotly) {window._Plotly=plotly;});}</script>"
      ]
     },
     "metadata": {},
     "output_type": "display_data"
    },
    {
     "data": {
      "text/html": [
       "<script type=\"text/javascript\">window.PlotlyConfig = {MathJaxConfig: 'local'};</script><script type=\"text/javascript\">if (window.MathJax) {MathJax.Hub.Config({SVG: {font: \"STIX-Web\"}});}</script><script>requirejs.config({paths: { 'plotly': ['https://cdn.plot.ly/plotly-latest.min']},});if(!window._Plotly) {require(['plotly'],function(plotly) {window._Plotly=plotly;});}</script>"
      ],
      "text/vnd.plotly.v1+html": [
       "<script type=\"text/javascript\">window.PlotlyConfig = {MathJaxConfig: 'local'};</script><script type=\"text/javascript\">if (window.MathJax) {MathJax.Hub.Config({SVG: {font: \"STIX-Web\"}});}</script><script>requirejs.config({paths: { 'plotly': ['https://cdn.plot.ly/plotly-latest.min']},});if(!window._Plotly) {require(['plotly'],function(plotly) {window._Plotly=plotly;});}</script>"
      ]
     },
     "metadata": {},
     "output_type": "display_data"
    },
    {
     "data": {
      "text/html": [
       "<script type=\"text/javascript\">window.PlotlyConfig = {MathJaxConfig: 'local'};</script><script type=\"text/javascript\">if (window.MathJax) {MathJax.Hub.Config({SVG: {font: \"STIX-Web\"}});}</script><script>requirejs.config({paths: { 'plotly': ['https://cdn.plot.ly/plotly-latest.min']},});if(!window._Plotly) {require(['plotly'],function(plotly) {window._Plotly=plotly;});}</script>"
      ],
      "text/vnd.plotly.v1+html": [
       "<script type=\"text/javascript\">window.PlotlyConfig = {MathJaxConfig: 'local'};</script><script type=\"text/javascript\">if (window.MathJax) {MathJax.Hub.Config({SVG: {font: \"STIX-Web\"}});}</script><script>requirejs.config({paths: { 'plotly': ['https://cdn.plot.ly/plotly-latest.min']},});if(!window._Plotly) {require(['plotly'],function(plotly) {window._Plotly=plotly;});}</script>"
      ]
     },
     "metadata": {},
     "output_type": "display_data"
    },
    {
     "data": {
      "text/html": [
       "<script type=\"text/javascript\">window.PlotlyConfig = {MathJaxConfig: 'local'};</script><script type=\"text/javascript\">if (window.MathJax) {MathJax.Hub.Config({SVG: {font: \"STIX-Web\"}});}</script><script>requirejs.config({paths: { 'plotly': ['https://cdn.plot.ly/plotly-latest.min']},});if(!window._Plotly) {require(['plotly'],function(plotly) {window._Plotly=plotly;});}</script>"
      ],
      "text/vnd.plotly.v1+html": [
       "<script type=\"text/javascript\">window.PlotlyConfig = {MathJaxConfig: 'local'};</script><script type=\"text/javascript\">if (window.MathJax) {MathJax.Hub.Config({SVG: {font: \"STIX-Web\"}});}</script><script>requirejs.config({paths: { 'plotly': ['https://cdn.plot.ly/plotly-latest.min']},});if(!window._Plotly) {require(['plotly'],function(plotly) {window._Plotly=plotly;});}</script>"
      ]
     },
     "metadata": {},
     "output_type": "display_data"
    },
    {
     "data": {
      "application/vnd.plotly.v1+json": {
       "config": {
        "linkText": "Export to plot.ly",
        "plotlyServerURL": "https://plot.ly",
        "showLink": false
       },
       "data": [
        {
         "mode": "lines+markers",
         "name": "[cH:1]1cc(cc[c:2]1[c:3]2[cH:4]c[nH+]cc2)O",
         "type": "scatter",
         "uid": "0aa7828b-8c6c-4e9e-ab3f-c26ba73b204b",
         "x": [
          -165,
          -150,
          -135,
          -120,
          -105,
          -90,
          -75,
          -60,
          -45,
          -30,
          -15,
          0,
          15,
          30,
          45,
          60,
          75,
          90,
          105,
          120,
          135,
          150,
          165,
          180
         ],
         "y": [
          0.007,
          0.295,
          5.351,
          15.089,
          26.898,
          33.733,
          27.176,
          15.416,
          5.469,
          0.304,
          0,
          1.172,
          0,
          0.306,
          5.47,
          15.417,
          27.176,
          33.735,
          26.9,
          15.092,
          5.352,
          0.295,
          0.007,
          1.173
         ]
        },
        {
         "mode": "lines+markers",
         "name": "[cH:1]1cc(cc[c:2]1[c:3]2[cH:4]c[nH+]cc2)[O-]",
         "type": "scatter",
         "uid": "5b7c99d4-1935-404e-aeb9-5541df9fa833",
         "x": [
          -165,
          -150,
          -135,
          -120,
          -105,
          -90,
          -75,
          -60,
          -45,
          -30,
          -15,
          0,
          15,
          30,
          45,
          60,
          75,
          90,
          105,
          120,
          135,
          150,
          165,
          180
         ],
         "y": [
          1.735,
          8.646,
          22.621,
          43.987,
          72.144,
          102.957,
          71.513,
          43.709,
          22.199,
          8.363,
          1.67,
          0,
          1.67,
          8.366,
          22.2,
          43.709,
          71.513,
          102.957,
          72.143,
          43.99,
          22.619,
          8.645,
          1.735,
          0.001
         ]
        },
        {
         "mode": "lines+markers",
         "name": "[cH:1]1cc(cc[c:2]1[c:3]2[cH:4]cncc2)O",
         "type": "scatter",
         "uid": "6d86acc9-cf76-49df-b329-eb9a48e5f0c1",
         "x": [
          -165,
          -150,
          -135,
          -120,
          -105,
          -90,
          -75,
          -60,
          -45,
          -30,
          -15,
          0,
          15,
          30,
          45,
          60,
          75,
          90,
          105,
          120,
          135,
          150,
          165,
          180
         ],
         "y": [
          2.893,
          0,
          0.551,
          4.365,
          9.083,
          11.215,
          9.112,
          4.428,
          0.565,
          0.004,
          2.885,
          5.391,
          2.883,
          0.002,
          0.564,
          4.431,
          9.112,
          11.216,
          9.084,
          4.366,
          0.555,
          0,
          2.893,
          5.39
         ]
        },
        {
         "mode": "lines+markers",
         "name": "[cH:1]1cc(cc[c:2]1[c:3]2[cH:4]cncc2)[O-]",
         "type": "scatter",
         "uid": "bde00fb1-1718-4653-84cb-9a1d6ddc6fac",
         "x": [
          -165,
          -150,
          -135,
          -120,
          -105,
          -90,
          -75,
          -60,
          -45,
          -30,
          -15,
          0,
          15,
          30,
          45,
          60,
          75,
          90,
          105,
          120,
          135,
          150,
          165,
          180
         ],
         "y": [
          0.037,
          2.127,
          8.894,
          20.186,
          33.856,
          43.373,
          33.939,
          20.312,
          8.883,
          2.067,
          0.037,
          0.19,
          0,
          2.097,
          8.881,
          20.317,
          33.942,
          43.373,
          33.86,
          20.186,
          8.894,
          2.129,
          0.04,
          0.191
         ]
        },
        {
         "mode": "lines+markers",
         "name": "c1c[cH:1][c:2](cc1)[c:3]2[cH:4]cncc2",
         "type": "scatter",
         "uid": "df1bb0cc-0755-49ce-8c5b-ee6c59efa611",
         "x": [
          -165,
          -150,
          -135,
          -120,
          -105,
          -90,
          -75,
          -60,
          -45,
          -30,
          -15,
          0,
          15,
          30,
          45,
          60,
          75,
          90,
          105,
          120,
          135,
          150,
          165,
          180
         ],
         "y": [
          3.413,
          0.003,
          0.032,
          3.383,
          7.708,
          9.652,
          7.729,
          3.431,
          0.041,
          0.006,
          3.407,
          6.209,
          3.408,
          0.004,
          0.043,
          3.432,
          7.729,
          9.652,
          7.71,
          3.382,
          0.033,
          0,
          3.415,
          6.21
         ]
        }
       ],
       "layout": {
        "title": {
         "text": "TorsionDriveDataset 1-D Plot [spec=default]"
        },
        "xaxis": {
         "range": [
          -175,
          190
         ],
         "title": {
          "text": "Dihedral Angle [degrees]"
         },
         "zeroline": false
        },
        "yaxis": {
         "title": {
          "text": "Relative Energy [kJ/mol]"
         },
         "zeroline": true
        }
       }
      },
      "text/html": [
       "<div id=\"b0e64733-4070-4609-a706-fe6e516d7ff1\" style=\"height: 525px; width: 100%;\" class=\"plotly-graph-div\"></div><script type=\"text/javascript\">require([\"plotly\"], function(Plotly) { window.PLOTLYENV=window.PLOTLYENV || {};window.PLOTLYENV.BASE_URL=\"https://plot.ly\";\n",
       "if (document.getElementById(\"b0e64733-4070-4609-a706-fe6e516d7ff1\")) {\n",
       "    Plotly.newPlot(\"b0e64733-4070-4609-a706-fe6e516d7ff1\", [{\"mode\": \"lines+markers\", \"name\": \"[cH:1]1cc(cc[c:2]1[c:3]2[cH:4]c[nH+]cc2)O\", \"uid\": \"0aa7828b-8c6c-4e9e-ab3f-c26ba73b204b\", \"x\": [-165, -150, -135, -120, -105, -90, -75, -60, -45, -30, -15, 0, 15, 30, 45, 60, 75, 90, 105, 120, 135, 150, 165, 180], \"y\": [0.007, 0.295, 5.351, 15.089, 26.898, 33.733, 27.176, 15.416, 5.469, 0.304, 0.0, 1.172, 0.0, 0.306, 5.47, 15.417, 27.176, 33.735, 26.9, 15.092, 5.352, 0.295, 0.007, 1.173], \"type\": \"scatter\"}, {\"mode\": \"lines+markers\", \"name\": \"[cH:1]1cc(cc[c:2]1[c:3]2[cH:4]c[nH+]cc2)[O-]\", \"uid\": \"5b7c99d4-1935-404e-aeb9-5541df9fa833\", \"x\": [-165, -150, -135, -120, -105, -90, -75, -60, -45, -30, -15, 0, 15, 30, 45, 60, 75, 90, 105, 120, 135, 150, 165, 180], \"y\": [1.735, 8.646, 22.621, 43.987, 72.144, 102.957, 71.513, 43.709, 22.199, 8.363, 1.67, 0.0, 1.67, 8.366, 22.2, 43.709, 71.513, 102.957, 72.143, 43.99, 22.619, 8.645, 1.735, 0.001], \"type\": \"scatter\"}, {\"mode\": \"lines+markers\", \"name\": \"[cH:1]1cc(cc[c:2]1[c:3]2[cH:4]cncc2)O\", \"uid\": \"6d86acc9-cf76-49df-b329-eb9a48e5f0c1\", \"x\": [-165, -150, -135, -120, -105, -90, -75, -60, -45, -30, -15, 0, 15, 30, 45, 60, 75, 90, 105, 120, 135, 150, 165, 180], \"y\": [2.893, 0.0, 0.551, 4.365, 9.083, 11.215, 9.112, 4.428, 0.565, 0.004, 2.885, 5.391, 2.883, 0.002, 0.564, 4.431, 9.112, 11.216, 9.084, 4.366, 0.555, 0.0, 2.893, 5.39], \"type\": \"scatter\"}, {\"mode\": \"lines+markers\", \"name\": \"[cH:1]1cc(cc[c:2]1[c:3]2[cH:4]cncc2)[O-]\", \"uid\": \"bde00fb1-1718-4653-84cb-9a1d6ddc6fac\", \"x\": [-165, -150, -135, -120, -105, -90, -75, -60, -45, -30, -15, 0, 15, 30, 45, 60, 75, 90, 105, 120, 135, 150, 165, 180], \"y\": [0.037, 2.127, 8.894, 20.186, 33.856, 43.373, 33.939, 20.312, 8.883, 2.067, 0.037, 0.19, 0.0, 2.097, 8.881, 20.317, 33.942, 43.373, 33.86, 20.186, 8.894, 2.129, 0.04, 0.191], \"type\": \"scatter\"}, {\"mode\": \"lines+markers\", \"name\": \"c1c[cH:1][c:2](cc1)[c:3]2[cH:4]cncc2\", \"uid\": \"df1bb0cc-0755-49ce-8c5b-ee6c59efa611\", \"x\": [-165, -150, -135, -120, -105, -90, -75, -60, -45, -30, -15, 0, 15, 30, 45, 60, 75, 90, 105, 120, 135, 150, 165, 180], \"y\": [3.413, 0.003, 0.032, 3.383, 7.708, 9.652, 7.729, 3.431, 0.041, 0.006, 3.407, 6.209, 3.408, 0.004, 0.043, 3.432, 7.729, 9.652, 7.71, 3.382, 0.033, 0.0, 3.415, 6.21], \"type\": \"scatter\"}], {\"title\": {\"text\": \"TorsionDriveDataset 1-D Plot [spec=default]\"}, \"xaxis\": {\"range\": [-175, 190], \"title\": {\"text\": \"Dihedral Angle [degrees]\"}, \"zeroline\": false}, \"yaxis\": {\"title\": {\"text\": \"Relative Energy [kJ/mol]\"}, \"zeroline\": true}}, {\"showLink\": false, \"linkText\": \"Export to plot.ly\", \"plotlyServerURL\": \"https://plot.ly\"}); \n",
       "}\n",
       "});</script><script type=\"text/javascript\">window.addEventListener(\"resize\", function(){if (document.getElementById(\"b0e64733-4070-4609-a706-fe6e516d7ff1\")) {window._Plotly.Plots.resize(document.getElementById(\"b0e64733-4070-4609-a706-fe6e516d7ff1\"));};})</script>"
      ],
      "text/vnd.plotly.v1+html": [
       "<div id=\"b0e64733-4070-4609-a706-fe6e516d7ff1\" style=\"height: 525px; width: 100%;\" class=\"plotly-graph-div\"></div><script type=\"text/javascript\">require([\"plotly\"], function(Plotly) { window.PLOTLYENV=window.PLOTLYENV || {};window.PLOTLYENV.BASE_URL=\"https://plot.ly\";\n",
       "if (document.getElementById(\"b0e64733-4070-4609-a706-fe6e516d7ff1\")) {\n",
       "    Plotly.newPlot(\"b0e64733-4070-4609-a706-fe6e516d7ff1\", [{\"mode\": \"lines+markers\", \"name\": \"[cH:1]1cc(cc[c:2]1[c:3]2[cH:4]c[nH+]cc2)O\", \"uid\": \"0aa7828b-8c6c-4e9e-ab3f-c26ba73b204b\", \"x\": [-165, -150, -135, -120, -105, -90, -75, -60, -45, -30, -15, 0, 15, 30, 45, 60, 75, 90, 105, 120, 135, 150, 165, 180], \"y\": [0.007, 0.295, 5.351, 15.089, 26.898, 33.733, 27.176, 15.416, 5.469, 0.304, 0.0, 1.172, 0.0, 0.306, 5.47, 15.417, 27.176, 33.735, 26.9, 15.092, 5.352, 0.295, 0.007, 1.173], \"type\": \"scatter\"}, {\"mode\": \"lines+markers\", \"name\": \"[cH:1]1cc(cc[c:2]1[c:3]2[cH:4]c[nH+]cc2)[O-]\", \"uid\": \"5b7c99d4-1935-404e-aeb9-5541df9fa833\", \"x\": [-165, -150, -135, -120, -105, -90, -75, -60, -45, -30, -15, 0, 15, 30, 45, 60, 75, 90, 105, 120, 135, 150, 165, 180], \"y\": [1.735, 8.646, 22.621, 43.987, 72.144, 102.957, 71.513, 43.709, 22.199, 8.363, 1.67, 0.0, 1.67, 8.366, 22.2, 43.709, 71.513, 102.957, 72.143, 43.99, 22.619, 8.645, 1.735, 0.001], \"type\": \"scatter\"}, {\"mode\": \"lines+markers\", \"name\": \"[cH:1]1cc(cc[c:2]1[c:3]2[cH:4]cncc2)O\", \"uid\": \"6d86acc9-cf76-49df-b329-eb9a48e5f0c1\", \"x\": [-165, -150, -135, -120, -105, -90, -75, -60, -45, -30, -15, 0, 15, 30, 45, 60, 75, 90, 105, 120, 135, 150, 165, 180], \"y\": [2.893, 0.0, 0.551, 4.365, 9.083, 11.215, 9.112, 4.428, 0.565, 0.004, 2.885, 5.391, 2.883, 0.002, 0.564, 4.431, 9.112, 11.216, 9.084, 4.366, 0.555, 0.0, 2.893, 5.39], \"type\": \"scatter\"}, {\"mode\": \"lines+markers\", \"name\": \"[cH:1]1cc(cc[c:2]1[c:3]2[cH:4]cncc2)[O-]\", \"uid\": \"bde00fb1-1718-4653-84cb-9a1d6ddc6fac\", \"x\": [-165, -150, -135, -120, -105, -90, -75, -60, -45, -30, -15, 0, 15, 30, 45, 60, 75, 90, 105, 120, 135, 150, 165, 180], \"y\": [0.037, 2.127, 8.894, 20.186, 33.856, 43.373, 33.939, 20.312, 8.883, 2.067, 0.037, 0.19, 0.0, 2.097, 8.881, 20.317, 33.942, 43.373, 33.86, 20.186, 8.894, 2.129, 0.04, 0.191], \"type\": \"scatter\"}, {\"mode\": \"lines+markers\", \"name\": \"c1c[cH:1][c:2](cc1)[c:3]2[cH:4]cncc2\", \"uid\": \"df1bb0cc-0755-49ce-8c5b-ee6c59efa611\", \"x\": [-165, -150, -135, -120, -105, -90, -75, -60, -45, -30, -15, 0, 15, 30, 45, 60, 75, 90, 105, 120, 135, 150, 165, 180], \"y\": [3.413, 0.003, 0.032, 3.383, 7.708, 9.652, 7.729, 3.431, 0.041, 0.006, 3.407, 6.209, 3.408, 0.004, 0.043, 3.432, 7.729, 9.652, 7.71, 3.382, 0.033, 0.0, 3.415, 6.21], \"type\": \"scatter\"}], {\"title\": {\"text\": \"TorsionDriveDataset 1-D Plot [spec=default]\"}, \"xaxis\": {\"range\": [-175, 190], \"title\": {\"text\": \"Dihedral Angle [degrees]\"}, \"zeroline\": false}, \"yaxis\": {\"title\": {\"text\": \"Relative Energy [kJ/mol]\"}, \"zeroline\": true}}, {\"showLink\": false, \"linkText\": \"Export to plot.ly\", \"plotlyServerURL\": \"https://plot.ly\"}); \n",
       "}\n",
       "});</script><script type=\"text/javascript\">window.addEventListener(\"resize\", function(){if (document.getElementById(\"b0e64733-4070-4609-a706-fe6e516d7ff1\")) {window._Plotly.Plots.resize(document.getElementById(\"b0e64733-4070-4609-a706-fe6e516d7ff1\"));};})</script>"
      ]
     },
     "metadata": {},
     "output_type": "display_data"
    }
   ],
   "source": [
    "# Visualize torsion scans\n",
    "client = ptl.FractalClient()\n",
    "phenyl_dataset = client.get_collection('TorsionDriveDataset', 'OpenFF Substituted Phenyl Set 1')\n",
    "with open('qca-submission/biphenyls_set_input.json', 'r') as f:\n",
    "    job_indices = list(json.load(f).keys())\n",
    "fluoro_phenyls = [i for i in job_indices if 'F' in i]\n",
    "phenyls = [i for i in job_indices if 'F' not in i]\n",
    "\n",
    "phenyl_dataset.visualize(fluoro_phenyls, specs='default', units='kJ/mol')\n",
    "phenyl_dataset.visualize(phenyls, specs='default', units='kJ/mol')"
   ]
  },
  {
   "cell_type": "code",
   "execution_count": 9,
   "metadata": {},
   "outputs": [],
   "source": [
    "# Get energies\n",
    "def get_energies(dataset, indices):\n",
    "    angles = np.arange(-165, 195, 15)\n",
    "    energies = []\n",
    "    for index in indices:\n",
    "        td = dataset.get_record(index, specification='default')\n",
    "        final_energies =[td.get_final_energies(int(i))*fragmenter.utils.HARTREE_2_KJMOL for i in angles]\n",
    "        final_energies.insert(0, final_energies[-1])\n",
    "        final_energies = np.asarray(final_energies) - min(final_energies)\n",
    "        energies.append(final_energies)\n",
    "    return energies\n",
    "\n",
    "biphenyls_sorted = [phenyls[2], phenyls[0], phenyls[3], phenyls[1]]\n",
    "biphenyls_flouro_sorted = [fluoro_phenyls[1], fluoro_phenyls[0], fluoro_phenyls[3], fluoro_phenyls[2]]\n",
    "angles = np.arange(-165, 195, 15)\n",
    "\n",
    "biphenyls_sorted_energies = get_energies(phenyl_dataset, biphenyls_sorted)\n",
    "biphenyls_flouro_sorted_energies = get_energies(phenyl_dataset, biphenyls_flouro_sorted)\n"
   ]
  },
  {
   "cell_type": "code",
   "execution_count": 14,
   "metadata": {},
   "outputs": [],
   "source": [
    "def visualize_td(energies, fname):\n",
    "    angles = np.arange(-180, 195, 15)\n",
    "    plt.figure()\n",
    "    for i, energy in enumerate(energies):\n",
    "        plt.plot(angles, energy, color=colors[i])\n",
    "        plt.plot(angles, energy, '.', color=colors[i])\n",
    "    plt.xlabel('Torsion angles (degree)', fontsize=14)\n",
    "    plt.ylabel('Relative energy (kJ/mol)', fontsize=14)\n",
    "    plt.xticks(fontsize=14)\n",
    "    plt.yticks(fontsize=14)\n",
    "    plt.savefig(fname, bbox_inches='tight')"
   ]
  },
  {
   "cell_type": "code",
   "execution_count": 15,
   "metadata": {},
   "outputs": [
    {
     "data": {
      "image/png": "[encoded data removed]",
      "text/plain": [
       "<Figure size 432x288 with 1 Axes>"
      ]
     },
     "metadata": {
      "needs_background": "light"
     },
     "output_type": "display_data"
    },
    {
     "data": {
      "image/png": "[encoded data removed]",
      "text/plain": [
       "<Figure size 432x288 with 1 Axes>"
      ]
     },
     "metadata": {
      "needs_background": "light"
     },
     "output_type": "display_data"
    }
   ],
   "source": [
    "visualize_td(biphenyls_sorted_energies, 'biphenyls_torstion_scan.pdf')\n",
    "visualize_td(biphenyls_flouro_sorted_energies, 'biphenyls_fluoro_torsion_scan.pdf')"
   ]
  },
  {
   "cell_type": "code",
   "execution_count": 18,
   "metadata": {},
   "outputs": [],
   "source": [
    "# Fit line to wbo and max energies and visualize \n",
    "def visualize_wbo_correlation(energies, wbos, fname):\n",
    "    colors = fragmenter.chemi._KELLYS_COLORS\n",
    "    fig, ax = plt.subplots()\n",
    "    max_energies = [max(e) for e in energies]\n",
    "    slope, intercept, r_value, p_value, std_err = stats.linregress(wbos, max_energies)\n",
    "    CI_95 = 1.96*std_err\n",
    "    plt.plot(np.unique(wbos), np.poly1d([slope, intercept])(np.unique(wbos)), 'black')\n",
    "    for i, (wbo, en) in enumerate(zip(wbos, max_energies)):\n",
    "        plt.scatter(wbo, en, c=colors[i], linewidths=5)\n",
    "    textstr = '\\n'.join((\n",
    "        r'slope=%.2f $\\pm$ %.2f' % (slope, CI_95),\n",
    "        r'$r^2=%.2f$' % (r_value**2, )))\n",
    "        #r'P value=%.3f' % (p_value, ),\n",
    "        #r'standard error=%.2f' % (std_err, )))\n",
    "    props = dict(boxstyle='square', facecolor='white', alpha=0.5)\n",
    "    ax.text(0.05, 0.95, textstr, transform=ax.transAxes, fontsize=14,\n",
    "            verticalalignment='top', bbox=props);\n",
    "    plt.xlabel('Wiberg Bond Order', fontsize=14);\n",
    "    plt.ylabel('Energy Barrier height (kJ/mol)', fontsize=14);\n",
    "    plt.xticks(fontsize=14)\n",
    "    plt.yticks(fontsize=14)\n",
    "    plt.savefig(fname, bbox_inches='tight');"
   ]
  },
  {
   "cell_type": "code",
   "execution_count": 19,
   "metadata": {},
   "outputs": [
    {
     "data": {
      "image/png": "[encoded data removed]",
      "text/plain": [
       "<Figure size 432x288 with 1 Axes>"
      ]
     },
     "metadata": {
      "needs_background": "light"
     },
     "output_type": "display_data"
    },
    {
     "data": {
      "image/png": "[encoded data removed]",
      "text/plain": [
       "<Figure size 432x288 with 1 Axes>"
      ]
     },
     "metadata": {
      "needs_background": "light"
     },
     "output_type": "display_data"
    }
   ],
   "source": [
    "visualize_wbo_correlation(biphenyls_sorted_energies, wbos_dep[1:5], 'biphenyl_energy_vs_wbo.pdf')\n",
    "visualize_wbo_correlation(biphenyls_flouro_sorted_energies, wbos_dep[6:10], 'biphenyl_flouro_energy_vs_wbo.pdf')"
   ]
  },
  {
   "cell_type": "code",
   "execution_count": null,
   "metadata": {},
   "outputs": [],
   "source": []
  }
 ],
 "metadata": {
  "kernelspec": {
   "display_name": "Python 3",
   "language": "python",
   "name": "python3"
  },
  "language_info": {
   "codemirror_mode": {
    "name": "ipython",
    "version": 3
   },
   "file_extension": ".py",
   "mimetype": "text/x-python",
   "name": "python",
   "nbconvert_exporter": "python",
   "pygments_lexer": "ipython3",
   "version": "3.7.2"
  }
 },
 "nbformat": 4,
 "nbformat_minor": 2
}
