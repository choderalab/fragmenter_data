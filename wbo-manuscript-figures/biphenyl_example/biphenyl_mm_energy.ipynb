{
 "cells": [
  {
   "cell_type": "markdown",
   "metadata": {},
   "source": [
    "# Biphenyl MM Energies"
   ]
  },
  {
   "cell_type": "markdown",
   "metadata": {},
   "source": [
    "Adapted from: https://github.com/choderalab/fragmenter_data/blob/master/wbo-manuscript-figures/biphenyl_example/biphenyl_mm_energy.ipynb"
   ]
  },
  {
   "cell_type": "code",
   "execution_count": 1,
   "metadata": {},
   "outputs": [
    {
     "data": {
      "text/html": [
       "<style>.container { width:100% !important; }</style>"
      ],
      "text/plain": [
       "<IPython.core.display.HTML object>"
      ]
     },
     "metadata": {},
     "output_type": "display_data"
    }
   ],
   "source": [
    "from IPython.core.display import display, HTML\n",
    "display(HTML(\"<style>.container { width:100% !important; }</style>\"))"
   ]
  },
  {
   "cell_type": "code",
   "execution_count": 2,
   "metadata": {},
   "outputs": [
    {
     "data": {
      "application/vnd.jupyter.widget-view+json": {
       "model_id": "bb718514771d4afab4bc007c1a217a1b",
       "version_major": 2,
       "version_minor": 0
      },
      "text/plain": []
     },
     "metadata": {},
     "output_type": "display_data"
    }
   ],
   "source": [
    "%matplotlib inline\n",
    "\n",
    "from functools import partial\n",
    "\n",
    "import numpy as np\n",
    "from scipy.optimize import minimize\n",
    "import matplotlib.pyplot as plt\n",
    "\n",
    "from openforcefield.topology import Molecule, Topology\n",
    "from openforcefield.typing.engines.smirnoff import ForceField\n",
    "from openeye import oechem, oedepict\n",
    "\n",
    "from simtk.openmm import app\n",
    "from simtk import openmm as mm\n",
    "from simtk import unit\n",
    "from simtk import openmm, unit\n",
    "\n",
    "from fragmenter import torsions, chemi\n",
    "\n",
    "from autograd import grad\n",
    "from autograd import numpy as np"
   ]
  },
  {
   "cell_type": "markdown",
   "metadata": {},
   "source": [
    "## Function definitions"
   ]
  },
  {
   "cell_type": "code",
   "execution_count": 3,
   "metadata": {},
   "outputs": [],
   "source": [
    "# From Josh - constrained minimzation \n",
    "\n",
    "def compute_dihedral(xyz, indices):\n",
    "    \"\"\"Copied from mdtraj, except without calls to a non-python distance library,\n",
    "    and assuming we dont have to deal with periodic stuff\"\"\"\n",
    "    \n",
    "    a,b,c,d = indices\n",
    "    b1 = xyz[b] - xyz[a]\n",
    "    b2 = xyz[c] - xyz[b]\n",
    "    b3 = xyz[d] - xyz[c]\n",
    "    \n",
    "    c1 = np.cross(b2, b3) # bc x cd\n",
    "    c2 = np.cross(b1, b2) # ab x bc\n",
    "\n",
    "    p1 = np.sum(b1 * c1)\n",
    "    p1 *= np.sum(b2 * b2) ** 0.5\n",
    "    p2 = np.sum(c1 * c2)\n",
    "\n",
    "    return np.arctan2(p1, p2)\n",
    "\n",
    "def unflatten(flat_xyz):\n",
    "    N = int(len(flat_xyz) / 3)\n",
    "    return np.reshape(flat_xyz, (N, 3))\n",
    "\n",
    "def set_positions(xyz, simulation):\n",
    "    simulation.context.setPositions(xyz)\n",
    "        \n",
    "def get_energy(xyz, simulation):\n",
    "    set_positions(xyz, simulation)\n",
    "    U = simulation.context.getState(getEnergy=True).getPotentialEnergy()\n",
    "    return U/U.unit\n",
    "\n",
    "def get_forces(xyz, simulation):\n",
    "    set_positions(xyz, simulation)\n",
    "    F =  simulation.context.getState(getForces=True).getForces(asNumpy=True)\n",
    "    return F/F.unit\n",
    "\n",
    "def fxn_to_minimize(flat_xyz, simulation):\n",
    "    return get_energy(unflatten(flat_xyz), simulation)\n",
    "\n",
    "def jacobian_of_fxn(flat_xyz, simulation):\n",
    "    return - get_forces(unflatten(flat_xyz), simulation)\n",
    "\n",
    "\n",
    "def dihedral_constraint(flat_xyz, torsion_indices, target_dihedral=0.0):\n",
    "    \"\"\"equality constraint: want the output of this function to be 0\"\"\"\n",
    "    xyz = unflatten(flat_xyz)\n",
    "    return compute_dihedral(xyz, torsion_indices) - target_dihedral\n",
    "\n",
    "def form_eq_constraint(torsion_indices, target_dihedral):\n",
    "    \"\"\"adapted from scipy documentation\n",
    "    https://docs.scipy.org/doc/scipy/reference/tutorial/optimize.html#sequential-least-squares-programming-slsqp-algorithm-method-slsqp\n",
    "    \"\"\"\n",
    "    \n",
    "    fun = partial(dihedral_constraint, torsion_indices=torsion_indices, target_dihedral=target_dihedral)\n",
    "\n",
    "    eq_cons = {'type': 'eq',\n",
    "               'fun' : fun,\n",
    "               'jac' : grad(fun)}\n",
    "    return eq_cons"
   ]
  },
  {
   "cell_type": "markdown",
   "metadata": {},
   "source": [
    "## Molecule generation"
   ]
  },
  {
   "cell_type": "code",
   "execution_count": 4,
   "metadata": {},
   "outputs": [],
   "source": [
    "# Create openeye molecules and add conformers with torsion angle at 15 degree intervals\n",
    "smiles = ['c1cc(ccc1c2ccncc2)O', 'c1cc(ccc1c2cc[nH+]cc2)O', 'c1cc(ccc1c2ccncc2)[O-]', 'c1cc(ccc1c2cc[nH+]cc2)[O-]']\n",
    "names = ['neutral', 'cation', 'anion', 'zwitterion']"
   ]
  },
  {
   "cell_type": "code",
   "execution_count": 5,
   "metadata": {},
   "outputs": [],
   "source": [
    "# Create openeye molecules\n",
    "oemols = [chemi.smiles_to_oemol(sm, add_atom_map=True) for sm in smiles]\n",
    "for i, mol in enumerate(oemols):\n",
    "    mol.SetTitle(names[i])\n",
    "    \n",
    "conf_mols = []\n",
    "dihedrals = []\n",
    "# Find torsion to constrain\n",
    "for mol in oemols:\n",
    "    for bond in mol.GetBonds():\n",
    "        if bond.IsRotor():\n",
    "            rot_bond = bond\n",
    "            break\n",
    "    bond_map = (rot_bond.GetBgn().GetMapIdx(), rot_bond.GetEnd().GetMapIdx())\n",
    "    dih = torsions.find_torsion_around_bond(molecule=mol, bond=bond_map)\n",
    "    conformers = chemi.generate_grid_conformers(mol, dihedrals=[dih], intervals=[15])\n",
    "    conf_mols.append(conformers)\n",
    "    dihedrals.append(dih)"
   ]
  },
  {
   "cell_type": "code",
   "execution_count": 6,
   "metadata": {},
   "outputs": [
    {
     "data": {
      "text/plain": [
       "[[0, 8, 9, 4], [0, 8, 9, 4], [0, 8, 9, 4], [0, 8, 9, 4]]"
      ]
     },
     "execution_count": 6,
     "metadata": {},
     "output_type": "execute_result"
    }
   ],
   "source": [
    "dihedrals"
   ]
  },
  {
   "cell_type": "code",
   "execution_count": 7,
   "metadata": {},
   "outputs": [
    {
     "data": {
      "text/plain": [
       "[Molecule with name 'neutral' and SMILES '[H]c1c(c(c(c(c1c2c(c(nc(c2[H])[H])[H])[H])[H])[H])O[H])[H]',\n",
       " Molecule with name 'cation' and SMILES '[H]c1c(c(c(c(c1c2c(c([n+](c(c2[H])[H])[H])[H])[H])[H])[H])O[H])[H]',\n",
       " Molecule with name 'anion' and SMILES '[H]c1c(c(c(c(c1c2c(c(nc(c2[H])[H])[H])[H])[H])[H])[O-])[H]',\n",
       " Molecule with name 'zwitterion' and SMILES '[H]c1c(c(c(c(c1c2c(c([n+](c(c2[H])[H])[H])[H])[H])[H])[H])[O-])[H]']"
      ]
     },
     "execution_count": 7,
     "metadata": {},
     "output_type": "execute_result"
    }
   ],
   "source": [
    "off_molecules = [Molecule.from_openeye(mol) for mol in conf_mols]\n",
    "off_molecules"
   ]
  },
  {
   "cell_type": "markdown",
   "metadata": {},
   "source": [
    "## Testing"
   ]
  },
  {
   "cell_type": "code",
   "execution_count": 8,
   "metadata": {},
   "outputs": [],
   "source": [
    "topologies = [Topology.from_molecules(mol) for mol in off_molecules]\n",
    "forcefield = ForceField('openff-1.0.0.offxml')"
   ]
  },
  {
   "cell_type": "code",
   "execution_count": 9,
   "metadata": {},
   "outputs": [
    {
     "name": "stdout",
     "output_type": "stream",
     "text": [
      "\n",
      "\n",
      "Molecule with name 'neutral' and SMILES '[H]c1c(c(c(c(c1c2c(c(nc(c2[H])[H])[H])[H])[H])[H])O[H])[H]'\n",
      "Forces for molecule 0\n",
      "\n",
      "ProperTorsions:\n",
      "atoms:   0  8  9  4  parameter_id: t43  smirks [*:1]~[#6X3:2]-[#6X3:3]~[*:4]\n",
      "\n",
      "\n",
      "Molecule with name 'cation' and SMILES '[H]c1c(c(c(c(c1c2c(c([n+](c(c2[H])[H])[H])[H])[H])[H])[H])O[H])[H]'\n",
      "Forces for molecule 0\n",
      "\n",
      "ProperTorsions:\n",
      "atoms:   0  8  9  4  parameter_id: t43  smirks [*:1]~[#6X3:2]-[#6X3:3]~[*:4]\n",
      "\n",
      "\n",
      "Molecule with name 'anion' and SMILES '[H]c1c(c(c(c(c1c2c(c(nc(c2[H])[H])[H])[H])[H])[H])[O-])[H]'\n",
      "Forces for molecule 0\n",
      "\n",
      "ProperTorsions:\n",
      "atoms:   0  8  9  4  parameter_id: t43  smirks [*:1]~[#6X3:2]-[#6X3:3]~[*:4]\n",
      "\n",
      "\n",
      "Molecule with name 'zwitterion' and SMILES '[H]c1c(c(c(c(c1c2c(c([n+](c(c2[H])[H])[H])[H])[H])[H])[H])[O-])[H]'\n",
      "Forces for molecule 0\n",
      "\n",
      "ProperTorsions:\n",
      "atoms:   0  8  9  4  parameter_id: t43  smirks [*:1]~[#6X3:2]-[#6X3:3]~[*:4]\n"
     ]
    }
   ],
   "source": [
    "for i, top in enumerate(topologies):\n",
    "    print('\\n')\n",
    "    print(off_molecules[i])\n",
    "    molecule_force_list = forcefield.label_molecules(top)\n",
    "    for mol_idx, mol_forces in enumerate(molecule_force_list):\n",
    "        print(f'Forces for molecule {mol_idx}')\n",
    "        for force_tag, force_dict in mol_forces.items():\n",
    "            if force_tag != 'ProperTorsions':\n",
    "                continue\n",
    "            print(f\"\\n{force_tag}:\")\n",
    "            for (atom_indices, parameter) in force_dict.items():\n",
    "                if atom_indices == tuple(dih):\n",
    "                    atomstr=''\n",
    "                    for idx in atom_indices:\n",
    "                        atomstr += '%3s' % idx\n",
    "                    print(\"atoms: %s  parameter_id: %s  smirks %s\" % (atomstr, parameter.id, parameter.smirks) )\n"
   ]
  },
  {
   "cell_type": "code",
   "execution_count": 10,
   "metadata": {},
   "outputs": [],
   "source": [
    "# Create OMM systems\n",
    "\n",
    "#integrator = mm.VerletIntegrator(1*unit.femtosecond)\n",
    "platform = mm.Platform.getPlatformByName(\"Reference\")\n",
    "\n",
    "systems = [forcefield.create_openmm_system(top) for top in topologies]\n",
    "simulations = [openmm.app.Simulation(topologies[i], systems[i], mm.VerletIntegrator(1*unit.femtosecond)) for i in range(4)]"
   ]
  },
  {
   "cell_type": "code",
   "execution_count": 11,
   "metadata": {},
   "outputs": [],
   "source": [
    "all_energies = []\n",
    "all_angles = []\n",
    "for i, mol in enumerate(off_molecules):\n",
    "    energies = []\n",
    "    angles = []\n",
    "    for j in range(24):\n",
    "        simulation = simulations[i]\n",
    "        angles.append(torsions.measure_dihedral_angle(coords=mol.conformers[j]._value, dihedral=dih))\n",
    "        simulation.context.setPositions(mol.conformers[j])\n",
    "        state = simulation.context.getState(getEnergy=True)\n",
    "        energy = state.getPotentialEnergy()\n",
    "        energies.append(energy._value)\n",
    "    energies = np.asanyarray(energies) - min(energies)\n",
    "    all_energies.append(energies)\n",
    "    all_angles.append(angles)"
   ]
  },
  {
   "cell_type": "code",
   "execution_count": 12,
   "metadata": {},
   "outputs": [
    {
     "data": {
      "image/png": "[encoded data removed]",
      "text/plain": [
       "<Figure size 432x288 with 1 Axes>"
      ]
     },
     "metadata": {
      "needs_background": "light"
     },
     "output_type": "display_data"
    }
   ],
   "source": [
    "colors = chemi._KELLYS_COLORS\n",
    "for i in range(4):\n",
    "    plt.plot(all_angles[i][12:] + all_angles[i][:12], np.concatenate((all_energies[i][12:], all_energies[i][:12])), color=colors[i])\n",
    "    plt.plot(all_angles[i][12:] + all_angles[i][:12], np.concatenate((all_energies[i][12:], all_energies[i][:12])), '.', color=colors[i])\n",
    "plt.xlabel('Torsion angles (degree)')\n",
    "plt.ylabel('Relative energy (kJ/mol)')\n",
    "plt.savefig('biphenyl_mm_torsion_scan.pdf', bbox_inches='tight')"
   ]
  },
  {
   "cell_type": "code",
   "execution_count": 13,
   "metadata": {},
   "outputs": [],
   "source": [
    "# Get a system\n",
    "integrator = mm.VerletIntegrator(1*unit.femtosecond)\n",
    "platform = mm.Platform.getPlatformByName(\"Reference\")\n",
    "\n",
    "simulation = simulations[0]\n",
    "xyz = off_molecules[0].conformers[0].in_units_of(unit.nanometer)\n",
    "simulation.context.setPositions(xyz)\n",
    "flat_xyz = (xyz / unit.nanometer).flatten()"
   ]
  },
  {
   "cell_type": "code",
   "execution_count": 14,
   "metadata": {},
   "outputs": [
    {
     "data": {
      "text/plain": [
       "(387.15522636173904, array([[  512.06140379,  -267.55877391,  -463.59216742],\n",
       "        [  627.46324387,  -336.03510451,  -258.81421554],\n",
       "        [ -274.18330607,   151.41230112,   -53.90962383],\n",
       "        [  -55.53046259,    24.16385982,   216.38021103],\n",
       "        [ -774.42013791,   501.7776067 ,  -255.90490377],\n",
       "        [ -272.2309811 ,    56.23735377,   910.92399018],\n",
       "        [-1039.7011379 ,   538.45777794,   678.17647218],\n",
       "        [-1057.34962256,   570.06114302,   631.76071524],\n",
       "        [ -352.50374849,   189.51027789,   217.09866871],\n",
       "        [  666.61072363,  -359.22475587,  -419.1614252 ],\n",
       "        [  408.62100332,  -219.37034897,  -256.40864825],\n",
       "        [ 1291.38398629,  -682.84559279,  -810.90455818],\n",
       "        [  120.71117643,   -62.97725248,   -73.27896483],\n",
       "        [ 1100.31167363,  -430.52461055,  -592.01922399],\n",
       "        [  937.619622  ,  -654.86094881,  -674.34685279],\n",
       "        [   36.89033338,   -16.82288027,   -79.74005479],\n",
       "        [  -21.64164485,    11.07347168,    26.85930492],\n",
       "        [-1132.0185625 ,   448.12567147,   657.15792121],\n",
       "        [-1023.92348899,   700.70444945,   689.34971333],\n",
       "        [  210.46855524,  -126.32261093,    25.98707822],\n",
       "        [  103.31108869,   -38.01069543,  -220.44832025],\n",
       "        [  -11.9498301 ,     3.02966906,   104.83494617]]))"
      ]
     },
     "execution_count": 14,
     "metadata": {},
     "output_type": "execute_result"
    }
   ],
   "source": [
    "fxn_to_minimize(flat_xyz, simulation), jacobian_of_fxn(flat_xyz, simulation)"
   ]
  },
  {
   "cell_type": "code",
   "execution_count": 15,
   "metadata": {},
   "outputs": [
    {
     "data": {
      "text/plain": [
       "array([ -3.9966931 ,  -7.24618595,  -0.23349645,   0.        ,\n",
       "         0.        ,   0.        ,   0.        ,   0.        ,\n",
       "         0.        ,   0.        ,   0.        ,   0.        ,\n",
       "         4.29775292,   7.06724271,   0.86817156,   0.        ,\n",
       "         0.        ,   0.        ,   0.        ,   0.        ,\n",
       "         0.        ,   0.        ,   0.        ,   0.        ,\n",
       "         7.99896344,  14.15260351,   0.76521164,  -8.30002327,\n",
       "       -13.97366028,  -1.39988675,   0.        ,   0.        ,\n",
       "         0.        ,   0.        ,   0.        ,   0.        ,\n",
       "         0.        ,   0.        ,   0.        ,   0.        ,\n",
       "         0.        ,   0.        ,   0.        ,   0.        ,\n",
       "         0.        ,   0.        ,   0.        ,   0.        ,\n",
       "         0.        ,   0.        ,   0.        ,   0.        ,\n",
       "         0.        ,   0.        ,   0.        ,   0.        ,\n",
       "         0.        ,   0.        ,   0.        ,   0.        ,\n",
       "         0.        ,   0.        ,   0.        ,   0.        ,\n",
       "         0.        ,   0.        ])"
      ]
     },
     "execution_count": 15,
     "metadata": {},
     "output_type": "execute_result"
    }
   ],
   "source": [
    "target_dihedral = 0\n",
    "torsion_indices = dih\n",
    "eq_cons = form_eq_constraint(torsion_indices, target_dihedral)\n",
    "eq_cons['jac'](flat_xyz)"
   ]
  },
  {
   "cell_type": "code",
   "execution_count": 16,
   "metadata": {},
   "outputs": [
    {
     "data": {
      "text/plain": [
       "{'type': 'eq',\n",
       " 'fun': functools.partial(<function dihedral_constraint at 0x7f2be828f440>, torsion_indices=[0, 8, 9, 4], target_dihedral=0),\n",
       " 'jac': <function autograd.wrap_util.unary_to_nary.<locals>.nary_operator.<locals>.nary_f>}"
      ]
     },
     "execution_count": 16,
     "metadata": {},
     "output_type": "execute_result"
    }
   ],
   "source": [
    "eq_cons"
   ]
  },
  {
   "cell_type": "code",
   "execution_count": 17,
   "metadata": {},
   "outputs": [
    {
     "name": "stdout",
     "output_type": "stream",
     "text": [
      "Minimize a scalar function of one or more variables using Sequential\n",
      "Least Squares Programming (SLSQP).\n",
      "\n",
      "Options\n",
      "-------\n",
      "ftol : float\n",
      "    Precision goal for the value of f in the stopping criterion.\n",
      "eps : float\n",
      "    Step size used for numerical approximation of the Jacobian.\n",
      "disp : bool\n",
      "    Set to True to print convergence messages. If False,\n",
      "    `verbosity` is ignored and set to 0.\n",
      "maxiter : int\n",
      "    Maximum number of iterations.\n",
      "finite_diff_rel_step : None or array_like, optional\n",
      "    If `jac in ['2-point', '3-point', 'cs']` the relative step size to\n",
      "    use for numerical approximation of `jac`. The absolute step\n",
      "    size is computed as ``h = rel_step * sign(x0) * max(1, abs(x0))``,\n",
      "    possibly adjusted to fit into the bounds. For ``method='3-point'``\n",
      "    the sign of `h` is ignored. If None (default) then step is selected\n",
      "    automatically.\n"
     ]
    }
   ],
   "source": [
    "from scipy.optimize import show_options\n",
    "show_options('minimize', method='SLSQP')"
   ]
  },
  {
   "cell_type": "markdown",
   "metadata": {},
   "source": [
    "## Production Run"
   ]
  },
  {
   "cell_type": "code",
   "execution_count": 18,
   "metadata": {},
   "outputs": [],
   "source": [
    "from simtk import openmm, unit\n",
    "from dask.delayed import delayed"
   ]
  },
  {
   "cell_type": "code",
   "execution_count": 19,
   "metadata": {},
   "outputs": [],
   "source": [
    "forcefield = ForceField('openff-1.0.0.offxml')"
   ]
  },
  {
   "cell_type": "code",
   "execution_count": 20,
   "metadata": {},
   "outputs": [
    {
     "data": {
      "text/plain": [
       "[Molecule with name 'neutral' and SMILES '[H]c1c(c(c(c(c1c2c(c(nc(c2[H])[H])[H])[H])[H])[H])O[H])[H]',\n",
       " Molecule with name 'cation' and SMILES '[H]c1c(c(c(c(c1c2c(c([n+](c(c2[H])[H])[H])[H])[H])[H])[H])O[H])[H]',\n",
       " Molecule with name 'anion' and SMILES '[H]c1c(c(c(c(c1c2c(c(nc(c2[H])[H])[H])[H])[H])[H])[O-])[H]',\n",
       " Molecule with name 'zwitterion' and SMILES '[H]c1c(c(c(c(c1c2c(c([n+](c(c2[H])[H])[H])[H])[H])[H])[H])[O-])[H]']"
      ]
     },
     "execution_count": 20,
     "metadata": {},
     "output_type": "execute_result"
    }
   ],
   "source": [
    "off_molecules"
   ]
  },
  {
   "cell_type": "code",
   "execution_count": 21,
   "metadata": {},
   "outputs": [
    {
     "data": {
      "text/plain": [
       "[[0, 8, 9, 4], [0, 8, 9, 4], [0, 8, 9, 4], [0, 8, 9, 4]]"
      ]
     },
     "execution_count": 21,
     "metadata": {},
     "output_type": "execute_result"
    }
   ],
   "source": [
    "dihedrals"
   ]
  },
  {
   "cell_type": "code",
   "execution_count": 25,
   "metadata": {},
   "outputs": [],
   "source": [
    "def create_openmm_system(offmol, forcefield):\n",
    "    \n",
    "    top = Topology.from_molecules(offmol)\n",
    "    system = forcefield.create_openmm_system(top)\n",
    "    \n",
    "    integrator = mm.VerletIntegrator(1*unit.femtosecond)\n",
    "    platform = mm.Platform.getPlatformByName(\"Reference\")\n",
    "    simulation = openmm.app.Simulation(top, \n",
    "                                       system, \n",
    "                                       integrator=integrator,\n",
    "                                       platform=platform)\n",
    "    return simulation\n",
    "    \n",
    "def optimize_geometry(index, offmol, forcefield, dihedral):\n",
    "    \n",
    "    simulation = create_openmm_system(offmol, forcefield)\n",
    "    xyz = offmol.conformers[index].in_units_of(unit.nanometer)\n",
    "    simulation.context.setPositions(xyz)\n",
    "\n",
    "    angle = torsions.measure_dihedral_angle(coords=xyz._value, dihedral=dihedral)\n",
    "    flat_xyz = (xyz / unit.nanometer).flatten()\n",
    "\n",
    "    target_dihedral = (angle) *np.pi/180\n",
    "    print(angle)\n",
    "    print(target_dihedral)\n",
    "\n",
    "    # jiggle xyz\n",
    "    minimum = get_energy(xyz, simulation)\n",
    "\n",
    "    print('initial_energy: {}'.format(minimum))\n",
    "    for i in range(5):\n",
    "        flat_xyz = flat_xyz + np.random.normal(0, 0.01, flat_xyz.shape)\n",
    "\n",
    "        new_result = minimize(fxn_to_minimize, flat_xyz, simulation, method='SLSQP', jac=jacobian_of_fxn,\n",
    "           constraints=[form_eq_constraint(dihedral, target_dihedral)],\n",
    "                        options={'ftol': 1e-10, 'disp': True, 'maxiter': 8000})\n",
    "\n",
    "        minimum = min(minimum, new_result.fun)\n",
    "\n",
    "        if new_result.fun == minimum:\n",
    "            result = new_result\n",
    "\n",
    "    print('final_energy: {}'.format(result.fun))\n",
    "    return result\n",
    "\n",
    "def run_torsiondrive(offmol, forcefield, dihedral):\n",
    "    results = []\n",
    "    for j in range(24):\n",
    "        result = delayed(optimize_geometry)(j, offmol, forcefield, dihedral)\n",
    "        results.append(result)\n",
    "    return delayed(results).compute(scheduler=\"processes\")"
   ]
  },
  {
   "cell_type": "markdown",
   "metadata": {},
   "source": [
    "### Compute"
   ]
  },
  {
   "cell_type": "code",
   "execution_count": 26,
   "metadata": {},
   "outputs": [
    {
     "name": "stdout",
     "output_type": "stream",
     "text": [
      "Processing Molecule with name 'neutral' and SMILES '[H]c1c(c(c(c(c1c2c(c(nc(c2[H])[H])[H])[H])[H])[H])O[H])[H]' with dihedral indices [0, 8, 9, 4]\n",
      "Processing Molecule with name 'cation' and SMILES '[H]c1c(c(c(c(c1c2c(c([n+](c(c2[H])[H])[H])[H])[H])[H])[H])O[H])[H]' with dihedral indices [0, 8, 9, 4]\n",
      "Processing Molecule with name 'anion' and SMILES '[H]c1c(c(c(c(c1c2c(c(nc(c2[H])[H])[H])[H])[H])[H])[O-])[H]' with dihedral indices [0, 8, 9, 4]\n",
      "Processing Molecule with name 'zwitterion' and SMILES '[H]c1c(c(c(c(c1c2c(c([n+](c(c2[H])[H])[H])[H])[H])[H])[H])[O-])[H]' with dihedral indices [0, 8, 9, 4]\n",
      "CPU times: user 1min 37s, sys: 1.56 s, total: 1min 38s\n",
      "Wall time: 35min 6s\n"
     ]
    }
   ],
   "source": [
    "%%time\n",
    "prod_energies = []\n",
    "\n",
    "for offmol, dihedral in zip(off_molecules, dihedrals):\n",
    "    print(f\"Processing {offmol} with dihedral indices {dihedral}\")\n",
    "    prod_energies.append(run_torsiondrive(offmol, forcefield, dihedral))"
   ]
  },
  {
   "cell_type": "markdown",
   "metadata": {},
   "source": [
    "## Final Plots"
   ]
  },
  {
   "cell_type": "code",
   "execution_count": 30,
   "metadata": {},
   "outputs": [],
   "source": [
    "energies_1 = [i.fun for i in prod_energies[0]]\n",
    "energies_1 = energies_1[12:] + energies_1[:12]\n",
    "energies_2 = [i.fun for i in prod_energies[1]]\n",
    "energies_2 = energies_2[12:] + energies_2[:12]\n",
    "energies_3 = [i.fun for i in prod_energies[2]]\n",
    "energies_3 = energies_3[12:] + energies_3[:12]\n",
    "energies_4 = [i.fun for i in prod_energies[3]]\n",
    "energies_4 = energies_4[12:] + energies_4[:12]"
   ]
  },
  {
   "cell_type": "code",
   "execution_count": 31,
   "metadata": {},
   "outputs": [
    {
     "data": {
      "image/png": "[encoded data removed]",
      "text/plain": [
       "<Figure size 432x288 with 1 Axes>"
      ]
     },
     "metadata": {
      "needs_background": "light"
     },
     "output_type": "display_data"
    }
   ],
   "source": [
    "plt.plot(angles[12:]+angles[:12], np.asarray(energies_1)-min(energies_1), '.', color=colors[0])\n",
    "plt.plot(angles[12:]+angles[:12], np.asarray(energies_1)-min(energies_1), color=colors[0])\n",
    "plt.plot(angles[12:]+angles[:12], np.asarray(energies_2)-min(energies_2), '.', color=colors[1])\n",
    "plt.plot(angles[12:]+angles[:12], np.asarray(energies_2)-min(energies_2), color=colors[1])\n",
    "plt.plot(angles[12:]+angles[:12], np.asarray(energies_3)-min(energies_3), '.', color=colors[2])\n",
    "plt.plot(angles[12:]+angles[:12], np.asarray(energies_3)-min(energies_3), color=colors[2])\n",
    "plt.plot(angles[12:]+angles[:12], np.asarray(energies_4)-min(energies_4), '.', color=colors[3])\n",
    "plt.plot(angles[12:]+angles[:12], np.asarray(energies_4)-min(energies_4), color=colors[3])\n",
    "plt.xticks(fontsize=14)\n",
    "plt.yticks(fontsize=14)\n",
    "plt.xlabel('Torsion angles (degree)', fontsize=14)\n",
    "plt.ylabel('Relative Energy (kJ/mol)', fontsize=14)\n",
    "plt.ylim(0, 110)\n",
    "plt.savefig('biphenyl_mm_min_torsion_scan.pdf', bbox_inches='tight')"
   ]
  }
 ],
 "metadata": {
  "kernelspec": {
   "display_name": "Python 3",
   "language": "python",
   "name": "python3"
  },
  "language_info": {
   "codemirror_mode": {
    "name": "ipython",
    "version": 3
   },
   "file_extension": ".py",
   "mimetype": "text/x-python",
   "name": "python",
   "nbconvert_exporter": "python",
   "pygments_lexer": "ipython3",
   "version": "3.7.8"
  }
 },
 "nbformat": 4,
 "nbformat_minor": 4
}
