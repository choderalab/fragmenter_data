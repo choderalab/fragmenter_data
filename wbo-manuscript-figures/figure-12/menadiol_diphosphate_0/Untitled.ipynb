{
 "cells": [
  {
   "cell_type": "code",
   "execution_count": 1,
   "metadata": {},
   "outputs": [],
   "source": [
    "%matplotlib inline\n",
    "import fragmenter\n",
    "import json \n",
    "from openeye import oechem, oequacpac, oedepict, oegraphsim\n",
    "import matplotlib.pyplot as plt\n",
    "import glob\n",
    "import seaborn as sbn\n",
    "import oenotebook as onb\n",
    "import cmiles\n",
    "import itertools\n",
    "import numpy as np"
   ]
  },
  {
   "cell_type": "code",
   "execution_count": 8,
   "metadata": {},
   "outputs": [],
   "source": [
    "def get_bond(mol, bond_tuple):\n",
    "    a1 = mol.GetAtom(oechem.OEHasMapIdx(bond_tuple[0]))\n",
    "    a2 = mol.GetAtom(oechem.OEHasMapIdx(bond_tuple[1]))\n",
    "    if not a1 or not a2:\n",
    "        print('no atoms')\n",
    "        return False\n",
    "    bond = mol.GetBond(a1, a2)\n",
    "    if not bond:\n",
    "        print('no bond')\n",
    "        return False\n",
    "    return bond\n",
    "\n",
    "def visualize_mols(smiles, fname, rows, cols, bond_idx, wbos, colors, align_to=0):\n",
    "    \"\"\"\n",
    "    Visualize molecules with highlighted bond and labeled with WBO\n",
    "    Parameters\n",
    "    ----------\n",
    "    smiles : list of SMILES to visualize.\n",
    "        bond atoms should have map indices\n",
    "    fname : str\n",
    "        filename\n",
    "    rows : int\n",
    "    cols : int\n",
    "    bond_idx : tuple of atom maps of bond to highlight.\n",
    "    wbos : list of floats\n",
    "    colors : list of hex values for colors\n",
    "    align_to: int, optional, default 0\n",
    "        index for which molecule to align to. If zero, will align to first molecules in SMILES list\n",
    "\n",
    "    \"\"\"\n",
    "    itf = oechem.OEInterface()\n",
    "\n",
    "    ropts = oedepict.OEReportOptions(rows, cols)\n",
    "    ropts.SetHeaderHeight(25)\n",
    "    ropts.SetFooterHeight(25)\n",
    "    ropts.SetCellGap(2)\n",
    "    ropts.SetPageMargins(10)\n",
    "    report = oedepict.OEReport(ropts)\n",
    "\n",
    "    cellwidth, cellheight = report.GetCellWidth(), report.GetCellHeight()\n",
    "    opts = oedepict.OE2DMolDisplayOptions(cellwidth, cellheight, oedepict.OEScale_AutoScale)\n",
    "    oedepict.OESetup2DMolDisplayOptions(opts, itf)\n",
    "\n",
    "    # align to chosen molecule\n",
    "    ref_mol = oechem.OEGraphMol()\n",
    "    oechem.OESmilesToMol(ref_mol, smiles[align_to])\n",
    "    oedepict.OEPrepareDepiction(ref_mol)\n",
    "\n",
    "    mols = []\n",
    "    minscale = float(\"inf\")\n",
    "    for s in smiles:\n",
    "        mol = oechem.OEMol()\n",
    "        oechem.OESmilesToMol(mol, s)\n",
    "        mols.append(mol)\n",
    "        oedepict.OEPrepareDepiction(mol, False, True)\n",
    "        minscale = min(minscale, oedepict.OEGetMoleculeScale(mol, opts))\n",
    "\n",
    "    opts.SetScale(minscale)\n",
    "    for i, mol in enumerate(mols):\n",
    "\n",
    "        cell = report.NewCell()\n",
    "        oedepict.OEPrepareDepiction(mol, False, True)\n",
    "        bond = get_bond(mol, bond_idx)\n",
    "        atom_bond_set = oechem.OEAtomBondSet()\n",
    "        atom_bond_set.AddAtoms([bond.GetBgn(), bond.GetEnd()])\n",
    "        atom_bond_set.AddBond(bond)\n",
    "\n",
    "        hstyle = oedepict.OEHighlightStyle_BallAndStick\n",
    "        if i == 3:\n",
    "            hcolor = oechem.OERed\n",
    "        else:\n",
    "            hcolor = oechem.OEColor(*colors[i])\n",
    "\n",
    "        overlaps = oegraphsim.OEGetFPOverlap(ref_mol, mol, oegraphsim.OEGetFPType(oegraphsim.OEFPType_Tree))\n",
    "        oedepict.OEPrepareMultiAlignedDepiction(mol, ref_mol, overlaps)\n",
    "\n",
    "        disp = oedepict.OE2DMolDisplay(mol, opts)\n",
    "        oedepict.OEAddHighlighting(disp, hcolor, hstyle, atom_bond_set)\n",
    "\n",
    "        bond_label = oedepict.OEHighlightLabel(\"{:.2f}\".format((wbos[i])), hcolor)\n",
    "        oedepict.OEAddLabel(disp, bond_label, atom_bond_set)\n",
    "        oedepict.OERenderMolecule(cell, disp)\n",
    "        # oedepict.OEDrawCurvedBorder(cell, oedepict.OELightGreyPen, 10.0)\n",
    "\n",
    "    return (oedepict.OEWriteReport(fname, report))\n",
    "\n",
    "def rbg_to_int(rbg, alpha):\n",
    "    \"\"\"\n",
    "    Convert rbg color to ints for openeye\n",
    "    Parameters\n",
    "    ----------\n",
    "    rbg : list\n",
    "        rbg\n",
    "    alpha : int\n",
    "\n",
    "    Returns\n",
    "    -------\n",
    "    list of ints\n",
    "\n",
    "    \"\"\"\n",
    "    rbg[-1] = int(rbg[-1]*alpha)\n",
    "    colors = [int(round(i*255)) for i in rbg[:-1]]\n",
    "    colors.append(int(rbg[-1]))\n",
    "    return colors\n"
   ]
  },
  {
   "cell_type": "code",
   "execution_count": 3,
   "metadata": {},
   "outputs": [],
   "source": [
    "with open('Menadiol_diphosphate_0_wbo_dists.json', 'r') as f:\n",
    "    results = json.load(f)"
   ]
  },
  {
   "cell_type": "code",
   "execution_count": 4,
   "metadata": {},
   "outputs": [],
   "source": [
    "results = results['[10, 19]']"
   ]
  },
  {
   "cell_type": "code",
   "execution_count": 5,
   "metadata": {},
   "outputs": [],
   "source": [
    "with open('Menadiol_diphosphate_0_pfizer_wbo_dists.json', 'r') as f:\n",
    "    pfizer_results = json.load(f)"
   ]
  },
  {
   "cell_type": "code",
   "execution_count": 6,
   "metadata": {},
   "outputs": [
    {
     "data": {
      "image/png": "[encoded data removed]",
      "text/plain": [
       "<Figure size 432x288 with 1 Axes>"
      ]
     },
     "metadata": {
      "needs_background": "light"
     },
     "output_type": "display_data"
    }
   ],
   "source": [
    "sbn.kdeplot(results['parent']['wbo_dist'], shade=True)\n",
    "sbn.distplot(results['parent']['wbo_dist'], rug=True, hist=False, color='black')\n",
    "sbn.distplot(results['parent']['wbo_dist'], hist=False, color=sbn.color_palette()[0])\n",
    "\n",
    "\n",
    "sbn.kdeplot(pfizer_results['[10, 19]']['wbo_dist'], shade=True)\n",
    "sbn.distplot(pfizer_results['[10, 19]']['wbo_dist'], rug=True, hist=False, color='black')\n",
    "sbn.distplot(pfizer_results['[10, 19]']['wbo_dist'], hist=False, color=sbn.color_palette()[1])\n",
    "plt.xticks(fontsize=14)\n",
    "plt.yticks([])\n",
    "plt.xlabel('Wiberg Bond Order', fontsize=14)\n",
    "plt.tight_layout()\n",
    "plt.savefig('wbo_dists.pdf')"
   ]
  },
  {
   "cell_type": "code",
   "execution_count": 11,
   "metadata": {},
   "outputs": [
    {
     "data": {
      "text/plain": [
       "True"
      ]
     },
     "execution_count": 11,
     "metadata": {},
     "output_type": "execute_result"
    }
   ],
   "source": [
    "colors = [rbg_to_int(list(i), alpha=255) for i in sbn.color_palette()[:2]]\n",
    "wbos = [results['0.03_path_length_False_None']['elf10_wbo'], pfizer_results['[10, 19]']['elf10_wbo']]\n",
    "frags = [ results['0.03_path_length_False_None']['frag'], pfizer_results['[10, 19]']['frag']]\n",
    "visualize_mols(frags, cols=2, rows=1, bond_idx=(10, 19), colors=colors, wbos=wbos, fname='fragments.pdf')"
   ]
  },
  {
   "cell_type": "code",
   "execution_count": null,
   "metadata": {},
   "outputs": [],
   "source": []
  }
 ],
 "metadata": {
  "kernelspec": {
   "display_name": "Python 3",
   "language": "python",
   "name": "python3"
  },
  "language_info": {
   "codemirror_mode": {
    "name": "ipython",
    "version": 3
   },
   "file_extension": ".py",
   "mimetype": "text/x-python",
   "name": "python",
   "nbconvert_exporter": "python",
   "pygments_lexer": "ipython3",
   "version": "3.7.2"
  }
 },
 "nbformat": 4,
 "nbformat_minor": 2
}
