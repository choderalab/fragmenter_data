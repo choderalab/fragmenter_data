{
 "cells": [
  {
   "cell_type": "code",
   "execution_count": 1,
   "metadata": {},
   "outputs": [],
   "source": [
    "import fragmenter\n",
    "from openeye import oechem, oedepict\n",
    "import oenotebook as oenb"
   ]
  },
  {
   "cell_type": "code",
   "execution_count": 2,
   "metadata": {},
   "outputs": [],
   "source": [
    "def highlight_bonds_with_label(mol_copy, fname, rotor=False, width=600, height=400, scale=1.0):\n",
    "    \"\"\"\n",
    "    Generate image of molecule with highlighted bonds. The bonds can either be highlighted with a conjugation tag\n",
    "    or if it is rotatable.\n",
    "\n",
    "    Parameters\n",
    "    ----------\n",
    "    mol_copy: OEMol\n",
    "    fname: str\n",
    "        Name of image file\n",
    "    conjugation: Bool, optional, Default is True\n",
    "        If True, the bonds with conjugation tag set to True will be highlighted\n",
    "    rotor: Bool, optional, Default is False\n",
    "        If True, the rotatable bonds will be highlighted.\n",
    "    width: int\n",
    "    height: int\n",
    "    label: string. Optional, Default is None\n",
    "        The bond order label. The options are WibergBondOrder, Wiberg_psi4, Mayer_psi4.\n",
    "\n",
    "    \"\"\"\n",
    "    mol = oechem.OEMol(mol_copy)\n",
    "    \n",
    "    dopt = oedepict.OEPrepareDepictionOptions()\n",
    "    dopt.SetSuppressHydrogens(True)\n",
    "    oedepict.OEPrepareDepiction(mol, dopt)\n",
    "\n",
    "    opts = oedepict.OE2DMolDisplayOptions(width, height, oedepict.OEScale_AutoScale)\n",
    "    opts.SetTitleLocation(oedepict.OETitleLocation_Hidden)\n",
    "    \n",
    "    disp = oedepict.OE2DMolDisplay(mol, opts)\n",
    "    \n",
    "    for bond in mol.GetBonds():\n",
    "        if bond.IsRotor():\n",
    "            atomBondSet = oechem.OEAtomBondSet()\n",
    "            atomBondSet.AddBond(bond)\n",
    "            atomBondSet.AddAtom(bond.GetBgn())\n",
    "            atomBondSet.AddAtom(bond.GetEnd())\n",
    "            \n",
    "            # highlight bond\n",
    "            hstyle = oedepict.OEHighlightStyle_BallAndStick\n",
    "            hcolor = oechem.OEColor(oechem.OELimeGreen)\n",
    "            oedepict.OEAddHighlighting(disp, hcolor, hstyle, atomBondSet) \n",
    "            \n",
    "            # Add label that is offset of bond\n",
    "            bond_label = oedepict.OEHighlightLabel(\"{:.2f}\".format(bond.GetData('WibergBondOrder')))\n",
    "            bond_label.SetFontScale(scale)\n",
    "            oedepict.OEAddLabel(disp, bond_label, atomBondSet)\n",
    "            \n",
    "\n",
    "    return oedepict.OERenderMolecule(fname, disp)\n"
   ]
  },
  {
   "cell_type": "code",
   "execution_count": 3,
   "metadata": {},
   "outputs": [],
   "source": [
    "lapatinib = 'CS(=O)(=O)CCNCc1ccc(o1)c2ccc3c(c2)c(ncn3)Nc4ccc(c(c4)Cl)OCc5cccc(c5)F'"
   ]
  },
  {
   "cell_type": "code",
   "execution_count": 4,
   "metadata": {},
   "outputs": [
    {
     "data": {
      "image/png": "[encoded data removed]",
      "text/plain": [
       "<IPython.core.display.Image object>"
      ]
     },
     "execution_count": 4,
     "metadata": {},
     "output_type": "execute_result"
    }
   ],
   "source": [
    "oenb.draw_smiles(lapatinib)"
   ]
  },
  {
   "cell_type": "code",
   "execution_count": 5,
   "metadata": {},
   "outputs": [
    {
     "name": "stdout",
     "output_type": "stream",
     "text": [
      "Warning: OEAssignPartialCharges has been deprecated please use OEAssignCharges instead!\n"
     ]
    }
   ],
   "source": [
    "mol = fragmenter.chemi.smiles_to_oemol(lapatinib, name=' ', add_atom_map=True)\n",
    "oechem.OEAddExplicitHydrogens(mol)\n",
    "charged = fragmenter.chemi.get_charges(mol)"
   ]
  },
  {
   "cell_type": "code",
   "execution_count": 6,
   "metadata": {},
   "outputs": [],
   "source": [
    "# Find rotatable bonds (use fragmenter engine)\n",
    "f = fragmenter.fragment.WBOFragmenter(charged)\n",
    "f._get_rotor_wbo()"
   ]
  },
  {
   "cell_type": "code",
   "execution_count": 7,
   "metadata": {},
   "outputs": [],
   "source": [
    "for bond in mol.GetBonds():\n",
    "    if bond.IsRotor():\n",
    "        m1 = bond.GetBgn().GetMapIdx()\n",
    "        m2 = bond.GetEnd().GetMapIdx()\n",
    "        if (m1, m2) in f.rotors_wbo:\n",
    "            bond.SetData('WibergBondOrder', f.rotors_wbo[(m1, m2)])"
   ]
  },
  {
   "cell_type": "code",
   "execution_count": 8,
   "metadata": {},
   "outputs": [
    {
     "data": {
      "text/plain": [
       "True"
      ]
     },
     "execution_count": 8,
     "metadata": {},
     "output_type": "execute_result"
    }
   ],
   "source": [
    "highlight_bonds_with_label(mol, fname='parent_molecule.pdf')"
   ]
  },
  {
   "cell_type": "code",
   "execution_count": 9,
   "metadata": {},
   "outputs": [
    {
     "name": "stdout",
     "output_type": "stream",
     "text": [
      "Warning: SelectElfDiverseConfs: elfPop.NumConfs 1 <= elfLimit 1\n",
      "Warning: SelectElfDiverseConfs: elfPop.NumConfs 1 <= elfLimit 1\n",
      "Warning: SelectElfDiverseConfs: elfPop.NumConfs 1 <= elfLimit 1\n",
      "Warning: SelectElfDiverseConfs: elfPop.NumConfs 1 <= elfLimit 1\n",
      "Warning: SelectElfDiverseConfs: elfPop.NumConfs 1 <= elfLimit 1\n",
      "Warning: SelectElfDiverseConfs: elfPop.NumConfs 1 <= elfLimit 1\n",
      "Warning: SelectElfDiverseConfs: elfPop.NumConfs 1 <= elfLimit 1\n",
      "Warning: SelectElfDiverseConfs: elfPop.NumConfs 1 <= elfLimit 1\n",
      "Warning: SelectElfDiverseConfs: elfPop.NumConfs 1 <= elfLimit 1\n",
      "Warning: SelectElfDiverseConfs: elfPop.NumConfs 1 <= elfLimit 1\n"
     ]
    }
   ],
   "source": [
    "f.fragment(threshold=1.0)"
   ]
  },
  {
   "cell_type": "code",
   "execution_count": 10,
   "metadata": {},
   "outputs": [
    {
     "data": {
      "text/plain": [
       "True"
      ]
     },
     "execution_count": 10,
     "metadata": {},
     "output_type": "execute_result"
    }
   ],
   "source": [
    "f.depict_fragments('fragments_minimal.pdf')"
   ]
  },
  {
   "cell_type": "code",
   "execution_count": 11,
   "metadata": {},
   "outputs": [
    {
     "name": "stdout",
     "output_type": "stream",
     "text": [
      "Warning: SelectElfDiverseConfs: elfPop.NumConfs 1 <= elfLimit 1\n",
      "Warning: SelectElfDiverseConfs: elfPop.NumConfs 1 <= elfLimit 1\n",
      "Warning: SelectElfDiverseConfs: elfPop.NumConfs 1 <= elfLimit 1\n",
      "Warning: SelectElfDiverseConfs: elfPop.NumConfs 1 <= elfLimit 1\n",
      "Warning: SelectElfDiverseConfs: elfPop.NumConfs 1 <= elfLimit 1\n",
      "Warning: SelectElfDiverseConfs: elfPop.NumConfs 1 <= elfLimit 1\n",
      "Warning: SelectElfDiverseConfs: elfPop.NumConfs 1 <= elfLimit 1\n",
      "Warning: SelectElfDiverseConfs: elfPop.NumConfs 1 <= elfLimit 1\n",
      "Warning: SelectElfDiverseConfs: elfPop.NumConfs 1 <= elfLimit 1\n",
      "Warning: SelectElfDiverseConfs: elfPop.NumConfs 1 <= elfLimit 1\n",
      "Warning: SelectElfDiverseConfs: elfPop.NumConfs 1 <= elfLimit 1\n"
     ]
    },
    {
     "data": {
      "text/plain": [
       "True"
      ]
     },
     "execution_count": 11,
     "metadata": {},
     "output_type": "execute_result"
    }
   ],
   "source": [
    "f = fragmenter.fragment.WBOFragmenter(charged)\n",
    "f.fragment(threshold=0.03)\n",
    "f.depict_fragments('fragments_0.03.pdf')"
   ]
  }
 ],
 "metadata": {
  "kernelspec": {
   "display_name": "Python 3",
   "language": "python",
   "name": "python3"
  },
  "language_info": {
   "codemirror_mode": {
    "name": "ipython",
    "version": 3
   },
   "file_extension": ".py",
   "mimetype": "text/x-python",
   "name": "python",
   "nbconvert_exporter": "python",
   "pygments_lexer": "ipython3",
   "version": "3.7.2"
  }
 },
 "nbformat": 4,
 "nbformat_minor": 2
}
