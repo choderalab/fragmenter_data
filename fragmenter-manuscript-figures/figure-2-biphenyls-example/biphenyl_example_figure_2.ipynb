{
 "cells": [
  {
   "cell_type": "code",
   "execution_count": 1,
   "metadata": {},
   "outputs": [
    {
     "name": "stdout",
     "output_type": "stream",
     "text": [
      "v0.7.2\n",
      "v0.13.0+2.ga1691bfa\n",
      "fragmenter version: 0.0.6+10.geaa9fde.dirty\n",
      "cmiles version: v0.1.5+1.gdbd63e8\n"
     ]
    }
   ],
   "source": [
    "%matplotlib inline\n",
    "import matplotlib.pyplot as plt\n",
    "import matplotlib.ticker as mticker\n",
    "import seaborn as sbn\n",
    "import json\n",
    "import numpy as np\n",
    "from scipy import stats\n",
    "import arch.bootstrap\n",
    "\n",
    "import oenotebook as oenb\n",
    "from openeye import oequacpac, oechem, oedepict\n",
    "import qcfractal.interface as ptl\n",
    "\n",
    "import fragmenter\n",
    "import cmiles\n",
    "import qcfractal\n",
    "import qcportal\n",
    "print(qcportal.__version__)\n",
    "print(qcfractal.__version__)\n",
    "print('fragmenter version: {}'.format(fragmenter.__version__))\n",
    "print('cmiles version: {}'.format(cmiles.__version__))"
   ]
  },
  {
   "cell_type": "code",
   "execution_count": 2,
   "metadata": {},
   "outputs": [],
   "source": [
    "oemols = fragmenter.chemi.file_to_oemols('biphenyls.smi')"
   ]
  },
  {
   "cell_type": "code",
   "execution_count": 3,
   "metadata": {},
   "outputs": [
    {
     "name": "stdout",
     "output_type": "stream",
     "text": [
      "Warning: OEAssignPartialCharges has been deprecated please use OEAssignCharges instead!\n"
     ]
    }
   ],
   "source": [
    "bond_maps = []\n",
    "wbos_dep = []\n",
    "wbos_ind = []\n",
    "for mol in oemols:\n",
    "    cmiles.utils.add_atom_map(mol)\n",
    "    # Calculate WBO for only one conformation and ELF10 to see if WBOs differ. They should be the same for \n",
    "    # biphenlys because there is only one conformer per molecule\n",
    "    conf_independent = fragmenter.chemi.get_charges(mol, keep_confs=-1)\n",
    "    for bond in conf_independent.GetBonds():\n",
    "        if bond.IsRotor():\n",
    "            map_idx = (bond.GetBgn().GetMapIdx(), bond.GetEnd().GetMapIdx())\n",
    "            bond_maps.append(map_idx)\n",
    "            wbos_dep.append(bond.GetData('WibergBondOrder'))\n",
    "    for i, conf in enumerate(conf_independent.GetConfs()):\n",
    "        if i > 0:\n",
    "            print(mol.GetName(), i)\n",
    "            break\n",
    "        mol_copy = oechem.OEMol(conf)\n",
    "        oequacpac.OEAssignPartialCharges(mol_copy, oequacpac.OECharges_AM1BCCSym)\n",
    "        for bond in mol_copy.GetBonds():\n",
    "            if bond.IsRotor():\n",
    "                wbos_ind.append(bond.GetData('WibergBondOrder'))\n"
   ]
  },
  {
   "cell_type": "code",
   "execution_count": 4,
   "metadata": {},
   "outputs": [
    {
     "name": "stdout",
     "output_type": "stream",
     "text": [
      "Same WBOs for ELF10 and single conformer\n"
     ]
    }
   ],
   "source": [
    "if wbos_dep == wbos_ind:\n",
    "    print('Same WBOs for ELF10 and single conformer')"
   ]
  },
  {
   "cell_type": "code",
   "execution_count": 5,
   "metadata": {},
   "outputs": [],
   "source": [
    "colors = fragmenter.chemi._KELLYS_COLORS"
   ]
  },
  {
   "cell_type": "code",
   "execution_count": 6,
   "metadata": {},
   "outputs": [],
   "source": [
    "def visualize_biphenyls(mols, fname, rows, cols, bond_idx, wbos):\n",
    "    image = oedepict.OEImage(400, 200)\n",
    "    grid = oedepict.OEImageGrid(image, rows, cols)\n",
    "    opts = oedepict.OE2DMolDisplayOptions(grid.GetCellWidth(), grid.GetCellHeight(),\n",
    "                                      oedepict.OEScale_AutoScale)\n",
    "    minscale = float(\"inf\")\n",
    "    for m in mols:\n",
    "        #mol = oechem.OEMol()\n",
    "        #oechem.OESmilesToMol(mol, s)\n",
    "        #mols.append(mol)\n",
    "        oedepict.OEPrepareDepiction(m, False, True)\n",
    "        minscale = min(minscale, oedepict.OEGetMoleculeScale(m, opts))\n",
    "    \n",
    "    opts.SetScale(minscale)\n",
    "    for i, m in enumerate(zip(mols, grid.GetCells())):\n",
    "        mol = m[0]\n",
    "        cell = m[1]\n",
    "        mol.SetTitle(' ')\n",
    "        oedepict.OEPrepareDepiction(mol)\n",
    "        \n",
    "        bond = get_bond(mol, bond_idx[i])\n",
    "        atom_bond_set = oechem.OEAtomBondSet()\n",
    "        atom_bond_set.AddAtoms([bond.GetBgn(), bond.GetEnd()])\n",
    "        atom_bond_set.AddBond(bond)\n",
    "            \n",
    "        hstyle = oedepict.OEHighlightStyle_BallAndStick\n",
    "        hcolor = oechem.OEColor(colors[i])\n",
    "        \n",
    "        disp = oedepict.OE2DMolDisplay(mol, opts)\n",
    "        oedepict.OEAddHighlighting(disp, hcolor, hstyle, atom_bond_set) \n",
    "\n",
    "        bond_label = oedepict.OEHighlightLabel(\"{:.2f}\".format((wbos[i])), hcolor)\n",
    "        bond_label.SetFontScale(4.0)\n",
    "        oedepict.OEAddLabel(disp, bond_label, atom_bond_set)\n",
    "        oedepict.OERenderMolecule(cell, disp)\n",
    "    \n",
    "    oedepict.OEWriteImage(fname, image)\n",
    "    \n",
    "def get_bond(mol, bond_idx):\n",
    "    atom_bond_set = oechem.OEAtomBondSet()\n",
    "    atoms = [mol.GetAtom(oechem.OEHasMapIdx(i)) for i in bond_idx]\n",
    "    bond = mol.GetBond(atoms[0], atoms[1])\n",
    "    return bond\n",
    "    "
   ]
  },
  {
   "cell_type": "code",
   "execution_count": 7,
   "metadata": {},
   "outputs": [],
   "source": [
    "visualize_biphenyls(oemols[1:5], 'biphenyls_wbos.pdf', rows=1, cols=4, bond_idx=bond_maps[1:5], wbos=wbos_ind[1:5])\n",
    "visualize_biphenyls(oemols[6:10], 'biphenyls_fluoro_wbos.pdf', rows=1, cols=4, bond_idx=bond_maps[6:10], wbos=wbos_ind[6:10])\n",
    "visualize_biphenyls(oemols[11:15], 'biphenyls_chloro_wbos.pdf', rows=1, cols=4, bond_idx=bond_maps[11:15], wbos=wbos_ind[11:15])"
   ]
  },
  {
   "cell_type": "code",
   "execution_count": 8,
   "metadata": {},
   "outputs": [
    {
     "data": {
      "text/html": [
       "<script type=\"text/javascript\">window.PlotlyConfig = {MathJaxConfig: 'local'};</script><script type=\"text/javascript\">if (window.MathJax) {MathJax.Hub.Config({SVG: {font: \"STIX-Web\"}});}</script><script>requirejs.config({paths: { 'plotly': ['https://cdn.plot.ly/plotly-latest.min']},});if(!window._Plotly) {require(['plotly'],function(plotly) {window._Plotly=plotly;});}</script>"
      ],
      "text/vnd.plotly.v1+html": [
       "<script type=\"text/javascript\">window.PlotlyConfig = {MathJaxConfig: 'local'};</script><script type=\"text/javascript\">if (window.MathJax) {MathJax.Hub.Config({SVG: {font: \"STIX-Web\"}});}</script><script>requirejs.config({paths: { 'plotly': ['https://cdn.plot.ly/plotly-latest.min']},});if(!window._Plotly) {require(['plotly'],function(plotly) {window._Plotly=plotly;});}</script>"
      ]
     },
     "metadata": {},
     "output_type": "display_data"
    },
    {
     "data": {
      "text/html": [
       "<script type=\"text/javascript\">window.PlotlyConfig = {MathJaxConfig: 'local'};</script><script type=\"text/javascript\">if (window.MathJax) {MathJax.Hub.Config({SVG: {font: \"STIX-Web\"}});}</script><script>requirejs.config({paths: { 'plotly': ['https://cdn.plot.ly/plotly-latest.min']},});if(!window._Plotly) {require(['plotly'],function(plotly) {window._Plotly=plotly;});}</script>"
      ],
      "text/vnd.plotly.v1+html": [
       "<script type=\"text/javascript\">window.PlotlyConfig = {MathJaxConfig: 'local'};</script><script type=\"text/javascript\">if (window.MathJax) {MathJax.Hub.Config({SVG: {font: \"STIX-Web\"}});}</script><script>requirejs.config({paths: { 'plotly': ['https://cdn.plot.ly/plotly-latest.min']},});if(!window._Plotly) {require(['plotly'],function(plotly) {window._Plotly=plotly;});}</script>"
      ]
     },
     "metadata": {},
     "output_type": "display_data"
    },
    {
     "data": {
      "text/html": [
       "<script type=\"text/javascript\">window.PlotlyConfig = {MathJaxConfig: 'local'};</script><script type=\"text/javascript\">if (window.MathJax) {MathJax.Hub.Config({SVG: {font: \"STIX-Web\"}});}</script><script>requirejs.config({paths: { 'plotly': ['https://cdn.plot.ly/plotly-latest.min']},});if(!window._Plotly) {require(['plotly'],function(plotly) {window._Plotly=plotly;});}</script>"
      ],
      "text/vnd.plotly.v1+html": [
       "<script type=\"text/javascript\">window.PlotlyConfig = {MathJaxConfig: 'local'};</script><script type=\"text/javascript\">if (window.MathJax) {MathJax.Hub.Config({SVG: {font: \"STIX-Web\"}});}</script><script>requirejs.config({paths: { 'plotly': ['https://cdn.plot.ly/plotly-latest.min']},});if(!window._Plotly) {require(['plotly'],function(plotly) {window._Plotly=plotly;});}</script>"
      ]
     },
     "metadata": {},
     "output_type": "display_data"
    },
    {
     "data": {
      "text/html": [
       "<script type=\"text/javascript\">window.PlotlyConfig = {MathJaxConfig: 'local'};</script><script type=\"text/javascript\">if (window.MathJax) {MathJax.Hub.Config({SVG: {font: \"STIX-Web\"}});}</script><script>requirejs.config({paths: { 'plotly': ['https://cdn.plot.ly/plotly-latest.min']},});if(!window._Plotly) {require(['plotly'],function(plotly) {window._Plotly=plotly;});}</script>"
      ],
      "text/vnd.plotly.v1+html": [
       "<script type=\"text/javascript\">window.PlotlyConfig = {MathJaxConfig: 'local'};</script><script type=\"text/javascript\">if (window.MathJax) {MathJax.Hub.Config({SVG: {font: \"STIX-Web\"}});}</script><script>requirejs.config({paths: { 'plotly': ['https://cdn.plot.ly/plotly-latest.min']},});if(!window._Plotly) {require(['plotly'],function(plotly) {window._Plotly=plotly;});}</script>"
      ]
     },
     "metadata": {},
     "output_type": "display_data"
    },
    {
     "data": {
      "text/html": [
       "<script type=\"text/javascript\">window.PlotlyConfig = {MathJaxConfig: 'local'};</script><script type=\"text/javascript\">if (window.MathJax) {MathJax.Hub.Config({SVG: {font: \"STIX-Web\"}});}</script><script>requirejs.config({paths: { 'plotly': ['https://cdn.plot.ly/plotly-latest.min']},});if(!window._Plotly) {require(['plotly'],function(plotly) {window._Plotly=plotly;});}</script>"
      ],
      "text/vnd.plotly.v1+html": [
       "<script type=\"text/javascript\">window.PlotlyConfig = {MathJaxConfig: 'local'};</script><script type=\"text/javascript\">if (window.MathJax) {MathJax.Hub.Config({SVG: {font: \"STIX-Web\"}});}</script><script>requirejs.config({paths: { 'plotly': ['https://cdn.plot.ly/plotly-latest.min']},});if(!window._Plotly) {require(['plotly'],function(plotly) {window._Plotly=plotly;});}</script>"
      ]
     },
     "metadata": {},
     "output_type": "display_data"
    },
    {
     "data": {
      "text/html": [
       "<script type=\"text/javascript\">window.PlotlyConfig = {MathJaxConfig: 'local'};</script><script type=\"text/javascript\">if (window.MathJax) {MathJax.Hub.Config({SVG: {font: \"STIX-Web\"}});}</script><script>requirejs.config({paths: { 'plotly': ['https://cdn.plot.ly/plotly-latest.min']},});if(!window._Plotly) {require(['plotly'],function(plotly) {window._Plotly=plotly;});}</script>"
      ],
      "text/vnd.plotly.v1+html": [
       "<script type=\"text/javascript\">window.PlotlyConfig = {MathJaxConfig: 'local'};</script><script type=\"text/javascript\">if (window.MathJax) {MathJax.Hub.Config({SVG: {font: \"STIX-Web\"}});}</script><script>requirejs.config({paths: { 'plotly': ['https://cdn.plot.ly/plotly-latest.min']},});if(!window._Plotly) {require(['plotly'],function(plotly) {window._Plotly=plotly;});}</script>"
      ]
     },
     "metadata": {},
     "output_type": "display_data"
    },
    {
     "data": {
      "application/vnd.plotly.v1+json": {
       "config": {
        "linkText": "Export to plot.ly",
        "plotlyServerURL": "https://plot.ly",
        "showLink": false
       },
       "data": [
        {
         "mode": "lines+markers",
         "name": "[cH:1]1cc(cc[c:2]1[c:3]2[cH:4]c[nH+]cc2)O",
         "type": "scatter",
         "uid": "b7f86226-81e4-4cec-9325-511eb6c9e3ab",
         "x": [
          -165,
          -150,
          -135,
          -120,
          -105,
          -90,
          -75,
          -60,
          -45,
          -30,
          -15,
          0,
          15,
          30,
          45,
          60,
          75,
          90,
          105,
          120,
          135,
          150,
          165,
          180
         ],
         "y": [
          0.007,
          0.295,
          5.351,
          15.089,
          26.898,
          33.733,
          27.176,
          15.416,
          5.469,
          0.304,
          0,
          1.172,
          0,
          0.306,
          5.47,
          15.417,
          27.176,
          33.735,
          26.9,
          15.092,
          5.352,
          0.295,
          0.007,
          1.173
         ]
        },
        {
         "mode": "lines+markers",
         "name": "[cH:1]1cc(cc[c:2]1[c:3]2[cH:4]c[nH+]cc2)[O-]",
         "type": "scatter",
         "uid": "c06f78b6-ebeb-4e90-85c0-196c51ef0e0b",
         "x": [
          -165,
          -150,
          -135,
          -120,
          -105,
          -90,
          -75,
          -60,
          -45,
          -30,
          -15,
          0,
          15,
          30,
          45,
          60,
          75,
          90,
          105,
          120,
          135,
          150,
          165,
          180
         ],
         "y": [
          1.735,
          8.646,
          22.621,
          43.987,
          72.144,
          102.957,
          71.513,
          43.709,
          22.199,
          8.363,
          1.67,
          0,
          1.67,
          8.366,
          22.2,
          43.709,
          71.513,
          102.957,
          72.143,
          43.99,
          22.619,
          8.645,
          1.735,
          0.001
         ]
        },
        {
         "mode": "lines+markers",
         "name": "[cH:1]1cc(cc[c:2]1[c:3]2[cH:4]cncc2)O",
         "type": "scatter",
         "uid": "7258f47a-4cae-4a66-b766-3530c12fe7b9",
         "x": [
          -165,
          -150,
          -135,
          -120,
          -105,
          -90,
          -75,
          -60,
          -45,
          -30,
          -15,
          0,
          15,
          30,
          45,
          60,
          75,
          90,
          105,
          120,
          135,
          150,
          165,
          180
         ],
         "y": [
          2.893,
          0,
          0.551,
          4.365,
          9.083,
          11.215,
          9.112,
          4.428,
          0.565,
          0.004,
          2.885,
          5.391,
          2.883,
          0.002,
          0.564,
          4.431,
          9.112,
          11.216,
          9.084,
          4.366,
          0.555,
          0,
          2.893,
          5.39
         ]
        },
        {
         "mode": "lines+markers",
         "name": "[cH:1]1cc(cc[c:2]1[c:3]2[cH:4]cncc2)[O-]",
         "type": "scatter",
         "uid": "71cbc49e-3724-4db4-8fd6-96b76e5d47ce",
         "x": [
          -165,
          -150,
          -135,
          -120,
          -105,
          -90,
          -75,
          -60,
          -45,
          -30,
          -15,
          0,
          15,
          30,
          45,
          60,
          75,
          90,
          105,
          120,
          135,
          150,
          165,
          180
         ],
         "y": [
          0.037,
          2.127,
          8.894,
          20.186,
          33.856,
          43.373,
          33.939,
          20.312,
          8.883,
          2.067,
          0.037,
          0.19,
          0,
          2.097,
          8.881,
          20.317,
          33.942,
          43.373,
          33.86,
          20.186,
          8.894,
          2.129,
          0.04,
          0.191
         ]
        },
        {
         "mode": "lines+markers",
         "name": "c1c[cH:1][c:2](cc1)[c:3]2[cH:4]cncc2",
         "type": "scatter",
         "uid": "68de86c6-0f86-4739-80ca-8ca3f03e1c65",
         "x": [
          -165,
          -150,
          -135,
          -120,
          -105,
          -90,
          -75,
          -60,
          -45,
          -30,
          -15,
          0,
          15,
          30,
          45,
          60,
          75,
          90,
          105,
          120,
          135,
          150,
          165,
          180
         ],
         "y": [
          3.413,
          0.003,
          0.032,
          3.383,
          7.708,
          9.652,
          7.729,
          3.431,
          0.041,
          0.006,
          3.407,
          6.209,
          3.408,
          0.004,
          0.043,
          3.432,
          7.729,
          9.652,
          7.71,
          3.382,
          0.033,
          0,
          3.415,
          6.21
         ]
        }
       ],
       "layout": {
        "title": {
         "text": "TorsionDriveDataset 1-D Plot [spec=default]"
        },
        "xaxis": {
         "range": [
          -175,
          190
         ],
         "title": {
          "text": "Dihedral Angle [degrees]"
         },
         "zeroline": false
        },
        "yaxis": {
         "title": {
          "text": "Relative Energy [kJ/mol]"
         },
         "zeroline": true
        }
       }
      },
      "text/html": [
       "<div id=\"2e14ebeb-d76b-4c8c-bc6e-2a41df3185bc\" style=\"height: 525px; width: 100%;\" class=\"plotly-graph-div\"></div><script type=\"text/javascript\">require([\"plotly\"], function(Plotly) { window.PLOTLYENV=window.PLOTLYENV || {};window.PLOTLYENV.BASE_URL=\"https://plot.ly\";\n",
       "if (document.getElementById(\"2e14ebeb-d76b-4c8c-bc6e-2a41df3185bc\")) {\n",
       "    Plotly.newPlot(\"2e14ebeb-d76b-4c8c-bc6e-2a41df3185bc\", [{\"mode\": \"lines+markers\", \"name\": \"[cH:1]1cc(cc[c:2]1[c:3]2[cH:4]c[nH+]cc2)O\", \"uid\": \"b7f86226-81e4-4cec-9325-511eb6c9e3ab\", \"x\": [-165, -150, -135, -120, -105, -90, -75, -60, -45, -30, -15, 0, 15, 30, 45, 60, 75, 90, 105, 120, 135, 150, 165, 180], \"y\": [0.007, 0.295, 5.351, 15.089, 26.898, 33.733, 27.176, 15.416, 5.469, 0.304, 0.0, 1.172, 0.0, 0.306, 5.47, 15.417, 27.176, 33.735, 26.9, 15.092, 5.352, 0.295, 0.007, 1.173], \"type\": \"scatter\"}, {\"mode\": \"lines+markers\", \"name\": \"[cH:1]1cc(cc[c:2]1[c:3]2[cH:4]c[nH+]cc2)[O-]\", \"uid\": \"c06f78b6-ebeb-4e90-85c0-196c51ef0e0b\", \"x\": [-165, -150, -135, -120, -105, -90, -75, -60, -45, -30, -15, 0, 15, 30, 45, 60, 75, 90, 105, 120, 135, 150, 165, 180], \"y\": [1.735, 8.646, 22.621, 43.987, 72.144, 102.957, 71.513, 43.709, 22.199, 8.363, 1.67, 0.0, 1.67, 8.366, 22.2, 43.709, 71.513, 102.957, 72.143, 43.99, 22.619, 8.645, 1.735, 0.001], \"type\": \"scatter\"}, {\"mode\": \"lines+markers\", \"name\": \"[cH:1]1cc(cc[c:2]1[c:3]2[cH:4]cncc2)O\", \"uid\": \"7258f47a-4cae-4a66-b766-3530c12fe7b9\", \"x\": [-165, -150, -135, -120, -105, -90, -75, -60, -45, -30, -15, 0, 15, 30, 45, 60, 75, 90, 105, 120, 135, 150, 165, 180], \"y\": [2.893, 0.0, 0.551, 4.365, 9.083, 11.215, 9.112, 4.428, 0.565, 0.004, 2.885, 5.391, 2.883, 0.002, 0.564, 4.431, 9.112, 11.216, 9.084, 4.366, 0.555, 0.0, 2.893, 5.39], \"type\": \"scatter\"}, {\"mode\": \"lines+markers\", \"name\": \"[cH:1]1cc(cc[c:2]1[c:3]2[cH:4]cncc2)[O-]\", \"uid\": \"71cbc49e-3724-4db4-8fd6-96b76e5d47ce\", \"x\": [-165, -150, -135, -120, -105, -90, -75, -60, -45, -30, -15, 0, 15, 30, 45, 60, 75, 90, 105, 120, 135, 150, 165, 180], \"y\": [0.037, 2.127, 8.894, 20.186, 33.856, 43.373, 33.939, 20.312, 8.883, 2.067, 0.037, 0.19, 0.0, 2.097, 8.881, 20.317, 33.942, 43.373, 33.86, 20.186, 8.894, 2.129, 0.04, 0.191], \"type\": \"scatter\"}, {\"mode\": \"lines+markers\", \"name\": \"c1c[cH:1][c:2](cc1)[c:3]2[cH:4]cncc2\", \"uid\": \"68de86c6-0f86-4739-80ca-8ca3f03e1c65\", \"x\": [-165, -150, -135, -120, -105, -90, -75, -60, -45, -30, -15, 0, 15, 30, 45, 60, 75, 90, 105, 120, 135, 150, 165, 180], \"y\": [3.413, 0.003, 0.032, 3.383, 7.708, 9.652, 7.729, 3.431, 0.041, 0.006, 3.407, 6.209, 3.408, 0.004, 0.043, 3.432, 7.729, 9.652, 7.71, 3.382, 0.033, 0.0, 3.415, 6.21], \"type\": \"scatter\"}], {\"title\": {\"text\": \"TorsionDriveDataset 1-D Plot [spec=default]\"}, \"xaxis\": {\"range\": [-175, 190], \"title\": {\"text\": \"Dihedral Angle [degrees]\"}, \"zeroline\": false}, \"yaxis\": {\"title\": {\"text\": \"Relative Energy [kJ/mol]\"}, \"zeroline\": true}}, {\"showLink\": false, \"linkText\": \"Export to plot.ly\", \"plotlyServerURL\": \"https://plot.ly\"}); \n",
       "}\n",
       "});</script><script type=\"text/javascript\">window.addEventListener(\"resize\", function(){if (document.getElementById(\"2e14ebeb-d76b-4c8c-bc6e-2a41df3185bc\")) {window._Plotly.Plots.resize(document.getElementById(\"2e14ebeb-d76b-4c8c-bc6e-2a41df3185bc\"));};})</script>"
      ],
      "text/vnd.plotly.v1+html": [
       "<div id=\"2e14ebeb-d76b-4c8c-bc6e-2a41df3185bc\" style=\"height: 525px; width: 100%;\" class=\"plotly-graph-div\"></div><script type=\"text/javascript\">require([\"plotly\"], function(Plotly) { window.PLOTLYENV=window.PLOTLYENV || {};window.PLOTLYENV.BASE_URL=\"https://plot.ly\";\n",
       "if (document.getElementById(\"2e14ebeb-d76b-4c8c-bc6e-2a41df3185bc\")) {\n",
       "    Plotly.newPlot(\"2e14ebeb-d76b-4c8c-bc6e-2a41df3185bc\", [{\"mode\": \"lines+markers\", \"name\": \"[cH:1]1cc(cc[c:2]1[c:3]2[cH:4]c[nH+]cc2)O\", \"uid\": \"b7f86226-81e4-4cec-9325-511eb6c9e3ab\", \"x\": [-165, -150, -135, -120, -105, -90, -75, -60, -45, -30, -15, 0, 15, 30, 45, 60, 75, 90, 105, 120, 135, 150, 165, 180], \"y\": [0.007, 0.295, 5.351, 15.089, 26.898, 33.733, 27.176, 15.416, 5.469, 0.304, 0.0, 1.172, 0.0, 0.306, 5.47, 15.417, 27.176, 33.735, 26.9, 15.092, 5.352, 0.295, 0.007, 1.173], \"type\": \"scatter\"}, {\"mode\": \"lines+markers\", \"name\": \"[cH:1]1cc(cc[c:2]1[c:3]2[cH:4]c[nH+]cc2)[O-]\", \"uid\": \"c06f78b6-ebeb-4e90-85c0-196c51ef0e0b\", \"x\": [-165, -150, -135, -120, -105, -90, -75, -60, -45, -30, -15, 0, 15, 30, 45, 60, 75, 90, 105, 120, 135, 150, 165, 180], \"y\": [1.735, 8.646, 22.621, 43.987, 72.144, 102.957, 71.513, 43.709, 22.199, 8.363, 1.67, 0.0, 1.67, 8.366, 22.2, 43.709, 71.513, 102.957, 72.143, 43.99, 22.619, 8.645, 1.735, 0.001], \"type\": \"scatter\"}, {\"mode\": \"lines+markers\", \"name\": \"[cH:1]1cc(cc[c:2]1[c:3]2[cH:4]cncc2)O\", \"uid\": \"7258f47a-4cae-4a66-b766-3530c12fe7b9\", \"x\": [-165, -150, -135, -120, -105, -90, -75, -60, -45, -30, -15, 0, 15, 30, 45, 60, 75, 90, 105, 120, 135, 150, 165, 180], \"y\": [2.893, 0.0, 0.551, 4.365, 9.083, 11.215, 9.112, 4.428, 0.565, 0.004, 2.885, 5.391, 2.883, 0.002, 0.564, 4.431, 9.112, 11.216, 9.084, 4.366, 0.555, 0.0, 2.893, 5.39], \"type\": \"scatter\"}, {\"mode\": \"lines+markers\", \"name\": \"[cH:1]1cc(cc[c:2]1[c:3]2[cH:4]cncc2)[O-]\", \"uid\": \"71cbc49e-3724-4db4-8fd6-96b76e5d47ce\", \"x\": [-165, -150, -135, -120, -105, -90, -75, -60, -45, -30, -15, 0, 15, 30, 45, 60, 75, 90, 105, 120, 135, 150, 165, 180], \"y\": [0.037, 2.127, 8.894, 20.186, 33.856, 43.373, 33.939, 20.312, 8.883, 2.067, 0.037, 0.19, 0.0, 2.097, 8.881, 20.317, 33.942, 43.373, 33.86, 20.186, 8.894, 2.129, 0.04, 0.191], \"type\": \"scatter\"}, {\"mode\": \"lines+markers\", \"name\": \"c1c[cH:1][c:2](cc1)[c:3]2[cH:4]cncc2\", \"uid\": \"68de86c6-0f86-4739-80ca-8ca3f03e1c65\", \"x\": [-165, -150, -135, -120, -105, -90, -75, -60, -45, -30, -15, 0, 15, 30, 45, 60, 75, 90, 105, 120, 135, 150, 165, 180], \"y\": [3.413, 0.003, 0.032, 3.383, 7.708, 9.652, 7.729, 3.431, 0.041, 0.006, 3.407, 6.209, 3.408, 0.004, 0.043, 3.432, 7.729, 9.652, 7.71, 3.382, 0.033, 0.0, 3.415, 6.21], \"type\": \"scatter\"}], {\"title\": {\"text\": \"TorsionDriveDataset 1-D Plot [spec=default]\"}, \"xaxis\": {\"range\": [-175, 190], \"title\": {\"text\": \"Dihedral Angle [degrees]\"}, \"zeroline\": false}, \"yaxis\": {\"title\": {\"text\": \"Relative Energy [kJ/mol]\"}, \"zeroline\": true}}, {\"showLink\": false, \"linkText\": \"Export to plot.ly\", \"plotlyServerURL\": \"https://plot.ly\"}); \n",
       "}\n",
       "});</script><script type=\"text/javascript\">window.addEventListener(\"resize\", function(){if (document.getElementById(\"2e14ebeb-d76b-4c8c-bc6e-2a41df3185bc\")) {window._Plotly.Plots.resize(document.getElementById(\"2e14ebeb-d76b-4c8c-bc6e-2a41df3185bc\"));};})</script>"
      ]
     },
     "metadata": {},
     "output_type": "display_data"
    },
    {
     "data": {
      "text/html": [
       "<script type=\"text/javascript\">window.PlotlyConfig = {MathJaxConfig: 'local'};</script><script type=\"text/javascript\">if (window.MathJax) {MathJax.Hub.Config({SVG: {font: \"STIX-Web\"}});}</script><script>requirejs.config({paths: { 'plotly': ['https://cdn.plot.ly/plotly-latest.min']},});if(!window._Plotly) {require(['plotly'],function(plotly) {window._Plotly=plotly;});}</script>"
      ],
      "text/vnd.plotly.v1+html": [
       "<script type=\"text/javascript\">window.PlotlyConfig = {MathJaxConfig: 'local'};</script><script type=\"text/javascript\">if (window.MathJax) {MathJax.Hub.Config({SVG: {font: \"STIX-Web\"}});}</script><script>requirejs.config({paths: { 'plotly': ['https://cdn.plot.ly/plotly-latest.min']},});if(!window._Plotly) {require(['plotly'],function(plotly) {window._Plotly=plotly;});}</script>"
      ]
     },
     "metadata": {},
     "output_type": "display_data"
    },
    {
     "data": {
      "text/html": [
       "<script type=\"text/javascript\">window.PlotlyConfig = {MathJaxConfig: 'local'};</script><script type=\"text/javascript\">if (window.MathJax) {MathJax.Hub.Config({SVG: {font: \"STIX-Web\"}});}</script><script>requirejs.config({paths: { 'plotly': ['https://cdn.plot.ly/plotly-latest.min']},});if(!window._Plotly) {require(['plotly'],function(plotly) {window._Plotly=plotly;});}</script>"
      ],
      "text/vnd.plotly.v1+html": [
       "<script type=\"text/javascript\">window.PlotlyConfig = {MathJaxConfig: 'local'};</script><script type=\"text/javascript\">if (window.MathJax) {MathJax.Hub.Config({SVG: {font: \"STIX-Web\"}});}</script><script>requirejs.config({paths: { 'plotly': ['https://cdn.plot.ly/plotly-latest.min']},});if(!window._Plotly) {require(['plotly'],function(plotly) {window._Plotly=plotly;});}</script>"
      ]
     },
     "metadata": {},
     "output_type": "display_data"
    },
    {
     "data": {
      "text/html": [
       "<script type=\"text/javascript\">window.PlotlyConfig = {MathJaxConfig: 'local'};</script><script type=\"text/javascript\">if (window.MathJax) {MathJax.Hub.Config({SVG: {font: \"STIX-Web\"}});}</script><script>requirejs.config({paths: { 'plotly': ['https://cdn.plot.ly/plotly-latest.min']},});if(!window._Plotly) {require(['plotly'],function(plotly) {window._Plotly=plotly;});}</script>"
      ],
      "text/vnd.plotly.v1+html": [
       "<script type=\"text/javascript\">window.PlotlyConfig = {MathJaxConfig: 'local'};</script><script type=\"text/javascript\">if (window.MathJax) {MathJax.Hub.Config({SVG: {font: \"STIX-Web\"}});}</script><script>requirejs.config({paths: { 'plotly': ['https://cdn.plot.ly/plotly-latest.min']},});if(!window._Plotly) {require(['plotly'],function(plotly) {window._Plotly=plotly;});}</script>"
      ]
     },
     "metadata": {},
     "output_type": "display_data"
    },
    {
     "data": {
      "text/html": [
       "<script type=\"text/javascript\">window.PlotlyConfig = {MathJaxConfig: 'local'};</script><script type=\"text/javascript\">if (window.MathJax) {MathJax.Hub.Config({SVG: {font: \"STIX-Web\"}});}</script><script>requirejs.config({paths: { 'plotly': ['https://cdn.plot.ly/plotly-latest.min']},});if(!window._Plotly) {require(['plotly'],function(plotly) {window._Plotly=plotly;});}</script>"
      ],
      "text/vnd.plotly.v1+html": [
       "<script type=\"text/javascript\">window.PlotlyConfig = {MathJaxConfig: 'local'};</script><script type=\"text/javascript\">if (window.MathJax) {MathJax.Hub.Config({SVG: {font: \"STIX-Web\"}});}</script><script>requirejs.config({paths: { 'plotly': ['https://cdn.plot.ly/plotly-latest.min']},});if(!window._Plotly) {require(['plotly'],function(plotly) {window._Plotly=plotly;});}</script>"
      ]
     },
     "metadata": {},
     "output_type": "display_data"
    },
    {
     "data": {
      "text/html": [
       "<script type=\"text/javascript\">window.PlotlyConfig = {MathJaxConfig: 'local'};</script><script type=\"text/javascript\">if (window.MathJax) {MathJax.Hub.Config({SVG: {font: \"STIX-Web\"}});}</script><script>requirejs.config({paths: { 'plotly': ['https://cdn.plot.ly/plotly-latest.min']},});if(!window._Plotly) {require(['plotly'],function(plotly) {window._Plotly=plotly;});}</script>"
      ],
      "text/vnd.plotly.v1+html": [
       "<script type=\"text/javascript\">window.PlotlyConfig = {MathJaxConfig: 'local'};</script><script type=\"text/javascript\">if (window.MathJax) {MathJax.Hub.Config({SVG: {font: \"STIX-Web\"}});}</script><script>requirejs.config({paths: { 'plotly': ['https://cdn.plot.ly/plotly-latest.min']},});if(!window._Plotly) {require(['plotly'],function(plotly) {window._Plotly=plotly;});}</script>"
      ]
     },
     "metadata": {},
     "output_type": "display_data"
    },
    {
     "data": {
      "text/html": [
       "<script type=\"text/javascript\">window.PlotlyConfig = {MathJaxConfig: 'local'};</script><script type=\"text/javascript\">if (window.MathJax) {MathJax.Hub.Config({SVG: {font: \"STIX-Web\"}});}</script><script>requirejs.config({paths: { 'plotly': ['https://cdn.plot.ly/plotly-latest.min']},});if(!window._Plotly) {require(['plotly'],function(plotly) {window._Plotly=plotly;});}</script>"
      ],
      "text/vnd.plotly.v1+html": [
       "<script type=\"text/javascript\">window.PlotlyConfig = {MathJaxConfig: 'local'};</script><script type=\"text/javascript\">if (window.MathJax) {MathJax.Hub.Config({SVG: {font: \"STIX-Web\"}});}</script><script>requirejs.config({paths: { 'plotly': ['https://cdn.plot.ly/plotly-latest.min']},});if(!window._Plotly) {require(['plotly'],function(plotly) {window._Plotly=plotly;});}</script>"
      ]
     },
     "metadata": {},
     "output_type": "display_data"
    },
    {
     "data": {
      "application/vnd.plotly.v1+json": {
       "config": {
        "linkText": "Export to plot.ly",
        "plotlyServerURL": "https://plot.ly",
        "showLink": false
       },
       "data": [
        {
         "mode": "lines+markers",
         "name": "c1[cH:1][c:2](c(cc1O)F)[c:4]2[cH:3]c[nH+]cc2",
         "type": "scatter",
         "uid": "11c7f7fb-b78b-4af3-8116-3b1f86e6b970",
         "x": [
          -165,
          -150,
          -135,
          -120,
          -105,
          -90,
          -75,
          -60,
          -45,
          -30,
          -15,
          0,
          15,
          30,
          45,
          60,
          75,
          90,
          105,
          120,
          135,
          150,
          165,
          180
         ],
         "y": [
          0.968,
          0.001,
          4.108,
          13.232,
          24.446,
          30.62,
          24.635,
          13.868,
          4.57,
          0.086,
          0.848,
          2.991,
          0.847,
          0.086,
          4.57,
          13.869,
          24.634,
          30.621,
          24.448,
          13.234,
          4.106,
          0,
          0.969,
          2.993
         ]
        },
        {
         "mode": "lines+markers",
         "name": "c1[cH:1][c:2](c(cc1O)F)[c:4]2[cH:3]cncc2",
         "type": "scatter",
         "uid": "55c7149d-b6ed-4bde-9ac2-4008ad16ba54",
         "x": [
          -165,
          -150,
          -135,
          -120,
          -105,
          -90,
          -75,
          -60,
          -45,
          -30,
          -15,
          0,
          15,
          30,
          45,
          60,
          75,
          90,
          105,
          120,
          135,
          150,
          165,
          180
         ],
         "y": [
          4.738,
          0.533,
          0.002,
          2.959,
          6.889,
          8.626,
          7.111,
          3.345,
          0.174,
          0.32,
          4.399,
          8.115,
          4.4,
          0.319,
          0.173,
          3.345,
          7.111,
          8.628,
          6.888,
          2.959,
          0,
          0.535,
          4.736,
          8.117
         ]
        },
        {
         "mode": "lines+markers",
         "name": "c1[cH:1][c:2](c(cc1[O-])F)[c:4]2[cH:3]c[nH+]cc2",
         "type": "scatter",
         "uid": "e0494919-baa7-457e-8be9-f28c4daa89fa",
         "x": [
          -165,
          -150,
          -135,
          -120,
          -105,
          -90,
          -75,
          -60,
          -45,
          -30,
          -15,
          0,
          15,
          30,
          45,
          60,
          75,
          90,
          105,
          120,
          135,
          150,
          165,
          180
         ],
         "y": [
          0.582,
          5.349,
          17.233,
          36.732,
          63.106,
          94.311,
          64.968,
          38.712,
          18.398,
          5.82,
          0.667,
          0.001,
          0.667,
          5.822,
          18.396,
          38.711,
          64.968,
          94.308,
          63.11,
          36.732,
          17.23,
          5.351,
          0.582,
          0
         ]
        },
        {
         "mode": "lines+markers",
         "name": "c1[cH:1][c:2](c(cc1[O-])F)[c:4]2[cH:3]cncc2",
         "type": "scatter",
         "uid": "ee7e0c6e-667f-4feb-b518-9f8d5667a34e",
         "x": [
          -165,
          -150,
          -135,
          -120,
          -105,
          -90,
          -75,
          -60,
          -45,
          -30,
          -15,
          0,
          15,
          30,
          45,
          60,
          75,
          90,
          105,
          120,
          135,
          150,
          165,
          180
         ],
         "y": [
          0.079,
          0.4,
          5.404,
          14.996,
          26.979,
          35.665,
          28.343,
          16.48,
          6.302,
          0.646,
          0,
          1.236,
          0,
          0.653,
          6.301,
          16.48,
          28.34,
          35.665,
          26.979,
          14.995,
          5.405,
          0.401,
          0.079,
          1.236
         ]
        },
        {
         "mode": "lines+markers",
         "name": "c1ccc([c:2]([cH:1]1)[c:3]2[cH:4]cncc2)F",
         "type": "scatter",
         "uid": "35d42cce-8748-4854-bd35-6645548e5180",
         "x": [
          -165,
          -150,
          -135,
          -120,
          -105,
          -90,
          -75,
          -60,
          -45,
          -30,
          -15,
          0,
          15,
          30,
          45,
          60,
          75,
          90,
          105,
          120,
          135,
          150,
          165,
          180
         ],
         "y": [
          5.842,
          1.064,
          0,
          2.548,
          6.159,
          7.782,
          6.376,
          2.903,
          0.13,
          0.793,
          5.463,
          9.535,
          5.463,
          0.795,
          0.13,
          2.902,
          6.378,
          7.781,
          6.159,
          2.548,
          0.001,
          1.064,
          5.842,
          9.535
         ]
        }
       ],
       "layout": {
        "title": {
         "text": "TorsionDriveDataset 1-D Plot [spec=default]"
        },
        "xaxis": {
         "range": [
          -175,
          190
         ],
         "title": {
          "text": "Dihedral Angle [degrees]"
         },
         "zeroline": false
        },
        "yaxis": {
         "title": {
          "text": "Relative Energy [kJ/mol]"
         },
         "zeroline": true
        }
       }
      },
      "text/html": [
       "<div id=\"4abe94d7-e611-4679-8f43-87f7d575f7b2\" style=\"height: 525px; width: 100%;\" class=\"plotly-graph-div\"></div><script type=\"text/javascript\">require([\"plotly\"], function(Plotly) { window.PLOTLYENV=window.PLOTLYENV || {};window.PLOTLYENV.BASE_URL=\"https://plot.ly\";\n",
       "if (document.getElementById(\"4abe94d7-e611-4679-8f43-87f7d575f7b2\")) {\n",
       "    Plotly.newPlot(\"4abe94d7-e611-4679-8f43-87f7d575f7b2\", [{\"mode\": \"lines+markers\", \"name\": \"c1[cH:1][c:2](c(cc1O)F)[c:4]2[cH:3]c[nH+]cc2\", \"uid\": \"11c7f7fb-b78b-4af3-8116-3b1f86e6b970\", \"x\": [-165, -150, -135, -120, -105, -90, -75, -60, -45, -30, -15, 0, 15, 30, 45, 60, 75, 90, 105, 120, 135, 150, 165, 180], \"y\": [0.968, 0.001, 4.108, 13.232, 24.446, 30.62, 24.635, 13.868, 4.57, 0.086, 0.848, 2.991, 0.847, 0.086, 4.57, 13.869, 24.634, 30.621, 24.448, 13.234, 4.106, 0.0, 0.969, 2.993], \"type\": \"scatter\"}, {\"mode\": \"lines+markers\", \"name\": \"c1[cH:1][c:2](c(cc1O)F)[c:4]2[cH:3]cncc2\", \"uid\": \"55c7149d-b6ed-4bde-9ac2-4008ad16ba54\", \"x\": [-165, -150, -135, -120, -105, -90, -75, -60, -45, -30, -15, 0, 15, 30, 45, 60, 75, 90, 105, 120, 135, 150, 165, 180], \"y\": [4.738, 0.533, 0.002, 2.959, 6.889, 8.626, 7.111, 3.345, 0.174, 0.32, 4.399, 8.115, 4.4, 0.319, 0.173, 3.345, 7.111, 8.628, 6.888, 2.959, 0.0, 0.535, 4.736, 8.117], \"type\": \"scatter\"}, {\"mode\": \"lines+markers\", \"name\": \"c1[cH:1][c:2](c(cc1[O-])F)[c:4]2[cH:3]c[nH+]cc2\", \"uid\": \"e0494919-baa7-457e-8be9-f28c4daa89fa\", \"x\": [-165, -150, -135, -120, -105, -90, -75, -60, -45, -30, -15, 0, 15, 30, 45, 60, 75, 90, 105, 120, 135, 150, 165, 180], \"y\": [0.582, 5.349, 17.233, 36.732, 63.106, 94.311, 64.968, 38.712, 18.398, 5.82, 0.667, 0.001, 0.667, 5.822, 18.396, 38.711, 64.968, 94.308, 63.11, 36.732, 17.23, 5.351, 0.582, 0.0], \"type\": \"scatter\"}, {\"mode\": \"lines+markers\", \"name\": \"c1[cH:1][c:2](c(cc1[O-])F)[c:4]2[cH:3]cncc2\", \"uid\": \"ee7e0c6e-667f-4feb-b518-9f8d5667a34e\", \"x\": [-165, -150, -135, -120, -105, -90, -75, -60, -45, -30, -15, 0, 15, 30, 45, 60, 75, 90, 105, 120, 135, 150, 165, 180], \"y\": [0.079, 0.4, 5.404, 14.996, 26.979, 35.665, 28.343, 16.48, 6.302, 0.646, 0.0, 1.236, 0.0, 0.653, 6.301, 16.48, 28.34, 35.665, 26.979, 14.995, 5.405, 0.401, 0.079, 1.236], \"type\": \"scatter\"}, {\"mode\": \"lines+markers\", \"name\": \"c1ccc([c:2]([cH:1]1)[c:3]2[cH:4]cncc2)F\", \"uid\": \"35d42cce-8748-4854-bd35-6645548e5180\", \"x\": [-165, -150, -135, -120, -105, -90, -75, -60, -45, -30, -15, 0, 15, 30, 45, 60, 75, 90, 105, 120, 135, 150, 165, 180], \"y\": [5.842, 1.064, 0.0, 2.548, 6.159, 7.782, 6.376, 2.903, 0.13, 0.793, 5.463, 9.535, 5.463, 0.795, 0.13, 2.902, 6.378, 7.781, 6.159, 2.548, 0.001, 1.064, 5.842, 9.535], \"type\": \"scatter\"}], {\"title\": {\"text\": \"TorsionDriveDataset 1-D Plot [spec=default]\"}, \"xaxis\": {\"range\": [-175, 190], \"title\": {\"text\": \"Dihedral Angle [degrees]\"}, \"zeroline\": false}, \"yaxis\": {\"title\": {\"text\": \"Relative Energy [kJ/mol]\"}, \"zeroline\": true}}, {\"showLink\": false, \"linkText\": \"Export to plot.ly\", \"plotlyServerURL\": \"https://plot.ly\"}); \n",
       "}\n",
       "});</script><script type=\"text/javascript\">window.addEventListener(\"resize\", function(){if (document.getElementById(\"4abe94d7-e611-4679-8f43-87f7d575f7b2\")) {window._Plotly.Plots.resize(document.getElementById(\"4abe94d7-e611-4679-8f43-87f7d575f7b2\"));};})</script>"
      ],
      "text/vnd.plotly.v1+html": [
       "<div id=\"4abe94d7-e611-4679-8f43-87f7d575f7b2\" style=\"height: 525px; width: 100%;\" class=\"plotly-graph-div\"></div><script type=\"text/javascript\">require([\"plotly\"], function(Plotly) { window.PLOTLYENV=window.PLOTLYENV || {};window.PLOTLYENV.BASE_URL=\"https://plot.ly\";\n",
       "if (document.getElementById(\"4abe94d7-e611-4679-8f43-87f7d575f7b2\")) {\n",
       "    Plotly.newPlot(\"4abe94d7-e611-4679-8f43-87f7d575f7b2\", [{\"mode\": \"lines+markers\", \"name\": \"c1[cH:1][c:2](c(cc1O)F)[c:4]2[cH:3]c[nH+]cc2\", \"uid\": \"11c7f7fb-b78b-4af3-8116-3b1f86e6b970\", \"x\": [-165, -150, -135, -120, -105, -90, -75, -60, -45, -30, -15, 0, 15, 30, 45, 60, 75, 90, 105, 120, 135, 150, 165, 180], \"y\": [0.968, 0.001, 4.108, 13.232, 24.446, 30.62, 24.635, 13.868, 4.57, 0.086, 0.848, 2.991, 0.847, 0.086, 4.57, 13.869, 24.634, 30.621, 24.448, 13.234, 4.106, 0.0, 0.969, 2.993], \"type\": \"scatter\"}, {\"mode\": \"lines+markers\", \"name\": \"c1[cH:1][c:2](c(cc1O)F)[c:4]2[cH:3]cncc2\", \"uid\": \"55c7149d-b6ed-4bde-9ac2-4008ad16ba54\", \"x\": [-165, -150, -135, -120, -105, -90, -75, -60, -45, -30, -15, 0, 15, 30, 45, 60, 75, 90, 105, 120, 135, 150, 165, 180], \"y\": [4.738, 0.533, 0.002, 2.959, 6.889, 8.626, 7.111, 3.345, 0.174, 0.32, 4.399, 8.115, 4.4, 0.319, 0.173, 3.345, 7.111, 8.628, 6.888, 2.959, 0.0, 0.535, 4.736, 8.117], \"type\": \"scatter\"}, {\"mode\": \"lines+markers\", \"name\": \"c1[cH:1][c:2](c(cc1[O-])F)[c:4]2[cH:3]c[nH+]cc2\", \"uid\": \"e0494919-baa7-457e-8be9-f28c4daa89fa\", \"x\": [-165, -150, -135, -120, -105, -90, -75, -60, -45, -30, -15, 0, 15, 30, 45, 60, 75, 90, 105, 120, 135, 150, 165, 180], \"y\": [0.582, 5.349, 17.233, 36.732, 63.106, 94.311, 64.968, 38.712, 18.398, 5.82, 0.667, 0.001, 0.667, 5.822, 18.396, 38.711, 64.968, 94.308, 63.11, 36.732, 17.23, 5.351, 0.582, 0.0], \"type\": \"scatter\"}, {\"mode\": \"lines+markers\", \"name\": \"c1[cH:1][c:2](c(cc1[O-])F)[c:4]2[cH:3]cncc2\", \"uid\": \"ee7e0c6e-667f-4feb-b518-9f8d5667a34e\", \"x\": [-165, -150, -135, -120, -105, -90, -75, -60, -45, -30, -15, 0, 15, 30, 45, 60, 75, 90, 105, 120, 135, 150, 165, 180], \"y\": [0.079, 0.4, 5.404, 14.996, 26.979, 35.665, 28.343, 16.48, 6.302, 0.646, 0.0, 1.236, 0.0, 0.653, 6.301, 16.48, 28.34, 35.665, 26.979, 14.995, 5.405, 0.401, 0.079, 1.236], \"type\": \"scatter\"}, {\"mode\": \"lines+markers\", \"name\": \"c1ccc([c:2]([cH:1]1)[c:3]2[cH:4]cncc2)F\", \"uid\": \"35d42cce-8748-4854-bd35-6645548e5180\", \"x\": [-165, -150, -135, -120, -105, -90, -75, -60, -45, -30, -15, 0, 15, 30, 45, 60, 75, 90, 105, 120, 135, 150, 165, 180], \"y\": [5.842, 1.064, 0.0, 2.548, 6.159, 7.782, 6.376, 2.903, 0.13, 0.793, 5.463, 9.535, 5.463, 0.795, 0.13, 2.902, 6.378, 7.781, 6.159, 2.548, 0.001, 1.064, 5.842, 9.535], \"type\": \"scatter\"}], {\"title\": {\"text\": \"TorsionDriveDataset 1-D Plot [spec=default]\"}, \"xaxis\": {\"range\": [-175, 190], \"title\": {\"text\": \"Dihedral Angle [degrees]\"}, \"zeroline\": false}, \"yaxis\": {\"title\": {\"text\": \"Relative Energy [kJ/mol]\"}, \"zeroline\": true}}, {\"showLink\": false, \"linkText\": \"Export to plot.ly\", \"plotlyServerURL\": \"https://plot.ly\"}); \n",
       "}\n",
       "});</script><script type=\"text/javascript\">window.addEventListener(\"resize\", function(){if (document.getElementById(\"4abe94d7-e611-4679-8f43-87f7d575f7b2\")) {window._Plotly.Plots.resize(document.getElementById(\"4abe94d7-e611-4679-8f43-87f7d575f7b2\"));};})</script>"
      ]
     },
     "metadata": {},
     "output_type": "display_data"
    },
    {
     "data": {
      "text/html": [
       "<script type=\"text/javascript\">window.PlotlyConfig = {MathJaxConfig: 'local'};</script><script type=\"text/javascript\">if (window.MathJax) {MathJax.Hub.Config({SVG: {font: \"STIX-Web\"}});}</script><script>requirejs.config({paths: { 'plotly': ['https://cdn.plot.ly/plotly-latest.min']},});if(!window._Plotly) {require(['plotly'],function(plotly) {window._Plotly=plotly;});}</script>"
      ],
      "text/vnd.plotly.v1+html": [
       "<script type=\"text/javascript\">window.PlotlyConfig = {MathJaxConfig: 'local'};</script><script type=\"text/javascript\">if (window.MathJax) {MathJax.Hub.Config({SVG: {font: \"STIX-Web\"}});}</script><script>requirejs.config({paths: { 'plotly': ['https://cdn.plot.ly/plotly-latest.min']},});if(!window._Plotly) {require(['plotly'],function(plotly) {window._Plotly=plotly;});}</script>"
      ]
     },
     "metadata": {},
     "output_type": "display_data"
    },
    {
     "data": {
      "text/html": [
       "<script type=\"text/javascript\">window.PlotlyConfig = {MathJaxConfig: 'local'};</script><script type=\"text/javascript\">if (window.MathJax) {MathJax.Hub.Config({SVG: {font: \"STIX-Web\"}});}</script><script>requirejs.config({paths: { 'plotly': ['https://cdn.plot.ly/plotly-latest.min']},});if(!window._Plotly) {require(['plotly'],function(plotly) {window._Plotly=plotly;});}</script>"
      ],
      "text/vnd.plotly.v1+html": [
       "<script type=\"text/javascript\">window.PlotlyConfig = {MathJaxConfig: 'local'};</script><script type=\"text/javascript\">if (window.MathJax) {MathJax.Hub.Config({SVG: {font: \"STIX-Web\"}});}</script><script>requirejs.config({paths: { 'plotly': ['https://cdn.plot.ly/plotly-latest.min']},});if(!window._Plotly) {require(['plotly'],function(plotly) {window._Plotly=plotly;});}</script>"
      ]
     },
     "metadata": {},
     "output_type": "display_data"
    },
    {
     "data": {
      "text/html": [
       "<script type=\"text/javascript\">window.PlotlyConfig = {MathJaxConfig: 'local'};</script><script type=\"text/javascript\">if (window.MathJax) {MathJax.Hub.Config({SVG: {font: \"STIX-Web\"}});}</script><script>requirejs.config({paths: { 'plotly': ['https://cdn.plot.ly/plotly-latest.min']},});if(!window._Plotly) {require(['plotly'],function(plotly) {window._Plotly=plotly;});}</script>"
      ],
      "text/vnd.plotly.v1+html": [
       "<script type=\"text/javascript\">window.PlotlyConfig = {MathJaxConfig: 'local'};</script><script type=\"text/javascript\">if (window.MathJax) {MathJax.Hub.Config({SVG: {font: \"STIX-Web\"}});}</script><script>requirejs.config({paths: { 'plotly': ['https://cdn.plot.ly/plotly-latest.min']},});if(!window._Plotly) {require(['plotly'],function(plotly) {window._Plotly=plotly;});}</script>"
      ]
     },
     "metadata": {},
     "output_type": "display_data"
    },
    {
     "data": {
      "text/html": [
       "<script type=\"text/javascript\">window.PlotlyConfig = {MathJaxConfig: 'local'};</script><script type=\"text/javascript\">if (window.MathJax) {MathJax.Hub.Config({SVG: {font: \"STIX-Web\"}});}</script><script>requirejs.config({paths: { 'plotly': ['https://cdn.plot.ly/plotly-latest.min']},});if(!window._Plotly) {require(['plotly'],function(plotly) {window._Plotly=plotly;});}</script>"
      ],
      "text/vnd.plotly.v1+html": [
       "<script type=\"text/javascript\">window.PlotlyConfig = {MathJaxConfig: 'local'};</script><script type=\"text/javascript\">if (window.MathJax) {MathJax.Hub.Config({SVG: {font: \"STIX-Web\"}});}</script><script>requirejs.config({paths: { 'plotly': ['https://cdn.plot.ly/plotly-latest.min']},});if(!window._Plotly) {require(['plotly'],function(plotly) {window._Plotly=plotly;});}</script>"
      ]
     },
     "metadata": {},
     "output_type": "display_data"
    },
    {
     "data": {
      "text/html": [
       "<script type=\"text/javascript\">window.PlotlyConfig = {MathJaxConfig: 'local'};</script><script type=\"text/javascript\">if (window.MathJax) {MathJax.Hub.Config({SVG: {font: \"STIX-Web\"}});}</script><script>requirejs.config({paths: { 'plotly': ['https://cdn.plot.ly/plotly-latest.min']},});if(!window._Plotly) {require(['plotly'],function(plotly) {window._Plotly=plotly;});}</script>"
      ],
      "text/vnd.plotly.v1+html": [
       "<script type=\"text/javascript\">window.PlotlyConfig = {MathJaxConfig: 'local'};</script><script type=\"text/javascript\">if (window.MathJax) {MathJax.Hub.Config({SVG: {font: \"STIX-Web\"}});}</script><script>requirejs.config({paths: { 'plotly': ['https://cdn.plot.ly/plotly-latest.min']},});if(!window._Plotly) {require(['plotly'],function(plotly) {window._Plotly=plotly;});}</script>"
      ]
     },
     "metadata": {},
     "output_type": "display_data"
    },
    {
     "data": {
      "text/html": [
       "<script type=\"text/javascript\">window.PlotlyConfig = {MathJaxConfig: 'local'};</script><script type=\"text/javascript\">if (window.MathJax) {MathJax.Hub.Config({SVG: {font: \"STIX-Web\"}});}</script><script>requirejs.config({paths: { 'plotly': ['https://cdn.plot.ly/plotly-latest.min']},});if(!window._Plotly) {require(['plotly'],function(plotly) {window._Plotly=plotly;});}</script>"
      ],
      "text/vnd.plotly.v1+html": [
       "<script type=\"text/javascript\">window.PlotlyConfig = {MathJaxConfig: 'local'};</script><script type=\"text/javascript\">if (window.MathJax) {MathJax.Hub.Config({SVG: {font: \"STIX-Web\"}});}</script><script>requirejs.config({paths: { 'plotly': ['https://cdn.plot.ly/plotly-latest.min']},});if(!window._Plotly) {require(['plotly'],function(plotly) {window._Plotly=plotly;});}</script>"
      ]
     },
     "metadata": {},
     "output_type": "display_data"
    },
    {
     "data": {
      "application/vnd.plotly.v1+json": {
       "config": {
        "linkText": "Export to plot.ly",
        "plotlyServerURL": "https://plot.ly",
        "showLink": false
       },
       "data": [
        {
         "mode": "lines+markers",
         "name": "c1[cH:1][c:2](c(cc1O)Cl)[c:4]2[cH:3]c[nH+]cc2",
         "type": "scatter",
         "uid": "7dd24878-18d7-415a-8053-18c4533bf773",
         "x": [
          -165,
          -150,
          -135,
          -120,
          -105,
          -90,
          -75,
          -60,
          -45,
          -30,
          -15,
          0,
          15,
          30,
          45,
          60,
          75,
          90,
          105,
          120,
          135,
          150,
          165,
          180
         ],
         "y": [
          9.733,
          1.736,
          0.002,
          4.569,
          12.671,
          17.448,
          13.097,
          5.398,
          0.287,
          1.086,
          8.458,
          16.64,
          8.461,
          1.087,
          0.288,
          5.397,
          13.096,
          17.45,
          12.671,
          4.571,
          0,
          1.734,
          9.731,
          16.64
         ]
        },
        {
         "mode": "lines+markers",
         "name": "c1[cH:1][c:2](c(cc1O)Cl)[c:4]2[cH:3]cncc2",
         "type": "scatter",
         "uid": "44d51df7-0a93-4ec4-8756-215515b4bd11",
         "x": [
          -165,
          -150,
          -135,
          -120,
          -105,
          -90,
          -75,
          -60,
          -45,
          -30,
          -15,
          0,
          15,
          30,
          45,
          60,
          75,
          90,
          105,
          120,
          135,
          150,
          165,
          180
         ],
         "y": [
          17.015,
          6.294,
          0.595,
          0,
          2.104,
          3.345,
          2.303,
          0.222,
          0.161,
          4.934,
          15.252,
          25.259,
          15.249,
          4.935,
          0.162,
          0.227,
          2.303,
          3.345,
          2.104,
          0.001,
          0.595,
          6.292,
          17.019,
          25.261
         ]
        },
        {
         "mode": "lines+markers",
         "name": "c1[cH:1][c:2](c(cc1[O-])Cl)[c:4]2[cH:3]c[nH+]cc2",
         "type": "scatter",
         "uid": "ad56bcb6-901a-4caa-a685-62a8fe614a05",
         "x": [
          -165,
          -150,
          -135,
          -120,
          -105,
          -90,
          -75,
          -60,
          -45,
          -30,
          -15,
          0,
          15,
          30,
          45,
          60,
          75,
          90,
          105,
          120,
          135,
          150,
          165,
          180
         ],
         "y": [
          1.223,
          0.001,
          6.852,
          22.44,
          45.855,
          75.164,
          49.376,
          25.752,
          8.801,
          0.497,
          0.63,
          4.613,
          0.63,
          0.497,
          8.802,
          25.753,
          49.379,
          75.165,
          45.856,
          22.437,
          6.853,
          0,
          1.226,
          4.619
         ]
        },
        {
         "mode": "lines+markers",
         "name": "c1[cH:1][c:2](c(cc1[O-])Cl)[c:4]2[cH:3]cncc2",
         "type": "scatter",
         "uid": "71b48749-e44e-4941-af4b-c08313f4e1b7",
         "x": [
          -165,
          -150,
          -135,
          -120,
          -105,
          -90,
          -75,
          -60,
          -45,
          -30,
          -15,
          0,
          15,
          30,
          45,
          60,
          75,
          90,
          105,
          120,
          135,
          150,
          165,
          180
         ],
         "y": [
          6.147,
          0.474,
          0.454,
          6.154,
          15.426,
          22.281,
          16.924,
          7.812,
          1.178,
          0.001,
          5.012,
          11.34,
          5.012,
          0,
          1.183,
          7.812,
          16.924,
          22.281,
          15.427,
          6.154,
          0.454,
          0.475,
          6.145,
          11.338
         ]
        },
        {
         "mode": "lines+markers",
         "name": "c1ccc([c:2]([cH:1]1)[c:3]2[cH:4]cncc2)Cl",
         "type": "scatter",
         "uid": "ec7bc221-3557-4842-9903-7b3f8d0bf817",
         "x": [
          -165,
          -150,
          -135,
          -120,
          -105,
          -90,
          -75,
          -60,
          -45,
          -30,
          -15,
          0,
          15,
          30,
          45,
          60,
          75,
          90,
          105,
          120,
          135,
          150,
          165,
          180
         ],
         "y": [
          18.439,
          7.244,
          1.025,
          0,
          1.75,
          2.885,
          1.927,
          0.171,
          0.512,
          5.795,
          16.654,
          27.022,
          16.651,
          5.798,
          0.514,
          0.173,
          1.927,
          2.885,
          1.75,
          0,
          1.028,
          7.246,
          18.44,
          27.022
         ]
        }
       ],
       "layout": {
        "title": {
         "text": "TorsionDriveDataset 1-D Plot [spec=default]"
        },
        "xaxis": {
         "range": [
          -175,
          190
         ],
         "title": {
          "text": "Dihedral Angle [degrees]"
         },
         "zeroline": false
        },
        "yaxis": {
         "title": {
          "text": "Relative Energy [kJ/mol]"
         },
         "zeroline": true
        }
       }
      },
      "text/html": [
       "<div id=\"680d3602-26d1-45e7-a30c-af42b409aa6d\" style=\"height: 525px; width: 100%;\" class=\"plotly-graph-div\"></div><script type=\"text/javascript\">require([\"plotly\"], function(Plotly) { window.PLOTLYENV=window.PLOTLYENV || {};window.PLOTLYENV.BASE_URL=\"https://plot.ly\";\n",
       "if (document.getElementById(\"680d3602-26d1-45e7-a30c-af42b409aa6d\")) {\n",
       "    Plotly.newPlot(\"680d3602-26d1-45e7-a30c-af42b409aa6d\", [{\"mode\": \"lines+markers\", \"name\": \"c1[cH:1][c:2](c(cc1O)Cl)[c:4]2[cH:3]c[nH+]cc2\", \"uid\": \"7dd24878-18d7-415a-8053-18c4533bf773\", \"x\": [-165, -150, -135, -120, -105, -90, -75, -60, -45, -30, -15, 0, 15, 30, 45, 60, 75, 90, 105, 120, 135, 150, 165, 180], \"y\": [9.733, 1.736, 0.002, 4.569, 12.671, 17.448, 13.097, 5.398, 0.287, 1.086, 8.458, 16.64, 8.461, 1.087, 0.288, 5.397, 13.096, 17.45, 12.671, 4.571, 0.0, 1.734, 9.731, 16.64], \"type\": \"scatter\"}, {\"mode\": \"lines+markers\", \"name\": \"c1[cH:1][c:2](c(cc1O)Cl)[c:4]2[cH:3]cncc2\", \"uid\": \"44d51df7-0a93-4ec4-8756-215515b4bd11\", \"x\": [-165, -150, -135, -120, -105, -90, -75, -60, -45, -30, -15, 0, 15, 30, 45, 60, 75, 90, 105, 120, 135, 150, 165, 180], \"y\": [17.015, 6.294, 0.595, 0.0, 2.104, 3.345, 2.303, 0.222, 0.161, 4.934, 15.252, 25.259, 15.249, 4.935, 0.162, 0.227, 2.303, 3.345, 2.104, 0.001, 0.595, 6.292, 17.019, 25.261], \"type\": \"scatter\"}, {\"mode\": \"lines+markers\", \"name\": \"c1[cH:1][c:2](c(cc1[O-])Cl)[c:4]2[cH:3]c[nH+]cc2\", \"uid\": \"ad56bcb6-901a-4caa-a685-62a8fe614a05\", \"x\": [-165, -150, -135, -120, -105, -90, -75, -60, -45, -30, -15, 0, 15, 30, 45, 60, 75, 90, 105, 120, 135, 150, 165, 180], \"y\": [1.223, 0.001, 6.852, 22.44, 45.855, 75.164, 49.376, 25.752, 8.801, 0.497, 0.63, 4.613, 0.63, 0.497, 8.802, 25.753, 49.379, 75.165, 45.856, 22.437, 6.853, 0.0, 1.226, 4.619], \"type\": \"scatter\"}, {\"mode\": \"lines+markers\", \"name\": \"c1[cH:1][c:2](c(cc1[O-])Cl)[c:4]2[cH:3]cncc2\", \"uid\": \"71b48749-e44e-4941-af4b-c08313f4e1b7\", \"x\": [-165, -150, -135, -120, -105, -90, -75, -60, -45, -30, -15, 0, 15, 30, 45, 60, 75, 90, 105, 120, 135, 150, 165, 180], \"y\": [6.147, 0.474, 0.454, 6.154, 15.426, 22.281, 16.924, 7.812, 1.178, 0.001, 5.012, 11.34, 5.012, 0.0, 1.183, 7.812, 16.924, 22.281, 15.427, 6.154, 0.454, 0.475, 6.145, 11.338], \"type\": \"scatter\"}, {\"mode\": \"lines+markers\", \"name\": \"c1ccc([c:2]([cH:1]1)[c:3]2[cH:4]cncc2)Cl\", \"uid\": \"ec7bc221-3557-4842-9903-7b3f8d0bf817\", \"x\": [-165, -150, -135, -120, -105, -90, -75, -60, -45, -30, -15, 0, 15, 30, 45, 60, 75, 90, 105, 120, 135, 150, 165, 180], \"y\": [18.439, 7.244, 1.025, 0.0, 1.75, 2.885, 1.927, 0.171, 0.512, 5.795, 16.654, 27.022, 16.651, 5.798, 0.514, 0.173, 1.927, 2.885, 1.75, 0.0, 1.028, 7.246, 18.44, 27.022], \"type\": \"scatter\"}], {\"title\": {\"text\": \"TorsionDriveDataset 1-D Plot [spec=default]\"}, \"xaxis\": {\"range\": [-175, 190], \"title\": {\"text\": \"Dihedral Angle [degrees]\"}, \"zeroline\": false}, \"yaxis\": {\"title\": {\"text\": \"Relative Energy [kJ/mol]\"}, \"zeroline\": true}}, {\"showLink\": false, \"linkText\": \"Export to plot.ly\", \"plotlyServerURL\": \"https://plot.ly\"}); \n",
       "}\n",
       "});</script><script type=\"text/javascript\">window.addEventListener(\"resize\", function(){if (document.getElementById(\"680d3602-26d1-45e7-a30c-af42b409aa6d\")) {window._Plotly.Plots.resize(document.getElementById(\"680d3602-26d1-45e7-a30c-af42b409aa6d\"));};})</script>"
      ],
      "text/vnd.plotly.v1+html": [
       "<div id=\"680d3602-26d1-45e7-a30c-af42b409aa6d\" style=\"height: 525px; width: 100%;\" class=\"plotly-graph-div\"></div><script type=\"text/javascript\">require([\"plotly\"], function(Plotly) { window.PLOTLYENV=window.PLOTLYENV || {};window.PLOTLYENV.BASE_URL=\"https://plot.ly\";\n",
       "if (document.getElementById(\"680d3602-26d1-45e7-a30c-af42b409aa6d\")) {\n",
       "    Plotly.newPlot(\"680d3602-26d1-45e7-a30c-af42b409aa6d\", [{\"mode\": \"lines+markers\", \"name\": \"c1[cH:1][c:2](c(cc1O)Cl)[c:4]2[cH:3]c[nH+]cc2\", \"uid\": \"7dd24878-18d7-415a-8053-18c4533bf773\", \"x\": [-165, -150, -135, -120, -105, -90, -75, -60, -45, -30, -15, 0, 15, 30, 45, 60, 75, 90, 105, 120, 135, 150, 165, 180], \"y\": [9.733, 1.736, 0.002, 4.569, 12.671, 17.448, 13.097, 5.398, 0.287, 1.086, 8.458, 16.64, 8.461, 1.087, 0.288, 5.397, 13.096, 17.45, 12.671, 4.571, 0.0, 1.734, 9.731, 16.64], \"type\": \"scatter\"}, {\"mode\": \"lines+markers\", \"name\": \"c1[cH:1][c:2](c(cc1O)Cl)[c:4]2[cH:3]cncc2\", \"uid\": \"44d51df7-0a93-4ec4-8756-215515b4bd11\", \"x\": [-165, -150, -135, -120, -105, -90, -75, -60, -45, -30, -15, 0, 15, 30, 45, 60, 75, 90, 105, 120, 135, 150, 165, 180], \"y\": [17.015, 6.294, 0.595, 0.0, 2.104, 3.345, 2.303, 0.222, 0.161, 4.934, 15.252, 25.259, 15.249, 4.935, 0.162, 0.227, 2.303, 3.345, 2.104, 0.001, 0.595, 6.292, 17.019, 25.261], \"type\": \"scatter\"}, {\"mode\": \"lines+markers\", \"name\": \"c1[cH:1][c:2](c(cc1[O-])Cl)[c:4]2[cH:3]c[nH+]cc2\", \"uid\": \"ad56bcb6-901a-4caa-a685-62a8fe614a05\", \"x\": [-165, -150, -135, -120, -105, -90, -75, -60, -45, -30, -15, 0, 15, 30, 45, 60, 75, 90, 105, 120, 135, 150, 165, 180], \"y\": [1.223, 0.001, 6.852, 22.44, 45.855, 75.164, 49.376, 25.752, 8.801, 0.497, 0.63, 4.613, 0.63, 0.497, 8.802, 25.753, 49.379, 75.165, 45.856, 22.437, 6.853, 0.0, 1.226, 4.619], \"type\": \"scatter\"}, {\"mode\": \"lines+markers\", \"name\": \"c1[cH:1][c:2](c(cc1[O-])Cl)[c:4]2[cH:3]cncc2\", \"uid\": \"71b48749-e44e-4941-af4b-c08313f4e1b7\", \"x\": [-165, -150, -135, -120, -105, -90, -75, -60, -45, -30, -15, 0, 15, 30, 45, 60, 75, 90, 105, 120, 135, 150, 165, 180], \"y\": [6.147, 0.474, 0.454, 6.154, 15.426, 22.281, 16.924, 7.812, 1.178, 0.001, 5.012, 11.34, 5.012, 0.0, 1.183, 7.812, 16.924, 22.281, 15.427, 6.154, 0.454, 0.475, 6.145, 11.338], \"type\": \"scatter\"}, {\"mode\": \"lines+markers\", \"name\": \"c1ccc([c:2]([cH:1]1)[c:3]2[cH:4]cncc2)Cl\", \"uid\": \"ec7bc221-3557-4842-9903-7b3f8d0bf817\", \"x\": [-165, -150, -135, -120, -105, -90, -75, -60, -45, -30, -15, 0, 15, 30, 45, 60, 75, 90, 105, 120, 135, 150, 165, 180], \"y\": [18.439, 7.244, 1.025, 0.0, 1.75, 2.885, 1.927, 0.171, 0.512, 5.795, 16.654, 27.022, 16.651, 5.798, 0.514, 0.173, 1.927, 2.885, 1.75, 0.0, 1.028, 7.246, 18.44, 27.022], \"type\": \"scatter\"}], {\"title\": {\"text\": \"TorsionDriveDataset 1-D Plot [spec=default]\"}, \"xaxis\": {\"range\": [-175, 190], \"title\": {\"text\": \"Dihedral Angle [degrees]\"}, \"zeroline\": false}, \"yaxis\": {\"title\": {\"text\": \"Relative Energy [kJ/mol]\"}, \"zeroline\": true}}, {\"showLink\": false, \"linkText\": \"Export to plot.ly\", \"plotlyServerURL\": \"https://plot.ly\"}); \n",
       "}\n",
       "});</script><script type=\"text/javascript\">window.addEventListener(\"resize\", function(){if (document.getElementById(\"680d3602-26d1-45e7-a30c-af42b409aa6d\")) {window._Plotly.Plots.resize(document.getElementById(\"680d3602-26d1-45e7-a30c-af42b409aa6d\"));};})</script>"
      ]
     },
     "metadata": {},
     "output_type": "display_data"
    }
   ],
   "source": [
    "# Visualize torsion scans\n",
    "client = ptl.FractalClient()\n",
    "phenyl_dataset = client.get_collection('TorsionDriveDataset', 'OpenFF Substituted Phenyl Set 1')\n",
    "with open('qca-submission/biphenyls_set_input.json', 'r') as f:\n",
    "    job_indices = list(json.load(f).keys())\n",
    "chloro_phenyls = [i for i in job_indices if 'Cl' in i]\n",
    "fluoro_phenyls = [i for i in job_indices if 'F' in i]\n",
    "phenyls = [i for i in job_indices if 'F' not in i and 'Cl' not in i]\n",
    "\n",
    "\n",
    "phenyl_dataset.visualize(phenyls, specs='default', units='kJ/mol')\n",
    "phenyl_dataset.visualize(fluoro_phenyls, specs='default', units='kJ/mol')\n",
    "phenyl_dataset.visualize(chloro_phenyls, specs='default', units='kJ/mol')"
   ]
  },
  {
   "cell_type": "code",
   "execution_count": null,
   "metadata": {},
   "outputs": [
    {
     "name": "stdout",
     "output_type": "stream",
     "text": [
      "[cH:1]1cc(cc[c:2]1[c:3]2[cH:4]cncc2)O\n",
      "[cH:1]1cc(cc[c:2]1[c:3]2[cH:4]c[nH+]cc2)O\n",
      "[cH:1]1cc(cc[c:2]1[c:3]2[cH:4]cncc2)[O-]\n",
      "[cH:1]1cc(cc[c:2]1[c:3]2[cH:4]c[nH+]cc2)[O-]\n",
      "c1[cH:1][c:2](c(cc1O)F)[c:4]2[cH:3]cncc2\n",
      "c1[cH:1][c:2](c(cc1O)F)[c:4]2[cH:3]c[nH+]cc2\n",
      "c1[cH:1][c:2](c(cc1[O-])F)[c:4]2[cH:3]cncc2\n"
     ]
    }
   ],
   "source": [
    "# Get energies\n",
    "def get_energies(dataset, indices):\n",
    "    angles = np.arange(-165, 195, 15)\n",
    "    energies = []\n",
    "    wbos = []\n",
    "    for index in indices:\n",
    "        print(index)\n",
    "        entry = dataset.get_entry(index)\n",
    "        mapped_smiles = entry.attributes['canonical_isomeric_explicit_hydrogen_mapped_smiles']\n",
    "        mol = oechem.OEMol()\n",
    "        oechem.OESmilesToMol(mol, mapped_smiles)\n",
    "        n_atoms = mol.GetMaxAtomIdx()\n",
    "        td = dataset.get_record(index, specification='default')\n",
    "        dih = td.keywords.dihedrals[0]\n",
    "        final_energies =[td.get_final_energies(int(i))*fragmenter.utils.HARTREE_2_KJMOL for i in angles]\n",
    "        final_energies.insert(0, final_energies[-1])\n",
    "        final_energies = np.asarray(final_energies) - min(final_energies)\n",
    "        wbo = []\n",
    "        for angle in angles:\n",
    "            opt = td.get_history(int(angle))[-1].get_trajectory()[-1]\n",
    "            wiberg = np.array(opt.extras['qcvars']['WIBERG_LOWDIN_INDICES']).reshape(-1, n_atoms)\n",
    "            wbo.append(wiberg[dih[1]][dih[2]])\n",
    "        wbos.append(wbo)\n",
    "        energies.append(final_energies)\n",
    "    return energies, wbos\n",
    "\n",
    "biphenyls_sorted = [phenyls[2], phenyls[0], phenyls[3], phenyls[1]]\n",
    "biphenyls_flouro_sorted = [fluoro_phenyls[1], fluoro_phenyls[0], fluoro_phenyls[3], fluoro_phenyls[2]]\n",
    "biphenyls_chloro_sorted = [chloro_phenyls[1], chloro_phenyls[0], chloro_phenyls[3], chloro_phenyls[2]]\n",
    "angles = np.arange(-165, 195, 15)\n",
    "\n",
    "biphenyls_sorted_energies, bipheny_sorted_wbos = get_energies(phenyl_dataset, biphenyls_sorted)\n",
    "biphenyls_flouro_sorted_energies, biphenyls_flouro_sorted_wbos = get_energies(phenyl_dataset, biphenyls_flouro_sorted)\n",
    "biphenyls_chloro_sorted_energies, biphenyls_chloro_sorted_wbos = get_energies(phenyl_dataset, biphenyls_chloro_sorted)\n",
    "\n"
   ]
  },
  {
   "cell_type": "code",
   "execution_count": null,
   "metadata": {},
   "outputs": [],
   "source": [
    "def visualize_td(energies, fname):\n",
    "    angles = np.arange(-180, 195, 15)\n",
    "    plt.figure()\n",
    "    for i, energy in enumerate(energies):\n",
    "        plt.plot(angles, energy, color=colors[i], linewidth=2.0)\n",
    "        plt.plot(angles, energy, '.', color=colors[i])\n",
    "    plt.xlabel('Torsion angles (degree)', fontsize=14)\n",
    "    plt.ylabel('Relative energy (kJ/mol)', fontsize=14)\n",
    "    plt.xticks(fontsize=14)\n",
    "    plt.yticks(fontsize=14)\n",
    "    plt.ylim(-5, 110)\n",
    "    plt.title('QC torsion scan')\n",
    "    plt.savefig(fname, bbox_inches='tight')"
   ]
  },
  {
   "cell_type": "code",
   "execution_count": null,
   "metadata": {},
   "outputs": [],
   "source": [
    "sbn.set_style('whitegrid')\n",
    "sbn.set_context('paper', font_scale=1.5)\n",
    "visualize_td(biphenyls_sorted_energies, 'biphenyls_torsion_scan.pdf')\n",
    "visualize_td(biphenyls_flouro_sorted_energies, 'biphenyls_fluoro_torsion_scan.pdf')\n",
    "visualize_td(biphenyls_chloro_sorted_energies, 'biphenyls_chloro_torsion_scan.pdf')"
   ]
  },
  {
   "cell_type": "code",
   "execution_count": null,
   "metadata": {},
   "outputs": [],
   "source": []
  }
 ],
 "metadata": {
  "kernelspec": {
   "display_name": "Python 3",
   "language": "python",
   "name": "python3"
  },
  "language_info": {
   "codemirror_mode": {
    "name": "ipython",
    "version": 3
   },
   "file_extension": ".py",
   "mimetype": "text/x-python",
   "name": "python",
   "nbconvert_exporter": "python",
   "pygments_lexer": "ipython3",
   "version": "3.7.2"
  }
 },
 "nbformat": 4,
 "nbformat_minor": 2
}
