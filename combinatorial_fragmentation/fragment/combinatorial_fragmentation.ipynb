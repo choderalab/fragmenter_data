{
 "cells": [
  {
   "cell_type": "code",
   "execution_count": 4,
   "metadata": {},
   "outputs": [],
   "source": [
    "import fragmenter\n",
    "import json\n",
    "import cmiles\n",
    "import qcfractal.interface as portal\n",
    "import oenotebook as oenb\n",
    "import glob"
   ]
  },
  {
   "cell_type": "code",
   "execution_count": 2,
   "metadata": {},
   "outputs": [],
   "source": [
    "with open('../filter/filtered_kinase_inhibitors.json', 'r') as f:\n",
    "    kinase_inhibitors = json.load(f)"
   ]
  },
  {
   "cell_type": "code",
   "execution_count": 3,
   "metadata": {},
   "outputs": [
    {
     "name": "stdout",
     "output_type": "stream",
     "text": [
      "Abemaciclib\n",
      "140\n",
      "Acalabrutinib\n",
      "43\n",
      "Axitinib\n",
      "26\n",
      "Baricitinib\n",
      "37\n",
      "Binimetinib\n",
      "148\n",
      "Brigatinib\n",
      "136\n",
      "Cobimetinib\n",
      "146\n",
      "Crizotinib\n",
      "134\n",
      "Dabrafenib\n",
      "93\n",
      "Dacomitinib\n",
      "117\n",
      "Dasatinib\n",
      "95\n",
      "Gefitinib\n",
      "115\n",
      "Ibrutinib\n",
      "43\n",
      "Idelalisib\n",
      "80\n",
      "Imatinib\n",
      "57\n",
      "Larotrectinib\n"
     ]
    },
    {
     "name": "stderr",
     "output_type": "stream",
     "text": [
      "/Users/chayastern/src/openforcefield/cmiles/cmiles/_cmiles_oe.py:393: UserWarning: Stereochemistry is unspecified. Problematic atoms [(12, 'N')], problematic bonds []\n",
      "  problematic_bonds))\n",
      "/Users/chayastern/src/openforcefield/cmiles/cmiles/_cmiles_oe.py:393: UserWarning: Stereochemistry is unspecified. Problematic atoms [(13, 'N')], problematic bonds []\n",
      "  problematic_bonds))\n"
     ]
    },
    {
     "name": "stdout",
     "output_type": "stream",
     "text": [
      "28\n",
      "Lenvatinib\n",
      "58\n",
      "Nilotinib\n",
      "Warning: 32 tautomeric atoms in zone exceeds maximum allowed value of 31 for molecule \n",
      "Warning: 32 tautomeric atoms in zone exceeds maximum allowed value of 31 for molecule \n",
      "Warning: 33 tautomeric atoms in zone exceeds maximum allowed value of 31 for molecule \n",
      "Warning: 32 tautomeric atoms in zone exceeds maximum allowed value of 31 for molecule \n",
      "Warning: 33 tautomeric atoms in zone exceeds maximum allowed value of 31 for molecule \n",
      "Warning: 32 tautomeric atoms in zone exceeds maximum allowed value of 31 for molecule \n",
      "Warning: 33 tautomeric atoms in zone exceeds maximum allowed value of 31 for molecule \n",
      "75\n",
      "Palbociclib\n",
      "94\n",
      "Pazopanib\n",
      "104\n",
      "Ponatinib\n",
      "70\n",
      "Ribociclib\n",
      "35\n",
      "Ruxolitinib\n",
      "16\n",
      "Sunitinib\n",
      "172\n",
      "Tofacitinib\n"
     ]
    },
    {
     "name": "stderr",
     "output_type": "stream",
     "text": [
      "/Users/chayastern/src/openforcefield/cmiles/cmiles/_cmiles_oe.py:393: UserWarning: Stereochemistry is unspecified. Problematic atoms [(11, 'N')], problematic bonds []\n",
      "  problematic_bonds))\n",
      "/Users/chayastern/src/openforcefield/cmiles/cmiles/_cmiles_oe.py:393: UserWarning: Stereochemistry is unspecified. Problematic atoms [(0, 'N')], problematic bonds []\n",
      "  problematic_bonds))\n"
     ]
    },
    {
     "name": "stdout",
     "output_type": "stream",
     "text": [
      "40\n",
      "Trametinib\n",
      "1510\n",
      "Vemurafenib\n",
      "123\n"
     ]
    }
   ],
   "source": [
    "client = portal.FractalClient('https://localhost:7777/', verify=False)\n",
    "workflow = fragmenter.workflow_api.WorkFlow(workflow_id='example', client=client)\n",
    "for ki in kinase_inhibitors:\n",
    "    print(ki)\n",
    "    smiles = kinase_inhibitors[ki]['canonical_isomeric_explicit_hydrogen_mapped_smiles']\n",
    "    frags = workflow.enumerate_fragments(smiles, title=ki, generate_vis=True, \n",
    "                                         json_filename='{}_fragments.json'.format(ki))\n",
    "    print(len(frags))"
   ]
  },
  {
   "cell_type": "code",
   "execution_count": 5,
   "metadata": {},
   "outputs": [],
   "source": [
    "frag_jsons = glob.glob('*fragments.json')"
   ]
  },
  {
   "cell_type": "code",
   "execution_count": 7,
   "metadata": {},
   "outputs": [],
   "source": [
    "all_frags = fragmenter.workflow_api.combine_json_fragments(frag_jsons)"
   ]
  },
  {
   "cell_type": "code",
   "execution_count": 8,
   "metadata": {},
   "outputs": [
    {
     "data": {
      "text/plain": [
       "3634"
      ]
     },
     "execution_count": 8,
     "metadata": {},
     "output_type": "execute_result"
    }
   ],
   "source": [
    "len(all_frags)"
   ]
  },
  {
   "cell_type": "code",
   "execution_count": 11,
   "metadata": {},
   "outputs": [],
   "source": [
    "frags = {}\n",
    "for f in frag_jsons:\n",
    "    ki = f.split('_')[0]\n",
    "    with open(f, 'r') as f:\n",
    "        frags[ki] = json.load(f)"
   ]
  },
  {
   "cell_type": "code",
   "execution_count": 13,
   "metadata": {},
   "outputs": [
    {
     "name": "stdout",
     "output_type": "stream",
     "text": [
      "3735\n"
     ]
    }
   ],
   "source": [
    "n = 0\n",
    "for f in frags:\n",
    "    n += len(frags[f])\n",
    "print(n)"
   ]
  },
  {
   "cell_type": "code",
   "execution_count": null,
   "metadata": {},
   "outputs": [],
   "source": [
    "# Generate input for WBO \n",
    "# Generate multiple conformations\n"
   ]
  }
 ],
 "metadata": {
  "kernelspec": {
   "display_name": "Python 3",
   "language": "python",
   "name": "python3"
  },
  "language_info": {
   "codemirror_mode": {
    "name": "ipython",
    "version": 3
   },
   "file_extension": ".py",
   "mimetype": "text/x-python",
   "name": "python",
   "nbconvert_exporter": "python",
   "pygments_lexer": "ipython3",
   "version": "3.6.8"
  }
 },
 "nbformat": 4,
 "nbformat_minor": 2
}
