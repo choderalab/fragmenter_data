{
 "cells": [
  {
   "cell_type": "code",
   "execution_count": 1,
   "metadata": {},
   "outputs": [],
   "source": [
    "import qcfractal.interface as ptl\n",
    "import json\n",
    "\n",
    "from fragmenter.utils import HARTREE_2_KJMOL\n",
    "import numpy as np\n",
    "import oenotebook as oenb"
   ]
  },
  {
   "cell_type": "code",
   "execution_count": 2,
   "metadata": {},
   "outputs": [
    {
     "data": {
      "text/html": [
       "<div>\n",
       "<style scoped>\n",
       "    .dataframe tbody tr th:only-of-type {\n",
       "        vertical-align: middle;\n",
       "    }\n",
       "\n",
       "    .dataframe tbody tr th {\n",
       "        vertical-align: top;\n",
       "    }\n",
       "\n",
       "    .dataframe thead th {\n",
       "        text-align: right;\n",
       "    }\n",
       "</style>\n",
       "<table border=\"1\" class=\"dataframe\">\n",
       "  <thead>\n",
       "    <tr style=\"text-align: right;\">\n",
       "      <th></th>\n",
       "      <th>default</th>\n",
       "    </tr>\n",
       "  </thead>\n",
       "  <tbody>\n",
       "    <tr>\n",
       "      <th>COMPLETE</th>\n",
       "      <td>16</td>\n",
       "    </tr>\n",
       "    <tr>\n",
       "      <th>RUNNING</th>\n",
       "      <td>3</td>\n",
       "    </tr>\n",
       "    <tr>\n",
       "      <th>ERROR</th>\n",
       "      <td>3</td>\n",
       "    </tr>\n",
       "  </tbody>\n",
       "</table>\n",
       "</div>"
      ],
      "text/plain": [
       "          default\n",
       "COMPLETE       16\n",
       "RUNNING         3\n",
       "ERROR           3"
      ]
     },
     "execution_count": 2,
     "metadata": {},
     "output_type": "execute_result"
    }
   ],
   "source": [
    "import qcfractal.interface as ptl\n",
    "client = ptl.FractalClient()\n",
    "dataset = client.get_collection('TorsiondriveDataset', 'OpenFF Fragmenter Validation 1.0')\n",
    "dataset.status('default')"
   ]
  },
  {
   "cell_type": "code",
   "execution_count": 3,
   "metadata": {},
   "outputs": [],
   "source": [
    "with open('torsiondrive-job-idx.json', 'r') as f:\n",
    "    job_indices = json.load(f)"
   ]
  },
  {
   "cell_type": "code",
   "execution_count": 12,
   "metadata": {},
   "outputs": [],
   "source": [
    "r = dataset.get_record('c1cc[c:1]2c(c1)ccc[c:2]2[O:3][P:4](=O)([O-])[O-]', 'default')"
   ]
  },
  {
   "cell_type": "code",
   "execution_count": 13,
   "metadata": {},
   "outputs": [
    {
     "data": {
      "text/plain": [
       "{'status': 'RUNNING',\n",
       " 'total_points': 24,\n",
       " 'computed_points': 23,\n",
       " 'complete_tasks': 65,\n",
       " 'incomplete_tasks': 2,\n",
       " 'error_tasks': 0,\n",
       " 'current_tasks': 2,\n",
       " 'percent_complete': 95.83333333333334,\n",
       " 'errors': []}"
      ]
     },
     "execution_count": 13,
     "metadata": {},
     "output_type": "execute_result"
    }
   ],
   "source": [
    "r.detailed_status()"
   ]
  },
  {
   "cell_type": "code",
   "execution_count": 4,
   "metadata": {},
   "outputs": [
    {
     "data": {
      "text/html": [
       "<script type=\"text/javascript\">window.PlotlyConfig = {MathJaxConfig: 'local'};</script><script type=\"text/javascript\">if (window.MathJax) {MathJax.Hub.Config({SVG: {font: \"STIX-Web\"}});}</script><script>requirejs.config({paths: { 'plotly': ['https://cdn.plot.ly/plotly-latest.min']},});if(!window._Plotly) {require(['plotly'],function(plotly) {window._Plotly=plotly;});}</script>"
      ],
      "text/vnd.plotly.v1+html": [
       "<script type=\"text/javascript\">window.PlotlyConfig = {MathJaxConfig: 'local'};</script><script type=\"text/javascript\">if (window.MathJax) {MathJax.Hub.Config({SVG: {font: \"STIX-Web\"}});}</script><script>requirejs.config({paths: { 'plotly': ['https://cdn.plot.ly/plotly-latest.min']},});if(!window._Plotly) {require(['plotly'],function(plotly) {window._Plotly=plotly;});}</script>"
      ]
     },
     "metadata": {},
     "output_type": "display_data"
    },
    {
     "data": {
      "text/html": [
       "<script type=\"text/javascript\">window.PlotlyConfig = {MathJaxConfig: 'local'};</script><script type=\"text/javascript\">if (window.MathJax) {MathJax.Hub.Config({SVG: {font: \"STIX-Web\"}});}</script><script>requirejs.config({paths: { 'plotly': ['https://cdn.plot.ly/plotly-latest.min']},});if(!window._Plotly) {require(['plotly'],function(plotly) {window._Plotly=plotly;});}</script>"
      ],
      "text/vnd.plotly.v1+html": [
       "<script type=\"text/javascript\">window.PlotlyConfig = {MathJaxConfig: 'local'};</script><script type=\"text/javascript\">if (window.MathJax) {MathJax.Hub.Config({SVG: {font: \"STIX-Web\"}});}</script><script>requirejs.config({paths: { 'plotly': ['https://cdn.plot.ly/plotly-latest.min']},});if(!window._Plotly) {require(['plotly'],function(plotly) {window._Plotly=plotly;});}</script>"
      ]
     },
     "metadata": {},
     "output_type": "display_data"
    },
    {
     "data": {
      "text/html": [
       "<script type=\"text/javascript\">window.PlotlyConfig = {MathJaxConfig: 'local'};</script><script type=\"text/javascript\">if (window.MathJax) {MathJax.Hub.Config({SVG: {font: \"STIX-Web\"}});}</script><script>requirejs.config({paths: { 'plotly': ['https://cdn.plot.ly/plotly-latest.min']},});if(!window._Plotly) {require(['plotly'],function(plotly) {window._Plotly=plotly;});}</script>"
      ],
      "text/vnd.plotly.v1+html": [
       "<script type=\"text/javascript\">window.PlotlyConfig = {MathJaxConfig: 'local'};</script><script type=\"text/javascript\">if (window.MathJax) {MathJax.Hub.Config({SVG: {font: \"STIX-Web\"}});}</script><script>requirejs.config({paths: { 'plotly': ['https://cdn.plot.ly/plotly-latest.min']},});if(!window._Plotly) {require(['plotly'],function(plotly) {window._Plotly=plotly;});}</script>"
      ]
     },
     "metadata": {},
     "output_type": "display_data"
    },
    {
     "data": {
      "text/html": [
       "<script type=\"text/javascript\">window.PlotlyConfig = {MathJaxConfig: 'local'};</script><script type=\"text/javascript\">if (window.MathJax) {MathJax.Hub.Config({SVG: {font: \"STIX-Web\"}});}</script><script>requirejs.config({paths: { 'plotly': ['https://cdn.plot.ly/plotly-latest.min']},});if(!window._Plotly) {require(['plotly'],function(plotly) {window._Plotly=plotly;});}</script>"
      ],
      "text/vnd.plotly.v1+html": [
       "<script type=\"text/javascript\">window.PlotlyConfig = {MathJaxConfig: 'local'};</script><script type=\"text/javascript\">if (window.MathJax) {MathJax.Hub.Config({SVG: {font: \"STIX-Web\"}});}</script><script>requirejs.config({paths: { 'plotly': ['https://cdn.plot.ly/plotly-latest.min']},});if(!window._Plotly) {require(['plotly'],function(plotly) {window._Plotly=plotly;});}</script>"
      ]
     },
     "metadata": {},
     "output_type": "display_data"
    },
    {
     "data": {
      "application/vnd.plotly.v1+json": {
       "config": {
        "linkText": "Export to plot.ly",
        "plotlyServerURL": "https://plot.ly",
        "showLink": false
       },
       "data": [
        {
         "mode": "lines+markers",
         "name": "Cc1c[c:2]([c:1]2ccccc2c1OP(=O)([O-])[O-])[O:3][P:4](=O)([O-])[O-]",
         "type": "scatter",
         "uid": "f05c3681-71a2-476e-8fa4-f0e6e7cef67c",
         "x": [
          -165,
          -150,
          -135,
          -120,
          -105,
          -90,
          -75,
          -60,
          -45,
          -30,
          -15,
          0,
          15,
          30,
          45,
          60,
          75,
          90,
          105,
          120,
          135,
          150,
          165,
          180
         ],
         "y": [
          0,
          0.23,
          0.947,
          1.809,
          2.217,
          2.023,
          1.931,
          2.1,
          2.492,
          3.011,
          3.528,
          3.929,
          3.966,
          3.75,
          3.511,
          3.329,
          3.273,
          3.41,
          3.622,
          3.225,
          2.21,
          1.181,
          0.543,
          0.248
         ]
        },
        {
         "mode": "lines+markers",
         "name": "c1cc[c:1]2c(c1)ccc[c:2]2[O:3][P:4](=O)([O-])[O-]",
         "type": "scatter",
         "uid": "22a1e1ab-3f2f-4de6-9079-4d730a1747ad",
         "x": [
          -165,
          -150,
          -135,
          -120,
          -105,
          -90,
          -75,
          -60,
          -45,
          -30,
          30,
          45,
          60,
          75,
          90,
          105,
          120,
          135,
          150,
          165,
          180
         ],
         "y": [
          48.984,
          49.61,
          50.785,
          0.759,
          0.759,
          0.012,
          0.014,
          0.002,
          0.001,
          0,
          1.963,
          1.971,
          1.232,
          1.258,
          0.864,
          0.866,
          0.865,
          50.785,
          49.61,
          48.984,
          48.886
         ]
        },
        {
         "mode": "lines+markers",
         "name": "Cc1c[c:2]([c:1]2ccccc2c1OP(=O)([O-])[O-])[O:3][P:4](=O)([O-])[O-]",
         "type": "scatter",
         "uid": "95f3a79f-e757-405a-8648-b96c7020ad29",
         "x": [
          -165,
          -150,
          -135,
          -120,
          -105,
          -90,
          -75,
          -60,
          -45,
          -30,
          -15,
          0,
          15,
          30,
          45,
          60,
          75,
          90,
          105,
          120,
          135,
          150,
          165,
          180
         ],
         "y": [
          0,
          0.23,
          0.947,
          1.809,
          2.217,
          2.023,
          1.931,
          2.1,
          2.492,
          3.011,
          3.528,
          3.929,
          3.966,
          3.75,
          3.511,
          3.329,
          3.273,
          3.41,
          3.622,
          3.225,
          2.21,
          1.181,
          0.543,
          0.248
         ]
        }
       ],
       "layout": {
        "title": {
         "text": "TorsionDriveDataset 1-D Plot [spec=default]"
        },
        "xaxis": {
         "range": [
          -175,
          190
         ],
         "title": {
          "text": "Dihedral Angle [degrees]"
         },
         "zeroline": false
        },
        "yaxis": {
         "title": {
          "text": "Relative Energy [kcal / mol]"
         },
         "zeroline": true
        }
       }
      },
      "text/html": [
       "<div id=\"a70e191d-6c30-4d9c-b006-820cb425d68b\" style=\"height: 525px; width: 100%;\" class=\"plotly-graph-div\"></div><script type=\"text/javascript\">require([\"plotly\"], function(Plotly) { window.PLOTLYENV=window.PLOTLYENV || {};window.PLOTLYENV.BASE_URL=\"https://plot.ly\";\n",
       "if (document.getElementById(\"a70e191d-6c30-4d9c-b006-820cb425d68b\")) {\n",
       "    Plotly.newPlot(\"a70e191d-6c30-4d9c-b006-820cb425d68b\", [{\"mode\": \"lines+markers\", \"name\": \"Cc1c[c:2]([c:1]2ccccc2c1OP(=O)([O-])[O-])[O:3][P:4](=O)([O-])[O-]\", \"uid\": \"f05c3681-71a2-476e-8fa4-f0e6e7cef67c\", \"x\": [-165, -150, -135, -120, -105, -90, -75, -60, -45, -30, -15, 0, 15, 30, 45, 60, 75, 90, 105, 120, 135, 150, 165, 180], \"y\": [0.0, 0.23, 0.947, 1.809, 2.217, 2.023, 1.931, 2.1, 2.492, 3.011, 3.528, 3.929, 3.966, 3.75, 3.511, 3.329, 3.273, 3.41, 3.622, 3.225, 2.21, 1.181, 0.543, 0.248], \"type\": \"scatter\"}, {\"mode\": \"lines+markers\", \"name\": \"c1cc[c:1]2c(c1)ccc[c:2]2[O:3][P:4](=O)([O-])[O-]\", \"uid\": \"22a1e1ab-3f2f-4de6-9079-4d730a1747ad\", \"x\": [-165, -150, -135, -120, -105, -90, -75, -60, -45, -30, 30, 45, 60, 75, 90, 105, 120, 135, 150, 165, 180], \"y\": [48.984, 49.61, 50.785, 0.759, 0.759, 0.012, 0.014, 0.002, 0.001, 0.0, 1.963, 1.971, 1.232, 1.258, 0.864, 0.866, 0.865, 50.785, 49.61, 48.984, 48.886], \"type\": \"scatter\"}, {\"mode\": \"lines+markers\", \"name\": \"Cc1c[c:2]([c:1]2ccccc2c1OP(=O)([O-])[O-])[O:3][P:4](=O)([O-])[O-]\", \"uid\": \"95f3a79f-e757-405a-8648-b96c7020ad29\", \"x\": [-165, -150, -135, -120, -105, -90, -75, -60, -45, -30, -15, 0, 15, 30, 45, 60, 75, 90, 105, 120, 135, 150, 165, 180], \"y\": [0.0, 0.23, 0.947, 1.809, 2.217, 2.023, 1.931, 2.1, 2.492, 3.011, 3.528, 3.929, 3.966, 3.75, 3.511, 3.329, 3.273, 3.41, 3.622, 3.225, 2.21, 1.181, 0.543, 0.248], \"type\": \"scatter\"}], {\"title\": {\"text\": \"TorsionDriveDataset 1-D Plot [spec=default]\"}, \"xaxis\": {\"range\": [-175, 190], \"title\": {\"text\": \"Dihedral Angle [degrees]\"}, \"zeroline\": false}, \"yaxis\": {\"title\": {\"text\": \"Relative Energy [kcal / mol]\"}, \"zeroline\": true}}, {\"showLink\": false, \"linkText\": \"Export to plot.ly\", \"plotlyServerURL\": \"https://plot.ly\"}); \n",
       "}\n",
       "});</script><script type=\"text/javascript\">window.addEventListener(\"resize\", function(){if (document.getElementById(\"a70e191d-6c30-4d9c-b006-820cb425d68b\")) {window._Plotly.Plots.resize(document.getElementById(\"a70e191d-6c30-4d9c-b006-820cb425d68b\"));};})</script>"
      ],
      "text/vnd.plotly.v1+html": [
       "<div id=\"a70e191d-6c30-4d9c-b006-820cb425d68b\" style=\"height: 525px; width: 100%;\" class=\"plotly-graph-div\"></div><script type=\"text/javascript\">require([\"plotly\"], function(Plotly) { window.PLOTLYENV=window.PLOTLYENV || {};window.PLOTLYENV.BASE_URL=\"https://plot.ly\";\n",
       "if (document.getElementById(\"a70e191d-6c30-4d9c-b006-820cb425d68b\")) {\n",
       "    Plotly.newPlot(\"a70e191d-6c30-4d9c-b006-820cb425d68b\", [{\"mode\": \"lines+markers\", \"name\": \"Cc1c[c:2]([c:1]2ccccc2c1OP(=O)([O-])[O-])[O:3][P:4](=O)([O-])[O-]\", \"uid\": \"f05c3681-71a2-476e-8fa4-f0e6e7cef67c\", \"x\": [-165, -150, -135, -120, -105, -90, -75, -60, -45, -30, -15, 0, 15, 30, 45, 60, 75, 90, 105, 120, 135, 150, 165, 180], \"y\": [0.0, 0.23, 0.947, 1.809, 2.217, 2.023, 1.931, 2.1, 2.492, 3.011, 3.528, 3.929, 3.966, 3.75, 3.511, 3.329, 3.273, 3.41, 3.622, 3.225, 2.21, 1.181, 0.543, 0.248], \"type\": \"scatter\"}, {\"mode\": \"lines+markers\", \"name\": \"c1cc[c:1]2c(c1)ccc[c:2]2[O:3][P:4](=O)([O-])[O-]\", \"uid\": \"22a1e1ab-3f2f-4de6-9079-4d730a1747ad\", \"x\": [-165, -150, -135, -120, -105, -90, -75, -60, -45, -30, 30, 45, 60, 75, 90, 105, 120, 135, 150, 165, 180], \"y\": [48.984, 49.61, 50.785, 0.759, 0.759, 0.012, 0.014, 0.002, 0.001, 0.0, 1.963, 1.971, 1.232, 1.258, 0.864, 0.866, 0.865, 50.785, 49.61, 48.984, 48.886], \"type\": \"scatter\"}, {\"mode\": \"lines+markers\", \"name\": \"Cc1c[c:2]([c:1]2ccccc2c1OP(=O)([O-])[O-])[O:3][P:4](=O)([O-])[O-]\", \"uid\": \"95f3a79f-e757-405a-8648-b96c7020ad29\", \"x\": [-165, -150, -135, -120, -105, -90, -75, -60, -45, -30, -15, 0, 15, 30, 45, 60, 75, 90, 105, 120, 135, 150, 165, 180], \"y\": [0.0, 0.23, 0.947, 1.809, 2.217, 2.023, 1.931, 2.1, 2.492, 3.011, 3.528, 3.929, 3.966, 3.75, 3.511, 3.329, 3.273, 3.41, 3.622, 3.225, 2.21, 1.181, 0.543, 0.248], \"type\": \"scatter\"}], {\"title\": {\"text\": \"TorsionDriveDataset 1-D Plot [spec=default]\"}, \"xaxis\": {\"range\": [-175, 190], \"title\": {\"text\": \"Dihedral Angle [degrees]\"}, \"zeroline\": false}, \"yaxis\": {\"title\": {\"text\": \"Relative Energy [kcal / mol]\"}, \"zeroline\": true}}, {\"showLink\": false, \"linkText\": \"Export to plot.ly\", \"plotlyServerURL\": \"https://plot.ly\"}); \n",
       "}\n",
       "});</script><script type=\"text/javascript\">window.addEventListener(\"resize\", function(){if (document.getElementById(\"a70e191d-6c30-4d9c-b006-820cb425d68b\")) {window._Plotly.Plots.resize(document.getElementById(\"a70e191d-6c30-4d9c-b006-820cb425d68b\"));};})</script>"
      ]
     },
     "metadata": {},
     "output_type": "display_data"
    }
   ],
   "source": [
    "molecule = 'Menadiol_diphosphate_0'\n",
    "bond = '[9, 18]'\n",
    "mol_type = ['parent', 'pfizer', '0.03']\n",
    "indices = [job_indices[molecule][bond][i] for i in mol_type]\n",
    "dataset.visualize(indices, 'default')"
   ]
  },
  {
   "cell_type": "code",
   "execution_count": 5,
   "metadata": {},
   "outputs": [
    {
     "data": {
      "text/html": [
       "<script type=\"text/javascript\">window.PlotlyConfig = {MathJaxConfig: 'local'};</script><script type=\"text/javascript\">if (window.MathJax) {MathJax.Hub.Config({SVG: {font: \"STIX-Web\"}});}</script><script>requirejs.config({paths: { 'plotly': ['https://cdn.plot.ly/plotly-latest.min']},});if(!window._Plotly) {require(['plotly'],function(plotly) {window._Plotly=plotly;});}</script>"
      ],
      "text/vnd.plotly.v1+html": [
       "<script type=\"text/javascript\">window.PlotlyConfig = {MathJaxConfig: 'local'};</script><script type=\"text/javascript\">if (window.MathJax) {MathJax.Hub.Config({SVG: {font: \"STIX-Web\"}});}</script><script>requirejs.config({paths: { 'plotly': ['https://cdn.plot.ly/plotly-latest.min']},});if(!window._Plotly) {require(['plotly'],function(plotly) {window._Plotly=plotly;});}</script>"
      ]
     },
     "metadata": {},
     "output_type": "display_data"
    },
    {
     "data": {
      "text/html": [
       "<script type=\"text/javascript\">window.PlotlyConfig = {MathJaxConfig: 'local'};</script><script type=\"text/javascript\">if (window.MathJax) {MathJax.Hub.Config({SVG: {font: \"STIX-Web\"}});}</script><script>requirejs.config({paths: { 'plotly': ['https://cdn.plot.ly/plotly-latest.min']},});if(!window._Plotly) {require(['plotly'],function(plotly) {window._Plotly=plotly;});}</script>"
      ],
      "text/vnd.plotly.v1+html": [
       "<script type=\"text/javascript\">window.PlotlyConfig = {MathJaxConfig: 'local'};</script><script type=\"text/javascript\">if (window.MathJax) {MathJax.Hub.Config({SVG: {font: \"STIX-Web\"}});}</script><script>requirejs.config({paths: { 'plotly': ['https://cdn.plot.ly/plotly-latest.min']},});if(!window._Plotly) {require(['plotly'],function(plotly) {window._Plotly=plotly;});}</script>"
      ]
     },
     "metadata": {},
     "output_type": "display_data"
    },
    {
     "data": {
      "text/html": [
       "<script type=\"text/javascript\">window.PlotlyConfig = {MathJaxConfig: 'local'};</script><script type=\"text/javascript\">if (window.MathJax) {MathJax.Hub.Config({SVG: {font: \"STIX-Web\"}});}</script><script>requirejs.config({paths: { 'plotly': ['https://cdn.plot.ly/plotly-latest.min']},});if(!window._Plotly) {require(['plotly'],function(plotly) {window._Plotly=plotly;});}</script>"
      ],
      "text/vnd.plotly.v1+html": [
       "<script type=\"text/javascript\">window.PlotlyConfig = {MathJaxConfig: 'local'};</script><script type=\"text/javascript\">if (window.MathJax) {MathJax.Hub.Config({SVG: {font: \"STIX-Web\"}});}</script><script>requirejs.config({paths: { 'plotly': ['https://cdn.plot.ly/plotly-latest.min']},});if(!window._Plotly) {require(['plotly'],function(plotly) {window._Plotly=plotly;});}</script>"
      ]
     },
     "metadata": {},
     "output_type": "display_data"
    },
    {
     "data": {
      "text/html": [
       "<script type=\"text/javascript\">window.PlotlyConfig = {MathJaxConfig: 'local'};</script><script type=\"text/javascript\">if (window.MathJax) {MathJax.Hub.Config({SVG: {font: \"STIX-Web\"}});}</script><script>requirejs.config({paths: { 'plotly': ['https://cdn.plot.ly/plotly-latest.min']},});if(!window._Plotly) {require(['plotly'],function(plotly) {window._Plotly=plotly;});}</script>"
      ],
      "text/vnd.plotly.v1+html": [
       "<script type=\"text/javascript\">window.PlotlyConfig = {MathJaxConfig: 'local'};</script><script type=\"text/javascript\">if (window.MathJax) {MathJax.Hub.Config({SVG: {font: \"STIX-Web\"}});}</script><script>requirejs.config({paths: { 'plotly': ['https://cdn.plot.ly/plotly-latest.min']},});if(!window._Plotly) {require(['plotly'],function(plotly) {window._Plotly=plotly;});}</script>"
      ]
     },
     "metadata": {},
     "output_type": "display_data"
    },
    {
     "data": {
      "application/vnd.plotly.v1+json": {
       "config": {
        "linkText": "Export to plot.ly",
        "plotlyServerURL": "https://plot.ly",
        "showLink": false
       },
       "data": [
        {
         "mode": "lines+markers",
         "name": "c1ccc(cc1)C[CH2:1][NH:2]/[C:3](=[NH+:4]/C(=[NH2+])N)/N",
         "type": "scatter",
         "uid": "a690ae21-c7ad-4893-8121-2f4f4f14f619",
         "x": [
          -165,
          -150,
          -135,
          -120,
          -105,
          -90,
          -75,
          -60,
          -45,
          -30,
          -15,
          0,
          15,
          30,
          45,
          60,
          75,
          90,
          105,
          120,
          135,
          150,
          165,
          180
         ],
         "y": [
          2.138,
          4.899,
          7.917,
          11.177,
          15.071,
          13.626,
          8.977,
          5.315,
          2.844,
          1.401,
          0.735,
          1.114,
          2.462,
          4.554,
          7.002,
          9.678,
          13.037,
          15.549,
          10.538,
          6.345,
          3.159,
          0.972,
          0,
          0.378
         ]
        },
        {
         "mode": "lines+markers",
         "name": "C[CH2:1][NH:2]/[C:3](=[NH+:4]/C)/N",
         "type": "scatter",
         "uid": "8da2543d-198a-41c4-9b5b-f73acd685e68",
         "x": [
          -165,
          -150,
          -135,
          -120,
          -105,
          -90,
          -75,
          -60,
          -45,
          -30,
          -15,
          0,
          15,
          30,
          45,
          60,
          75,
          90,
          105,
          120,
          135,
          150,
          165,
          180
         ],
         "y": [
          0.142,
          0.988,
          2.633,
          4.682,
          7.018,
          8.904,
          6.19,
          3.884,
          2.24,
          1.174,
          0.549,
          0.49,
          0.699,
          1.174,
          2.24,
          3.884,
          6.19,
          8.904,
          7.018,
          4.682,
          2.633,
          0.989,
          0.141,
          0
         ]
        },
        {
         "mode": "lines+markers",
         "name": "C[CH2:1][NH:2]/[C:3](=[NH+:4]/C=[NH2+])/N",
         "type": "scatter",
         "uid": "eee0e1a8-694c-4003-9dd8-dbe8b86076e4",
         "x": [
          -165,
          -150,
          -135,
          -120,
          -105,
          -90,
          -75,
          -60,
          -45,
          -30,
          -15,
          0,
          15,
          30,
          45,
          60,
          75,
          90,
          105,
          120,
          135,
          150,
          165,
          180
         ],
         "y": [
          0,
          1.443,
          4.365,
          8.468,
          13.486,
          16.649,
          11.411,
          7.176,
          4.214,
          2.517,
          1.743,
          1.855,
          1.358,
          1.967,
          3.603,
          6.486,
          10.71,
          15.992,
          13.486,
          8.468,
          4.366,
          1.443,
          0.001,
          0.223
         ]
        }
       ],
       "layout": {
        "title": {
         "text": "TorsionDriveDataset 1-D Plot [spec=default]"
        },
        "xaxis": {
         "range": [
          -175,
          190
         ],
         "title": {
          "text": "Dihedral Angle [degrees]"
         },
         "zeroline": false
        },
        "yaxis": {
         "title": {
          "text": "Relative Energy [kcal / mol]"
         },
         "zeroline": true
        }
       }
      },
      "text/html": [
       "<div id=\"24e7f601-c4d4-4b4b-9f81-f9c6e84b606c\" style=\"height: 525px; width: 100%;\" class=\"plotly-graph-div\"></div><script type=\"text/javascript\">require([\"plotly\"], function(Plotly) { window.PLOTLYENV=window.PLOTLYENV || {};window.PLOTLYENV.BASE_URL=\"https://plot.ly\";\n",
       "if (document.getElementById(\"24e7f601-c4d4-4b4b-9f81-f9c6e84b606c\")) {\n",
       "    Plotly.newPlot(\"24e7f601-c4d4-4b4b-9f81-f9c6e84b606c\", [{\"mode\": \"lines+markers\", \"name\": \"c1ccc(cc1)C[CH2:1][NH:2]/[C:3](=[NH+:4]/C(=[NH2+])N)/N\", \"uid\": \"a690ae21-c7ad-4893-8121-2f4f4f14f619\", \"x\": [-165, -150, -135, -120, -105, -90, -75, -60, -45, -30, -15, 0, 15, 30, 45, 60, 75, 90, 105, 120, 135, 150, 165, 180], \"y\": [2.138, 4.899, 7.917, 11.177, 15.071, 13.626, 8.977, 5.315, 2.844, 1.401, 0.735, 1.114, 2.462, 4.554, 7.002, 9.678, 13.037, 15.549, 10.538, 6.345, 3.159, 0.972, 0.0, 0.378], \"type\": \"scatter\"}, {\"mode\": \"lines+markers\", \"name\": \"C[CH2:1][NH:2]/[C:3](=[NH+:4]/C)/N\", \"uid\": \"8da2543d-198a-41c4-9b5b-f73acd685e68\", \"x\": [-165, -150, -135, -120, -105, -90, -75, -60, -45, -30, -15, 0, 15, 30, 45, 60, 75, 90, 105, 120, 135, 150, 165, 180], \"y\": [0.142, 0.988, 2.633, 4.682, 7.018, 8.904, 6.19, 3.884, 2.24, 1.174, 0.549, 0.49, 0.699, 1.174, 2.24, 3.884, 6.19, 8.904, 7.018, 4.682, 2.633, 0.989, 0.141, 0.0], \"type\": \"scatter\"}, {\"mode\": \"lines+markers\", \"name\": \"C[CH2:1][NH:2]/[C:3](=[NH+:4]/C=[NH2+])/N\", \"uid\": \"eee0e1a8-694c-4003-9dd8-dbe8b86076e4\", \"x\": [-165, -150, -135, -120, -105, -90, -75, -60, -45, -30, -15, 0, 15, 30, 45, 60, 75, 90, 105, 120, 135, 150, 165, 180], \"y\": [0.0, 1.443, 4.365, 8.468, 13.486, 16.649, 11.411, 7.176, 4.214, 2.517, 1.743, 1.855, 1.358, 1.967, 3.603, 6.486, 10.71, 15.992, 13.486, 8.468, 4.366, 1.443, 0.001, 0.223], \"type\": \"scatter\"}], {\"title\": {\"text\": \"TorsionDriveDataset 1-D Plot [spec=default]\"}, \"xaxis\": {\"range\": [-175, 190], \"title\": {\"text\": \"Dihedral Angle [degrees]\"}, \"zeroline\": false}, \"yaxis\": {\"title\": {\"text\": \"Relative Energy [kcal / mol]\"}, \"zeroline\": true}}, {\"showLink\": false, \"linkText\": \"Export to plot.ly\", \"plotlyServerURL\": \"https://plot.ly\"}); \n",
       "}\n",
       "});</script><script type=\"text/javascript\">window.addEventListener(\"resize\", function(){if (document.getElementById(\"24e7f601-c4d4-4b4b-9f81-f9c6e84b606c\")) {window._Plotly.Plots.resize(document.getElementById(\"24e7f601-c4d4-4b4b-9f81-f9c6e84b606c\"));};})</script>"
      ],
      "text/vnd.plotly.v1+html": [
       "<div id=\"24e7f601-c4d4-4b4b-9f81-f9c6e84b606c\" style=\"height: 525px; width: 100%;\" class=\"plotly-graph-div\"></div><script type=\"text/javascript\">require([\"plotly\"], function(Plotly) { window.PLOTLYENV=window.PLOTLYENV || {};window.PLOTLYENV.BASE_URL=\"https://plot.ly\";\n",
       "if (document.getElementById(\"24e7f601-c4d4-4b4b-9f81-f9c6e84b606c\")) {\n",
       "    Plotly.newPlot(\"24e7f601-c4d4-4b4b-9f81-f9c6e84b606c\", [{\"mode\": \"lines+markers\", \"name\": \"c1ccc(cc1)C[CH2:1][NH:2]/[C:3](=[NH+:4]/C(=[NH2+])N)/N\", \"uid\": \"a690ae21-c7ad-4893-8121-2f4f4f14f619\", \"x\": [-165, -150, -135, -120, -105, -90, -75, -60, -45, -30, -15, 0, 15, 30, 45, 60, 75, 90, 105, 120, 135, 150, 165, 180], \"y\": [2.138, 4.899, 7.917, 11.177, 15.071, 13.626, 8.977, 5.315, 2.844, 1.401, 0.735, 1.114, 2.462, 4.554, 7.002, 9.678, 13.037, 15.549, 10.538, 6.345, 3.159, 0.972, 0.0, 0.378], \"type\": \"scatter\"}, {\"mode\": \"lines+markers\", \"name\": \"C[CH2:1][NH:2]/[C:3](=[NH+:4]/C)/N\", \"uid\": \"8da2543d-198a-41c4-9b5b-f73acd685e68\", \"x\": [-165, -150, -135, -120, -105, -90, -75, -60, -45, -30, -15, 0, 15, 30, 45, 60, 75, 90, 105, 120, 135, 150, 165, 180], \"y\": [0.142, 0.988, 2.633, 4.682, 7.018, 8.904, 6.19, 3.884, 2.24, 1.174, 0.549, 0.49, 0.699, 1.174, 2.24, 3.884, 6.19, 8.904, 7.018, 4.682, 2.633, 0.989, 0.141, 0.0], \"type\": \"scatter\"}, {\"mode\": \"lines+markers\", \"name\": \"C[CH2:1][NH:2]/[C:3](=[NH+:4]/C=[NH2+])/N\", \"uid\": \"eee0e1a8-694c-4003-9dd8-dbe8b86076e4\", \"x\": [-165, -150, -135, -120, -105, -90, -75, -60, -45, -30, -15, 0, 15, 30, 45, 60, 75, 90, 105, 120, 135, 150, 165, 180], \"y\": [0.0, 1.443, 4.365, 8.468, 13.486, 16.649, 11.411, 7.176, 4.214, 2.517, 1.743, 1.855, 1.358, 1.967, 3.603, 6.486, 10.71, 15.992, 13.486, 8.468, 4.366, 1.443, 0.001, 0.223], \"type\": \"scatter\"}], {\"title\": {\"text\": \"TorsionDriveDataset 1-D Plot [spec=default]\"}, \"xaxis\": {\"range\": [-175, 190], \"title\": {\"text\": \"Dihedral Angle [degrees]\"}, \"zeroline\": false}, \"yaxis\": {\"title\": {\"text\": \"Relative Energy [kcal / mol]\"}, \"zeroline\": true}}, {\"showLink\": false, \"linkText\": \"Export to plot.ly\", \"plotlyServerURL\": \"https://plot.ly\"}); \n",
       "}\n",
       "});</script><script type=\"text/javascript\">window.addEventListener(\"resize\", function(){if (document.getElementById(\"24e7f601-c4d4-4b4b-9f81-f9c6e84b606c\")) {window._Plotly.Plots.resize(document.getElementById(\"24e7f601-c4d4-4b4b-9f81-f9c6e84b606c\"));};})</script>"
      ]
     },
     "metadata": {},
     "output_type": "display_data"
    }
   ],
   "source": [
    "molecule = 'Phenformin_3'\n",
    "bond = '[13, 7]'\n",
    "mol_type = ['parent', 'pfizer', '0.03']\n",
    "indices = [job_indices[molecule][bond][i] for i in mol_type]\n",
    "dataset.visualize(indices, 'default')"
   ]
  },
  {
   "cell_type": "code",
   "execution_count": 6,
   "metadata": {},
   "outputs": [
    {
     "data": {
      "text/html": [
       "<script type=\"text/javascript\">window.PlotlyConfig = {MathJaxConfig: 'local'};</script><script type=\"text/javascript\">if (window.MathJax) {MathJax.Hub.Config({SVG: {font: \"STIX-Web\"}});}</script><script>requirejs.config({paths: { 'plotly': ['https://cdn.plot.ly/plotly-latest.min']},});if(!window._Plotly) {require(['plotly'],function(plotly) {window._Plotly=plotly;});}</script>"
      ],
      "text/vnd.plotly.v1+html": [
       "<script type=\"text/javascript\">window.PlotlyConfig = {MathJaxConfig: 'local'};</script><script type=\"text/javascript\">if (window.MathJax) {MathJax.Hub.Config({SVG: {font: \"STIX-Web\"}});}</script><script>requirejs.config({paths: { 'plotly': ['https://cdn.plot.ly/plotly-latest.min']},});if(!window._Plotly) {require(['plotly'],function(plotly) {window._Plotly=plotly;});}</script>"
      ]
     },
     "metadata": {},
     "output_type": "display_data"
    },
    {
     "data": {
      "text/html": [
       "<script type=\"text/javascript\">window.PlotlyConfig = {MathJaxConfig: 'local'};</script><script type=\"text/javascript\">if (window.MathJax) {MathJax.Hub.Config({SVG: {font: \"STIX-Web\"}});}</script><script>requirejs.config({paths: { 'plotly': ['https://cdn.plot.ly/plotly-latest.min']},});if(!window._Plotly) {require(['plotly'],function(plotly) {window._Plotly=plotly;});}</script>"
      ],
      "text/vnd.plotly.v1+html": [
       "<script type=\"text/javascript\">window.PlotlyConfig = {MathJaxConfig: 'local'};</script><script type=\"text/javascript\">if (window.MathJax) {MathJax.Hub.Config({SVG: {font: \"STIX-Web\"}});}</script><script>requirejs.config({paths: { 'plotly': ['https://cdn.plot.ly/plotly-latest.min']},});if(!window._Plotly) {require(['plotly'],function(plotly) {window._Plotly=plotly;});}</script>"
      ]
     },
     "metadata": {},
     "output_type": "display_data"
    },
    {
     "data": {
      "text/html": [
       "<script type=\"text/javascript\">window.PlotlyConfig = {MathJaxConfig: 'local'};</script><script type=\"text/javascript\">if (window.MathJax) {MathJax.Hub.Config({SVG: {font: \"STIX-Web\"}});}</script><script>requirejs.config({paths: { 'plotly': ['https://cdn.plot.ly/plotly-latest.min']},});if(!window._Plotly) {require(['plotly'],function(plotly) {window._Plotly=plotly;});}</script>"
      ],
      "text/vnd.plotly.v1+html": [
       "<script type=\"text/javascript\">window.PlotlyConfig = {MathJaxConfig: 'local'};</script><script type=\"text/javascript\">if (window.MathJax) {MathJax.Hub.Config({SVG: {font: \"STIX-Web\"}});}</script><script>requirejs.config({paths: { 'plotly': ['https://cdn.plot.ly/plotly-latest.min']},});if(!window._Plotly) {require(['plotly'],function(plotly) {window._Plotly=plotly;});}</script>"
      ]
     },
     "metadata": {},
     "output_type": "display_data"
    },
    {
     "data": {
      "text/html": [
       "<script type=\"text/javascript\">window.PlotlyConfig = {MathJaxConfig: 'local'};</script><script type=\"text/javascript\">if (window.MathJax) {MathJax.Hub.Config({SVG: {font: \"STIX-Web\"}});}</script><script>requirejs.config({paths: { 'plotly': ['https://cdn.plot.ly/plotly-latest.min']},});if(!window._Plotly) {require(['plotly'],function(plotly) {window._Plotly=plotly;});}</script>"
      ],
      "text/vnd.plotly.v1+html": [
       "<script type=\"text/javascript\">window.PlotlyConfig = {MathJaxConfig: 'local'};</script><script type=\"text/javascript\">if (window.MathJax) {MathJax.Hub.Config({SVG: {font: \"STIX-Web\"}});}</script><script>requirejs.config({paths: { 'plotly': ['https://cdn.plot.ly/plotly-latest.min']},});if(!window._Plotly) {require(['plotly'],function(plotly) {window._Plotly=plotly;});}</script>"
      ]
     },
     "metadata": {},
     "output_type": "display_data"
    },
    {
     "data": {
      "application/vnd.plotly.v1+json": {
       "config": {
        "linkText": "Export to plot.ly",
        "plotlyServerURL": "https://plot.ly",
        "showLink": false
       },
       "data": [
        {
         "mode": "lines+markers",
         "name": "Cc1c([nH]cn1)CSC[CH2:1][NH:2]/[C:3](=N\\C#N)/[NH:4]C",
         "type": "scatter",
         "uid": "18d661d5-5e58-441f-b1e3-92e6978958ad",
         "x": [
          -165,
          -150,
          -135,
          -120,
          -105,
          -90,
          -75,
          -60,
          -45,
          -30,
          -15,
          0,
          15,
          30,
          45,
          60,
          75,
          90,
          105,
          120,
          135,
          150,
          165,
          180
         ],
         "y": [
          1.652,
          0.319,
          0,
          1.411,
          4.59,
          6.085,
          4.423,
          3.44,
          2.699,
          2.143,
          2.2,
          1.717,
          1.121,
          1.088,
          1.296,
          1.552,
          2.023,
          2.59,
          3.345,
          2.718,
          1.915,
          2.033,
          2.109,
          1.969
         ]
        },
        {
         "mode": "lines+markers",
         "name": "C[CH2:1][NH:2]/[C:3](=[N:4]\\C)/NC",
         "type": "scatter",
         "uid": "cdec8a70-6898-47a3-b227-30923f448ac7",
         "x": [
          -165,
          -150,
          -135,
          -120,
          -105,
          -90,
          -75,
          -60,
          -45,
          -30,
          -15,
          0,
          15,
          30,
          45,
          60,
          75,
          90,
          105,
          120,
          135,
          150,
          165,
          180
         ],
         "y": [
          0.26,
          0,
          0.209,
          0.689,
          1.459,
          2.564,
          2.597,
          2.257,
          2.861,
          3.368,
          3.713,
          4.12,
          3.713,
          3.368,
          2.861,
          2.257,
          2.597,
          2.564,
          1.459,
          0.688,
          0.209,
          0,
          0.26,
          0.319
         ]
        },
        {
         "mode": "lines+markers",
         "name": "C[CH2:1][NH:2]/[C:3](=[N:4]\\C#N)/NC",
         "type": "scatter",
         "uid": "94bc61e7-9ef6-490c-9164-e3c814674963",
         "x": [
          -165,
          -150,
          -135,
          -120,
          -105,
          -90,
          -75,
          -60,
          -45,
          -30,
          -15,
          0,
          15,
          30,
          45,
          60,
          75,
          90,
          105,
          120,
          135,
          150,
          165,
          180
         ],
         "y": [
          0,
          0.365,
          1.315,
          2.555,
          3.888,
          5.227,
          6.635,
          4.934,
          3.773,
          3.364,
          3.485,
          3.791,
          3.485,
          3.364,
          3.773,
          4.934,
          6.635,
          5.227,
          3.888,
          2.556,
          1.315,
          0.365,
          0,
          0.109
         ]
        }
       ],
       "layout": {
        "title": {
         "text": "TorsionDriveDataset 1-D Plot [spec=default]"
        },
        "xaxis": {
         "range": [
          -175,
          190
         ],
         "title": {
          "text": "Dihedral Angle [degrees]"
         },
         "zeroline": false
        },
        "yaxis": {
         "title": {
          "text": "Relative Energy [kcal / mol]"
         },
         "zeroline": true
        }
       }
      },
      "text/html": [
       "<div id=\"de56bf5a-db6a-422c-b9d5-0cf0da142004\" style=\"height: 525px; width: 100%;\" class=\"plotly-graph-div\"></div><script type=\"text/javascript\">require([\"plotly\"], function(Plotly) { window.PLOTLYENV=window.PLOTLYENV || {};window.PLOTLYENV.BASE_URL=\"https://plot.ly\";\n",
       "if (document.getElementById(\"de56bf5a-db6a-422c-b9d5-0cf0da142004\")) {\n",
       "    Plotly.newPlot(\"de56bf5a-db6a-422c-b9d5-0cf0da142004\", [{\"mode\": \"lines+markers\", \"name\": \"Cc1c([nH]cn1)CSC[CH2:1][NH:2]/[C:3](=N\\\\C#N)/[NH:4]C\", \"uid\": \"18d661d5-5e58-441f-b1e3-92e6978958ad\", \"x\": [-165, -150, -135, -120, -105, -90, -75, -60, -45, -30, -15, 0, 15, 30, 45, 60, 75, 90, 105, 120, 135, 150, 165, 180], \"y\": [1.652, 0.319, 0.0, 1.411, 4.59, 6.085, 4.423, 3.44, 2.699, 2.143, 2.2, 1.717, 1.121, 1.088, 1.296, 1.552, 2.023, 2.59, 3.345, 2.718, 1.915, 2.033, 2.109, 1.969], \"type\": \"scatter\"}, {\"mode\": \"lines+markers\", \"name\": \"C[CH2:1][NH:2]/[C:3](=[N:4]\\\\C)/NC\", \"uid\": \"cdec8a70-6898-47a3-b227-30923f448ac7\", \"x\": [-165, -150, -135, -120, -105, -90, -75, -60, -45, -30, -15, 0, 15, 30, 45, 60, 75, 90, 105, 120, 135, 150, 165, 180], \"y\": [0.26, 0.0, 0.209, 0.689, 1.459, 2.564, 2.597, 2.257, 2.861, 3.368, 3.713, 4.12, 3.713, 3.368, 2.861, 2.257, 2.597, 2.564, 1.459, 0.688, 0.209, 0.0, 0.26, 0.319], \"type\": \"scatter\"}, {\"mode\": \"lines+markers\", \"name\": \"C[CH2:1][NH:2]/[C:3](=[N:4]\\\\C#N)/NC\", \"uid\": \"94bc61e7-9ef6-490c-9164-e3c814674963\", \"x\": [-165, -150, -135, -120, -105, -90, -75, -60, -45, -30, -15, 0, 15, 30, 45, 60, 75, 90, 105, 120, 135, 150, 165, 180], \"y\": [0.0, 0.365, 1.315, 2.555, 3.888, 5.227, 6.635, 4.934, 3.773, 3.364, 3.485, 3.791, 3.485, 3.364, 3.773, 4.934, 6.635, 5.227, 3.888, 2.556, 1.315, 0.365, 0.0, 0.109], \"type\": \"scatter\"}], {\"title\": {\"text\": \"TorsionDriveDataset 1-D Plot [spec=default]\"}, \"xaxis\": {\"range\": [-175, 190], \"title\": {\"text\": \"Dihedral Angle [degrees]\"}, \"zeroline\": false}, \"yaxis\": {\"title\": {\"text\": \"Relative Energy [kcal / mol]\"}, \"zeroline\": true}}, {\"showLink\": false, \"linkText\": \"Export to plot.ly\", \"plotlyServerURL\": \"https://plot.ly\"}); \n",
       "}\n",
       "});</script><script type=\"text/javascript\">window.addEventListener(\"resize\", function(){if (document.getElementById(\"de56bf5a-db6a-422c-b9d5-0cf0da142004\")) {window._Plotly.Plots.resize(document.getElementById(\"de56bf5a-db6a-422c-b9d5-0cf0da142004\"));};})</script>"
      ],
      "text/vnd.plotly.v1+html": [
       "<div id=\"de56bf5a-db6a-422c-b9d5-0cf0da142004\" style=\"height: 525px; width: 100%;\" class=\"plotly-graph-div\"></div><script type=\"text/javascript\">require([\"plotly\"], function(Plotly) { window.PLOTLYENV=window.PLOTLYENV || {};window.PLOTLYENV.BASE_URL=\"https://plot.ly\";\n",
       "if (document.getElementById(\"de56bf5a-db6a-422c-b9d5-0cf0da142004\")) {\n",
       "    Plotly.newPlot(\"de56bf5a-db6a-422c-b9d5-0cf0da142004\", [{\"mode\": \"lines+markers\", \"name\": \"Cc1c([nH]cn1)CSC[CH2:1][NH:2]/[C:3](=N\\\\C#N)/[NH:4]C\", \"uid\": \"18d661d5-5e58-441f-b1e3-92e6978958ad\", \"x\": [-165, -150, -135, -120, -105, -90, -75, -60, -45, -30, -15, 0, 15, 30, 45, 60, 75, 90, 105, 120, 135, 150, 165, 180], \"y\": [1.652, 0.319, 0.0, 1.411, 4.59, 6.085, 4.423, 3.44, 2.699, 2.143, 2.2, 1.717, 1.121, 1.088, 1.296, 1.552, 2.023, 2.59, 3.345, 2.718, 1.915, 2.033, 2.109, 1.969], \"type\": \"scatter\"}, {\"mode\": \"lines+markers\", \"name\": \"C[CH2:1][NH:2]/[C:3](=[N:4]\\\\C)/NC\", \"uid\": \"cdec8a70-6898-47a3-b227-30923f448ac7\", \"x\": [-165, -150, -135, -120, -105, -90, -75, -60, -45, -30, -15, 0, 15, 30, 45, 60, 75, 90, 105, 120, 135, 150, 165, 180], \"y\": [0.26, 0.0, 0.209, 0.689, 1.459, 2.564, 2.597, 2.257, 2.861, 3.368, 3.713, 4.12, 3.713, 3.368, 2.861, 2.257, 2.597, 2.564, 1.459, 0.688, 0.209, 0.0, 0.26, 0.319], \"type\": \"scatter\"}, {\"mode\": \"lines+markers\", \"name\": \"C[CH2:1][NH:2]/[C:3](=[N:4]\\\\C#N)/NC\", \"uid\": \"94bc61e7-9ef6-490c-9164-e3c814674963\", \"x\": [-165, -150, -135, -120, -105, -90, -75, -60, -45, -30, -15, 0, 15, 30, 45, 60, 75, 90, 105, 120, 135, 150, 165, 180], \"y\": [0.0, 0.365, 1.315, 2.555, 3.888, 5.227, 6.635, 4.934, 3.773, 3.364, 3.485, 3.791, 3.485, 3.364, 3.773, 4.934, 6.635, 5.227, 3.888, 2.556, 1.315, 0.365, 0.0, 0.109], \"type\": \"scatter\"}], {\"title\": {\"text\": \"TorsionDriveDataset 1-D Plot [spec=default]\"}, \"xaxis\": {\"range\": [-175, 190], \"title\": {\"text\": \"Dihedral Angle [degrees]\"}, \"zeroline\": false}, \"yaxis\": {\"title\": {\"text\": \"Relative Energy [kcal / mol]\"}, \"zeroline\": true}}, {\"showLink\": false, \"linkText\": \"Export to plot.ly\", \"plotlyServerURL\": \"https://plot.ly\"}); \n",
       "}\n",
       "});</script><script type=\"text/javascript\">window.addEventListener(\"resize\", function(){if (document.getElementById(\"de56bf5a-db6a-422c-b9d5-0cf0da142004\")) {window._Plotly.Plots.resize(document.getElementById(\"de56bf5a-db6a-422c-b9d5-0cf0da142004\"));};})</script>"
      ]
     },
     "metadata": {},
     "output_type": "display_data"
    }
   ],
   "source": [
    "molecule = 'Cimetidine_5'\n",
    "bond = '[16, 5]'\n",
    "mol_type = ['parent', 'pfizer', '0.03']\n",
    "indices = [job_indices[molecule][bond][i] for i in mol_type]\n",
    "dataset.visualize(indices, 'default')"
   ]
  },
  {
   "cell_type": "code",
   "execution_count": 7,
   "metadata": {},
   "outputs": [
    {
     "data": {
      "text/html": [
       "<script type=\"text/javascript\">window.PlotlyConfig = {MathJaxConfig: 'local'};</script><script type=\"text/javascript\">if (window.MathJax) {MathJax.Hub.Config({SVG: {font: \"STIX-Web\"}});}</script><script>requirejs.config({paths: { 'plotly': ['https://cdn.plot.ly/plotly-latest.min']},});if(!window._Plotly) {require(['plotly'],function(plotly) {window._Plotly=plotly;});}</script>"
      ],
      "text/vnd.plotly.v1+html": [
       "<script type=\"text/javascript\">window.PlotlyConfig = {MathJaxConfig: 'local'};</script><script type=\"text/javascript\">if (window.MathJax) {MathJax.Hub.Config({SVG: {font: \"STIX-Web\"}});}</script><script>requirejs.config({paths: { 'plotly': ['https://cdn.plot.ly/plotly-latest.min']},});if(!window._Plotly) {require(['plotly'],function(plotly) {window._Plotly=plotly;});}</script>"
      ]
     },
     "metadata": {},
     "output_type": "display_data"
    },
    {
     "data": {
      "text/html": [
       "<script type=\"text/javascript\">window.PlotlyConfig = {MathJaxConfig: 'local'};</script><script type=\"text/javascript\">if (window.MathJax) {MathJax.Hub.Config({SVG: {font: \"STIX-Web\"}});}</script><script>requirejs.config({paths: { 'plotly': ['https://cdn.plot.ly/plotly-latest.min']},});if(!window._Plotly) {require(['plotly'],function(plotly) {window._Plotly=plotly;});}</script>"
      ],
      "text/vnd.plotly.v1+html": [
       "<script type=\"text/javascript\">window.PlotlyConfig = {MathJaxConfig: 'local'};</script><script type=\"text/javascript\">if (window.MathJax) {MathJax.Hub.Config({SVG: {font: \"STIX-Web\"}});}</script><script>requirejs.config({paths: { 'plotly': ['https://cdn.plot.ly/plotly-latest.min']},});if(!window._Plotly) {require(['plotly'],function(plotly) {window._Plotly=plotly;});}</script>"
      ]
     },
     "metadata": {},
     "output_type": "display_data"
    },
    {
     "data": {
      "text/html": [
       "<script type=\"text/javascript\">window.PlotlyConfig = {MathJaxConfig: 'local'};</script><script type=\"text/javascript\">if (window.MathJax) {MathJax.Hub.Config({SVG: {font: \"STIX-Web\"}});}</script><script>requirejs.config({paths: { 'plotly': ['https://cdn.plot.ly/plotly-latest.min']},});if(!window._Plotly) {require(['plotly'],function(plotly) {window._Plotly=plotly;});}</script>"
      ],
      "text/vnd.plotly.v1+html": [
       "<script type=\"text/javascript\">window.PlotlyConfig = {MathJaxConfig: 'local'};</script><script type=\"text/javascript\">if (window.MathJax) {MathJax.Hub.Config({SVG: {font: \"STIX-Web\"}});}</script><script>requirejs.config({paths: { 'plotly': ['https://cdn.plot.ly/plotly-latest.min']},});if(!window._Plotly) {require(['plotly'],function(plotly) {window._Plotly=plotly;});}</script>"
      ]
     },
     "metadata": {},
     "output_type": "display_data"
    },
    {
     "data": {
      "text/html": [
       "<script type=\"text/javascript\">window.PlotlyConfig = {MathJaxConfig: 'local'};</script><script type=\"text/javascript\">if (window.MathJax) {MathJax.Hub.Config({SVG: {font: \"STIX-Web\"}});}</script><script>requirejs.config({paths: { 'plotly': ['https://cdn.plot.ly/plotly-latest.min']},});if(!window._Plotly) {require(['plotly'],function(plotly) {window._Plotly=plotly;});}</script>"
      ],
      "text/vnd.plotly.v1+html": [
       "<script type=\"text/javascript\">window.PlotlyConfig = {MathJaxConfig: 'local'};</script><script type=\"text/javascript\">if (window.MathJax) {MathJax.Hub.Config({SVG: {font: \"STIX-Web\"}});}</script><script>requirejs.config({paths: { 'plotly': ['https://cdn.plot.ly/plotly-latest.min']},});if(!window._Plotly) {require(['plotly'],function(plotly) {window._Plotly=plotly;});}</script>"
      ]
     },
     "metadata": {},
     "output_type": "display_data"
    },
    {
     "data": {
      "application/vnd.plotly.v1+json": {
       "config": {
        "linkText": "Export to plot.ly",
        "plotlyServerURL": "https://plot.ly",
        "showLink": false
       },
       "data": [
        {
         "mode": "lines+markers",
         "name": "c1cc(oc1)[CH2:1][NH:2][c:3]2cc(c(c[c:4]2C(=O)[O-])S(=O)(=O)N)Cl",
         "type": "scatter",
         "uid": "334a55d5-b272-427d-af7f-c7ee12d0c095",
         "x": [
          -165,
          -150,
          -135,
          -120,
          -105,
          -90,
          -75,
          -60,
          -45,
          -30,
          -15,
          0,
          15,
          30,
          45,
          60,
          75,
          90,
          105,
          120,
          135,
          150,
          165,
          180
         ],
         "y": [
          0.118,
          0.089,
          0.509,
          2,
          4.346,
          6.455,
          8.295,
          10.816,
          10.265,
          9.922,
          10.597,
          11.651,
          10.577,
          9.881,
          10.185,
          10.693,
          8.262,
          6.48,
          4.259,
          1.925,
          0.445,
          0,
          0.047,
          0.132
         ]
        },
        {
         "mode": "lines+markers",
         "name": "c1cc[c:2]([c:1](c1)C(=O)[O-])[NH:3][CH2:4]c2ccco2",
         "type": "scatter",
         "uid": "6fb9e658-8676-4e12-acf8-05ad254b8503",
         "x": [
          -165,
          -150,
          -135,
          -120,
          -105,
          -90,
          -75,
          -60,
          -45,
          -30,
          -15,
          0,
          15,
          30,
          45,
          60,
          75,
          90,
          105,
          120,
          135,
          150,
          165,
          180
         ],
         "y": [
          0.682,
          0.159,
          0,
          0.953,
          2.923,
          4.595,
          5.818,
          8.011,
          11.144,
          13.148,
          12.953,
          11.805,
          10.469,
          9.538,
          9.57,
          8.011,
          5.818,
          4.595,
          2.924,
          0.953,
          0,
          0.159,
          0.684,
          1.059
         ]
        },
        {
         "mode": "lines+markers",
         "name": "c1cc(oc1)[CH2:4][NH:3][c:2]2cc(c(c[c:1]2C(=O)[O-])S(=O)(=O)N)Cl",
         "type": "scatter",
         "uid": "e90e6e0a-b3eb-46bb-aed5-0fcdfe407ce7",
         "x": [
          -165,
          -150,
          -135,
          -120,
          -105,
          -90,
          -75,
          -60,
          -45,
          -30,
          -15,
          0,
          15,
          30,
          45,
          60,
          75,
          90,
          105,
          120,
          135,
          150,
          165,
          180
         ],
         "y": [
          0.117,
          0.087,
          0.507,
          1.999,
          4.346,
          6.452,
          8.294,
          10.815,
          10.263,
          9.921,
          10.597,
          11.65,
          10.577,
          9.882,
          10.184,
          10.692,
          8.261,
          6.476,
          4.258,
          1.925,
          0.443,
          0,
          0.047,
          0.134
         ]
        }
       ],
       "layout": {
        "title": {
         "text": "TorsionDriveDataset 1-D Plot [spec=default]"
        },
        "xaxis": {
         "range": [
          -175,
          190
         ],
         "title": {
          "text": "Dihedral Angle [degrees]"
         },
         "zeroline": false
        },
        "yaxis": {
         "title": {
          "text": "Relative Energy [kcal / mol]"
         },
         "zeroline": true
        }
       }
      },
      "text/html": [
       "<div id=\"6f81520c-7397-4a1c-8d81-59fe3c207756\" style=\"height: 525px; width: 100%;\" class=\"plotly-graph-div\"></div><script type=\"text/javascript\">require([\"plotly\"], function(Plotly) { window.PLOTLYENV=window.PLOTLYENV || {};window.PLOTLYENV.BASE_URL=\"https://plot.ly\";\n",
       "if (document.getElementById(\"6f81520c-7397-4a1c-8d81-59fe3c207756\")) {\n",
       "    Plotly.newPlot(\"6f81520c-7397-4a1c-8d81-59fe3c207756\", [{\"mode\": \"lines+markers\", \"name\": \"c1cc(oc1)[CH2:1][NH:2][c:3]2cc(c(c[c:4]2C(=O)[O-])S(=O)(=O)N)Cl\", \"uid\": \"334a55d5-b272-427d-af7f-c7ee12d0c095\", \"x\": [-165, -150, -135, -120, -105, -90, -75, -60, -45, -30, -15, 0, 15, 30, 45, 60, 75, 90, 105, 120, 135, 150, 165, 180], \"y\": [0.118, 0.089, 0.509, 2.0, 4.346, 6.455, 8.295, 10.816, 10.265, 9.922, 10.597, 11.651, 10.577, 9.881, 10.185, 10.693, 8.262, 6.48, 4.259, 1.925, 0.445, 0.0, 0.047, 0.132], \"type\": \"scatter\"}, {\"mode\": \"lines+markers\", \"name\": \"c1cc[c:2]([c:1](c1)C(=O)[O-])[NH:3][CH2:4]c2ccco2\", \"uid\": \"6fb9e658-8676-4e12-acf8-05ad254b8503\", \"x\": [-165, -150, -135, -120, -105, -90, -75, -60, -45, -30, -15, 0, 15, 30, 45, 60, 75, 90, 105, 120, 135, 150, 165, 180], \"y\": [0.682, 0.159, 0.0, 0.953, 2.923, 4.595, 5.818, 8.011, 11.144, 13.148, 12.953, 11.805, 10.469, 9.538, 9.57, 8.011, 5.818, 4.595, 2.924, 0.953, 0.0, 0.159, 0.684, 1.059], \"type\": \"scatter\"}, {\"mode\": \"lines+markers\", \"name\": \"c1cc(oc1)[CH2:4][NH:3][c:2]2cc(c(c[c:1]2C(=O)[O-])S(=O)(=O)N)Cl\", \"uid\": \"e90e6e0a-b3eb-46bb-aed5-0fcdfe407ce7\", \"x\": [-165, -150, -135, -120, -105, -90, -75, -60, -45, -30, -15, 0, 15, 30, 45, 60, 75, 90, 105, 120, 135, 150, 165, 180], \"y\": [0.117, 0.087, 0.507, 1.999, 4.346, 6.452, 8.294, 10.815, 10.263, 9.921, 10.597, 11.65, 10.577, 9.882, 10.184, 10.692, 8.261, 6.476, 4.258, 1.925, 0.443, 0.0, 0.047, 0.134], \"type\": \"scatter\"}], {\"title\": {\"text\": \"TorsionDriveDataset 1-D Plot [spec=default]\"}, \"xaxis\": {\"range\": [-175, 190], \"title\": {\"text\": \"Dihedral Angle [degrees]\"}, \"zeroline\": false}, \"yaxis\": {\"title\": {\"text\": \"Relative Energy [kcal / mol]\"}, \"zeroline\": true}}, {\"showLink\": false, \"linkText\": \"Export to plot.ly\", \"plotlyServerURL\": \"https://plot.ly\"}); \n",
       "}\n",
       "});</script><script type=\"text/javascript\">window.addEventListener(\"resize\", function(){if (document.getElementById(\"6f81520c-7397-4a1c-8d81-59fe3c207756\")) {window._Plotly.Plots.resize(document.getElementById(\"6f81520c-7397-4a1c-8d81-59fe3c207756\"));};})</script>"
      ],
      "text/vnd.plotly.v1+html": [
       "<div id=\"6f81520c-7397-4a1c-8d81-59fe3c207756\" style=\"height: 525px; width: 100%;\" class=\"plotly-graph-div\"></div><script type=\"text/javascript\">require([\"plotly\"], function(Plotly) { window.PLOTLYENV=window.PLOTLYENV || {};window.PLOTLYENV.BASE_URL=\"https://plot.ly\";\n",
       "if (document.getElementById(\"6f81520c-7397-4a1c-8d81-59fe3c207756\")) {\n",
       "    Plotly.newPlot(\"6f81520c-7397-4a1c-8d81-59fe3c207756\", [{\"mode\": \"lines+markers\", \"name\": \"c1cc(oc1)[CH2:1][NH:2][c:3]2cc(c(c[c:4]2C(=O)[O-])S(=O)(=O)N)Cl\", \"uid\": \"334a55d5-b272-427d-af7f-c7ee12d0c095\", \"x\": [-165, -150, -135, -120, -105, -90, -75, -60, -45, -30, -15, 0, 15, 30, 45, 60, 75, 90, 105, 120, 135, 150, 165, 180], \"y\": [0.118, 0.089, 0.509, 2.0, 4.346, 6.455, 8.295, 10.816, 10.265, 9.922, 10.597, 11.651, 10.577, 9.881, 10.185, 10.693, 8.262, 6.48, 4.259, 1.925, 0.445, 0.0, 0.047, 0.132], \"type\": \"scatter\"}, {\"mode\": \"lines+markers\", \"name\": \"c1cc[c:2]([c:1](c1)C(=O)[O-])[NH:3][CH2:4]c2ccco2\", \"uid\": \"6fb9e658-8676-4e12-acf8-05ad254b8503\", \"x\": [-165, -150, -135, -120, -105, -90, -75, -60, -45, -30, -15, 0, 15, 30, 45, 60, 75, 90, 105, 120, 135, 150, 165, 180], \"y\": [0.682, 0.159, 0.0, 0.953, 2.923, 4.595, 5.818, 8.011, 11.144, 13.148, 12.953, 11.805, 10.469, 9.538, 9.57, 8.011, 5.818, 4.595, 2.924, 0.953, 0.0, 0.159, 0.684, 1.059], \"type\": \"scatter\"}, {\"mode\": \"lines+markers\", \"name\": \"c1cc(oc1)[CH2:4][NH:3][c:2]2cc(c(c[c:1]2C(=O)[O-])S(=O)(=O)N)Cl\", \"uid\": \"e90e6e0a-b3eb-46bb-aed5-0fcdfe407ce7\", \"x\": [-165, -150, -135, -120, -105, -90, -75, -60, -45, -30, -15, 0, 15, 30, 45, 60, 75, 90, 105, 120, 135, 150, 165, 180], \"y\": [0.117, 0.087, 0.507, 1.999, 4.346, 6.452, 8.294, 10.815, 10.263, 9.921, 10.597, 11.65, 10.577, 9.882, 10.184, 10.692, 8.261, 6.476, 4.258, 1.925, 0.443, 0.0, 0.047, 0.134], \"type\": \"scatter\"}], {\"title\": {\"text\": \"TorsionDriveDataset 1-D Plot [spec=default]\"}, \"xaxis\": {\"range\": [-175, 190], \"title\": {\"text\": \"Dihedral Angle [degrees]\"}, \"zeroline\": false}, \"yaxis\": {\"title\": {\"text\": \"Relative Energy [kcal / mol]\"}, \"zeroline\": true}}, {\"showLink\": false, \"linkText\": \"Export to plot.ly\", \"plotlyServerURL\": \"https://plot.ly\"}); \n",
       "}\n",
       "});</script><script type=\"text/javascript\">window.addEventListener(\"resize\", function(){if (document.getElementById(\"6f81520c-7397-4a1c-8d81-59fe3c207756\")) {window._Plotly.Plots.resize(document.getElementById(\"6f81520c-7397-4a1c-8d81-59fe3c207756\"));};})</script>"
      ]
     },
     "metadata": {},
     "output_type": "display_data"
    }
   ],
   "source": [
    "molecule = 'Furosemide_0'\n",
    "bond = '[14, 7]'\n",
    "mol_type = ['parent', 'pfizer', '0.03']\n",
    "indices = [job_indices[molecule][bond][i] for i in mol_type]\n",
    "dataset.visualize(indices, 'default')"
   ]
  },
  {
   "cell_type": "code",
   "execution_count": 14,
   "metadata": {},
   "outputs": [],
   "source": [
    "re = dataset.get_record('c1cc[c:1]([c:2](c1)[S:3](=[O:4])(=O)N)Cl', 'default')"
   ]
  },
  {
   "cell_type": "code",
   "execution_count": 15,
   "metadata": {},
   "outputs": [
    {
     "data": {
      "text/plain": [
       "{'status': 'ERROR',\n",
       " 'total_points': 24,\n",
       " 'computed_points': 9,\n",
       " 'complete_tasks': 16,\n",
       " 'incomplete_tasks': 0,\n",
       " 'error_tasks': 1,\n",
       " 'current_tasks': 1,\n",
       " 'percent_complete': 37.5,\n",
       " 'errors': [OptimizationRecord(id='20576181', status='ERROR')]}"
      ]
     },
     "execution_count": 15,
     "metadata": {},
     "output_type": "execute_result"
    }
   ],
   "source": [
    "re.detailed_status()"
   ]
  },
  {
   "cell_type": "code",
   "execution_count": 8,
   "metadata": {},
   "outputs": [
    {
     "data": {
      "text/html": [
       "<script type=\"text/javascript\">window.PlotlyConfig = {MathJaxConfig: 'local'};</script><script type=\"text/javascript\">if (window.MathJax) {MathJax.Hub.Config({SVG: {font: \"STIX-Web\"}});}</script><script>requirejs.config({paths: { 'plotly': ['https://cdn.plot.ly/plotly-latest.min']},});if(!window._Plotly) {require(['plotly'],function(plotly) {window._Plotly=plotly;});}</script>"
      ],
      "text/vnd.plotly.v1+html": [
       "<script type=\"text/javascript\">window.PlotlyConfig = {MathJaxConfig: 'local'};</script><script type=\"text/javascript\">if (window.MathJax) {MathJax.Hub.Config({SVG: {font: \"STIX-Web\"}});}</script><script>requirejs.config({paths: { 'plotly': ['https://cdn.plot.ly/plotly-latest.min']},});if(!window._Plotly) {require(['plotly'],function(plotly) {window._Plotly=plotly;});}</script>"
      ]
     },
     "metadata": {},
     "output_type": "display_data"
    },
    {
     "data": {
      "text/html": [
       "<script type=\"text/javascript\">window.PlotlyConfig = {MathJaxConfig: 'local'};</script><script type=\"text/javascript\">if (window.MathJax) {MathJax.Hub.Config({SVG: {font: \"STIX-Web\"}});}</script><script>requirejs.config({paths: { 'plotly': ['https://cdn.plot.ly/plotly-latest.min']},});if(!window._Plotly) {require(['plotly'],function(plotly) {window._Plotly=plotly;});}</script>"
      ],
      "text/vnd.plotly.v1+html": [
       "<script type=\"text/javascript\">window.PlotlyConfig = {MathJaxConfig: 'local'};</script><script type=\"text/javascript\">if (window.MathJax) {MathJax.Hub.Config({SVG: {font: \"STIX-Web\"}});}</script><script>requirejs.config({paths: { 'plotly': ['https://cdn.plot.ly/plotly-latest.min']},});if(!window._Plotly) {require(['plotly'],function(plotly) {window._Plotly=plotly;});}</script>"
      ]
     },
     "metadata": {},
     "output_type": "display_data"
    },
    {
     "data": {
      "text/html": [
       "<script type=\"text/javascript\">window.PlotlyConfig = {MathJaxConfig: 'local'};</script><script type=\"text/javascript\">if (window.MathJax) {MathJax.Hub.Config({SVG: {font: \"STIX-Web\"}});}</script><script>requirejs.config({paths: { 'plotly': ['https://cdn.plot.ly/plotly-latest.min']},});if(!window._Plotly) {require(['plotly'],function(plotly) {window._Plotly=plotly;});}</script>"
      ],
      "text/vnd.plotly.v1+html": [
       "<script type=\"text/javascript\">window.PlotlyConfig = {MathJaxConfig: 'local'};</script><script type=\"text/javascript\">if (window.MathJax) {MathJax.Hub.Config({SVG: {font: \"STIX-Web\"}});}</script><script>requirejs.config({paths: { 'plotly': ['https://cdn.plot.ly/plotly-latest.min']},});if(!window._Plotly) {require(['plotly'],function(plotly) {window._Plotly=plotly;});}</script>"
      ]
     },
     "metadata": {},
     "output_type": "display_data"
    },
    {
     "data": {
      "text/html": [
       "<script type=\"text/javascript\">window.PlotlyConfig = {MathJaxConfig: 'local'};</script><script type=\"text/javascript\">if (window.MathJax) {MathJax.Hub.Config({SVG: {font: \"STIX-Web\"}});}</script><script>requirejs.config({paths: { 'plotly': ['https://cdn.plot.ly/plotly-latest.min']},});if(!window._Plotly) {require(['plotly'],function(plotly) {window._Plotly=plotly;});}</script>"
      ],
      "text/vnd.plotly.v1+html": [
       "<script type=\"text/javascript\">window.PlotlyConfig = {MathJaxConfig: 'local'};</script><script type=\"text/javascript\">if (window.MathJax) {MathJax.Hub.Config({SVG: {font: \"STIX-Web\"}});}</script><script>requirejs.config({paths: { 'plotly': ['https://cdn.plot.ly/plotly-latest.min']},});if(!window._Plotly) {require(['plotly'],function(plotly) {window._Plotly=plotly;});}</script>"
      ]
     },
     "metadata": {},
     "output_type": "display_data"
    },
    {
     "data": {
      "application/vnd.plotly.v1+json": {
       "config": {
        "linkText": "Export to plot.ly",
        "plotlyServerURL": "https://plot.ly",
        "showLink": false
       },
       "data": [
        {
         "mode": "lines+markers",
         "name": "c1cc(oc1)CNc2c[c:1]([c:2](cc2C(=O)[O-])[S:3](=[O:4])(=O)N)Cl",
         "type": "scatter",
         "uid": "ed10f81a-f51d-44d9-8c66-a52cb4a6826a",
         "x": [
          -165,
          -150,
          -135,
          -120,
          -105,
          -90,
          -75,
          -60,
          -45,
          -30,
          -15,
          0,
          15,
          30,
          45,
          60,
          75,
          90,
          105,
          120,
          135,
          150,
          165,
          180
         ],
         "y": [
          0.638,
          1.717,
          2.546,
          3.029,
          2.537,
          1.785,
          1.154,
          1.153,
          1.794,
          2.58,
          3.074,
          2.616,
          1.8,
          0.744,
          0.056,
          0.258,
          1.812,
          4.231,
          6.516,
          6.944,
          4.727,
          2.124,
          0.349,
          0
         ]
        },
        {
         "mode": "lines+markers",
         "name": "c1cc[c:1]([c:2](c1)[S:3](=[O:4])(=O)N)Cl",
         "type": "scatter",
         "uid": "90f8c22a-6fc6-4721-8aa9-f2630a43a793",
         "x": [
          -165,
          -150,
          -135,
          -120,
          -105,
          165,
          180
         ],
         "y": [
          1.321,
          3.111,
          4.24,
          4.454,
          4.031,
          0.127,
          0
         ]
        },
        {
         "mode": "lines+markers",
         "name": "c1c[c:1]([c:2](cc1C(=O)[O-])[S:3](=[O:4])(=O)N)Cl",
         "type": "scatter",
         "uid": "965713d4-c6f2-466c-b37f-5149f9f5c2af",
         "x": [
          -165,
          -150,
          -135,
          -120,
          -105,
          -90,
          -75,
          -60,
          -45,
          -30,
          -15,
          0,
          15,
          30,
          45,
          60,
          75,
          90,
          105,
          120,
          135,
          150,
          165,
          180
         ],
         "y": [
          0.934,
          2.023,
          2.729,
          3.181,
          2.691,
          1.631,
          0.789,
          0.775,
          1.599,
          2.685,
          3.185,
          2.742,
          2.06,
          1.001,
          0.055,
          0.038,
          1.553,
          3.991,
          6.321,
          6.768,
          4.502,
          1.879,
          0.137,
          0
         ]
        }
       ],
       "layout": {
        "title": {
         "text": "TorsionDriveDataset 1-D Plot [spec=default]"
        },
        "xaxis": {
         "range": [
          -175,
          190
         ],
         "title": {
          "text": "Dihedral Angle [degrees]"
         },
         "zeroline": false
        },
        "yaxis": {
         "title": {
          "text": "Relative Energy [kcal / mol]"
         },
         "zeroline": true
        }
       }
      },
      "text/html": [
       "<div id=\"79e8bccc-eb75-4dbf-8726-2d1bb577ff37\" style=\"height: 525px; width: 100%;\" class=\"plotly-graph-div\"></div><script type=\"text/javascript\">require([\"plotly\"], function(Plotly) { window.PLOTLYENV=window.PLOTLYENV || {};window.PLOTLYENV.BASE_URL=\"https://plot.ly\";\n",
       "if (document.getElementById(\"79e8bccc-eb75-4dbf-8726-2d1bb577ff37\")) {\n",
       "    Plotly.newPlot(\"79e8bccc-eb75-4dbf-8726-2d1bb577ff37\", [{\"mode\": \"lines+markers\", \"name\": \"c1cc(oc1)CNc2c[c:1]([c:2](cc2C(=O)[O-])[S:3](=[O:4])(=O)N)Cl\", \"uid\": \"ed10f81a-f51d-44d9-8c66-a52cb4a6826a\", \"x\": [-165, -150, -135, -120, -105, -90, -75, -60, -45, -30, -15, 0, 15, 30, 45, 60, 75, 90, 105, 120, 135, 150, 165, 180], \"y\": [0.638, 1.717, 2.546, 3.029, 2.537, 1.785, 1.154, 1.153, 1.794, 2.58, 3.074, 2.616, 1.8, 0.744, 0.056, 0.258, 1.812, 4.231, 6.516, 6.944, 4.727, 2.124, 0.349, 0.0], \"type\": \"scatter\"}, {\"mode\": \"lines+markers\", \"name\": \"c1cc[c:1]([c:2](c1)[S:3](=[O:4])(=O)N)Cl\", \"uid\": \"90f8c22a-6fc6-4721-8aa9-f2630a43a793\", \"x\": [-165, -150, -135, -120, -105, 165, 180], \"y\": [1.321, 3.111, 4.24, 4.454, 4.031, 0.127, 0.0], \"type\": \"scatter\"}, {\"mode\": \"lines+markers\", \"name\": \"c1c[c:1]([c:2](cc1C(=O)[O-])[S:3](=[O:4])(=O)N)Cl\", \"uid\": \"965713d4-c6f2-466c-b37f-5149f9f5c2af\", \"x\": [-165, -150, -135, -120, -105, -90, -75, -60, -45, -30, -15, 0, 15, 30, 45, 60, 75, 90, 105, 120, 135, 150, 165, 180], \"y\": [0.934, 2.023, 2.729, 3.181, 2.691, 1.631, 0.789, 0.775, 1.599, 2.685, 3.185, 2.742, 2.06, 1.001, 0.055, 0.038, 1.553, 3.991, 6.321, 6.768, 4.502, 1.879, 0.137, 0.0], \"type\": \"scatter\"}], {\"title\": {\"text\": \"TorsionDriveDataset 1-D Plot [spec=default]\"}, \"xaxis\": {\"range\": [-175, 190], \"title\": {\"text\": \"Dihedral Angle [degrees]\"}, \"zeroline\": false}, \"yaxis\": {\"title\": {\"text\": \"Relative Energy [kcal / mol]\"}, \"zeroline\": true}}, {\"showLink\": false, \"linkText\": \"Export to plot.ly\", \"plotlyServerURL\": \"https://plot.ly\"}); \n",
       "}\n",
       "});</script><script type=\"text/javascript\">window.addEventListener(\"resize\", function(){if (document.getElementById(\"79e8bccc-eb75-4dbf-8726-2d1bb577ff37\")) {window._Plotly.Plots.resize(document.getElementById(\"79e8bccc-eb75-4dbf-8726-2d1bb577ff37\"));};})</script>"
      ],
      "text/vnd.plotly.v1+html": [
       "<div id=\"79e8bccc-eb75-4dbf-8726-2d1bb577ff37\" style=\"height: 525px; width: 100%;\" class=\"plotly-graph-div\"></div><script type=\"text/javascript\">require([\"plotly\"], function(Plotly) { window.PLOTLYENV=window.PLOTLYENV || {};window.PLOTLYENV.BASE_URL=\"https://plot.ly\";\n",
       "if (document.getElementById(\"79e8bccc-eb75-4dbf-8726-2d1bb577ff37\")) {\n",
       "    Plotly.newPlot(\"79e8bccc-eb75-4dbf-8726-2d1bb577ff37\", [{\"mode\": \"lines+markers\", \"name\": \"c1cc(oc1)CNc2c[c:1]([c:2](cc2C(=O)[O-])[S:3](=[O:4])(=O)N)Cl\", \"uid\": \"ed10f81a-f51d-44d9-8c66-a52cb4a6826a\", \"x\": [-165, -150, -135, -120, -105, -90, -75, -60, -45, -30, -15, 0, 15, 30, 45, 60, 75, 90, 105, 120, 135, 150, 165, 180], \"y\": [0.638, 1.717, 2.546, 3.029, 2.537, 1.785, 1.154, 1.153, 1.794, 2.58, 3.074, 2.616, 1.8, 0.744, 0.056, 0.258, 1.812, 4.231, 6.516, 6.944, 4.727, 2.124, 0.349, 0.0], \"type\": \"scatter\"}, {\"mode\": \"lines+markers\", \"name\": \"c1cc[c:1]([c:2](c1)[S:3](=[O:4])(=O)N)Cl\", \"uid\": \"90f8c22a-6fc6-4721-8aa9-f2630a43a793\", \"x\": [-165, -150, -135, -120, -105, 165, 180], \"y\": [1.321, 3.111, 4.24, 4.454, 4.031, 0.127, 0.0], \"type\": \"scatter\"}, {\"mode\": \"lines+markers\", \"name\": \"c1c[c:1]([c:2](cc1C(=O)[O-])[S:3](=[O:4])(=O)N)Cl\", \"uid\": \"965713d4-c6f2-466c-b37f-5149f9f5c2af\", \"x\": [-165, -150, -135, -120, -105, -90, -75, -60, -45, -30, -15, 0, 15, 30, 45, 60, 75, 90, 105, 120, 135, 150, 165, 180], \"y\": [0.934, 2.023, 2.729, 3.181, 2.691, 1.631, 0.789, 0.775, 1.599, 2.685, 3.185, 2.742, 2.06, 1.001, 0.055, 0.038, 1.553, 3.991, 6.321, 6.768, 4.502, 1.879, 0.137, 0.0], \"type\": \"scatter\"}], {\"title\": {\"text\": \"TorsionDriveDataset 1-D Plot [spec=default]\"}, \"xaxis\": {\"range\": [-175, 190], \"title\": {\"text\": \"Dihedral Angle [degrees]\"}, \"zeroline\": false}, \"yaxis\": {\"title\": {\"text\": \"Relative Energy [kcal / mol]\"}, \"zeroline\": true}}, {\"showLink\": false, \"linkText\": \"Export to plot.ly\", \"plotlyServerURL\": \"https://plot.ly\"}); \n",
       "}\n",
       "});</script><script type=\"text/javascript\">window.addEventListener(\"resize\", function(){if (document.getElementById(\"79e8bccc-eb75-4dbf-8726-2d1bb577ff37\")) {window._Plotly.Plots.resize(document.getElementById(\"79e8bccc-eb75-4dbf-8726-2d1bb577ff37\"));};})</script>"
      ]
     },
     "metadata": {},
     "output_type": "display_data"
    }
   ],
   "source": [
    "molecule = 'Furosemide_0'\n",
    "bond = '[8, 20]'\n",
    "mol_type = ['parent', 'pfizer', '0.03']\n",
    "indices = [job_indices[molecule][bond][i] for i in mol_type]\n",
    "dataset.visualize(indices, 'default')"
   ]
  },
  {
   "cell_type": "code",
   "execution_count": 9,
   "metadata": {},
   "outputs": [
    {
     "data": {
      "text/html": [
       "<script type=\"text/javascript\">window.PlotlyConfig = {MathJaxConfig: 'local'};</script><script type=\"text/javascript\">if (window.MathJax) {MathJax.Hub.Config({SVG: {font: \"STIX-Web\"}});}</script><script>requirejs.config({paths: { 'plotly': ['https://cdn.plot.ly/plotly-latest.min']},});if(!window._Plotly) {require(['plotly'],function(plotly) {window._Plotly=plotly;});}</script>"
      ],
      "text/vnd.plotly.v1+html": [
       "<script type=\"text/javascript\">window.PlotlyConfig = {MathJaxConfig: 'local'};</script><script type=\"text/javascript\">if (window.MathJax) {MathJax.Hub.Config({SVG: {font: \"STIX-Web\"}});}</script><script>requirejs.config({paths: { 'plotly': ['https://cdn.plot.ly/plotly-latest.min']},});if(!window._Plotly) {require(['plotly'],function(plotly) {window._Plotly=plotly;});}</script>"
      ]
     },
     "metadata": {},
     "output_type": "display_data"
    },
    {
     "data": {
      "text/html": [
       "<script type=\"text/javascript\">window.PlotlyConfig = {MathJaxConfig: 'local'};</script><script type=\"text/javascript\">if (window.MathJax) {MathJax.Hub.Config({SVG: {font: \"STIX-Web\"}});}</script><script>requirejs.config({paths: { 'plotly': ['https://cdn.plot.ly/plotly-latest.min']},});if(!window._Plotly) {require(['plotly'],function(plotly) {window._Plotly=plotly;});}</script>"
      ],
      "text/vnd.plotly.v1+html": [
       "<script type=\"text/javascript\">window.PlotlyConfig = {MathJaxConfig: 'local'};</script><script type=\"text/javascript\">if (window.MathJax) {MathJax.Hub.Config({SVG: {font: \"STIX-Web\"}});}</script><script>requirejs.config({paths: { 'plotly': ['https://cdn.plot.ly/plotly-latest.min']},});if(!window._Plotly) {require(['plotly'],function(plotly) {window._Plotly=plotly;});}</script>"
      ]
     },
     "metadata": {},
     "output_type": "display_data"
    },
    {
     "data": {
      "text/html": [
       "<script type=\"text/javascript\">window.PlotlyConfig = {MathJaxConfig: 'local'};</script><script type=\"text/javascript\">if (window.MathJax) {MathJax.Hub.Config({SVG: {font: \"STIX-Web\"}});}</script><script>requirejs.config({paths: { 'plotly': ['https://cdn.plot.ly/plotly-latest.min']},});if(!window._Plotly) {require(['plotly'],function(plotly) {window._Plotly=plotly;});}</script>"
      ],
      "text/vnd.plotly.v1+html": [
       "<script type=\"text/javascript\">window.PlotlyConfig = {MathJaxConfig: 'local'};</script><script type=\"text/javascript\">if (window.MathJax) {MathJax.Hub.Config({SVG: {font: \"STIX-Web\"}});}</script><script>requirejs.config({paths: { 'plotly': ['https://cdn.plot.ly/plotly-latest.min']},});if(!window._Plotly) {require(['plotly'],function(plotly) {window._Plotly=plotly;});}</script>"
      ]
     },
     "metadata": {},
     "output_type": "display_data"
    },
    {
     "data": {
      "text/html": [
       "<script type=\"text/javascript\">window.PlotlyConfig = {MathJaxConfig: 'local'};</script><script type=\"text/javascript\">if (window.MathJax) {MathJax.Hub.Config({SVG: {font: \"STIX-Web\"}});}</script><script>requirejs.config({paths: { 'plotly': ['https://cdn.plot.ly/plotly-latest.min']},});if(!window._Plotly) {require(['plotly'],function(plotly) {window._Plotly=plotly;});}</script>"
      ],
      "text/vnd.plotly.v1+html": [
       "<script type=\"text/javascript\">window.PlotlyConfig = {MathJaxConfig: 'local'};</script><script type=\"text/javascript\">if (window.MathJax) {MathJax.Hub.Config({SVG: {font: \"STIX-Web\"}});}</script><script>requirejs.config({paths: { 'plotly': ['https://cdn.plot.ly/plotly-latest.min']},});if(!window._Plotly) {require(['plotly'],function(plotly) {window._Plotly=plotly;});}</script>"
      ]
     },
     "metadata": {},
     "output_type": "display_data"
    },
    {
     "data": {
      "application/vnd.plotly.v1+json": {
       "config": {
        "linkText": "Export to plot.ly",
        "plotlyServerURL": "https://plot.ly",
        "showLink": false
       },
       "data": [
        {
         "mode": "lines+markers",
         "name": "CC[NH+](CC)C[CH2:4][O:3][C:2](=[O:1])c1ccc(cc1Cl)N",
         "type": "scatter",
         "uid": "015b4c10-8c23-4fc4-88b0-7080a33ac291",
         "x": [
          -165,
          -150,
          -135,
          -120,
          -105,
          -90,
          -75,
          -60,
          -45,
          -30,
          -15,
          0,
          15,
          30,
          45,
          60,
          75,
          90,
          105,
          120,
          135,
          150,
          165,
          180
         ],
         "y": [
          14.046,
          13.791,
          13.065,
          11.059,
          9.21,
          8.011,
          7.05,
          6.327,
          6.04,
          4.364,
          2.018,
          0.535,
          0,
          0.4,
          1.713,
          3.639,
          5.961,
          8.118,
          9.76,
          11.154,
          12.652,
          14.015,
          14.529,
          14.558
         ]
        },
        {
         "mode": "lines+markers",
         "name": "C[CH2:1][O:2][C:3](=[O:4])c1ccccc1Cl",
         "type": "scatter",
         "uid": "6e47f710-95f4-45fc-8e0c-a727c40ffede",
         "x": [
          -165,
          -150,
          -135,
          -120,
          -105,
          -90,
          -75,
          -60,
          -45,
          -30,
          -15,
          0,
          15,
          30,
          45,
          60,
          75,
          90,
          105,
          120,
          135,
          150,
          165,
          180
         ],
         "y": [
          6.441,
          7.07,
          7.962,
          9.206,
          10.446,
          10.994,
          9.848,
          7.125,
          4.359,
          2.032,
          0.41,
          0,
          0.41,
          2.032,
          4.359,
          7.128,
          9.848,
          10.994,
          10.446,
          9.206,
          7.962,
          7.07,
          6.441,
          6.384
         ]
        },
        {
         "mode": "lines+markers",
         "name": "c1ccc(c(c1)[C:3](=[O:4])[O:2][CH2:1]C[NH3+])Cl",
         "type": "scatter",
         "uid": "7eac38cc-9e20-4a47-ad39-5b43fd7be3b4",
         "x": [
          -165,
          -150,
          -135,
          -120,
          -105,
          -90,
          -75,
          -60,
          -45,
          -30,
          -15,
          0,
          15,
          30,
          45,
          60,
          75,
          90,
          105,
          120,
          135,
          150,
          165,
          180
         ],
         "y": [
          12.308,
          12.475,
          13.04,
          12.095,
          10.342,
          9.152,
          8.32,
          7.591,
          7,
          5.289,
          2.413,
          0.554,
          0,
          0.73,
          2.545,
          5.045,
          7.667,
          9.923,
          11.728,
          12.324,
          12.667,
          12.915,
          12.753,
          12.475
         ]
        }
       ],
       "layout": {
        "title": {
         "text": "TorsionDriveDataset 1-D Plot [spec=default]"
        },
        "xaxis": {
         "range": [
          -175,
          190
         ],
         "title": {
          "text": "Dihedral Angle [degrees]"
         },
         "zeroline": false
        },
        "yaxis": {
         "title": {
          "text": "Relative Energy [kcal / mol]"
         },
         "zeroline": true
        }
       }
      },
      "text/html": [
       "<div id=\"fda58198-7366-41de-87bf-75f143cd5c28\" style=\"height: 525px; width: 100%;\" class=\"plotly-graph-div\"></div><script type=\"text/javascript\">require([\"plotly\"], function(Plotly) { window.PLOTLYENV=window.PLOTLYENV || {};window.PLOTLYENV.BASE_URL=\"https://plot.ly\";\n",
       "if (document.getElementById(\"fda58198-7366-41de-87bf-75f143cd5c28\")) {\n",
       "    Plotly.newPlot(\"fda58198-7366-41de-87bf-75f143cd5c28\", [{\"mode\": \"lines+markers\", \"name\": \"CC[NH+](CC)C[CH2:4][O:3][C:2](=[O:1])c1ccc(cc1Cl)N\", \"uid\": \"015b4c10-8c23-4fc4-88b0-7080a33ac291\", \"x\": [-165, -150, -135, -120, -105, -90, -75, -60, -45, -30, -15, 0, 15, 30, 45, 60, 75, 90, 105, 120, 135, 150, 165, 180], \"y\": [14.046, 13.791, 13.065, 11.059, 9.21, 8.011, 7.05, 6.327, 6.04, 4.364, 2.018, 0.535, 0.0, 0.4, 1.713, 3.639, 5.961, 8.118, 9.76, 11.154, 12.652, 14.015, 14.529, 14.558], \"type\": \"scatter\"}, {\"mode\": \"lines+markers\", \"name\": \"C[CH2:1][O:2][C:3](=[O:4])c1ccccc1Cl\", \"uid\": \"6e47f710-95f4-45fc-8e0c-a727c40ffede\", \"x\": [-165, -150, -135, -120, -105, -90, -75, -60, -45, -30, -15, 0, 15, 30, 45, 60, 75, 90, 105, 120, 135, 150, 165, 180], \"y\": [6.441, 7.07, 7.962, 9.206, 10.446, 10.994, 9.848, 7.125, 4.359, 2.032, 0.41, 0.0, 0.41, 2.032, 4.359, 7.128, 9.848, 10.994, 10.446, 9.206, 7.962, 7.07, 6.441, 6.384], \"type\": \"scatter\"}, {\"mode\": \"lines+markers\", \"name\": \"c1ccc(c(c1)[C:3](=[O:4])[O:2][CH2:1]C[NH3+])Cl\", \"uid\": \"7eac38cc-9e20-4a47-ad39-5b43fd7be3b4\", \"x\": [-165, -150, -135, -120, -105, -90, -75, -60, -45, -30, -15, 0, 15, 30, 45, 60, 75, 90, 105, 120, 135, 150, 165, 180], \"y\": [12.308, 12.475, 13.04, 12.095, 10.342, 9.152, 8.32, 7.591, 7.0, 5.289, 2.413, 0.554, 0.0, 0.73, 2.545, 5.045, 7.667, 9.923, 11.728, 12.324, 12.667, 12.915, 12.753, 12.475], \"type\": \"scatter\"}], {\"title\": {\"text\": \"TorsionDriveDataset 1-D Plot [spec=default]\"}, \"xaxis\": {\"range\": [-175, 190], \"title\": {\"text\": \"Dihedral Angle [degrees]\"}, \"zeroline\": false}, \"yaxis\": {\"title\": {\"text\": \"Relative Energy [kcal / mol]\"}, \"zeroline\": true}}, {\"showLink\": false, \"linkText\": \"Export to plot.ly\", \"plotlyServerURL\": \"https://plot.ly\"}); \n",
       "}\n",
       "});</script><script type=\"text/javascript\">window.addEventListener(\"resize\", function(){if (document.getElementById(\"fda58198-7366-41de-87bf-75f143cd5c28\")) {window._Plotly.Plots.resize(document.getElementById(\"fda58198-7366-41de-87bf-75f143cd5c28\"));};})</script>"
      ],
      "text/vnd.plotly.v1+html": [
       "<div id=\"fda58198-7366-41de-87bf-75f143cd5c28\" style=\"height: 525px; width: 100%;\" class=\"plotly-graph-div\"></div><script type=\"text/javascript\">require([\"plotly\"], function(Plotly) { window.PLOTLYENV=window.PLOTLYENV || {};window.PLOTLYENV.BASE_URL=\"https://plot.ly\";\n",
       "if (document.getElementById(\"fda58198-7366-41de-87bf-75f143cd5c28\")) {\n",
       "    Plotly.newPlot(\"fda58198-7366-41de-87bf-75f143cd5c28\", [{\"mode\": \"lines+markers\", \"name\": \"CC[NH+](CC)C[CH2:4][O:3][C:2](=[O:1])c1ccc(cc1Cl)N\", \"uid\": \"015b4c10-8c23-4fc4-88b0-7080a33ac291\", \"x\": [-165, -150, -135, -120, -105, -90, -75, -60, -45, -30, -15, 0, 15, 30, 45, 60, 75, 90, 105, 120, 135, 150, 165, 180], \"y\": [14.046, 13.791, 13.065, 11.059, 9.21, 8.011, 7.05, 6.327, 6.04, 4.364, 2.018, 0.535, 0.0, 0.4, 1.713, 3.639, 5.961, 8.118, 9.76, 11.154, 12.652, 14.015, 14.529, 14.558], \"type\": \"scatter\"}, {\"mode\": \"lines+markers\", \"name\": \"C[CH2:1][O:2][C:3](=[O:4])c1ccccc1Cl\", \"uid\": \"6e47f710-95f4-45fc-8e0c-a727c40ffede\", \"x\": [-165, -150, -135, -120, -105, -90, -75, -60, -45, -30, -15, 0, 15, 30, 45, 60, 75, 90, 105, 120, 135, 150, 165, 180], \"y\": [6.441, 7.07, 7.962, 9.206, 10.446, 10.994, 9.848, 7.125, 4.359, 2.032, 0.41, 0.0, 0.41, 2.032, 4.359, 7.128, 9.848, 10.994, 10.446, 9.206, 7.962, 7.07, 6.441, 6.384], \"type\": \"scatter\"}, {\"mode\": \"lines+markers\", \"name\": \"c1ccc(c(c1)[C:3](=[O:4])[O:2][CH2:1]C[NH3+])Cl\", \"uid\": \"7eac38cc-9e20-4a47-ad39-5b43fd7be3b4\", \"x\": [-165, -150, -135, -120, -105, -90, -75, -60, -45, -30, -15, 0, 15, 30, 45, 60, 75, 90, 105, 120, 135, 150, 165, 180], \"y\": [12.308, 12.475, 13.04, 12.095, 10.342, 9.152, 8.32, 7.591, 7.0, 5.289, 2.413, 0.554, 0.0, 0.73, 2.545, 5.045, 7.667, 9.923, 11.728, 12.324, 12.667, 12.915, 12.753, 12.475], \"type\": \"scatter\"}], {\"title\": {\"text\": \"TorsionDriveDataset 1-D Plot [spec=default]\"}, \"xaxis\": {\"range\": [-175, 190], \"title\": {\"text\": \"Dihedral Angle [degrees]\"}, \"zeroline\": false}, \"yaxis\": {\"title\": {\"text\": \"Relative Energy [kcal / mol]\"}, \"zeroline\": true}}, {\"showLink\": false, \"linkText\": \"Export to plot.ly\", \"plotlyServerURL\": \"https://plot.ly\"}); \n",
       "}\n",
       "});</script><script type=\"text/javascript\">window.addEventListener(\"resize\", function(){if (document.getElementById(\"fda58198-7366-41de-87bf-75f143cd5c28\")) {window._Plotly.Plots.resize(document.getElementById(\"fda58198-7366-41de-87bf-75f143cd5c28\"));};})</script>"
      ]
     },
     "metadata": {},
     "output_type": "display_data"
    }
   ],
   "source": [
    "molecule = 'Chloroprocaine_0'\n",
    "bond = '[7, 17]'\n",
    "mol_type = ['parent', 'pfizer', '0.03']\n",
    "indices = [job_indices[molecule][bond][i] for i in mol_type]\n",
    "dataset.visualize(indices, 'default')"
   ]
  },
  {
   "cell_type": "code",
   "execution_count": null,
   "metadata": {},
   "outputs": [],
   "source": [
    "re = dataset.get_record('')"
   ]
  },
  {
   "cell_type": "code",
   "execution_count": 10,
   "metadata": {},
   "outputs": [
    {
     "data": {
      "text/html": [
       "<script type=\"text/javascript\">window.PlotlyConfig = {MathJaxConfig: 'local'};</script><script type=\"text/javascript\">if (window.MathJax) {MathJax.Hub.Config({SVG: {font: \"STIX-Web\"}});}</script><script>requirejs.config({paths: { 'plotly': ['https://cdn.plot.ly/plotly-latest.min']},});if(!window._Plotly) {require(['plotly'],function(plotly) {window._Plotly=plotly;});}</script>"
      ],
      "text/vnd.plotly.v1+html": [
       "<script type=\"text/javascript\">window.PlotlyConfig = {MathJaxConfig: 'local'};</script><script type=\"text/javascript\">if (window.MathJax) {MathJax.Hub.Config({SVG: {font: \"STIX-Web\"}});}</script><script>requirejs.config({paths: { 'plotly': ['https://cdn.plot.ly/plotly-latest.min']},});if(!window._Plotly) {require(['plotly'],function(plotly) {window._Plotly=plotly;});}</script>"
      ]
     },
     "metadata": {},
     "output_type": "display_data"
    },
    {
     "data": {
      "text/html": [
       "<script type=\"text/javascript\">window.PlotlyConfig = {MathJaxConfig: 'local'};</script><script type=\"text/javascript\">if (window.MathJax) {MathJax.Hub.Config({SVG: {font: \"STIX-Web\"}});}</script><script>requirejs.config({paths: { 'plotly': ['https://cdn.plot.ly/plotly-latest.min']},});if(!window._Plotly) {require(['plotly'],function(plotly) {window._Plotly=plotly;});}</script>"
      ],
      "text/vnd.plotly.v1+html": [
       "<script type=\"text/javascript\">window.PlotlyConfig = {MathJaxConfig: 'local'};</script><script type=\"text/javascript\">if (window.MathJax) {MathJax.Hub.Config({SVG: {font: \"STIX-Web\"}});}</script><script>requirejs.config({paths: { 'plotly': ['https://cdn.plot.ly/plotly-latest.min']},});if(!window._Plotly) {require(['plotly'],function(plotly) {window._Plotly=plotly;});}</script>"
      ]
     },
     "metadata": {},
     "output_type": "display_data"
    },
    {
     "data": {
      "text/html": [
       "<script type=\"text/javascript\">window.PlotlyConfig = {MathJaxConfig: 'local'};</script><script type=\"text/javascript\">if (window.MathJax) {MathJax.Hub.Config({SVG: {font: \"STIX-Web\"}});}</script><script>requirejs.config({paths: { 'plotly': ['https://cdn.plot.ly/plotly-latest.min']},});if(!window._Plotly) {require(['plotly'],function(plotly) {window._Plotly=plotly;});}</script>"
      ],
      "text/vnd.plotly.v1+html": [
       "<script type=\"text/javascript\">window.PlotlyConfig = {MathJaxConfig: 'local'};</script><script type=\"text/javascript\">if (window.MathJax) {MathJax.Hub.Config({SVG: {font: \"STIX-Web\"}});}</script><script>requirejs.config({paths: { 'plotly': ['https://cdn.plot.ly/plotly-latest.min']},});if(!window._Plotly) {require(['plotly'],function(plotly) {window._Plotly=plotly;});}</script>"
      ]
     },
     "metadata": {},
     "output_type": "display_data"
    },
    {
     "data": {
      "text/html": [
       "<script type=\"text/javascript\">window.PlotlyConfig = {MathJaxConfig: 'local'};</script><script type=\"text/javascript\">if (window.MathJax) {MathJax.Hub.Config({SVG: {font: \"STIX-Web\"}});}</script><script>requirejs.config({paths: { 'plotly': ['https://cdn.plot.ly/plotly-latest.min']},});if(!window._Plotly) {require(['plotly'],function(plotly) {window._Plotly=plotly;});}</script>"
      ],
      "text/vnd.plotly.v1+html": [
       "<script type=\"text/javascript\">window.PlotlyConfig = {MathJaxConfig: 'local'};</script><script type=\"text/javascript\">if (window.MathJax) {MathJax.Hub.Config({SVG: {font: \"STIX-Web\"}});}</script><script>requirejs.config({paths: { 'plotly': ['https://cdn.plot.ly/plotly-latest.min']},});if(!window._Plotly) {require(['plotly'],function(plotly) {window._Plotly=plotly;});}</script>"
      ]
     },
     "metadata": {},
     "output_type": "display_data"
    },
    {
     "data": {
      "application/vnd.plotly.v1+json": {
       "config": {
        "linkText": "Export to plot.ly",
        "plotlyServerURL": "https://plot.ly",
        "showLink": false
       },
       "data": [
        {
         "mode": "lines+markers",
         "name": "CC(=O)Oc1ccccc1[C:1](=O)[NH:2][c:3]2ncc([s:4]2)[N+](=O)[O-]",
         "type": "scatter",
         "uid": "486ed809-6928-4d3f-9a2f-0cf5b0692dd6",
         "x": [
          -165,
          -150,
          -135,
          -120,
          -105,
          -90,
          -75,
          75,
          90,
          105,
          120,
          135,
          150,
          165,
          180
         ],
         "y": [
          2.817,
          3.028,
          3.455,
          4.066,
          4.658,
          3.47,
          1.581,
          0,
          2.112,
          3.693,
          4.039,
          3.532,
          3.145,
          2.897,
          2.776
         ]
        },
        {
         "mode": "lines+markers",
         "name": "CC(=O)Oc1ccccc1[C:1](=O)[NH:2][c:3]2ncc[s:4]2",
         "type": "scatter",
         "uid": "d51a1ead-cef8-4c73-9731-66edc16276ff",
         "x": [
          -165,
          -150,
          -135,
          -120,
          -105,
          -90,
          -75,
          -60,
          -45,
          -30,
          -15,
          0,
          15,
          30,
          45,
          60,
          75,
          90,
          105,
          120,
          135,
          150,
          165,
          180
         ],
         "y": [
          9.6,
          9.616,
          9.676,
          9.737,
          9.452,
          8.51,
          7.19,
          5.415,
          3.437,
          1.705,
          0.537,
          0,
          0.034,
          0.692,
          1.949,
          3.633,
          5.391,
          6.961,
          8.234,
          9.205,
          9.735,
          9.725,
          9.676,
          9.621
         ]
        },
        {
         "mode": "lines+markers",
         "name": "CC(=O)Oc1ccccc1[C:1](=O)[NH:2][c:3]2ncc([s:4]2)[N+](=O)[O-]",
         "type": "scatter",
         "uid": "ff34dfc5-bdd6-4177-bfab-8cce3185b293",
         "x": [
          -165,
          -150,
          -135,
          -120,
          -105,
          -90,
          -75,
          75,
          90,
          105,
          120,
          135,
          150,
          165,
          180
         ],
         "y": [
          2.817,
          3.028,
          3.455,
          4.066,
          4.658,
          3.47,
          1.581,
          0,
          2.112,
          3.693,
          4.039,
          3.532,
          3.145,
          2.897,
          2.776
         ]
        }
       ],
       "layout": {
        "title": {
         "text": "TorsionDriveDataset 1-D Plot [spec=default]"
        },
        "xaxis": {
         "range": [
          -175,
          190
         ],
         "title": {
          "text": "Dihedral Angle [degrees]"
         },
         "zeroline": false
        },
        "yaxis": {
         "title": {
          "text": "Relative Energy [kcal / mol]"
         },
         "zeroline": true
        }
       }
      },
      "text/html": [
       "<div id=\"f5700fc6-0573-43c4-846d-d5448bc30f8f\" style=\"height: 525px; width: 100%;\" class=\"plotly-graph-div\"></div><script type=\"text/javascript\">require([\"plotly\"], function(Plotly) { window.PLOTLYENV=window.PLOTLYENV || {};window.PLOTLYENV.BASE_URL=\"https://plot.ly\";\n",
       "if (document.getElementById(\"f5700fc6-0573-43c4-846d-d5448bc30f8f\")) {\n",
       "    Plotly.newPlot(\"f5700fc6-0573-43c4-846d-d5448bc30f8f\", [{\"mode\": \"lines+markers\", \"name\": \"CC(=O)Oc1ccccc1[C:1](=O)[NH:2][c:3]2ncc([s:4]2)[N+](=O)[O-]\", \"uid\": \"486ed809-6928-4d3f-9a2f-0cf5b0692dd6\", \"x\": [-165, -150, -135, -120, -105, -90, -75, 75, 90, 105, 120, 135, 150, 165, 180], \"y\": [2.817, 3.028, 3.455, 4.066, 4.658, 3.47, 1.581, 0.0, 2.112, 3.693, 4.039, 3.532, 3.145, 2.897, 2.776], \"type\": \"scatter\"}, {\"mode\": \"lines+markers\", \"name\": \"CC(=O)Oc1ccccc1[C:1](=O)[NH:2][c:3]2ncc[s:4]2\", \"uid\": \"d51a1ead-cef8-4c73-9731-66edc16276ff\", \"x\": [-165, -150, -135, -120, -105, -90, -75, -60, -45, -30, -15, 0, 15, 30, 45, 60, 75, 90, 105, 120, 135, 150, 165, 180], \"y\": [9.6, 9.616, 9.676, 9.737, 9.452, 8.51, 7.19, 5.415, 3.437, 1.705, 0.537, 0.0, 0.034, 0.692, 1.949, 3.633, 5.391, 6.961, 8.234, 9.205, 9.735, 9.725, 9.676, 9.621], \"type\": \"scatter\"}, {\"mode\": \"lines+markers\", \"name\": \"CC(=O)Oc1ccccc1[C:1](=O)[NH:2][c:3]2ncc([s:4]2)[N+](=O)[O-]\", \"uid\": \"ff34dfc5-bdd6-4177-bfab-8cce3185b293\", \"x\": [-165, -150, -135, -120, -105, -90, -75, 75, 90, 105, 120, 135, 150, 165, 180], \"y\": [2.817, 3.028, 3.455, 4.066, 4.658, 3.47, 1.581, 0.0, 2.112, 3.693, 4.039, 3.532, 3.145, 2.897, 2.776], \"type\": \"scatter\"}], {\"title\": {\"text\": \"TorsionDriveDataset 1-D Plot [spec=default]\"}, \"xaxis\": {\"range\": [-175, 190], \"title\": {\"text\": \"Dihedral Angle [degrees]\"}, \"zeroline\": false}, \"yaxis\": {\"title\": {\"text\": \"Relative Energy [kcal / mol]\"}, \"zeroline\": true}}, {\"showLink\": false, \"linkText\": \"Export to plot.ly\", \"plotlyServerURL\": \"https://plot.ly\"}); \n",
       "}\n",
       "});</script><script type=\"text/javascript\">window.addEventListener(\"resize\", function(){if (document.getElementById(\"f5700fc6-0573-43c4-846d-d5448bc30f8f\")) {window._Plotly.Plots.resize(document.getElementById(\"f5700fc6-0573-43c4-846d-d5448bc30f8f\"));};})</script>"
      ],
      "text/vnd.plotly.v1+html": [
       "<div id=\"f5700fc6-0573-43c4-846d-d5448bc30f8f\" style=\"height: 525px; width: 100%;\" class=\"plotly-graph-div\"></div><script type=\"text/javascript\">require([\"plotly\"], function(Plotly) { window.PLOTLYENV=window.PLOTLYENV || {};window.PLOTLYENV.BASE_URL=\"https://plot.ly\";\n",
       "if (document.getElementById(\"f5700fc6-0573-43c4-846d-d5448bc30f8f\")) {\n",
       "    Plotly.newPlot(\"f5700fc6-0573-43c4-846d-d5448bc30f8f\", [{\"mode\": \"lines+markers\", \"name\": \"CC(=O)Oc1ccccc1[C:1](=O)[NH:2][c:3]2ncc([s:4]2)[N+](=O)[O-]\", \"uid\": \"486ed809-6928-4d3f-9a2f-0cf5b0692dd6\", \"x\": [-165, -150, -135, -120, -105, -90, -75, 75, 90, 105, 120, 135, 150, 165, 180], \"y\": [2.817, 3.028, 3.455, 4.066, 4.658, 3.47, 1.581, 0.0, 2.112, 3.693, 4.039, 3.532, 3.145, 2.897, 2.776], \"type\": \"scatter\"}, {\"mode\": \"lines+markers\", \"name\": \"CC(=O)Oc1ccccc1[C:1](=O)[NH:2][c:3]2ncc[s:4]2\", \"uid\": \"d51a1ead-cef8-4c73-9731-66edc16276ff\", \"x\": [-165, -150, -135, -120, -105, -90, -75, -60, -45, -30, -15, 0, 15, 30, 45, 60, 75, 90, 105, 120, 135, 150, 165, 180], \"y\": [9.6, 9.616, 9.676, 9.737, 9.452, 8.51, 7.19, 5.415, 3.437, 1.705, 0.537, 0.0, 0.034, 0.692, 1.949, 3.633, 5.391, 6.961, 8.234, 9.205, 9.735, 9.725, 9.676, 9.621], \"type\": \"scatter\"}, {\"mode\": \"lines+markers\", \"name\": \"CC(=O)Oc1ccccc1[C:1](=O)[NH:2][c:3]2ncc([s:4]2)[N+](=O)[O-]\", \"uid\": \"ff34dfc5-bdd6-4177-bfab-8cce3185b293\", \"x\": [-165, -150, -135, -120, -105, -90, -75, 75, 90, 105, 120, 135, 150, 165, 180], \"y\": [2.817, 3.028, 3.455, 4.066, 4.658, 3.47, 1.581, 0.0, 2.112, 3.693, 4.039, 3.532, 3.145, 2.897, 2.776], \"type\": \"scatter\"}], {\"title\": {\"text\": \"TorsionDriveDataset 1-D Plot [spec=default]\"}, \"xaxis\": {\"range\": [-175, 190], \"title\": {\"text\": \"Dihedral Angle [degrees]\"}, \"zeroline\": false}, \"yaxis\": {\"title\": {\"text\": \"Relative Energy [kcal / mol]\"}, \"zeroline\": true}}, {\"showLink\": false, \"linkText\": \"Export to plot.ly\", \"plotlyServerURL\": \"https://plot.ly\"}); \n",
       "}\n",
       "});</script><script type=\"text/javascript\">window.addEventListener(\"resize\", function(){if (document.getElementById(\"f5700fc6-0573-43c4-846d-d5448bc30f8f\")) {window._Plotly.Plots.resize(document.getElementById(\"f5700fc6-0573-43c4-846d-d5448bc30f8f\"));};})</script>"
      ]
     },
     "metadata": {},
     "output_type": "display_data"
    }
   ],
   "source": [
    "molecule = 'Nitazoxanide_0'\n",
    "bond = '[14, 9]'\n",
    "mol_type = ['parent', 'pfizer', '0.03']\n",
    "indices = [job_indices[molecule][bond][i] for i in mol_type]\n",
    "dataset.visualize(indices, 'default')"
   ]
  },
  {
   "cell_type": "code",
   "execution_count": 55,
   "metadata": {},
   "outputs": [
    {
     "data": {
      "text/plain": [
       "ComputeError(error_type='BrokenProcessPool', error_message='Caught Executor Error:\\nTraceback (most recent call last):\\n  File \"/opt/conda/envs/qcfractal/lib/python3.6/site-packages/qcfractal/queue/executor_adapter.py\", line 15, in _get_future\\n    return future.result()\\n  File \"/opt/conda/envs/qcfractal/lib/python3.6/concurrent/futures/_base.py\", line 425, in result\\n    return self.__get_result()\\n  File \"/opt/conda/envs/qcfractal/lib/python3.6/concurrent/futures/_base.py\", line 384, in __get_result\\n    raise self._exception\\nconcurrent.futures.process.BrokenProcessPool: A process in the process pool was terminated abruptly while the future was running or pending.\\n')"
      ]
     },
     "execution_count": 55,
     "metadata": {},
     "output_type": "execute_result"
    }
   ],
   "source": [
    "er_4 = errors_2[error_keys_2[-1]][0]\n",
    "er_4.get_error()"
   ]
  },
  {
   "cell_type": "code",
   "execution_count": 3,
   "metadata": {},
   "outputs": [
    {
     "name": "stdout",
     "output_type": "stream",
     "text": [
      "c1cc[c:1]([c:2](c1)[S:3](=[O:4])(=O)N)Cl\n",
      "Cc1c[c:1]([c:2](c(c1)I)[O:3][c:4]2cc(c(c(c2)I)[O-])I)I\n",
      "c1cc[c:1](cc1)[O:2][c:3]2c(ccc[c:4]2I)I\n"
     ]
    }
   ],
   "source": [
    "# Find the errored scans\n",
    "errors = {}\n",
    "for index in dataset.df.index:\n",
    "    r = dataset.get_record(index, 'default')\n",
    "    if r.detailed_status()['status'] == 'ERROR':\n",
    "        errors[index] = r.detailed_status()['errors']\n",
    "        print(index)\n",
    "error_keys = list(errors.keys())"
   ]
  },
  {
   "cell_type": "code",
   "execution_count": 80,
   "metadata": {},
   "outputs": [],
   "source": [
    "r = dataset.get_record('c1cc[c:1]([c:2](c1)[S:3](=[O:4])(=O)N)Cl', 'default')"
   ]
  },
  {
   "cell_type": "code",
   "execution_count": 81,
   "metadata": {},
   "outputs": [
    {
     "data": {
      "text/plain": [
       "TorsionDriveRecord(id='20548994', status='ERROR')"
      ]
     },
     "execution_count": 81,
     "metadata": {},
     "output_type": "execute_result"
    }
   ],
   "source": [
    "r"
   ]
  },
  {
   "cell_type": "code",
   "execution_count": 82,
   "metadata": {},
   "outputs": [
    {
     "data": {
      "text/plain": [
       "ComputeError(error_type='CancelledError', error_message='Caught Executor Error:\\nTraceback (most recent call last):\\n  File \"/home/chodera/miniconda/envs/qcfractal/lib/python3.6/site-packages/qcfractal/queue/executor_adapter.py\", line 15, in _get_future\\n    return future.result()\\n  File \"/home/chodera/miniconda/envs/qcfractal/lib/python3.6/concurrent/futures/_base.py\", line 423, in result\\n    raise CancelledError()\\nconcurrent.futures._base.CancelledError\\n')"
      ]
     },
     "execution_count": 82,
     "metadata": {},
     "output_type": "execute_result"
    }
   ],
   "source": [
    "er_0 = errors[error_keys[0]][0]\n",
    "er_0.get_error()"
   ]
  },
  {
   "cell_type": "code",
   "execution_count": 10,
   "metadata": {},
   "outputs": [
    {
     "data": {
      "image/png": "[encoded data removed]",
      "text/plain": [
       "<IPython.core.display.Image object>"
      ]
     },
     "execution_count": 10,
     "metadata": {},
     "output_type": "execute_result"
    }
   ],
   "source": [
    "oenb.draw_smiles(error_keys[0])"
   ]
  },
  {
   "cell_type": "code",
   "execution_count": 6,
   "metadata": {},
   "outputs": [],
   "source": [
    "re = dataset.get_record(error_keys[0], 'default')"
   ]
  },
  {
   "cell_type": "code",
   "execution_count": 33,
   "metadata": {},
   "outputs": [
    {
     "data": {
      "text/plain": [
       "[(5, 4, 9, 7)]"
      ]
     },
     "execution_count": 33,
     "metadata": {},
     "output_type": "execute_result"
    }
   ],
   "source": [
    "re.keywords.dihedrals"
   ]
  },
  {
   "cell_type": "code",
   "execution_count": 38,
   "metadata": {},
   "outputs": [],
   "source": [
    "en = dataset.get_entry(error_keys[0])"
   ]
  },
  {
   "cell_type": "code",
   "execution_count": 39,
   "metadata": {},
   "outputs": [
    {
     "data": {
      "text/plain": [
       "{'canonical_smiles': 'c1ccc(c(c1)S(=O)(=O)N)Cl',\n",
       " 'canonical_isomeric_smiles': 'c1ccc(c(c1)S(=O)(=O)N)Cl',\n",
       " 'canonical_explicit_hydrogen_smiles': '[H]c1c(c(c(c(c1[H])S(=O)(=O)N([H])[H])Cl)[H])[H]',\n",
       " 'canonical_isomeric_explicit_hydrogen_smiles': '[H]c1c(c(c(c(c1[H])S(=O)(=O)N([H])[H])Cl)[H])[H]',\n",
       " 'canonical_isomeric_explicit_hydrogen_mapped_smiles': '[H:12][c:1]1[c:2]([c:4]([c:6]([c:5]([c:3]1[H:14])[S:10](=[O:8])(=[O:9])[N:7]([H:16])[H:17])[Cl:11])[H:15])[H:13]',\n",
       " 'molecular_formula': 'C6H6ClNO2S',\n",
       " 'standard_inchi': 'InChI=1S/C6H6ClNO2S/c7-5-3-1-2-4-6(5)11(8,9)10/h1-4H,(H2,8,9,10)',\n",
       " 'inchi_key': 'JCCBZCMSYUSCFM-UHFFFAOYSA-N',\n",
       " 'unique_tautomer_representation': 'NS(=O)(=O)c1ccccc1Cl',\n",
       " 'unique_protomer_representation': 'c1ccc(c(c1)S(=O)(=O)N)Cl',\n",
       " 'provenance': 'cmiles_v0.1.5+1.gdbd63e8_openeye_2019.Apr.2'}"
      ]
     },
     "execution_count": 39,
     "metadata": {},
     "output_type": "execute_result"
    }
   ],
   "source": [
    "en.attributes"
   ]
  },
  {
   "cell_type": "code",
   "execution_count": 14,
   "metadata": {},
   "outputs": [
    {
     "data": {
      "application/vnd.jupyter.widget-view+json": {
       "model_id": "c3944a0e2c7446a9a5b2f0538740c4ab",
       "version_major": 2,
       "version_minor": 0
      },
      "text/plain": [
       "_ColormakerRegistry()"
      ]
     },
     "metadata": {},
     "output_type": "display_data"
    },
    {
     "data": {
      "application/vnd.jupyter.widget-view+json": {
       "model_id": "649e7f8277c94e49a1805f374844ea09",
       "version_major": 2,
       "version_minor": 0
      },
      "text/plain": [
       "NGLWidget()"
      ]
     },
     "metadata": {},
     "output_type": "display_data"
    }
   ],
   "source": [
    "client.query_molecules(re.initial_molecule[0])[0]"
   ]
  },
  {
   "cell_type": "code",
   "execution_count": 9,
   "metadata": {},
   "outputs": [
    {
     "data": {
      "text/html": [
       "<script type=\"text/javascript\">window.PlotlyConfig = {MathJaxConfig: 'local'};</script><script type=\"text/javascript\">if (window.MathJax) {MathJax.Hub.Config({SVG: {font: \"STIX-Web\"}});}</script><script>requirejs.config({paths: { 'plotly': ['https://cdn.plot.ly/plotly-latest.min']},});if(!window._Plotly) {require(['plotly'],function(plotly) {window._Plotly=plotly;});}</script>"
      ],
      "text/vnd.plotly.v1+html": [
       "<script type=\"text/javascript\">window.PlotlyConfig = {MathJaxConfig: 'local'};</script><script type=\"text/javascript\">if (window.MathJax) {MathJax.Hub.Config({SVG: {font: \"STIX-Web\"}});}</script><script>requirejs.config({paths: { 'plotly': ['https://cdn.plot.ly/plotly-latest.min']},});if(!window._Plotly) {require(['plotly'],function(plotly) {window._Plotly=plotly;});}</script>"
      ]
     },
     "metadata": {},
     "output_type": "display_data"
    },
    {
     "data": {
      "text/html": [
       "<script type=\"text/javascript\">window.PlotlyConfig = {MathJaxConfig: 'local'};</script><script type=\"text/javascript\">if (window.MathJax) {MathJax.Hub.Config({SVG: {font: \"STIX-Web\"}});}</script><script>requirejs.config({paths: { 'plotly': ['https://cdn.plot.ly/plotly-latest.min']},});if(!window._Plotly) {require(['plotly'],function(plotly) {window._Plotly=plotly;});}</script>"
      ],
      "text/vnd.plotly.v1+html": [
       "<script type=\"text/javascript\">window.PlotlyConfig = {MathJaxConfig: 'local'};</script><script type=\"text/javascript\">if (window.MathJax) {MathJax.Hub.Config({SVG: {font: \"STIX-Web\"}});}</script><script>requirejs.config({paths: { 'plotly': ['https://cdn.plot.ly/plotly-latest.min']},});if(!window._Plotly) {require(['plotly'],function(plotly) {window._Plotly=plotly;});}</script>"
      ]
     },
     "metadata": {},
     "output_type": "display_data"
    },
    {
     "data": {
      "application/vnd.plotly.v1+json": {
       "config": {
        "linkText": "Export to plot.ly",
        "plotlyServerURL": "https://plot.ly",
        "showLink": false
       },
       "data": [
        {
         "mode": "lines+markers",
         "name": "c1cc[c:1]([c:2](c1)[S:3](=[O:4])(=O)N)Cl",
         "type": "scatter",
         "uid": "4c69c24f-54e4-4f7f-8024-f1e25c2c3ae5",
         "x": [
          -165,
          -150,
          -135,
          -120,
          -105,
          165,
          180
         ],
         "y": [
          1.321,
          3.111,
          4.24,
          4.454,
          4.031,
          0.127,
          0
         ]
        }
       ],
       "layout": {
        "title": {
         "text": "TorsionDriveDataset 1-D Plot [spec=default]"
        },
        "xaxis": {
         "range": [
          -175,
          190
         ],
         "title": {
          "text": "Dihedral Angle [degrees]"
         },
         "zeroline": false
        },
        "yaxis": {
         "title": {
          "text": "Relative Energy [kcal / mol]"
         },
         "zeroline": true
        }
       }
      },
      "text/html": [
       "<div id=\"483013e4-ccd3-4bfa-a43d-2f31aba2caa4\" style=\"height: 525px; width: 100%;\" class=\"plotly-graph-div\"></div><script type=\"text/javascript\">require([\"plotly\"], function(Plotly) { window.PLOTLYENV=window.PLOTLYENV || {};window.PLOTLYENV.BASE_URL=\"https://plot.ly\";\n",
       "if (document.getElementById(\"483013e4-ccd3-4bfa-a43d-2f31aba2caa4\")) {\n",
       "    Plotly.newPlot(\"483013e4-ccd3-4bfa-a43d-2f31aba2caa4\", [{\"mode\": \"lines+markers\", \"name\": \"c1cc[c:1]([c:2](c1)[S:3](=[O:4])(=O)N)Cl\", \"uid\": \"4c69c24f-54e4-4f7f-8024-f1e25c2c3ae5\", \"x\": [-165, -150, -135, -120, -105, 165, 180], \"y\": [1.321, 3.111, 4.24, 4.454, 4.031, 0.127, 0.0], \"type\": \"scatter\"}], {\"title\": {\"text\": \"TorsionDriveDataset 1-D Plot [spec=default]\"}, \"xaxis\": {\"range\": [-175, 190], \"title\": {\"text\": \"Dihedral Angle [degrees]\"}, \"zeroline\": false}, \"yaxis\": {\"title\": {\"text\": \"Relative Energy [kcal / mol]\"}, \"zeroline\": true}}, {\"showLink\": false, \"linkText\": \"Export to plot.ly\", \"plotlyServerURL\": \"https://plot.ly\"}); \n",
       "}\n",
       "});</script><script type=\"text/javascript\">window.addEventListener(\"resize\", function(){if (document.getElementById(\"483013e4-ccd3-4bfa-a43d-2f31aba2caa4\")) {window._Plotly.Plots.resize(document.getElementById(\"483013e4-ccd3-4bfa-a43d-2f31aba2caa4\"));};})</script>"
      ],
      "text/vnd.plotly.v1+html": [
       "<div id=\"483013e4-ccd3-4bfa-a43d-2f31aba2caa4\" style=\"height: 525px; width: 100%;\" class=\"plotly-graph-div\"></div><script type=\"text/javascript\">require([\"plotly\"], function(Plotly) { window.PLOTLYENV=window.PLOTLYENV || {};window.PLOTLYENV.BASE_URL=\"https://plot.ly\";\n",
       "if (document.getElementById(\"483013e4-ccd3-4bfa-a43d-2f31aba2caa4\")) {\n",
       "    Plotly.newPlot(\"483013e4-ccd3-4bfa-a43d-2f31aba2caa4\", [{\"mode\": \"lines+markers\", \"name\": \"c1cc[c:1]([c:2](c1)[S:3](=[O:4])(=O)N)Cl\", \"uid\": \"4c69c24f-54e4-4f7f-8024-f1e25c2c3ae5\", \"x\": [-165, -150, -135, -120, -105, 165, 180], \"y\": [1.321, 3.111, 4.24, 4.454, 4.031, 0.127, 0.0], \"type\": \"scatter\"}], {\"title\": {\"text\": \"TorsionDriveDataset 1-D Plot [spec=default]\"}, \"xaxis\": {\"range\": [-175, 190], \"title\": {\"text\": \"Dihedral Angle [degrees]\"}, \"zeroline\": false}, \"yaxis\": {\"title\": {\"text\": \"Relative Energy [kcal / mol]\"}, \"zeroline\": true}}, {\"showLink\": false, \"linkText\": \"Export to plot.ly\", \"plotlyServerURL\": \"https://plot.ly\"}); \n",
       "}\n",
       "});</script><script type=\"text/javascript\">window.addEventListener(\"resize\", function(){if (document.getElementById(\"483013e4-ccd3-4bfa-a43d-2f31aba2caa4\")) {window._Plotly.Plots.resize(document.getElementById(\"483013e4-ccd3-4bfa-a43d-2f31aba2caa4\"));};})</script>"
      ]
     },
     "metadata": {},
     "output_type": "display_data"
    }
   ],
   "source": [
    "dataset.visualize(error_keys[0], 'default')"
   ]
  },
  {
   "cell_type": "code",
   "execution_count": 40,
   "metadata": {},
   "outputs": [
    {
     "data": {
      "text/plain": [
       "ComputeError(error_type='unknown', error_message='geomeTRIC run_json error:\\nTraceback (most recent call last):\\n  File \"/home/chodera/miniconda/envs/qcfractal/lib/python3.6/site-packages/geometric/run_json.py\", line 225, in geometric_run_json\\n    geometric.optimize.Optimize(coords, M, IC, engine, None, params)\\n  File \"/home/chodera/miniconda/envs/qcfractal/lib/python3.6/site-packages/geometric/optimize.py\", line 1331, in Optimize\\n    return optimizer.optimizeGeometry()\\n  File \"/home/chodera/miniconda/envs/qcfractal/lib/python3.6/site-packages/geometric/optimize.py\", line 1298, in optimizeGeometry\\n    self.calcEnergyForce()\\n  File \"/home/chodera/miniconda/envs/qcfractal/lib/python3.6/site-packages/geometric/optimize.py\", line 1002, in calcEnergyForce\\n    spcalc = self.engine.calc(self.X, self.dirname)\\n  File \"/home/chodera/miniconda/envs/qcfractal/lib/python3.6/site-packages/geometric/engine.py\", line 873, in calc\\n    return self.calc_new(coords, dirname)\\n  File \"/home/chodera/miniconda/envs/qcfractal/lib/python3.6/site-packages/geometric/engine.py\", line 865, in calc_new\\n    raise QCEngineAPIEngineError(\"QCEngineAPI computation did not execute correctly. Message: \" + ret[\"error\"][\"error_message\"])\\ngeometric.errors.QCEngineAPIEngineError: QCEngineAPI computation did not execute correctly. Message: QCEngine Unknown Error: Traceback (most recent call last):\\n  File \"/home/chodera/miniconda/envs/qcfractal/lib//python3.6/site-packages/psi4/driver/json_wrapper.py\", line 217, in run_json\\n    json_data = run_json_qcschema(copy.deepcopy(json_data), clean)\\n  File \"/home/chodera/miniconda/envs/qcfractal/lib//python3.6/site-packages/psi4/driver/json_wrapper.py\", line 312, in run_json_qcschema\\n    val, wfn = methods_dict_[json_data[\"driver\"]](method, **kwargs)\\n  File \"/home/chodera/miniconda/envs/qcfractal/lib//python3.6/site-packages/psi4/driver/driver.py\", line 691, in gradient\\n    wfn = procedures[\\'gradient\\'][lowername](lowername, molecule=molecule, **kwargs)\\n  File \"/home/chodera/miniconda/envs/qcfractal/lib//python3.6/site-packages/psi4/driver/procrouting/proc.py\", line 2064, in run_scf_gradient\\n    ref_wfn = run_scf(name, **kwargs)\\n  File \"/home/chodera/miniconda/envs/qcfractal/lib//python3.6/site-packages/psi4/driver/procrouting/proc.py\", line 2002, in run_scf\\n    scf_wfn = scf_helper(name, post_scf=False, **kwargs)\\n  File \"/home/chodera/miniconda/envs/qcfractal/lib//python3.6/site-packages/psi4/driver/procrouting/proc.py\", line 1363, in scf_helper\\n    e_scf = scf_wfn.compute_energy()\\n  File \"/home/chodera/miniconda/envs/qcfractal/lib//python3.6/site-packages/psi4/driver/procrouting/scf_proc/scf_iterator.py\", line 94, in scf_compute_energy\\n    raise e\\n  File \"/home/chodera/miniconda/envs/qcfractal/lib//python3.6/site-packages/psi4/driver/procrouting/scf_proc/scf_iterator.py\", line 87, in scf_compute_energy\\n    self.iterations()\\n  File \"/home/chodera/miniconda/envs/qcfractal/lib//python3.6/site-packages/psi4/driver/procrouting/scf_proc/scf_iterator.py\", line 447, in scf_iterate\\n    raise SCFConvergenceError(\"\"\"SCF iterations\"\"\", self.iteration_, self, Ediff, Dnorm)\\npsi4.driver.p4util.exceptions.SCFConvergenceError: Could not converge SCF iterations in 200 iterations.\\n\\n')"
      ]
     },
     "execution_count": 40,
     "metadata": {},
     "output_type": "execute_result"
    }
   ],
   "source": [
    "er_1 = errors[error_keys[1]][0]\n",
    "er_1.get_error()"
   ]
  },
  {
   "cell_type": "code",
   "execution_count": 41,
   "metadata": {},
   "outputs": [
    {
     "data": {
      "image/png": "[encoded data removed]",
      "text/plain": [
       "<IPython.core.display.Image object>"
      ]
     },
     "execution_count": 41,
     "metadata": {},
     "output_type": "execute_result"
    }
   ],
   "source": [
    "oenb.draw_smiles(error_keys[1])"
   ]
  },
  {
   "cell_type": "code",
   "execution_count": 42,
   "metadata": {},
   "outputs": [
    {
     "data": {
      "text/plain": [
       "ComputeError(error_type='unknown', error_message='geomeTRIC run_json error:\\nTraceback (most recent call last):\\n  File \"/data/homezvol0/tgokey/.local/miniconda3/envs/qcf/lib/python3.7/site-packages/geometric/run_json.py\", line 225, in geometric_run_json\\n    geometric.optimize.Optimize(coords, M, IC, engine, None, params)\\n  File \"/data/homezvol0/tgokey/.local/miniconda3/envs/qcf/lib/python3.7/site-packages/geometric/optimize.py\", line 1331, in Optimize\\n    return optimizer.optimizeGeometry()\\n  File \"/data/homezvol0/tgokey/.local/miniconda3/envs/qcf/lib/python3.7/site-packages/geometric/optimize.py\", line 1298, in optimizeGeometry\\n    self.calcEnergyForce()\\n  File \"/data/homezvol0/tgokey/.local/miniconda3/envs/qcf/lib/python3.7/site-packages/geometric/optimize.py\", line 1002, in calcEnergyForce\\n    spcalc = self.engine.calc(self.X, self.dirname)\\n  File \"/data/homezvol0/tgokey/.local/miniconda3/envs/qcf/lib/python3.7/site-packages/geometric/engine.py\", line 873, in calc\\n    return self.calc_new(coords, dirname)\\n  File \"/data/homezvol0/tgokey/.local/miniconda3/envs/qcf/lib/python3.7/site-packages/geometric/engine.py\", line 865, in calc_new\\n    raise QCEngineAPIEngineError(\"QCEngineAPI computation did not execute correctly. Message: \" + ret[\"error\"][\"error_message\"])\\ngeometric.errors.QCEngineAPIEngineError: QCEngineAPI computation did not execute correctly. Message: QCEngine Unknown Error: Traceback (most recent call last):\\n  File \"/data/homezvol0/tgokey/.local/miniconda3/envs/qcf/lib//python3.7/site-packages/psi4/driver/json_wrapper.py\", line 217, in run_json\\n    json_data = run_json_qcschema(copy.deepcopy(json_data), clean)\\n  File \"/data/homezvol0/tgokey/.local/miniconda3/envs/qcf/lib//python3.7/site-packages/psi4/driver/json_wrapper.py\", line 312, in run_json_qcschema\\n    val, wfn = methods_dict_[json_data[\"driver\"]](method, **kwargs)\\n  File \"/data/homezvol0/tgokey/.local/miniconda3/envs/qcf/lib//python3.7/site-packages/psi4/driver/driver.py\", line 691, in gradient\\n    wfn = procedures[\\'gradient\\'][lowername](lowername, molecule=molecule, **kwargs)\\n  File \"/data/homezvol0/tgokey/.local/miniconda3/envs/qcf/lib//python3.7/site-packages/psi4/driver/procrouting/proc.py\", line 2064, in run_scf_gradient\\n    ref_wfn = run_scf(name, **kwargs)\\n  File \"/data/homezvol0/tgokey/.local/miniconda3/envs/qcf/lib//python3.7/site-packages/psi4/driver/procrouting/proc.py\", line 2002, in run_scf\\n    scf_wfn = scf_helper(name, post_scf=False, **kwargs)\\n  File \"/data/homezvol0/tgokey/.local/miniconda3/envs/qcf/lib//python3.7/site-packages/psi4/driver/procrouting/proc.py\", line 1363, in scf_helper\\n    e_scf = scf_wfn.compute_energy()\\n  File \"/data/homezvol0/tgokey/.local/miniconda3/envs/qcf/lib//python3.7/site-packages/psi4/driver/procrouting/scf_proc/scf_iterator.py\", line 94, in scf_compute_energy\\n    raise e\\n  File \"/data/homezvol0/tgokey/.local/miniconda3/envs/qcf/lib//python3.7/site-packages/psi4/driver/procrouting/scf_proc/scf_iterator.py\", line 87, in scf_compute_energy\\n    self.iterations()\\n  File \"/data/homezvol0/tgokey/.local/miniconda3/envs/qcf/lib//python3.7/site-packages/psi4/driver/procrouting/scf_proc/scf_iterator.py\", line 447, in scf_iterate\\n    raise SCFConvergenceError(\"\"\"SCF iterations\"\"\", self.iteration_, self, Ediff, Dnorm)\\npsi4.driver.p4util.exceptions.SCFConvergenceError: Could not converge SCF iterations in 200 iterations.\\n\\n')"
      ]
     },
     "execution_count": 42,
     "metadata": {},
     "output_type": "execute_result"
    }
   ],
   "source": [
    "er_2 = errors[error_keys[2]][0]\n",
    "er_2.get_error()"
   ]
  },
  {
   "cell_type": "code",
   "execution_count": 43,
   "metadata": {},
   "outputs": [
    {
     "data": {
      "image/png": "[encoded data removed]",
      "text/plain": [
       "<IPython.core.display.Image object>"
      ]
     },
     "execution_count": 43,
     "metadata": {},
     "output_type": "execute_result"
    }
   ],
   "source": [
    "oenb.draw_smiles(error_keys[2])"
   ]
  },
  {
   "cell_type": "code",
   "execution_count": 49,
   "metadata": {},
   "outputs": [
    {
     "data": {
      "text/html": [
       "<script type=\"text/javascript\">window.PlotlyConfig = {MathJaxConfig: 'local'};</script><script type=\"text/javascript\">if (window.MathJax) {MathJax.Hub.Config({SVG: {font: \"STIX-Web\"}});}</script><script>requirejs.config({paths: { 'plotly': ['https://cdn.plot.ly/plotly-latest.min']},});if(!window._Plotly) {require(['plotly'],function(plotly) {window._Plotly=plotly;});}</script>"
      ],
      "text/vnd.plotly.v1+html": [
       "<script type=\"text/javascript\">window.PlotlyConfig = {MathJaxConfig: 'local'};</script><script type=\"text/javascript\">if (window.MathJax) {MathJax.Hub.Config({SVG: {font: \"STIX-Web\"}});}</script><script>requirejs.config({paths: { 'plotly': ['https://cdn.plot.ly/plotly-latest.min']},});if(!window._Plotly) {require(['plotly'],function(plotly) {window._Plotly=plotly;});}</script>"
      ]
     },
     "metadata": {},
     "output_type": "display_data"
    },
    {
     "data": {
      "text/html": [
       "<script type=\"text/javascript\">window.PlotlyConfig = {MathJaxConfig: 'local'};</script><script type=\"text/javascript\">if (window.MathJax) {MathJax.Hub.Config({SVG: {font: \"STIX-Web\"}});}</script><script>requirejs.config({paths: { 'plotly': ['https://cdn.plot.ly/plotly-latest.min']},});if(!window._Plotly) {require(['plotly'],function(plotly) {window._Plotly=plotly;});}</script>"
      ],
      "text/vnd.plotly.v1+html": [
       "<script type=\"text/javascript\">window.PlotlyConfig = {MathJaxConfig: 'local'};</script><script type=\"text/javascript\">if (window.MathJax) {MathJax.Hub.Config({SVG: {font: \"STIX-Web\"}});}</script><script>requirejs.config({paths: { 'plotly': ['https://cdn.plot.ly/plotly-latest.min']},});if(!window._Plotly) {require(['plotly'],function(plotly) {window._Plotly=plotly;});}</script>"
      ]
     },
     "metadata": {},
     "output_type": "display_data"
    },
    {
     "data": {
      "application/vnd.plotly.v1+json": {
       "config": {
        "linkText": "Export to plot.ly",
        "plotlyServerURL": "https://plot.ly",
        "showLink": false
       },
       "data": [
        {
         "mode": "lines+markers",
         "name": "c1cc[c:1](cc1)[O:2][c:3]2c(ccc[c:4]2I)I",
         "type": "scatter",
         "uid": "6d997dae-faa3-4dbf-a84b-c048ab924d68",
         "x": [
          30,
          45,
          60,
          75,
          90,
          105,
          120,
          135,
          150
         ],
         "y": [
          0.897,
          1.632,
          0.758,
          0,
          1.219,
          0.448,
          0.191,
          1.021,
          1.793
         ]
        }
       ],
       "layout": {
        "title": {
         "text": "TorsionDriveDataset 1-D Plot [spec=default]"
        },
        "xaxis": {
         "range": [
          20,
          160
         ],
         "title": {
          "text": "Dihedral Angle [degrees]"
         },
         "zeroline": false
        },
        "yaxis": {
         "title": {
          "text": "Relative Energy [kcal / mol]"
         },
         "zeroline": true
        }
       }
      },
      "text/html": [
       "<div id=\"26411ef7-a6a8-4165-b851-3627e6f7a629\" style=\"height: 525px; width: 100%;\" class=\"plotly-graph-div\"></div><script type=\"text/javascript\">require([\"plotly\"], function(Plotly) { window.PLOTLYENV=window.PLOTLYENV || {};window.PLOTLYENV.BASE_URL=\"https://plot.ly\";\n",
       "if (document.getElementById(\"26411ef7-a6a8-4165-b851-3627e6f7a629\")) {\n",
       "    Plotly.newPlot(\"26411ef7-a6a8-4165-b851-3627e6f7a629\", [{\"mode\": \"lines+markers\", \"name\": \"c1cc[c:1](cc1)[O:2][c:3]2c(ccc[c:4]2I)I\", \"uid\": \"6d997dae-faa3-4dbf-a84b-c048ab924d68\", \"x\": [30, 45, 60, 75, 90, 105, 120, 135, 150], \"y\": [0.897, 1.632, 0.758, 0.0, 1.219, 0.448, 0.191, 1.021, 1.793], \"type\": \"scatter\"}], {\"title\": {\"text\": \"TorsionDriveDataset 1-D Plot [spec=default]\"}, \"xaxis\": {\"range\": [20, 160], \"title\": {\"text\": \"Dihedral Angle [degrees]\"}, \"zeroline\": false}, \"yaxis\": {\"title\": {\"text\": \"Relative Energy [kcal / mol]\"}, \"zeroline\": true}}, {\"showLink\": false, \"linkText\": \"Export to plot.ly\", \"plotlyServerURL\": \"https://plot.ly\"}); \n",
       "}\n",
       "});</script><script type=\"text/javascript\">window.addEventListener(\"resize\", function(){if (document.getElementById(\"26411ef7-a6a8-4165-b851-3627e6f7a629\")) {window._Plotly.Plots.resize(document.getElementById(\"26411ef7-a6a8-4165-b851-3627e6f7a629\"));};})</script>"
      ],
      "text/vnd.plotly.v1+html": [
       "<div id=\"26411ef7-a6a8-4165-b851-3627e6f7a629\" style=\"height: 525px; width: 100%;\" class=\"plotly-graph-div\"></div><script type=\"text/javascript\">require([\"plotly\"], function(Plotly) { window.PLOTLYENV=window.PLOTLYENV || {};window.PLOTLYENV.BASE_URL=\"https://plot.ly\";\n",
       "if (document.getElementById(\"26411ef7-a6a8-4165-b851-3627e6f7a629\")) {\n",
       "    Plotly.newPlot(\"26411ef7-a6a8-4165-b851-3627e6f7a629\", [{\"mode\": \"lines+markers\", \"name\": \"c1cc[c:1](cc1)[O:2][c:3]2c(ccc[c:4]2I)I\", \"uid\": \"6d997dae-faa3-4dbf-a84b-c048ab924d68\", \"x\": [30, 45, 60, 75, 90, 105, 120, 135, 150], \"y\": [0.897, 1.632, 0.758, 0.0, 1.219, 0.448, 0.191, 1.021, 1.793], \"type\": \"scatter\"}], {\"title\": {\"text\": \"TorsionDriveDataset 1-D Plot [spec=default]\"}, \"xaxis\": {\"range\": [20, 160], \"title\": {\"text\": \"Dihedral Angle [degrees]\"}, \"zeroline\": false}, \"yaxis\": {\"title\": {\"text\": \"Relative Energy [kcal / mol]\"}, \"zeroline\": true}}, {\"showLink\": false, \"linkText\": \"Export to plot.ly\", \"plotlyServerURL\": \"https://plot.ly\"}); \n",
       "}\n",
       "});</script><script type=\"text/javascript\">window.addEventListener(\"resize\", function(){if (document.getElementById(\"26411ef7-a6a8-4165-b851-3627e6f7a629\")) {window._Plotly.Plots.resize(document.getElementById(\"26411ef7-a6a8-4165-b851-3627e6f7a629\"));};})</script>"
      ]
     },
     "metadata": {},
     "output_type": "display_data"
    }
   ],
   "source": [
    "dataset.visualize([error_keys[2]], 'default')"
   ]
  },
  {
   "cell_type": "code",
   "execution_count": 64,
   "metadata": {},
   "outputs": [
    {
     "ename": "ValueError",
     "evalue": "zero-size array to reduction operation minimum which has no identity",
     "output_type": "error",
     "traceback": [
      "\u001b[0;31m---------------------------------------------------------------------------\u001b[0m",
      "\u001b[0;31mValueError\u001b[0m                                Traceback (most recent call last)",
      "\u001b[0;32m<ipython-input-64-064300f764dd>\u001b[0m in \u001b[0;36m<module>\u001b[0;34m\u001b[0m\n\u001b[0;32m----> 1\u001b[0;31m \u001b[0mdataset\u001b[0m\u001b[0;34m.\u001b[0m\u001b[0mvisualize\u001b[0m\u001b[0;34m(\u001b[0m\u001b[0;34m[\u001b[0m\u001b[0;34m\"c1c(cc([c:2]([c:1]1I)[O:3][c:4]2cc(c(c(c2)I)[O-])I)I)C[C@H](C(=O)[O-])[NH3+]\"\u001b[0m\u001b[0;34m]\u001b[0m\u001b[0;34m,\u001b[0m \u001b[0;34m'default'\u001b[0m\u001b[0;34m)\u001b[0m\u001b[0;34m\u001b[0m\u001b[0;34m\u001b[0m\u001b[0m\n\u001b[0m",
      "\u001b[0;32m~/src/molssi/QCFractal/qcfractal/interface/collections/torsiondrive_dataset.py\u001b[0m in \u001b[0;36mvisualize\u001b[0;34m(self, entries, specs, relative, units, digits, use_measured_angle, return_figure)\u001b[0m\n\u001b[1;32m    276\u001b[0m                     \u001b[0mdigits\u001b[0m\u001b[0;34m=\u001b[0m\u001b[0mdigits\u001b[0m\u001b[0;34m,\u001b[0m\u001b[0;34m\u001b[0m\u001b[0;34m\u001b[0m\u001b[0m\n\u001b[1;32m    277\u001b[0m                     \u001b[0muse_measured_angle\u001b[0m\u001b[0;34m=\u001b[0m\u001b[0muse_measured_angle\u001b[0m\u001b[0;34m,\u001b[0m\u001b[0;34m\u001b[0m\u001b[0;34m\u001b[0m\u001b[0m\n\u001b[0;32m--> 278\u001b[0;31m                     \u001b[0mreturn_figure\u001b[0m\u001b[0;34m=\u001b[0m\u001b[0;32mTrue\u001b[0m\u001b[0;34m,\u001b[0m\u001b[0;34m\u001b[0m\u001b[0;34m\u001b[0m\u001b[0m\n\u001b[0m\u001b[1;32m    279\u001b[0m                 )\n\u001b[1;32m    280\u001b[0m \u001b[0;34m\u001b[0m\u001b[0m\n",
      "\u001b[0;32m~/src/molssi/QCFractal/qcfractal/interface/models/torsiondrive.py\u001b[0m in \u001b[0;36mvisualize\u001b[0;34m(self, relative, units, digits, use_measured_angle, return_figure)\u001b[0m\n\u001b[1;32m    433\u001b[0m             \u001b[0;34m\"title\"\u001b[0m\u001b[0;34m:\u001b[0m \u001b[0mtitle\u001b[0m\u001b[0;34m,\u001b[0m\u001b[0;34m\u001b[0m\u001b[0;34m\u001b[0m\u001b[0m\n\u001b[1;32m    434\u001b[0m             \u001b[0;34m\"yaxis\"\u001b[0m\u001b[0;34m:\u001b[0m \u001b[0;34m{\u001b[0m\u001b[0;34m\"title\"\u001b[0m\u001b[0;34m:\u001b[0m \u001b[0mylabel\u001b[0m\u001b[0;34m,\u001b[0m \u001b[0;34m\"zeroline\"\u001b[0m\u001b[0;34m:\u001b[0m \u001b[0;32mTrue\u001b[0m\u001b[0;34m}\u001b[0m\u001b[0;34m,\u001b[0m\u001b[0;34m\u001b[0m\u001b[0;34m\u001b[0m\u001b[0m\n\u001b[0;32m--> 435\u001b[0;31m             \u001b[0;34m\"xaxis\"\u001b[0m\u001b[0;34m:\u001b[0m \u001b[0;34m{\u001b[0m\u001b[0;34m\"title\"\u001b[0m\u001b[0;34m:\u001b[0m \u001b[0;34m\"Dihedral Angle [degrees]\"\u001b[0m\u001b[0;34m,\u001b[0m \u001b[0;34m\"zeroline\"\u001b[0m\u001b[0;34m:\u001b[0m \u001b[0;32mFalse\u001b[0m\u001b[0;34m,\u001b[0m \u001b[0;34m\"range\"\u001b[0m\u001b[0;34m:\u001b[0m \u001b[0;34m[\u001b[0m\u001b[0mx\u001b[0m\u001b[0;34m.\u001b[0m\u001b[0mmin\u001b[0m\u001b[0;34m(\u001b[0m\u001b[0;34m)\u001b[0m \u001b[0;34m-\u001b[0m \u001b[0;36m10\u001b[0m\u001b[0;34m,\u001b[0m \u001b[0mx\u001b[0m\u001b[0;34m.\u001b[0m\u001b[0mmax\u001b[0m\u001b[0;34m(\u001b[0m\u001b[0;34m)\u001b[0m \u001b[0;34m+\u001b[0m \u001b[0;36m10\u001b[0m\u001b[0;34m]\u001b[0m\u001b[0;34m}\u001b[0m\u001b[0;34m,\u001b[0m\u001b[0;34m\u001b[0m\u001b[0;34m\u001b[0m\u001b[0m\n\u001b[0m\u001b[1;32m    436\u001b[0m         }\n\u001b[1;32m    437\u001b[0m \u001b[0;34m\u001b[0m\u001b[0m\n",
      "\u001b[0;32m~/anaconda3/envs/qcf/lib/python3.7/site-packages/numpy/core/_methods.py\u001b[0m in \u001b[0;36m_amin\u001b[0;34m(a, axis, out, keepdims, initial)\u001b[0m\n\u001b[1;32m     30\u001b[0m def _amin(a, axis=None, out=None, keepdims=False,\n\u001b[1;32m     31\u001b[0m           initial=_NoValue):\n\u001b[0;32m---> 32\u001b[0;31m     \u001b[0;32mreturn\u001b[0m \u001b[0mumr_minimum\u001b[0m\u001b[0;34m(\u001b[0m\u001b[0ma\u001b[0m\u001b[0;34m,\u001b[0m \u001b[0maxis\u001b[0m\u001b[0;34m,\u001b[0m \u001b[0;32mNone\u001b[0m\u001b[0;34m,\u001b[0m \u001b[0mout\u001b[0m\u001b[0;34m,\u001b[0m \u001b[0mkeepdims\u001b[0m\u001b[0;34m,\u001b[0m \u001b[0minitial\u001b[0m\u001b[0;34m)\u001b[0m\u001b[0;34m\u001b[0m\u001b[0;34m\u001b[0m\u001b[0m\n\u001b[0m\u001b[1;32m     33\u001b[0m \u001b[0;34m\u001b[0m\u001b[0m\n\u001b[1;32m     34\u001b[0m def _sum(a, axis=None, dtype=None, out=None, keepdims=False,\n",
      "\u001b[0;31mValueError\u001b[0m: zero-size array to reduction operation minimum which has no identity"
     ]
    }
   ],
   "source": [
    "dataset.visualize([\"c1c(cc([c:2]([c:1]1I)[O:3][c:4]2cc(c(c(c2)I)[O-])I)I)C[C@H](C(=O)[O-])[NH3+]\"], 'default')"
   ]
  },
  {
   "cell_type": "code",
   "execution_count": null,
   "metadata": {},
   "outputs": [],
   "source": []
  }
 ],
 "metadata": {
  "kernelspec": {
   "display_name": "Python 3",
   "language": "python",
   "name": "python3"
  },
  "language_info": {
   "codemirror_mode": {
    "name": "ipython",
    "version": 3
   },
   "file_extension": ".py",
   "mimetype": "text/x-python",
   "name": "python",
   "nbconvert_exporter": "python",
   "pygments_lexer": "ipython3",
   "version": "3.7.2"
  }
 },
 "nbformat": 4,
 "nbformat_minor": 2
}
